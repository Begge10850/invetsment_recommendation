{
 "cells": [
  {
   "cell_type": "code",
   "execution_count": 412,
   "id": "4598131a",
   "metadata": {},
   "outputs": [],
   "source": [
    "import pandas as pd\n",
    "import numpy as np\n",
    "\n",
    "import matplotlib.pyplot as plt\n",
    "import plotly.express as px\n",
    "\n",
    "from sklearn.preprocessing import MinMaxScaler\n",
    "from sklearn.cluster import KMeans\n",
    "from sklearn.metrics import silhouette_score\n",
    "from sklearn.metrics import calinski_harabasz_score\n",
    "from sklearn.metrics import davies_bouldin_score\n",
    "from sklearn.decomposition import PCA"
   ]
  },
  {
   "cell_type": "code",
   "execution_count": 413,
   "id": "f58fffb7",
   "metadata": {},
   "outputs": [
    {
     "data": {
      "application/vnd.microsoft.datawrangler.viewer.v0+json": {
       "columns": [
        {
         "name": "index",
         "rawType": "int64",
         "type": "integer"
        },
        {
         "name": "user_id",
         "rawType": "int64",
         "type": "integer"
        },
        {
         "name": "age",
         "rawType": "int64",
         "type": "integer"
        },
        {
         "name": "country",
         "rawType": "object",
         "type": "string"
        },
        {
         "name": "income_level",
         "rawType": "object",
         "type": "string"
        },
        {
         "name": "investment_experience",
         "rawType": "object",
         "type": "string"
        },
        {
         "name": "num_investments",
         "rawType": "int64",
         "type": "integer"
        },
        {
         "name": "total_invested",
         "rawType": "float64",
         "type": "float"
        }
       ],
       "conversionMethod": "pd.DataFrame",
       "ref": "81ae1c87-ca59-475f-9523-ce88c4a72826",
       "rows": [
        [
         "0",
         "1",
         "58",
         "Germany",
         "Low",
         "Novice",
         "6",
         "4306.73"
        ],
        [
         "1",
         "2",
         "32",
         "France",
         "Medium",
         "Intermediate",
         "14",
         "15305.28"
        ],
        [
         "2",
         "3",
         "52",
         "Germany",
         "Medium",
         "Novice",
         "11",
         "25018.27"
        ],
        [
         "3",
         "4",
         "23",
         "France",
         "Low",
         "Intermediate",
         "17",
         "29858.32"
        ],
        [
         "4",
         "5",
         "53",
         "France",
         "Medium",
         "Intermediate",
         "18",
         "42622.42"
        ],
        [
         "5",
         "6",
         "44",
         "France",
         "Medium",
         "Novice",
         "20",
         "21335.7"
        ],
        [
         "6",
         "7",
         "18",
         "Austria",
         "High",
         "Intermediate",
         "9",
         "9144.2"
        ],
        [
         "7",
         "8",
         "39",
         "Netherlands",
         "Low",
         "Expert",
         "9",
         "14463.26"
        ],
        [
         "8",
         "9",
         "39",
         "Germany",
         "Low",
         "Novice",
         "9",
         "29528.7"
        ],
        [
         "9",
         "10",
         "40",
         "Spain",
         "Low",
         "Novice",
         "11",
         "21780.09"
        ],
        [
         "10",
         "11",
         "47",
         "Spain",
         "Low",
         "Expert",
         "13",
         "16588.7"
        ],
        [
         "11",
         "12",
         "23",
         "Spain",
         "Low",
         "Intermediate",
         "11",
         "13929.58"
        ],
        [
         "12",
         "13",
         "41",
         "Spain",
         "Low",
         "Novice",
         "17",
         "39020.74"
        ],
        [
         "13",
         "14",
         "60",
         "France",
         "Medium",
         "Expert",
         "5",
         "19241.08"
        ],
        [
         "14",
         "15",
         "32",
         "Austria",
         "Low",
         "Novice",
         "12",
         "30646.33"
        ],
        [
         "15",
         "16",
         "58",
         "Austria",
         "Medium",
         "Novice",
         "12",
         "30347.28"
        ],
        [
         "16",
         "17",
         "31",
         "Sweden",
         "Low",
         "Expert",
         "15",
         "34331.84"
        ],
        [
         "17",
         "18",
         "59",
         "Germany",
         "Medium",
         "Novice",
         "19",
         "62734.7"
        ],
        [
         "18",
         "19",
         "64",
         "France",
         "Low",
         "Novice",
         "9",
         "13143.75"
        ],
        [
         "19",
         "20",
         "58",
         "Sweden",
         "Medium",
         "Intermediate",
         "8",
         "18029.84"
        ],
        [
         "20",
         "21",
         "21",
         "France",
         "High",
         "Expert",
         "12",
         "12298.63"
        ],
        [
         "21",
         "22",
         "43",
         "Netherlands",
         "Low",
         "Expert",
         "7",
         "14360.64"
        ],
        [
         "22",
         "23",
         "54",
         "Sweden",
         "Medium",
         "Intermediate",
         "5",
         "8727.34"
        ],
        [
         "23",
         "24",
         "43",
         "Sweden",
         "Medium",
         "Novice",
         "10",
         "11672.06"
        ],
        [
         "24",
         "25",
         "33",
         "Sweden",
         "Medium",
         "Novice",
         "9",
         "16877.61"
        ],
        [
         "25",
         "26",
         "55",
         "Italy",
         "High",
         "Novice",
         "14",
         "26964.08"
        ],
        [
         "26",
         "27",
         "32",
         "France",
         "Medium",
         "Novice",
         "19",
         "28392.65"
        ],
        [
         "27",
         "28",
         "21",
         "Austria",
         "Low",
         "Intermediate",
         "14",
         "20939.74"
        ],
        [
         "28",
         "29",
         "61",
         "Italy",
         "Medium",
         "Novice",
         "9",
         "14878.89"
        ],
        [
         "29",
         "30",
         "56",
         "Italy",
         "Medium",
         "Expert",
         "8",
         "14497.77"
        ],
        [
         "30",
         "31",
         "18",
         "Sweden",
         "Medium",
         "Intermediate",
         "11",
         "26713.77"
        ],
        [
         "31",
         "32",
         "52",
         "Austria",
         "Low",
         "Intermediate",
         "16",
         "19992.66"
        ],
        [
         "32",
         "33",
         "25",
         "Netherlands",
         "Medium",
         "Novice",
         "13",
         "25063.7"
        ],
        [
         "33",
         "34",
         "64",
         "Sweden",
         "Low",
         "Intermediate",
         "8",
         "16278.52"
        ],
        [
         "34",
         "35",
         "29",
         "Spain",
         "High",
         "Expert",
         "12",
         "12370.36"
        ],
        [
         "35",
         "36",
         "37",
         "Austria",
         "Medium",
         "Intermediate",
         "7",
         "8035.93"
        ],
        [
         "36",
         "37",
         "27",
         "Netherlands",
         "Medium",
         "Intermediate",
         "10",
         "21873.42"
        ],
        [
         "37",
         "38",
         "51",
         "Germany",
         "Medium",
         "Novice",
         "6",
         "8811.95"
        ],
        [
         "38",
         "39",
         "25",
         "Netherlands",
         "High",
         "Expert",
         "20",
         "59156.26"
        ],
        [
         "39",
         "40",
         "37",
         "France",
         "Low",
         "Expert",
         "5",
         "8375.06"
        ],
        [
         "40",
         "41",
         "23",
         "Germany",
         "Medium",
         "Expert",
         "10",
         "35113.27"
        ],
        [
         "41",
         "42",
         "52",
         "Austria",
         "Low",
         "Intermediate",
         "9",
         "11776.14"
        ],
        [
         "42",
         "43",
         "53",
         "France",
         "Low",
         "Expert",
         "15",
         "31366.57"
        ],
        [
         "43",
         "44",
         "45",
         "France",
         "High",
         "Intermediate",
         "18",
         "44914.97"
        ],
        [
         "44",
         "45",
         "62",
         "France",
         "Medium",
         "Novice",
         "20",
         "60160.38"
        ],
        [
         "45",
         "46",
         "60",
         "Sweden",
         "Medium",
         "Expert",
         "16",
         "25069.97"
        ],
        [
         "46",
         "47",
         "46",
         "Germany",
         "Low",
         "Novice",
         "5",
         "5550.1"
        ],
        [
         "47",
         "48",
         "19",
         "Spain",
         "Medium",
         "Intermediate",
         "13",
         "22664.21"
        ],
        [
         "48",
         "49",
         "18",
         "Germany",
         "Medium",
         "Novice",
         "10",
         "17168.16"
        ],
        [
         "49",
         "50",
         "22",
         "Germany",
         "High",
         "Novice",
         "14",
         "34451.31"
        ]
       ],
       "shape": {
        "columns": 7,
        "rows": 10000
       }
      },
      "text/html": [
       "<div>\n",
       "<style scoped>\n",
       "    .dataframe tbody tr th:only-of-type {\n",
       "        vertical-align: middle;\n",
       "    }\n",
       "\n",
       "    .dataframe tbody tr th {\n",
       "        vertical-align: top;\n",
       "    }\n",
       "\n",
       "    .dataframe thead th {\n",
       "        text-align: right;\n",
       "    }\n",
       "</style>\n",
       "<table border=\"1\" class=\"dataframe\">\n",
       "  <thead>\n",
       "    <tr style=\"text-align: right;\">\n",
       "      <th></th>\n",
       "      <th>user_id</th>\n",
       "      <th>age</th>\n",
       "      <th>country</th>\n",
       "      <th>income_level</th>\n",
       "      <th>investment_experience</th>\n",
       "      <th>num_investments</th>\n",
       "      <th>total_invested</th>\n",
       "    </tr>\n",
       "  </thead>\n",
       "  <tbody>\n",
       "    <tr>\n",
       "      <th>0</th>\n",
       "      <td>1</td>\n",
       "      <td>58</td>\n",
       "      <td>Germany</td>\n",
       "      <td>Low</td>\n",
       "      <td>Novice</td>\n",
       "      <td>6</td>\n",
       "      <td>4306.73</td>\n",
       "    </tr>\n",
       "    <tr>\n",
       "      <th>1</th>\n",
       "      <td>2</td>\n",
       "      <td>32</td>\n",
       "      <td>France</td>\n",
       "      <td>Medium</td>\n",
       "      <td>Intermediate</td>\n",
       "      <td>14</td>\n",
       "      <td>15305.28</td>\n",
       "    </tr>\n",
       "    <tr>\n",
       "      <th>2</th>\n",
       "      <td>3</td>\n",
       "      <td>52</td>\n",
       "      <td>Germany</td>\n",
       "      <td>Medium</td>\n",
       "      <td>Novice</td>\n",
       "      <td>11</td>\n",
       "      <td>25018.27</td>\n",
       "    </tr>\n",
       "    <tr>\n",
       "      <th>3</th>\n",
       "      <td>4</td>\n",
       "      <td>23</td>\n",
       "      <td>France</td>\n",
       "      <td>Low</td>\n",
       "      <td>Intermediate</td>\n",
       "      <td>17</td>\n",
       "      <td>29858.32</td>\n",
       "    </tr>\n",
       "    <tr>\n",
       "      <th>4</th>\n",
       "      <td>5</td>\n",
       "      <td>53</td>\n",
       "      <td>France</td>\n",
       "      <td>Medium</td>\n",
       "      <td>Intermediate</td>\n",
       "      <td>18</td>\n",
       "      <td>42622.42</td>\n",
       "    </tr>\n",
       "    <tr>\n",
       "      <th>...</th>\n",
       "      <td>...</td>\n",
       "      <td>...</td>\n",
       "      <td>...</td>\n",
       "      <td>...</td>\n",
       "      <td>...</td>\n",
       "      <td>...</td>\n",
       "      <td>...</td>\n",
       "    </tr>\n",
       "    <tr>\n",
       "      <th>9995</th>\n",
       "      <td>9996</td>\n",
       "      <td>62</td>\n",
       "      <td>Germany</td>\n",
       "      <td>High</td>\n",
       "      <td>Novice</td>\n",
       "      <td>20</td>\n",
       "      <td>54535.88</td>\n",
       "    </tr>\n",
       "    <tr>\n",
       "      <th>9996</th>\n",
       "      <td>9997</td>\n",
       "      <td>19</td>\n",
       "      <td>Sweden</td>\n",
       "      <td>High</td>\n",
       "      <td>Intermediate</td>\n",
       "      <td>10</td>\n",
       "      <td>8895.99</td>\n",
       "    </tr>\n",
       "    <tr>\n",
       "      <th>9997</th>\n",
       "      <td>9998</td>\n",
       "      <td>44</td>\n",
       "      <td>Italy</td>\n",
       "      <td>Low</td>\n",
       "      <td>Novice</td>\n",
       "      <td>7</td>\n",
       "      <td>29307.56</td>\n",
       "    </tr>\n",
       "    <tr>\n",
       "      <th>9998</th>\n",
       "      <td>9999</td>\n",
       "      <td>35</td>\n",
       "      <td>France</td>\n",
       "      <td>High</td>\n",
       "      <td>Novice</td>\n",
       "      <td>7</td>\n",
       "      <td>10187.85</td>\n",
       "    </tr>\n",
       "    <tr>\n",
       "      <th>9999</th>\n",
       "      <td>10000</td>\n",
       "      <td>36</td>\n",
       "      <td>Netherlands</td>\n",
       "      <td>High</td>\n",
       "      <td>Expert</td>\n",
       "      <td>10</td>\n",
       "      <td>14425.07</td>\n",
       "    </tr>\n",
       "  </tbody>\n",
       "</table>\n",
       "<p>10000 rows × 7 columns</p>\n",
       "</div>"
      ],
      "text/plain": [
       "      user_id  age      country income_level investment_experience  \\\n",
       "0           1   58      Germany          Low                Novice   \n",
       "1           2   32       France       Medium          Intermediate   \n",
       "2           3   52      Germany       Medium                Novice   \n",
       "3           4   23       France          Low          Intermediate   \n",
       "4           5   53       France       Medium          Intermediate   \n",
       "...       ...  ...          ...          ...                   ...   \n",
       "9995     9996   62      Germany         High                Novice   \n",
       "9996     9997   19       Sweden         High          Intermediate   \n",
       "9997     9998   44        Italy          Low                Novice   \n",
       "9998     9999   35       France         High                Novice   \n",
       "9999    10000   36  Netherlands         High                Expert   \n",
       "\n",
       "      num_investments  total_invested  \n",
       "0                   6         4306.73  \n",
       "1                  14        15305.28  \n",
       "2                  11        25018.27  \n",
       "3                  17        29858.32  \n",
       "4                  18        42622.42  \n",
       "...               ...             ...  \n",
       "9995               20        54535.88  \n",
       "9996               10         8895.99  \n",
       "9997                7        29307.56  \n",
       "9998                7        10187.85  \n",
       "9999               10        14425.07  \n",
       "\n",
       "[10000 rows x 7 columns]"
      ]
     },
     "execution_count": 413,
     "metadata": {},
     "output_type": "execute_result"
    }
   ],
   "source": [
    "#Loadng the users dataset\n",
    "us_df = pd.read_csv(r\"/Users/treva.ogwang/Desktop/Codes/investment/users.csv\")\n",
    "us_df"
   ]
  },
  {
   "cell_type": "code",
   "execution_count": 414,
   "id": "d15526bd",
   "metadata": {},
   "outputs": [
    {
     "data": {
      "text/plain": [
       "Index(['user_id', 'age', 'country', 'income_level', 'investment_experience',\n",
       "       'num_investments', 'total_invested'],\n",
       "      dtype='object')"
      ]
     },
     "execution_count": 414,
     "metadata": {},
     "output_type": "execute_result"
    }
   ],
   "source": [
    "us_df.columns"
   ]
  },
  {
   "cell_type": "code",
   "execution_count": 415,
   "id": "16fff066",
   "metadata": {},
   "outputs": [
    {
     "data": {
      "application/vnd.microsoft.datawrangler.viewer.v0+json": {
       "columns": [
        {
         "name": "index",
         "rawType": "int64",
         "type": "integer"
        },
        {
         "name": "investment_id",
         "rawType": "int64",
         "type": "integer"
        },
        {
         "name": "user_id",
         "rawType": "int64",
         "type": "integer"
        },
        {
         "name": "investment_name",
         "rawType": "object",
         "type": "string"
        },
        {
         "name": "category",
         "rawType": "object",
         "type": "string"
        },
        {
         "name": "risk_level",
         "rawType": "object",
         "type": "string"
        },
        {
         "name": "amount_invested",
         "rawType": "float64",
         "type": "float"
        },
        {
         "name": "return_percent",
         "rawType": "float64",
         "type": "float"
        }
       ],
       "conversionMethod": "pd.DataFrame",
       "ref": "d752ac95-6290-436b-b3dc-4640f9b3e2f0",
       "rows": [
        [
         "0",
         "1",
         "1",
         "Crude Oil",
         "Commodities",
         "Medium",
         "938.54",
         "-11.68"
        ],
        [
         "1",
         "2",
         "1",
         "Municipal Bond B",
         "Bond",
         "Low",
         "339.19",
         "9.78"
        ],
        [
         "2",
         "3",
         "1",
         "S&P 500 Index Fund",
         "Index Fund",
         "High",
         "119.68",
         "9.19"
        ],
        [
         "3",
         "4",
         "1",
         "Simon Property Group",
         "Real Estate",
         "Medium",
         "2462.5",
         "20.16"
        ],
        [
         "4",
         "5",
         "1",
         "BMW",
         "Stock",
         "Low",
         "41.6",
         "-3.71"
        ],
        [
         "5",
         "6",
         "1",
         "Solana",
         "Crypto",
         "Medium",
         "405.22",
         "-2.88"
        ],
        [
         "6",
         "7",
         "2",
         "Crude Oil",
         "Commodities",
         "Low",
         "725.51",
         "-34.19"
        ],
        [
         "7",
         "8",
         "2",
         "S&P 500 Index Fund",
         "Index Fund",
         "Medium",
         "688.45",
         "19.26"
        ],
        [
         "8",
         "9",
         "2",
         "SPDR S&P 500",
         "ETF",
         "High",
         "1892.74",
         "-1.42"
        ],
        [
         "9",
         "10",
         "2",
         "Natural Gas",
         "Commodities",
         "Medium",
         "912.55",
         "-6.14"
        ],
        [
         "10",
         "11",
         "2",
         "Simon Property Group",
         "Real Estate",
         "Medium",
         "1217.87",
         "-4.44"
        ],
        [
         "11",
         "12",
         "2",
         "Polkadot",
         "Crypto",
         "High",
         "1444.06",
         "13.97"
        ],
        [
         "12",
         "13",
         "2",
         "Gold",
         "Commodities",
         "Medium",
         "1795.01",
         "6.83"
        ],
        [
         "13",
         "14",
         "2",
         "Gold",
         "Commodities",
         "Low",
         "373.92",
         "-2.73"
        ],
        [
         "14",
         "15",
         "2",
         "iShares Core DAX",
         "ETF",
         "High",
         "134.53",
         "-4.0"
        ],
        [
         "15",
         "16",
         "2",
         "NASDAQ Composite Fund",
         "Index Fund",
         "Medium",
         "205.55",
         "19.21"
        ],
        [
         "16",
         "17",
         "2",
         "Realty Income Corp",
         "Real Estate",
         "Low",
         "2305.5",
         "-10.32"
        ],
        [
         "17",
         "18",
         "2",
         "FTSE 100 Tracker",
         "Index Fund",
         "Low",
         "1367.09",
         "2.57"
        ],
        [
         "18",
         "19",
         "2",
         "Google",
         "Stock",
         "High",
         "69.99",
         "1.56"
        ],
        [
         "19",
         "20",
         "2",
         "Apple",
         "Stock",
         "High",
         "2172.51",
         "10.84"
        ],
        [
         "20",
         "21",
         "3",
         "Apple",
         "Stock",
         "Medium",
         "747.09",
         "46.67"
        ],
        [
         "21",
         "22",
         "3",
         "DAX Index Fund",
         "Index Fund",
         "Low",
         "408.78",
         "22.9"
        ],
        [
         "22",
         "23",
         "3",
         "iShares MSCI",
         "ETF",
         "High",
         "6985.61",
         "8.28"
        ],
        [
         "23",
         "24",
         "3",
         "Litecoin",
         "Crypto",
         "Medium",
         "5098.87",
         "18.23"
        ],
        [
         "24",
         "25",
         "3",
         "Bitcoin",
         "Crypto",
         "Medium",
         "185.31",
         "-10.14"
        ],
        [
         "25",
         "26",
         "3",
         "Amazon",
         "Stock",
         "Medium",
         "633.12",
         "-18.75"
        ],
        [
         "26",
         "27",
         "3",
         "REIT Global",
         "Real Estate",
         "High",
         "3529.12",
         "-15.2"
        ],
        [
         "27",
         "28",
         "3",
         "US Treasury 10Y",
         "Bond",
         "Low",
         "1564.81",
         "-8.21"
        ],
        [
         "28",
         "29",
         "3",
         "Ethereum",
         "Crypto",
         "High",
         "303.8",
         "13.73"
        ],
        [
         "29",
         "30",
         "3",
         "Corporate Bond A",
         "Bond",
         "Low",
         "2611.33",
         "18.32"
        ],
        [
         "30",
         "31",
         "3",
         "FTSE 100 Tracker",
         "Index Fund",
         "Medium",
         "2950.43",
         "1.89"
        ],
        [
         "31",
         "32",
         "4",
         "NASDAQ Composite Fund",
         "Index Fund",
         "Low",
         "246.3",
         "-4.35"
        ],
        [
         "32",
         "33",
         "4",
         "DAX Index Fund",
         "Index Fund",
         "Low",
         "3977.06",
         "-17.62"
        ],
        [
         "33",
         "34",
         "4",
         "SPDR S&P 500",
         "ETF",
         "Low",
         "131.34",
         "21.49"
        ],
        [
         "34",
         "35",
         "4",
         "Silver",
         "Commodities",
         "Low",
         "744.98",
         "22.7"
        ],
        [
         "35",
         "36",
         "4",
         "Meta",
         "Stock",
         "Low",
         "2029.78",
         "-8.47"
        ],
        [
         "36",
         "37",
         "4",
         "Gold",
         "Commodities",
         "Low",
         "4364.5",
         "-10.57"
        ],
        [
         "37",
         "38",
         "4",
         "S&P 500 Index Fund",
         "Index Fund",
         "Medium",
         "2498.25",
         "3.86"
        ],
        [
         "38",
         "39",
         "4",
         "Microsoft",
         "Stock",
         "Low",
         "2860.79",
         "27.43"
        ],
        [
         "39",
         "40",
         "4",
         "BMW",
         "Stock",
         "Medium",
         "1361.63",
         "10.07"
        ],
        [
         "40",
         "41",
         "4",
         "Copper",
         "Commodities",
         "Low",
         "1479.36",
         "-0.98"
        ],
        [
         "41",
         "42",
         "4",
         "S&P 500 Index Fund",
         "Index Fund",
         "Medium",
         "228.33",
         "4.09"
        ],
        [
         "42",
         "43",
         "4",
         "Vanguard Total",
         "ETF",
         "Low",
         "63.87",
         "-16.28"
        ],
        [
         "43",
         "44",
         "4",
         "Crude Oil",
         "Commodities",
         "Low",
         "1420.87",
         "20.64"
        ],
        [
         "44",
         "45",
         "4",
         "Natural Gas",
         "Commodities",
         "Medium",
         "4762.53",
         "-3.02"
        ],
        [
         "45",
         "46",
         "4",
         "German Bund 5Y",
         "Bond",
         "Medium",
         "2817.5",
         "-17.43"
        ],
        [
         "46",
         "47",
         "4",
         "Ripple",
         "Crypto",
         "Low",
         "519.61",
         "1.82"
        ],
        [
         "47",
         "48",
         "4",
         "Litecoin",
         "Crypto",
         "Low",
         "351.62",
         "-1.4"
        ],
        [
         "48",
         "49",
         "5",
         "Apple",
         "Stock",
         "High",
         "5309.9",
         "12.52"
        ],
        [
         "49",
         "50",
         "5",
         "Meta",
         "Stock",
         "Medium",
         "4103.04",
         "22.37"
        ]
       ],
       "shape": {
        "columns": 7,
        "rows": 125022
       }
      },
      "text/html": [
       "<div>\n",
       "<style scoped>\n",
       "    .dataframe tbody tr th:only-of-type {\n",
       "        vertical-align: middle;\n",
       "    }\n",
       "\n",
       "    .dataframe tbody tr th {\n",
       "        vertical-align: top;\n",
       "    }\n",
       "\n",
       "    .dataframe thead th {\n",
       "        text-align: right;\n",
       "    }\n",
       "</style>\n",
       "<table border=\"1\" class=\"dataframe\">\n",
       "  <thead>\n",
       "    <tr style=\"text-align: right;\">\n",
       "      <th></th>\n",
       "      <th>investment_id</th>\n",
       "      <th>user_id</th>\n",
       "      <th>investment_name</th>\n",
       "      <th>category</th>\n",
       "      <th>risk_level</th>\n",
       "      <th>amount_invested</th>\n",
       "      <th>return_percent</th>\n",
       "    </tr>\n",
       "  </thead>\n",
       "  <tbody>\n",
       "    <tr>\n",
       "      <th>0</th>\n",
       "      <td>1</td>\n",
       "      <td>1</td>\n",
       "      <td>Crude Oil</td>\n",
       "      <td>Commodities</td>\n",
       "      <td>Medium</td>\n",
       "      <td>938.54</td>\n",
       "      <td>-11.68</td>\n",
       "    </tr>\n",
       "    <tr>\n",
       "      <th>1</th>\n",
       "      <td>2</td>\n",
       "      <td>1</td>\n",
       "      <td>Municipal Bond B</td>\n",
       "      <td>Bond</td>\n",
       "      <td>Low</td>\n",
       "      <td>339.19</td>\n",
       "      <td>9.78</td>\n",
       "    </tr>\n",
       "    <tr>\n",
       "      <th>2</th>\n",
       "      <td>3</td>\n",
       "      <td>1</td>\n",
       "      <td>S&amp;P 500 Index Fund</td>\n",
       "      <td>Index Fund</td>\n",
       "      <td>High</td>\n",
       "      <td>119.68</td>\n",
       "      <td>9.19</td>\n",
       "    </tr>\n",
       "    <tr>\n",
       "      <th>3</th>\n",
       "      <td>4</td>\n",
       "      <td>1</td>\n",
       "      <td>Simon Property Group</td>\n",
       "      <td>Real Estate</td>\n",
       "      <td>Medium</td>\n",
       "      <td>2462.50</td>\n",
       "      <td>20.16</td>\n",
       "    </tr>\n",
       "    <tr>\n",
       "      <th>4</th>\n",
       "      <td>5</td>\n",
       "      <td>1</td>\n",
       "      <td>BMW</td>\n",
       "      <td>Stock</td>\n",
       "      <td>Low</td>\n",
       "      <td>41.60</td>\n",
       "      <td>-3.71</td>\n",
       "    </tr>\n",
       "    <tr>\n",
       "      <th>...</th>\n",
       "      <td>...</td>\n",
       "      <td>...</td>\n",
       "      <td>...</td>\n",
       "      <td>...</td>\n",
       "      <td>...</td>\n",
       "      <td>...</td>\n",
       "      <td>...</td>\n",
       "    </tr>\n",
       "    <tr>\n",
       "      <th>125017</th>\n",
       "      <td>125018</td>\n",
       "      <td>10000</td>\n",
       "      <td>Lyxor MSCI World</td>\n",
       "      <td>ETF</td>\n",
       "      <td>Medium</td>\n",
       "      <td>369.95</td>\n",
       "      <td>14.10</td>\n",
       "    </tr>\n",
       "    <tr>\n",
       "      <th>125018</th>\n",
       "      <td>125019</td>\n",
       "      <td>10000</td>\n",
       "      <td>Simon Property Group</td>\n",
       "      <td>Real Estate</td>\n",
       "      <td>High</td>\n",
       "      <td>2701.29</td>\n",
       "      <td>-5.55</td>\n",
       "    </tr>\n",
       "    <tr>\n",
       "      <th>125019</th>\n",
       "      <td>125020</td>\n",
       "      <td>10000</td>\n",
       "      <td>Litecoin</td>\n",
       "      <td>Crypto</td>\n",
       "      <td>Low</td>\n",
       "      <td>2448.56</td>\n",
       "      <td>-0.44</td>\n",
       "    </tr>\n",
       "    <tr>\n",
       "      <th>125020</th>\n",
       "      <td>125021</td>\n",
       "      <td>10000</td>\n",
       "      <td>Lyxor MSCI World</td>\n",
       "      <td>ETF</td>\n",
       "      <td>High</td>\n",
       "      <td>255.41</td>\n",
       "      <td>26.44</td>\n",
       "    </tr>\n",
       "    <tr>\n",
       "      <th>125021</th>\n",
       "      <td>125022</td>\n",
       "      <td>10000</td>\n",
       "      <td>Crude Oil</td>\n",
       "      <td>Commodities</td>\n",
       "      <td>Medium</td>\n",
       "      <td>1590.00</td>\n",
       "      <td>-11.08</td>\n",
       "    </tr>\n",
       "  </tbody>\n",
       "</table>\n",
       "<p>125022 rows × 7 columns</p>\n",
       "</div>"
      ],
      "text/plain": [
       "        investment_id  user_id       investment_name     category risk_level  \\\n",
       "0                   1        1             Crude Oil  Commodities     Medium   \n",
       "1                   2        1      Municipal Bond B         Bond        Low   \n",
       "2                   3        1    S&P 500 Index Fund   Index Fund       High   \n",
       "3                   4        1  Simon Property Group  Real Estate     Medium   \n",
       "4                   5        1                   BMW        Stock        Low   \n",
       "...               ...      ...                   ...          ...        ...   \n",
       "125017         125018    10000      Lyxor MSCI World          ETF     Medium   \n",
       "125018         125019    10000  Simon Property Group  Real Estate       High   \n",
       "125019         125020    10000              Litecoin       Crypto        Low   \n",
       "125020         125021    10000      Lyxor MSCI World          ETF       High   \n",
       "125021         125022    10000             Crude Oil  Commodities     Medium   \n",
       "\n",
       "        amount_invested  return_percent  \n",
       "0                938.54          -11.68  \n",
       "1                339.19            9.78  \n",
       "2                119.68            9.19  \n",
       "3               2462.50           20.16  \n",
       "4                 41.60           -3.71  \n",
       "...                 ...             ...  \n",
       "125017           369.95           14.10  \n",
       "125018          2701.29           -5.55  \n",
       "125019          2448.56           -0.44  \n",
       "125020           255.41           26.44  \n",
       "125021          1590.00          -11.08  \n",
       "\n",
       "[125022 rows x 7 columns]"
      ]
     },
     "execution_count": 415,
     "metadata": {},
     "output_type": "execute_result"
    }
   ],
   "source": [
    "inv_df = pd.read_csv(r\"/Users/treva.ogwang/Desktop/Codes/investment/investments.csv\")\n",
    "inv_df"
   ]
  },
  {
   "cell_type": "code",
   "execution_count": 416,
   "id": "44dd67d3",
   "metadata": {},
   "outputs": [
    {
     "data": {
      "text/plain": [
       "Index(['investment_id', 'user_id', 'investment_name', 'category', 'risk_level',\n",
       "       'amount_invested', 'return_percent'],\n",
       "      dtype='object')"
      ]
     },
     "execution_count": 416,
     "metadata": {},
     "output_type": "execute_result"
    }
   ],
   "source": [
    "inv_df.columns"
   ]
  },
  {
   "cell_type": "markdown",
   "id": "484b8470",
   "metadata": {},
   "source": [
    "1. EXPLORATORY DATA ANALYSIS"
   ]
  },
  {
   "cell_type": "code",
   "execution_count": 417,
   "id": "e46ca221",
   "metadata": {},
   "outputs": [
    {
     "name": "stdout",
     "output_type": "stream",
     "text": [
      "<class 'pandas.core.frame.DataFrame'>\n",
      "RangeIndex: 10000 entries, 0 to 9999\n",
      "Data columns (total 7 columns):\n",
      " #   Column                 Non-Null Count  Dtype  \n",
      "---  ------                 --------------  -----  \n",
      " 0   user_id                10000 non-null  int64  \n",
      " 1   age                    10000 non-null  int64  \n",
      " 2   country                10000 non-null  object \n",
      " 3   income_level           10000 non-null  object \n",
      " 4   investment_experience  10000 non-null  object \n",
      " 5   num_investments        10000 non-null  int64  \n",
      " 6   total_invested         10000 non-null  float64\n",
      "dtypes: float64(1), int64(3), object(3)\n",
      "memory usage: 547.0+ KB\n"
     ]
    }
   ],
   "source": [
    "us_df.info()"
   ]
  },
  {
   "cell_type": "code",
   "execution_count": 418,
   "id": "f5dce394",
   "metadata": {},
   "outputs": [
    {
     "data": {
      "application/vnd.microsoft.datawrangler.viewer.v0+json": {
       "columns": [
        {
         "name": "index",
         "rawType": "object",
         "type": "string"
        },
        {
         "name": "user_id",
         "rawType": "float64",
         "type": "float"
        },
        {
         "name": "age",
         "rawType": "float64",
         "type": "float"
        },
        {
         "name": "num_investments",
         "rawType": "float64",
         "type": "float"
        },
        {
         "name": "total_invested",
         "rawType": "float64",
         "type": "float"
        }
       ],
       "conversionMethod": "pd.DataFrame",
       "ref": "21ff304d-cae1-4e21-8ac5-531b3a5833f3",
       "rows": [
        [
         "count",
         "10000.0",
         "10000.0",
         "10000.0",
         "10000.0"
        ],
        [
         "mean",
         "5000.5",
         "41.6176",
         "12.5022",
         "25022.772738"
        ],
        [
         "std",
         "2886.8956799071675",
         "13.876463017015045",
         "4.5779352233393285",
         "11643.631352570843"
        ],
        [
         "min",
         "1.0",
         "18.0",
         "5.0",
         "943.71"
        ],
        [
         "25%",
         "2500.75",
         "30.0",
         "8.0",
         "15890.064999999999"
        ],
        [
         "50%",
         "5000.5",
         "42.0",
         "13.0",
         "24011.995"
        ],
        [
         "75%",
         "7500.25",
         "54.0",
         "16.0",
         "32897.399999999994"
        ],
        [
         "max",
         "10000.0",
         "65.0",
         "20.0",
         "75401.74"
        ]
       ],
       "shape": {
        "columns": 4,
        "rows": 8
       }
      },
      "text/html": [
       "<div>\n",
       "<style scoped>\n",
       "    .dataframe tbody tr th:only-of-type {\n",
       "        vertical-align: middle;\n",
       "    }\n",
       "\n",
       "    .dataframe tbody tr th {\n",
       "        vertical-align: top;\n",
       "    }\n",
       "\n",
       "    .dataframe thead th {\n",
       "        text-align: right;\n",
       "    }\n",
       "</style>\n",
       "<table border=\"1\" class=\"dataframe\">\n",
       "  <thead>\n",
       "    <tr style=\"text-align: right;\">\n",
       "      <th></th>\n",
       "      <th>user_id</th>\n",
       "      <th>age</th>\n",
       "      <th>num_investments</th>\n",
       "      <th>total_invested</th>\n",
       "    </tr>\n",
       "  </thead>\n",
       "  <tbody>\n",
       "    <tr>\n",
       "      <th>count</th>\n",
       "      <td>10000.00000</td>\n",
       "      <td>10000.000000</td>\n",
       "      <td>10000.000000</td>\n",
       "      <td>10000.000000</td>\n",
       "    </tr>\n",
       "    <tr>\n",
       "      <th>mean</th>\n",
       "      <td>5000.50000</td>\n",
       "      <td>41.617600</td>\n",
       "      <td>12.502200</td>\n",
       "      <td>25022.772738</td>\n",
       "    </tr>\n",
       "    <tr>\n",
       "      <th>std</th>\n",
       "      <td>2886.89568</td>\n",
       "      <td>13.876463</td>\n",
       "      <td>4.577935</td>\n",
       "      <td>11643.631353</td>\n",
       "    </tr>\n",
       "    <tr>\n",
       "      <th>min</th>\n",
       "      <td>1.00000</td>\n",
       "      <td>18.000000</td>\n",
       "      <td>5.000000</td>\n",
       "      <td>943.710000</td>\n",
       "    </tr>\n",
       "    <tr>\n",
       "      <th>25%</th>\n",
       "      <td>2500.75000</td>\n",
       "      <td>30.000000</td>\n",
       "      <td>8.000000</td>\n",
       "      <td>15890.065000</td>\n",
       "    </tr>\n",
       "    <tr>\n",
       "      <th>50%</th>\n",
       "      <td>5000.50000</td>\n",
       "      <td>42.000000</td>\n",
       "      <td>13.000000</td>\n",
       "      <td>24011.995000</td>\n",
       "    </tr>\n",
       "    <tr>\n",
       "      <th>75%</th>\n",
       "      <td>7500.25000</td>\n",
       "      <td>54.000000</td>\n",
       "      <td>16.000000</td>\n",
       "      <td>32897.400000</td>\n",
       "    </tr>\n",
       "    <tr>\n",
       "      <th>max</th>\n",
       "      <td>10000.00000</td>\n",
       "      <td>65.000000</td>\n",
       "      <td>20.000000</td>\n",
       "      <td>75401.740000</td>\n",
       "    </tr>\n",
       "  </tbody>\n",
       "</table>\n",
       "</div>"
      ],
      "text/plain": [
       "           user_id           age  num_investments  total_invested\n",
       "count  10000.00000  10000.000000     10000.000000    10000.000000\n",
       "mean    5000.50000     41.617600        12.502200    25022.772738\n",
       "std     2886.89568     13.876463         4.577935    11643.631353\n",
       "min        1.00000     18.000000         5.000000      943.710000\n",
       "25%     2500.75000     30.000000         8.000000    15890.065000\n",
       "50%     5000.50000     42.000000        13.000000    24011.995000\n",
       "75%     7500.25000     54.000000        16.000000    32897.400000\n",
       "max    10000.00000     65.000000        20.000000    75401.740000"
      ]
     },
     "execution_count": 418,
     "metadata": {},
     "output_type": "execute_result"
    }
   ],
   "source": [
    "us_df.describe()"
   ]
  },
  {
   "cell_type": "code",
   "execution_count": 419,
   "id": "58185826",
   "metadata": {},
   "outputs": [
    {
     "name": "stdout",
     "output_type": "stream",
     "text": [
      "<class 'pandas.core.frame.DataFrame'>\n",
      "RangeIndex: 125022 entries, 0 to 125021\n",
      "Data columns (total 7 columns):\n",
      " #   Column           Non-Null Count   Dtype  \n",
      "---  ------           --------------   -----  \n",
      " 0   investment_id    125022 non-null  int64  \n",
      " 1   user_id          125022 non-null  int64  \n",
      " 2   investment_name  125022 non-null  object \n",
      " 3   category         125022 non-null  object \n",
      " 4   risk_level       125022 non-null  object \n",
      " 5   amount_invested  125022 non-null  float64\n",
      " 6   return_percent   125022 non-null  float64\n",
      "dtypes: float64(2), int64(2), object(3)\n",
      "memory usage: 6.7+ MB\n"
     ]
    }
   ],
   "source": [
    "inv_df.info()"
   ]
  },
  {
   "cell_type": "code",
   "execution_count": 420,
   "id": "68cf919e",
   "metadata": {},
   "outputs": [
    {
     "data": {
      "application/vnd.microsoft.datawrangler.viewer.v0+json": {
       "columns": [
        {
         "name": "index",
         "rawType": "object",
         "type": "string"
        },
        {
         "name": "investment_id",
         "rawType": "float64",
         "type": "float"
        },
        {
         "name": "user_id",
         "rawType": "float64",
         "type": "float"
        },
        {
         "name": "amount_invested",
         "rawType": "float64",
         "type": "float"
        },
        {
         "name": "return_percent",
         "rawType": "float64",
         "type": "float"
        }
       ],
       "conversionMethod": "pd.DataFrame",
       "ref": "9d7c1ca3-bbe1-42a4-8a8c-aba66a33cea7",
       "rows": [
        [
         "count",
         "125022.0",
         "125022.0",
         "125022.0",
         "125022.0"
        ],
        [
         "mean",
         "62511.5",
         "4977.6887107869015",
         "2001.46956039737",
         "5.0177266401113405"
        ],
        [
         "std",
         "36090.88701459137",
         "2887.0149363813766",
         "2002.8228437967898",
         "14.972570795228204"
        ],
        [
         "min",
         "1.0",
         "1.0",
         "0.01",
         "-62.09"
        ],
        [
         "25%",
         "31256.25",
         "2473.0",
         "574.2625",
         "-5.07"
        ],
        [
         "50%",
         "62511.5",
         "4977.0",
         "1390.32",
         "5.03"
        ],
        [
         "75%",
         "93766.75",
         "7461.0",
         "2767.3675",
         "15.07"
        ],
        [
         "max",
         "125022.0",
         "10000.0",
         "21567.03",
         "75.42"
        ]
       ],
       "shape": {
        "columns": 4,
        "rows": 8
       }
      },
      "text/html": [
       "<div>\n",
       "<style scoped>\n",
       "    .dataframe tbody tr th:only-of-type {\n",
       "        vertical-align: middle;\n",
       "    }\n",
       "\n",
       "    .dataframe tbody tr th {\n",
       "        vertical-align: top;\n",
       "    }\n",
       "\n",
       "    .dataframe thead th {\n",
       "        text-align: right;\n",
       "    }\n",
       "</style>\n",
       "<table border=\"1\" class=\"dataframe\">\n",
       "  <thead>\n",
       "    <tr style=\"text-align: right;\">\n",
       "      <th></th>\n",
       "      <th>investment_id</th>\n",
       "      <th>user_id</th>\n",
       "      <th>amount_invested</th>\n",
       "      <th>return_percent</th>\n",
       "    </tr>\n",
       "  </thead>\n",
       "  <tbody>\n",
       "    <tr>\n",
       "      <th>count</th>\n",
       "      <td>125022.000000</td>\n",
       "      <td>125022.000000</td>\n",
       "      <td>125022.000000</td>\n",
       "      <td>125022.000000</td>\n",
       "    </tr>\n",
       "    <tr>\n",
       "      <th>mean</th>\n",
       "      <td>62511.500000</td>\n",
       "      <td>4977.688711</td>\n",
       "      <td>2001.469560</td>\n",
       "      <td>5.017727</td>\n",
       "    </tr>\n",
       "    <tr>\n",
       "      <th>std</th>\n",
       "      <td>36090.887015</td>\n",
       "      <td>2887.014936</td>\n",
       "      <td>2002.822844</td>\n",
       "      <td>14.972571</td>\n",
       "    </tr>\n",
       "    <tr>\n",
       "      <th>min</th>\n",
       "      <td>1.000000</td>\n",
       "      <td>1.000000</td>\n",
       "      <td>0.010000</td>\n",
       "      <td>-62.090000</td>\n",
       "    </tr>\n",
       "    <tr>\n",
       "      <th>25%</th>\n",
       "      <td>31256.250000</td>\n",
       "      <td>2473.000000</td>\n",
       "      <td>574.262500</td>\n",
       "      <td>-5.070000</td>\n",
       "    </tr>\n",
       "    <tr>\n",
       "      <th>50%</th>\n",
       "      <td>62511.500000</td>\n",
       "      <td>4977.000000</td>\n",
       "      <td>1390.320000</td>\n",
       "      <td>5.030000</td>\n",
       "    </tr>\n",
       "    <tr>\n",
       "      <th>75%</th>\n",
       "      <td>93766.750000</td>\n",
       "      <td>7461.000000</td>\n",
       "      <td>2767.367500</td>\n",
       "      <td>15.070000</td>\n",
       "    </tr>\n",
       "    <tr>\n",
       "      <th>max</th>\n",
       "      <td>125022.000000</td>\n",
       "      <td>10000.000000</td>\n",
       "      <td>21567.030000</td>\n",
       "      <td>75.420000</td>\n",
       "    </tr>\n",
       "  </tbody>\n",
       "</table>\n",
       "</div>"
      ],
      "text/plain": [
       "       investment_id        user_id  amount_invested  return_percent\n",
       "count  125022.000000  125022.000000    125022.000000   125022.000000\n",
       "mean    62511.500000    4977.688711      2001.469560        5.017727\n",
       "std     36090.887015    2887.014936      2002.822844       14.972571\n",
       "min         1.000000       1.000000         0.010000      -62.090000\n",
       "25%     31256.250000    2473.000000       574.262500       -5.070000\n",
       "50%     62511.500000    4977.000000      1390.320000        5.030000\n",
       "75%     93766.750000    7461.000000      2767.367500       15.070000\n",
       "max    125022.000000   10000.000000     21567.030000       75.420000"
      ]
     },
     "execution_count": 420,
     "metadata": {},
     "output_type": "execute_result"
    }
   ],
   "source": [
    "inv_df.describe()"
   ]
  },
  {
   "cell_type": "code",
   "execution_count": 421,
   "id": "db75ed61",
   "metadata": {},
   "outputs": [
    {
     "name": "stdout",
     "output_type": "stream",
     "text": [
      "All user_ids in the investments dataset are valid.\n"
     ]
    }
   ],
   "source": [
    "#Checking if all user_ids are valid.\n",
    "invalid_users = us_df[~us_df['user_id'].isin(inv_df['user_id'])]\n",
    "if invalid_users.empty:\n",
    "    print(\"All user_ids in the investments dataset are valid.\")\n",
    "else:\n",
    "    print(\"Invalid user_ids found in the investments dataset:\")\n",
    "    print(invalid_users)"
   ]
  },
  {
   "cell_type": "code",
   "execution_count": 422,
   "id": "2847cc68",
   "metadata": {},
   "outputs": [
    {
     "data": {
      "text/plain": [
       "user_id                  0\n",
       "age                      0\n",
       "country                  0\n",
       "income_level             0\n",
       "investment_experience    0\n",
       "num_investments          0\n",
       "total_invested           0\n",
       "dtype: int64"
      ]
     },
     "execution_count": 422,
     "metadata": {},
     "output_type": "execute_result"
    }
   ],
   "source": [
    "#Checking for missing values in the users dataset\n",
    "us_df.isnull().sum()"
   ]
  },
  {
   "cell_type": "code",
   "execution_count": 423,
   "id": "42c5c1f7",
   "metadata": {},
   "outputs": [
    {
     "data": {
      "text/plain": [
       "investment_id      0\n",
       "user_id            0\n",
       "investment_name    0\n",
       "category           0\n",
       "risk_level         0\n",
       "amount_invested    0\n",
       "return_percent     0\n",
       "dtype: int64"
      ]
     },
     "execution_count": 423,
     "metadata": {},
     "output_type": "execute_result"
    }
   ],
   "source": [
    "#Checking for missing values in the investments dataset\n",
    "inv_df.isnull().sum()"
   ]
  },
  {
   "cell_type": "code",
   "execution_count": 424,
   "id": "bbb18fca",
   "metadata": {},
   "outputs": [
    {
     "name": "stdout",
     "output_type": "stream",
     "text": [
      "No duplicates found in the users dataset.\n",
      "No duplicates found in the investments dataset.\n"
     ]
    }
   ],
   "source": [
    "#Checking for duplicates in the users dataset\n",
    "us_duplicates = us_df[us_df.duplicated()]\n",
    "if us_duplicates.empty:\n",
    "    print(\"No duplicates found in the users dataset.\")\n",
    "else:\n",
    "    print(\"Duplicates found in the users dataset:\")\n",
    "    print(us_duplicates)\n",
    "#Checking for duplicates in the investments dataset\n",
    "inv_duplicates = inv_df[inv_df.duplicated()]\n",
    "if inv_duplicates.empty:\n",
    "    print(\"No duplicates found in the investments dataset.\")\n",
    "else:\n",
    "    print(\"Duplicates found in the investments dataset:\")\n",
    "    print(inv_duplicates)"
   ]
  },
  {
   "cell_type": "code",
   "execution_count": 425,
   "id": "72a2abf9",
   "metadata": {},
   "outputs": [
    {
     "data": {
      "text/plain": [
       "category\n",
       "Crypto         18171\n",
       "Commodities    17994\n",
       "Index Fund     17839\n",
       "ETF            17785\n",
       "Bond           17767\n",
       "Real Estate    17767\n",
       "Stock          17699\n",
       "Name: count, dtype: int64"
      ]
     },
     "execution_count": 425,
     "metadata": {},
     "output_type": "execute_result"
    }
   ],
   "source": [
    "#Checking the different categories of investments\n",
    "inv_df['category'].value_counts()"
   ]
  },
  {
   "cell_type": "code",
   "execution_count": 426,
   "id": "d9f6438c",
   "metadata": {},
   "outputs": [],
   "source": [
    "#Deleting the country column from the users dataset\n",
    "us_df = us_df.drop(columns=['country'])"
   ]
  },
  {
   "cell_type": "markdown",
   "id": "7ea2d009",
   "metadata": {},
   "source": [
    "2. DATA PREPROCESSING"
   ]
  },
  {
   "cell_type": "markdown",
   "id": "c60ff6d7",
   "metadata": {},
   "source": [
    "FEATURE ENGINEERING\n",
    "\n",
    "I will now create new features from the inv_df and add them later in the us_df "
   ]
  },
  {
   "cell_type": "code",
   "execution_count": 427,
   "id": "50f4745e",
   "metadata": {},
   "outputs": [
    {
     "data": {
      "text/plain": [
       "user_id\n",
       "1     717.788333\n",
       "2    1093.234286\n",
       "3    2274.388182\n",
       "4    1756.371765\n",
       "5    2367.912222\n",
       "Name: avg_investment, dtype: float64"
      ]
     },
     "execution_count": 427,
     "metadata": {},
     "output_type": "execute_result"
    }
   ],
   "source": [
    "#Getting the avg_investment per user - this will help us know how much each user invests on average. A highere avg_investment means that the user is more likely to invest more money and thus is a better candidate for the investment program.\n",
    "avg_investment = inv_df.groupby('user_id')['amount_invested'].mean().rename('avg_investment')\n",
    "avg_investment.head()"
   ]
  },
  {
   "cell_type": "code",
   "execution_count": 428,
   "id": "6a22c1d9",
   "metadata": {},
   "outputs": [
    {
     "data": {
      "text/plain": [
       "user_id\n",
       "1    3.476667\n",
       "2    0.785714\n",
       "3    7.065455\n",
       "4    1.881176\n",
       "5    4.346667\n",
       "Name: avg_return_percent, dtype: float64"
      ]
     },
     "execution_count": 428,
     "metadata": {},
     "output_type": "execute_result"
    }
   ],
   "source": [
    "#Getting the avg_return_percent per user - this will help us know how much each user earns on average. A higher return percent indicates a better investment thus translatind to the company earning more.\n",
    "avg_return_percent = inv_df.groupby('user_id')['return_percent'].mean().rename('avg_return_percent')\n",
    "avg_return_percent.head()"
   ]
  },
  {
   "cell_type": "code",
   "execution_count": 429,
   "id": "26a4521c",
   "metadata": {},
   "outputs": [
    {
     "data": {
      "text/plain": [
       "user_id\n",
       "1           None\n",
       "2    Commodities\n",
       "3         Crypto\n",
       "4    Commodities\n",
       "5            ETF\n",
       "Name: dominant_category, dtype: object"
      ]
     },
     "execution_count": 429,
     "metadata": {},
     "output_type": "execute_result"
    }
   ],
   "source": [
    "# Create dominant_category with fallback to 'None' if all counts are 0\n",
    "def mode_cat(series):\n",
    "    mode_vals = series.mode()\n",
    "    return mode_vals[0] if len(mode_vals) == 1 else 'None'\n",
    "\n",
    "#Using the function to get the dominant category of investment per user\n",
    "dominant_cateogory = inv_df.groupby('user_id')['category'].agg(mode_cat).rename('dominant_category')\n",
    "dominant_cateogory.head()"
   ]
  },
  {
   "cell_type": "code",
   "execution_count": 430,
   "id": "60f00774",
   "metadata": {},
   "outputs": [
    {
     "data": {
      "application/vnd.microsoft.datawrangler.viewer.v0+json": {
       "columns": [
        {
         "name": "index",
         "rawType": "int64",
         "type": "integer"
        },
        {
         "name": "user_id",
         "rawType": "int64",
         "type": "integer"
        },
        {
         "name": "age",
         "rawType": "int64",
         "type": "integer"
        },
        {
         "name": "income_level",
         "rawType": "object",
         "type": "string"
        },
        {
         "name": "investment_experience",
         "rawType": "object",
         "type": "string"
        },
        {
         "name": "num_investments",
         "rawType": "int64",
         "type": "integer"
        },
        {
         "name": "total_invested",
         "rawType": "float64",
         "type": "float"
        },
        {
         "name": "avg_investment",
         "rawType": "float64",
         "type": "float"
        },
        {
         "name": "avg_return_percent",
         "rawType": "float64",
         "type": "float"
        },
        {
         "name": "dominant_category",
         "rawType": "object",
         "type": "string"
        }
       ],
       "conversionMethod": "pd.DataFrame",
       "ref": "8952550f-22f4-4e3c-aa9b-788970db7d72",
       "rows": [
        [
         "0",
         "1",
         "58",
         "Low",
         "Novice",
         "6",
         "4306.73",
         "717.7883333333333",
         "3.4766666666666666",
         "None"
        ],
        [
         "1",
         "2",
         "32",
         "Medium",
         "Intermediate",
         "14",
         "15305.28",
         "1093.2342857142858",
         "0.7857142857142859",
         "Commodities"
        ],
        [
         "2",
         "3",
         "52",
         "Medium",
         "Novice",
         "11",
         "25018.27",
         "2274.3881818181817",
         "7.065454545454545",
         "Crypto"
        ],
        [
         "3",
         "4",
         "23",
         "Low",
         "Intermediate",
         "17",
         "29858.32",
         "1756.3717647058822",
         "1.881176470588235",
         "Commodities"
        ],
        [
         "4",
         "5",
         "53",
         "Medium",
         "Intermediate",
         "18",
         "42622.42",
         "2367.912222222222",
         "4.346666666666667",
         "ETF"
        ]
       ],
       "shape": {
        "columns": 9,
        "rows": 5
       }
      },
      "text/html": [
       "<div>\n",
       "<style scoped>\n",
       "    .dataframe tbody tr th:only-of-type {\n",
       "        vertical-align: middle;\n",
       "    }\n",
       "\n",
       "    .dataframe tbody tr th {\n",
       "        vertical-align: top;\n",
       "    }\n",
       "\n",
       "    .dataframe thead th {\n",
       "        text-align: right;\n",
       "    }\n",
       "</style>\n",
       "<table border=\"1\" class=\"dataframe\">\n",
       "  <thead>\n",
       "    <tr style=\"text-align: right;\">\n",
       "      <th></th>\n",
       "      <th>user_id</th>\n",
       "      <th>age</th>\n",
       "      <th>income_level</th>\n",
       "      <th>investment_experience</th>\n",
       "      <th>num_investments</th>\n",
       "      <th>total_invested</th>\n",
       "      <th>avg_investment</th>\n",
       "      <th>avg_return_percent</th>\n",
       "      <th>dominant_category</th>\n",
       "    </tr>\n",
       "  </thead>\n",
       "  <tbody>\n",
       "    <tr>\n",
       "      <th>0</th>\n",
       "      <td>1</td>\n",
       "      <td>58</td>\n",
       "      <td>Low</td>\n",
       "      <td>Novice</td>\n",
       "      <td>6</td>\n",
       "      <td>4306.73</td>\n",
       "      <td>717.788333</td>\n",
       "      <td>3.476667</td>\n",
       "      <td>None</td>\n",
       "    </tr>\n",
       "    <tr>\n",
       "      <th>1</th>\n",
       "      <td>2</td>\n",
       "      <td>32</td>\n",
       "      <td>Medium</td>\n",
       "      <td>Intermediate</td>\n",
       "      <td>14</td>\n",
       "      <td>15305.28</td>\n",
       "      <td>1093.234286</td>\n",
       "      <td>0.785714</td>\n",
       "      <td>Commodities</td>\n",
       "    </tr>\n",
       "    <tr>\n",
       "      <th>2</th>\n",
       "      <td>3</td>\n",
       "      <td>52</td>\n",
       "      <td>Medium</td>\n",
       "      <td>Novice</td>\n",
       "      <td>11</td>\n",
       "      <td>25018.27</td>\n",
       "      <td>2274.388182</td>\n",
       "      <td>7.065455</td>\n",
       "      <td>Crypto</td>\n",
       "    </tr>\n",
       "    <tr>\n",
       "      <th>3</th>\n",
       "      <td>4</td>\n",
       "      <td>23</td>\n",
       "      <td>Low</td>\n",
       "      <td>Intermediate</td>\n",
       "      <td>17</td>\n",
       "      <td>29858.32</td>\n",
       "      <td>1756.371765</td>\n",
       "      <td>1.881176</td>\n",
       "      <td>Commodities</td>\n",
       "    </tr>\n",
       "    <tr>\n",
       "      <th>4</th>\n",
       "      <td>5</td>\n",
       "      <td>53</td>\n",
       "      <td>Medium</td>\n",
       "      <td>Intermediate</td>\n",
       "      <td>18</td>\n",
       "      <td>42622.42</td>\n",
       "      <td>2367.912222</td>\n",
       "      <td>4.346667</td>\n",
       "      <td>ETF</td>\n",
       "    </tr>\n",
       "  </tbody>\n",
       "</table>\n",
       "</div>"
      ],
      "text/plain": [
       "   user_id  age income_level investment_experience  num_investments  \\\n",
       "0        1   58          Low                Novice                6   \n",
       "1        2   32       Medium          Intermediate               14   \n",
       "2        3   52       Medium                Novice               11   \n",
       "3        4   23          Low          Intermediate               17   \n",
       "4        5   53       Medium          Intermediate               18   \n",
       "\n",
       "   total_invested  avg_investment  avg_return_percent dominant_category  \n",
       "0         4306.73      717.788333            3.476667              None  \n",
       "1        15305.28     1093.234286            0.785714       Commodities  \n",
       "2        25018.27     2274.388182            7.065455            Crypto  \n",
       "3        29858.32     1756.371765            1.881176       Commodities  \n",
       "4        42622.42     2367.912222            4.346667               ETF  "
      ]
     },
     "execution_count": 430,
     "metadata": {},
     "output_type": "execute_result"
    }
   ],
   "source": [
    "#Merging the new created features with the users dataset to get a complete dataset of the users and their investment behaviour.\n",
    "inv_features = pd.concat([avg_investment, avg_return_percent, dominant_cateogory], axis=1)\n",
    "us_df_modified = us_df.merge(inv_features, on='user_id', how='left')\n",
    "us_df_modified.head()"
   ]
  },
  {
   "cell_type": "code",
   "execution_count": 431,
   "id": "58449672",
   "metadata": {},
   "outputs": [
    {
     "data": {
      "application/vnd.microsoft.datawrangler.viewer.v0+json": {
       "columns": [
        {
         "name": "index",
         "rawType": "int64",
         "type": "integer"
        },
        {
         "name": "user_id",
         "rawType": "int64",
         "type": "integer"
        },
        {
         "name": "age",
         "rawType": "int64",
         "type": "integer"
        },
        {
         "name": "income_level",
         "rawType": "object",
         "type": "string"
        },
        {
         "name": "investment_experience",
         "rawType": "object",
         "type": "string"
        },
        {
         "name": "num_investments",
         "rawType": "int64",
         "type": "integer"
        },
        {
         "name": "total_invested",
         "rawType": "float64",
         "type": "float"
        },
        {
         "name": "avg_investment",
         "rawType": "float64",
         "type": "float"
        },
        {
         "name": "avg_return_percent",
         "rawType": "float64",
         "type": "float"
        },
        {
         "name": "dominant_category",
         "rawType": "object",
         "type": "string"
        },
        {
         "name": "return_per_investment",
         "rawType": "float64",
         "type": "float"
        }
       ],
       "conversionMethod": "pd.DataFrame",
       "ref": "f2f1b2d2-bf02-43bf-a61b-15b2158bf317",
       "rows": [
        [
         "0",
         "1",
         "58",
         "Low",
         "Novice",
         "6",
         "4306.73",
         "717.7883333333333",
         "3.4766666666666666",
         "None",
         "2495.510772222222"
        ],
        [
         "1",
         "2",
         "32",
         "Medium",
         "Intermediate",
         "14",
         "15305.28",
         "1093.2342857142858",
         "0.7857142857142859",
         "Commodities",
         "858.9697959183676"
        ],
        [
         "2",
         "3",
         "52",
         "Medium",
         "Novice",
         "11",
         "25018.27",
         "2274.3881818181817",
         "7.065454545454545",
         "Crypto",
         "16069.586317355372"
        ],
        [
         "3",
         "4",
         "23",
         "Low",
         "Intermediate",
         "17",
         "29858.32",
         "1756.3717647058822",
         "1.881176470588235",
         "Commodities",
         "3304.0452373702415"
        ],
        [
         "4",
         "5",
         "53",
         "Medium",
         "Intermediate",
         "18",
         "42622.42",
         "2367.912222222222",
         "4.346666666666667",
         "ETF",
         "10292.525125925926"
        ]
       ],
       "shape": {
        "columns": 10,
        "rows": 5
       }
      },
      "text/html": [
       "<div>\n",
       "<style scoped>\n",
       "    .dataframe tbody tr th:only-of-type {\n",
       "        vertical-align: middle;\n",
       "    }\n",
       "\n",
       "    .dataframe tbody tr th {\n",
       "        vertical-align: top;\n",
       "    }\n",
       "\n",
       "    .dataframe thead th {\n",
       "        text-align: right;\n",
       "    }\n",
       "</style>\n",
       "<table border=\"1\" class=\"dataframe\">\n",
       "  <thead>\n",
       "    <tr style=\"text-align: right;\">\n",
       "      <th></th>\n",
       "      <th>user_id</th>\n",
       "      <th>age</th>\n",
       "      <th>income_level</th>\n",
       "      <th>investment_experience</th>\n",
       "      <th>num_investments</th>\n",
       "      <th>total_invested</th>\n",
       "      <th>avg_investment</th>\n",
       "      <th>avg_return_percent</th>\n",
       "      <th>dominant_category</th>\n",
       "      <th>return_per_investment</th>\n",
       "    </tr>\n",
       "  </thead>\n",
       "  <tbody>\n",
       "    <tr>\n",
       "      <th>0</th>\n",
       "      <td>1</td>\n",
       "      <td>58</td>\n",
       "      <td>Low</td>\n",
       "      <td>Novice</td>\n",
       "      <td>6</td>\n",
       "      <td>4306.73</td>\n",
       "      <td>717.788333</td>\n",
       "      <td>3.476667</td>\n",
       "      <td>None</td>\n",
       "      <td>2495.510772</td>\n",
       "    </tr>\n",
       "    <tr>\n",
       "      <th>1</th>\n",
       "      <td>2</td>\n",
       "      <td>32</td>\n",
       "      <td>Medium</td>\n",
       "      <td>Intermediate</td>\n",
       "      <td>14</td>\n",
       "      <td>15305.28</td>\n",
       "      <td>1093.234286</td>\n",
       "      <td>0.785714</td>\n",
       "      <td>Commodities</td>\n",
       "      <td>858.969796</td>\n",
       "    </tr>\n",
       "    <tr>\n",
       "      <th>2</th>\n",
       "      <td>3</td>\n",
       "      <td>52</td>\n",
       "      <td>Medium</td>\n",
       "      <td>Novice</td>\n",
       "      <td>11</td>\n",
       "      <td>25018.27</td>\n",
       "      <td>2274.388182</td>\n",
       "      <td>7.065455</td>\n",
       "      <td>Crypto</td>\n",
       "      <td>16069.586317</td>\n",
       "    </tr>\n",
       "    <tr>\n",
       "      <th>3</th>\n",
       "      <td>4</td>\n",
       "      <td>23</td>\n",
       "      <td>Low</td>\n",
       "      <td>Intermediate</td>\n",
       "      <td>17</td>\n",
       "      <td>29858.32</td>\n",
       "      <td>1756.371765</td>\n",
       "      <td>1.881176</td>\n",
       "      <td>Commodities</td>\n",
       "      <td>3304.045237</td>\n",
       "    </tr>\n",
       "    <tr>\n",
       "      <th>4</th>\n",
       "      <td>5</td>\n",
       "      <td>53</td>\n",
       "      <td>Medium</td>\n",
       "      <td>Intermediate</td>\n",
       "      <td>18</td>\n",
       "      <td>42622.42</td>\n",
       "      <td>2367.912222</td>\n",
       "      <td>4.346667</td>\n",
       "      <td>ETF</td>\n",
       "      <td>10292.525126</td>\n",
       "    </tr>\n",
       "  </tbody>\n",
       "</table>\n",
       "</div>"
      ],
      "text/plain": [
       "   user_id  age income_level investment_experience  num_investments  \\\n",
       "0        1   58          Low                Novice                6   \n",
       "1        2   32       Medium          Intermediate               14   \n",
       "2        3   52       Medium                Novice               11   \n",
       "3        4   23          Low          Intermediate               17   \n",
       "4        5   53       Medium          Intermediate               18   \n",
       "\n",
       "   total_invested  avg_investment  avg_return_percent dominant_category  \\\n",
       "0         4306.73      717.788333            3.476667              None   \n",
       "1        15305.28     1093.234286            0.785714       Commodities   \n",
       "2        25018.27     2274.388182            7.065455            Crypto   \n",
       "3        29858.32     1756.371765            1.881176       Commodities   \n",
       "4        42622.42     2367.912222            4.346667               ETF   \n",
       "\n",
       "   return_per_investment  \n",
       "0            2495.510772  \n",
       "1             858.969796  \n",
       "2           16069.586317  \n",
       "3            3304.045237  \n",
       "4           10292.525126  "
      ]
     },
     "execution_count": 431,
     "metadata": {},
     "output_type": "execute_result"
    }
   ],
   "source": [
    "# Return Per Investment (performance per transaction)\n",
    "us_df_modified['return_per_investment'] = us_df_modified['avg_investment'] * us_df_modified['avg_return_percent']\n",
    "us_df_modified.head()"
   ]
  },
  {
   "cell_type": "code",
   "execution_count": 432,
   "id": "15fba165",
   "metadata": {},
   "outputs": [
    {
     "name": "stdout",
     "output_type": "stream",
     "text": [
      "New dataset saved to users_investments.csv\n"
     ]
    }
   ],
   "source": [
    "#Saving the new dataset to a csv file\n",
    "us_df_modified.to_csv(r\"/Users/treva.ogwang/Desktop/Codes/investment/users_investments.csv\", index=False)\n",
    "print(\"New dataset saved to users_investments.csv\")"
   ]
  },
  {
   "cell_type": "code",
   "execution_count": 433,
   "id": "cbc4a6a7",
   "metadata": {},
   "outputs": [
    {
     "data": {
      "text/plain": [
       "array(['Novice', 'Intermediate', 'Expert'], dtype=object)"
      ]
     },
     "execution_count": 433,
     "metadata": {},
     "output_type": "execute_result"
    }
   ],
   "source": [
    "#Checking the number of unique values in the investment_experince column\n",
    "us_df_modified['investment_experience'].unique()"
   ]
  },
  {
   "cell_type": "code",
   "execution_count": 434,
   "id": "461fd02c",
   "metadata": {},
   "outputs": [
    {
     "data": {
      "text/plain": [
       "array(['Low', 'Medium', 'High'], dtype=object)"
      ]
     },
     "execution_count": 434,
     "metadata": {},
     "output_type": "execute_result"
    }
   ],
   "source": [
    "us_df_modified['income_level'].unique()"
   ]
  },
  {
   "cell_type": "markdown",
   "id": "5f4a578e",
   "metadata": {},
   "source": [
    "Encoding"
   ]
  },
  {
   "cell_type": "code",
   "execution_count": 435,
   "id": "6cf96c79",
   "metadata": {},
   "outputs": [
    {
     "data": {
      "application/vnd.microsoft.datawrangler.viewer.v0+json": {
       "columns": [
        {
         "name": "index",
         "rawType": "int64",
         "type": "integer"
        },
        {
         "name": "user_id",
         "rawType": "int64",
         "type": "integer"
        },
        {
         "name": "age",
         "rawType": "int64",
         "type": "integer"
        },
        {
         "name": "num_investments",
         "rawType": "int64",
         "type": "integer"
        },
        {
         "name": "total_invested",
         "rawType": "float64",
         "type": "float"
        },
        {
         "name": "avg_investment",
         "rawType": "float64",
         "type": "float"
        },
        {
         "name": "avg_return_percent",
         "rawType": "float64",
         "type": "float"
        },
        {
         "name": "return_per_investment",
         "rawType": "float64",
         "type": "float"
        },
        {
         "name": "income_level_encoded",
         "rawType": "int64",
         "type": "integer"
        },
        {
         "name": "investment_experience_encoded",
         "rawType": "int64",
         "type": "integer"
        },
        {
         "name": "category_Bond",
         "rawType": "int64",
         "type": "integer"
        },
        {
         "name": "category_Commodities",
         "rawType": "int64",
         "type": "integer"
        },
        {
         "name": "category_Crypto",
         "rawType": "int64",
         "type": "integer"
        },
        {
         "name": "category_ETF",
         "rawType": "int64",
         "type": "integer"
        },
        {
         "name": "category_Index Fund",
         "rawType": "int64",
         "type": "integer"
        },
        {
         "name": "category_None",
         "rawType": "int64",
         "type": "integer"
        },
        {
         "name": "category_Real Estate",
         "rawType": "int64",
         "type": "integer"
        },
        {
         "name": "category_Stock",
         "rawType": "int64",
         "type": "integer"
        }
       ],
       "conversionMethod": "pd.DataFrame",
       "ref": "56e665f3-cd65-4dca-80eb-8dc3152178f1",
       "rows": [
        [
         "0",
         "1",
         "58",
         "6",
         "4306.73",
         "717.7883333333333",
         "3.4766666666666666",
         "2495.510772222222",
         "1",
         "1",
         "0",
         "0",
         "0",
         "0",
         "0",
         "1",
         "0",
         "0"
        ],
        [
         "1",
         "2",
         "32",
         "14",
         "15305.28",
         "1093.2342857142858",
         "0.7857142857142859",
         "858.9697959183676",
         "2",
         "2",
         "0",
         "1",
         "0",
         "0",
         "0",
         "0",
         "0",
         "0"
        ],
        [
         "2",
         "3",
         "52",
         "11",
         "25018.27",
         "2274.3881818181817",
         "7.065454545454545",
         "16069.586317355372",
         "2",
         "1",
         "0",
         "0",
         "1",
         "0",
         "0",
         "0",
         "0",
         "0"
        ],
        [
         "3",
         "4",
         "23",
         "17",
         "29858.32",
         "1756.3717647058822",
         "1.881176470588235",
         "3304.0452373702415",
         "1",
         "2",
         "0",
         "1",
         "0",
         "0",
         "0",
         "0",
         "0",
         "0"
        ],
        [
         "4",
         "5",
         "53",
         "18",
         "42622.42",
         "2367.912222222222",
         "4.346666666666667",
         "10292.525125925926",
         "2",
         "2",
         "0",
         "0",
         "0",
         "1",
         "0",
         "0",
         "0",
         "0"
        ]
       ],
       "shape": {
        "columns": 17,
        "rows": 5
       }
      },
      "text/html": [
       "<div>\n",
       "<style scoped>\n",
       "    .dataframe tbody tr th:only-of-type {\n",
       "        vertical-align: middle;\n",
       "    }\n",
       "\n",
       "    .dataframe tbody tr th {\n",
       "        vertical-align: top;\n",
       "    }\n",
       "\n",
       "    .dataframe thead th {\n",
       "        text-align: right;\n",
       "    }\n",
       "</style>\n",
       "<table border=\"1\" class=\"dataframe\">\n",
       "  <thead>\n",
       "    <tr style=\"text-align: right;\">\n",
       "      <th></th>\n",
       "      <th>user_id</th>\n",
       "      <th>age</th>\n",
       "      <th>num_investments</th>\n",
       "      <th>total_invested</th>\n",
       "      <th>avg_investment</th>\n",
       "      <th>avg_return_percent</th>\n",
       "      <th>return_per_investment</th>\n",
       "      <th>income_level_encoded</th>\n",
       "      <th>investment_experience_encoded</th>\n",
       "      <th>category_Bond</th>\n",
       "      <th>category_Commodities</th>\n",
       "      <th>category_Crypto</th>\n",
       "      <th>category_ETF</th>\n",
       "      <th>category_Index Fund</th>\n",
       "      <th>category_None</th>\n",
       "      <th>category_Real Estate</th>\n",
       "      <th>category_Stock</th>\n",
       "    </tr>\n",
       "  </thead>\n",
       "  <tbody>\n",
       "    <tr>\n",
       "      <th>0</th>\n",
       "      <td>1</td>\n",
       "      <td>58</td>\n",
       "      <td>6</td>\n",
       "      <td>4306.73</td>\n",
       "      <td>717.788333</td>\n",
       "      <td>3.476667</td>\n",
       "      <td>2495.510772</td>\n",
       "      <td>1</td>\n",
       "      <td>1</td>\n",
       "      <td>0</td>\n",
       "      <td>0</td>\n",
       "      <td>0</td>\n",
       "      <td>0</td>\n",
       "      <td>0</td>\n",
       "      <td>1</td>\n",
       "      <td>0</td>\n",
       "      <td>0</td>\n",
       "    </tr>\n",
       "    <tr>\n",
       "      <th>1</th>\n",
       "      <td>2</td>\n",
       "      <td>32</td>\n",
       "      <td>14</td>\n",
       "      <td>15305.28</td>\n",
       "      <td>1093.234286</td>\n",
       "      <td>0.785714</td>\n",
       "      <td>858.969796</td>\n",
       "      <td>2</td>\n",
       "      <td>2</td>\n",
       "      <td>0</td>\n",
       "      <td>1</td>\n",
       "      <td>0</td>\n",
       "      <td>0</td>\n",
       "      <td>0</td>\n",
       "      <td>0</td>\n",
       "      <td>0</td>\n",
       "      <td>0</td>\n",
       "    </tr>\n",
       "    <tr>\n",
       "      <th>2</th>\n",
       "      <td>3</td>\n",
       "      <td>52</td>\n",
       "      <td>11</td>\n",
       "      <td>25018.27</td>\n",
       "      <td>2274.388182</td>\n",
       "      <td>7.065455</td>\n",
       "      <td>16069.586317</td>\n",
       "      <td>2</td>\n",
       "      <td>1</td>\n",
       "      <td>0</td>\n",
       "      <td>0</td>\n",
       "      <td>1</td>\n",
       "      <td>0</td>\n",
       "      <td>0</td>\n",
       "      <td>0</td>\n",
       "      <td>0</td>\n",
       "      <td>0</td>\n",
       "    </tr>\n",
       "    <tr>\n",
       "      <th>3</th>\n",
       "      <td>4</td>\n",
       "      <td>23</td>\n",
       "      <td>17</td>\n",
       "      <td>29858.32</td>\n",
       "      <td>1756.371765</td>\n",
       "      <td>1.881176</td>\n",
       "      <td>3304.045237</td>\n",
       "      <td>1</td>\n",
       "      <td>2</td>\n",
       "      <td>0</td>\n",
       "      <td>1</td>\n",
       "      <td>0</td>\n",
       "      <td>0</td>\n",
       "      <td>0</td>\n",
       "      <td>0</td>\n",
       "      <td>0</td>\n",
       "      <td>0</td>\n",
       "    </tr>\n",
       "    <tr>\n",
       "      <th>4</th>\n",
       "      <td>5</td>\n",
       "      <td>53</td>\n",
       "      <td>18</td>\n",
       "      <td>42622.42</td>\n",
       "      <td>2367.912222</td>\n",
       "      <td>4.346667</td>\n",
       "      <td>10292.525126</td>\n",
       "      <td>2</td>\n",
       "      <td>2</td>\n",
       "      <td>0</td>\n",
       "      <td>0</td>\n",
       "      <td>0</td>\n",
       "      <td>1</td>\n",
       "      <td>0</td>\n",
       "      <td>0</td>\n",
       "      <td>0</td>\n",
       "      <td>0</td>\n",
       "    </tr>\n",
       "  </tbody>\n",
       "</table>\n",
       "</div>"
      ],
      "text/plain": [
       "   user_id  age  num_investments  total_invested  avg_investment  \\\n",
       "0        1   58                6         4306.73      717.788333   \n",
       "1        2   32               14        15305.28     1093.234286   \n",
       "2        3   52               11        25018.27     2274.388182   \n",
       "3        4   23               17        29858.32     1756.371765   \n",
       "4        5   53               18        42622.42     2367.912222   \n",
       "\n",
       "   avg_return_percent  return_per_investment  income_level_encoded  \\\n",
       "0            3.476667            2495.510772                     1   \n",
       "1            0.785714             858.969796                     2   \n",
       "2            7.065455           16069.586317                     2   \n",
       "3            1.881176            3304.045237                     1   \n",
       "4            4.346667           10292.525126                     2   \n",
       "\n",
       "   investment_experience_encoded  category_Bond  category_Commodities  \\\n",
       "0                              1              0                     0   \n",
       "1                              2              0                     1   \n",
       "2                              1              0                     0   \n",
       "3                              2              0                     1   \n",
       "4                              2              0                     0   \n",
       "\n",
       "   category_Crypto  category_ETF  category_Index Fund  category_None  \\\n",
       "0                0             0                    0              1   \n",
       "1                0             0                    0              0   \n",
       "2                1             0                    0              0   \n",
       "3                0             0                    0              0   \n",
       "4                0             1                    0              0   \n",
       "\n",
       "   category_Real Estate  category_Stock  \n",
       "0                     0               0  \n",
       "1                     0               0  \n",
       "2                     0               0  \n",
       "3                     0               0  \n",
       "4                     0               0  "
      ]
     },
     "execution_count": 435,
     "metadata": {},
     "output_type": "execute_result"
    }
   ],
   "source": [
    "#We will use 2 encoding techniques to encode the categorical variables in the dataset. The first one is ordinal encoding which is used for ordinal categorical variables. The second one is one-hot encoding which is used for nominal categorical variables. \n",
    "\n",
    "us_df_encoded = us_df_modified.copy()\n",
    "\n",
    "#Ordinal Encoding\n",
    "#Defining the mapping for the ordinal categorical variables\n",
    "income_order = {'Low': 1, 'Medium': 2, 'High': 3}\n",
    "investment_order = {'Novice': 1, 'Intermediate': 2, 'Expert': 3}\n",
    "dominant_risk_order = {'None': 1, 'Low': 2, 'Medium': 3, 'High': 4}\n",
    "\n",
    "#Applying the mapping to the ordinal categorical variables\n",
    "us_df_encoded['income_level_encoded'] = us_df_encoded['income_level'].map(income_order)\n",
    "us_df_encoded['investment_experience_encoded'] = us_df_encoded['investment_experience'].map(investment_order)\n",
    "\n",
    "# One-hot encode dominant_category\n",
    "dominant_category_encoded = pd.get_dummies(us_df_modified['dominant_category'], prefix='category', dtype='int')\n",
    "us_df_encoded = pd.concat([us_df_encoded, dominant_category_encoded], axis=1)\n",
    "\n",
    "#Dropping the original categorical columns from the dataset\n",
    "us_df_encoded.drop(columns=['dominant_category', 'income_level', 'investment_experience'], inplace=True)\n",
    "\n",
    "us_df_encoded.head()"
   ]
  },
  {
   "cell_type": "code",
   "execution_count": 436,
   "id": "45cadf6b",
   "metadata": {},
   "outputs": [
    {
     "data": {
      "text/plain": [
       "(10000, 17)"
      ]
     },
     "execution_count": 436,
     "metadata": {},
     "output_type": "execute_result"
    }
   ],
   "source": [
    "us_df_encoded.shape"
   ]
  },
  {
   "cell_type": "code",
   "execution_count": 437,
   "id": "f79fca91",
   "metadata": {},
   "outputs": [
    {
     "data": {
      "application/vnd.microsoft.datawrangler.viewer.v0+json": {
       "columns": [
        {
         "name": "index",
         "rawType": "int64",
         "type": "integer"
        },
        {
         "name": "age",
         "rawType": "int64",
         "type": "integer"
        },
        {
         "name": "num_investments",
         "rawType": "int64",
         "type": "integer"
        },
        {
         "name": "total_invested",
         "rawType": "float64",
         "type": "float"
        },
        {
         "name": "avg_investment",
         "rawType": "float64",
         "type": "float"
        },
        {
         "name": "avg_return_percent",
         "rawType": "float64",
         "type": "float"
        },
        {
         "name": "return_per_investment",
         "rawType": "float64",
         "type": "float"
        },
        {
         "name": "income_level_encoded",
         "rawType": "int64",
         "type": "integer"
        },
        {
         "name": "investment_experience_encoded",
         "rawType": "int64",
         "type": "integer"
        },
        {
         "name": "category_Bond",
         "rawType": "int64",
         "type": "integer"
        },
        {
         "name": "category_Commodities",
         "rawType": "int64",
         "type": "integer"
        },
        {
         "name": "category_Crypto",
         "rawType": "int64",
         "type": "integer"
        },
        {
         "name": "category_ETF",
         "rawType": "int64",
         "type": "integer"
        },
        {
         "name": "category_Index Fund",
         "rawType": "int64",
         "type": "integer"
        },
        {
         "name": "category_None",
         "rawType": "int64",
         "type": "integer"
        },
        {
         "name": "category_Real Estate",
         "rawType": "int64",
         "type": "integer"
        },
        {
         "name": "category_Stock",
         "rawType": "int64",
         "type": "integer"
        }
       ],
       "conversionMethod": "pd.DataFrame",
       "ref": "553abd73-2637-4079-b30b-cfe068def3f4",
       "rows": [
        [
         "0",
         "58",
         "6",
         "4306.73",
         "717.7883333333333",
         "3.4766666666666666",
         "2495.510772222222",
         "1",
         "1",
         "0",
         "0",
         "0",
         "0",
         "0",
         "1",
         "0",
         "0"
        ],
        [
         "1",
         "32",
         "14",
         "15305.28",
         "1093.2342857142858",
         "0.7857142857142859",
         "858.9697959183676",
         "2",
         "2",
         "0",
         "1",
         "0",
         "0",
         "0",
         "0",
         "0",
         "0"
        ],
        [
         "2",
         "52",
         "11",
         "25018.27",
         "2274.3881818181817",
         "7.065454545454545",
         "16069.586317355372",
         "2",
         "1",
         "0",
         "0",
         "1",
         "0",
         "0",
         "0",
         "0",
         "0"
        ],
        [
         "3",
         "23",
         "17",
         "29858.32",
         "1756.3717647058822",
         "1.881176470588235",
         "3304.0452373702415",
         "1",
         "2",
         "0",
         "1",
         "0",
         "0",
         "0",
         "0",
         "0",
         "0"
        ],
        [
         "4",
         "53",
         "18",
         "42622.42",
         "2367.912222222222",
         "4.346666666666667",
         "10292.525125925926",
         "2",
         "2",
         "0",
         "0",
         "0",
         "1",
         "0",
         "0",
         "0",
         "0"
        ]
       ],
       "shape": {
        "columns": 16,
        "rows": 5
       }
      },
      "text/html": [
       "<div>\n",
       "<style scoped>\n",
       "    .dataframe tbody tr th:only-of-type {\n",
       "        vertical-align: middle;\n",
       "    }\n",
       "\n",
       "    .dataframe tbody tr th {\n",
       "        vertical-align: top;\n",
       "    }\n",
       "\n",
       "    .dataframe thead th {\n",
       "        text-align: right;\n",
       "    }\n",
       "</style>\n",
       "<table border=\"1\" class=\"dataframe\">\n",
       "  <thead>\n",
       "    <tr style=\"text-align: right;\">\n",
       "      <th></th>\n",
       "      <th>age</th>\n",
       "      <th>num_investments</th>\n",
       "      <th>total_invested</th>\n",
       "      <th>avg_investment</th>\n",
       "      <th>avg_return_percent</th>\n",
       "      <th>return_per_investment</th>\n",
       "      <th>income_level_encoded</th>\n",
       "      <th>investment_experience_encoded</th>\n",
       "      <th>category_Bond</th>\n",
       "      <th>category_Commodities</th>\n",
       "      <th>category_Crypto</th>\n",
       "      <th>category_ETF</th>\n",
       "      <th>category_Index Fund</th>\n",
       "      <th>category_None</th>\n",
       "      <th>category_Real Estate</th>\n",
       "      <th>category_Stock</th>\n",
       "    </tr>\n",
       "  </thead>\n",
       "  <tbody>\n",
       "    <tr>\n",
       "      <th>0</th>\n",
       "      <td>58</td>\n",
       "      <td>6</td>\n",
       "      <td>4306.73</td>\n",
       "      <td>717.788333</td>\n",
       "      <td>3.476667</td>\n",
       "      <td>2495.510772</td>\n",
       "      <td>1</td>\n",
       "      <td>1</td>\n",
       "      <td>0</td>\n",
       "      <td>0</td>\n",
       "      <td>0</td>\n",
       "      <td>0</td>\n",
       "      <td>0</td>\n",
       "      <td>1</td>\n",
       "      <td>0</td>\n",
       "      <td>0</td>\n",
       "    </tr>\n",
       "    <tr>\n",
       "      <th>1</th>\n",
       "      <td>32</td>\n",
       "      <td>14</td>\n",
       "      <td>15305.28</td>\n",
       "      <td>1093.234286</td>\n",
       "      <td>0.785714</td>\n",
       "      <td>858.969796</td>\n",
       "      <td>2</td>\n",
       "      <td>2</td>\n",
       "      <td>0</td>\n",
       "      <td>1</td>\n",
       "      <td>0</td>\n",
       "      <td>0</td>\n",
       "      <td>0</td>\n",
       "      <td>0</td>\n",
       "      <td>0</td>\n",
       "      <td>0</td>\n",
       "    </tr>\n",
       "    <tr>\n",
       "      <th>2</th>\n",
       "      <td>52</td>\n",
       "      <td>11</td>\n",
       "      <td>25018.27</td>\n",
       "      <td>2274.388182</td>\n",
       "      <td>7.065455</td>\n",
       "      <td>16069.586317</td>\n",
       "      <td>2</td>\n",
       "      <td>1</td>\n",
       "      <td>0</td>\n",
       "      <td>0</td>\n",
       "      <td>1</td>\n",
       "      <td>0</td>\n",
       "      <td>0</td>\n",
       "      <td>0</td>\n",
       "      <td>0</td>\n",
       "      <td>0</td>\n",
       "    </tr>\n",
       "    <tr>\n",
       "      <th>3</th>\n",
       "      <td>23</td>\n",
       "      <td>17</td>\n",
       "      <td>29858.32</td>\n",
       "      <td>1756.371765</td>\n",
       "      <td>1.881176</td>\n",
       "      <td>3304.045237</td>\n",
       "      <td>1</td>\n",
       "      <td>2</td>\n",
       "      <td>0</td>\n",
       "      <td>1</td>\n",
       "      <td>0</td>\n",
       "      <td>0</td>\n",
       "      <td>0</td>\n",
       "      <td>0</td>\n",
       "      <td>0</td>\n",
       "      <td>0</td>\n",
       "    </tr>\n",
       "    <tr>\n",
       "      <th>4</th>\n",
       "      <td>53</td>\n",
       "      <td>18</td>\n",
       "      <td>42622.42</td>\n",
       "      <td>2367.912222</td>\n",
       "      <td>4.346667</td>\n",
       "      <td>10292.525126</td>\n",
       "      <td>2</td>\n",
       "      <td>2</td>\n",
       "      <td>0</td>\n",
       "      <td>0</td>\n",
       "      <td>0</td>\n",
       "      <td>1</td>\n",
       "      <td>0</td>\n",
       "      <td>0</td>\n",
       "      <td>0</td>\n",
       "      <td>0</td>\n",
       "    </tr>\n",
       "  </tbody>\n",
       "</table>\n",
       "</div>"
      ],
      "text/plain": [
       "   age  num_investments  total_invested  avg_investment  avg_return_percent  \\\n",
       "0   58                6         4306.73      717.788333            3.476667   \n",
       "1   32               14        15305.28     1093.234286            0.785714   \n",
       "2   52               11        25018.27     2274.388182            7.065455   \n",
       "3   23               17        29858.32     1756.371765            1.881176   \n",
       "4   53               18        42622.42     2367.912222            4.346667   \n",
       "\n",
       "   return_per_investment  income_level_encoded  investment_experience_encoded  \\\n",
       "0            2495.510772                     1                              1   \n",
       "1             858.969796                     2                              2   \n",
       "2           16069.586317                     2                              1   \n",
       "3            3304.045237                     1                              2   \n",
       "4           10292.525126                     2                              2   \n",
       "\n",
       "   category_Bond  category_Commodities  category_Crypto  category_ETF  \\\n",
       "0              0                     0                0             0   \n",
       "1              0                     1                0             0   \n",
       "2              0                     0                1             0   \n",
       "3              0                     1                0             0   \n",
       "4              0                     0                0             1   \n",
       "\n",
       "   category_Index Fund  category_None  category_Real Estate  category_Stock  \n",
       "0                    0              1                     0               0  \n",
       "1                    0              0                     0               0  \n",
       "2                    0              0                     0               0  \n",
       "3                    0              0                     0               0  \n",
       "4                    0              0                     0               0  "
      ]
     },
     "execution_count": 437,
     "metadata": {},
     "output_type": "execute_result"
    }
   ],
   "source": [
    "#Dropping the user_id column from the dataset\n",
    "us_df_encoded.drop(columns=['user_id'], inplace=True)\n",
    "#Checking the final dataset\n",
    "us_df_encoded.head()"
   ]
  },
  {
   "cell_type": "markdown",
   "id": "09cf1c27",
   "metadata": {},
   "source": [
    "Normalizing the data"
   ]
  },
  {
   "cell_type": "code",
   "execution_count": 438,
   "id": "57b9c735",
   "metadata": {},
   "outputs": [
    {
     "data": {
      "application/vnd.microsoft.datawrangler.viewer.v0+json": {
       "columns": [
        {
         "name": "index",
         "rawType": "int64",
         "type": "integer"
        },
        {
         "name": "age",
         "rawType": "float64",
         "type": "float"
        },
        {
         "name": "num_investments",
         "rawType": "float64",
         "type": "float"
        },
        {
         "name": "total_invested",
         "rawType": "float64",
         "type": "float"
        },
        {
         "name": "avg_investment",
         "rawType": "float64",
         "type": "float"
        },
        {
         "name": "avg_return_percent",
         "rawType": "float64",
         "type": "float"
        },
        {
         "name": "return_per_investment",
         "rawType": "float64",
         "type": "float"
        },
        {
         "name": "income_level_encoded",
         "rawType": "float64",
         "type": "float"
        },
        {
         "name": "investment_experience_encoded",
         "rawType": "float64",
         "type": "float"
        },
        {
         "name": "category_Bond",
         "rawType": "float64",
         "type": "float"
        },
        {
         "name": "category_Commodities",
         "rawType": "float64",
         "type": "float"
        },
        {
         "name": "category_Crypto",
         "rawType": "float64",
         "type": "float"
        },
        {
         "name": "category_ETF",
         "rawType": "float64",
         "type": "float"
        },
        {
         "name": "category_Index Fund",
         "rawType": "float64",
         "type": "float"
        },
        {
         "name": "category_None",
         "rawType": "float64",
         "type": "float"
        },
        {
         "name": "category_Real Estate",
         "rawType": "float64",
         "type": "float"
        },
        {
         "name": "category_Stock",
         "rawType": "float64",
         "type": "float"
        }
       ],
       "conversionMethod": "pd.DataFrame",
       "ref": "668cca37-d594-4404-8ead-cab62daf03c3",
       "rows": [
        [
         "0",
         "0.851063829787234",
         "0.06666666666666671",
         "0.04516665294529011",
         "0.08680820141501931",
         "0.45836664282408385",
         "0.33461038741856963",
         "0.0",
         "0.0",
         "0.0",
         "0.0",
         "0.0",
         "0.0",
         "0.0",
         "1.0",
         "0.0",
         "0.0"
        ],
        [
         "1",
         "0.2978723404255319",
         "0.6000000000000001",
         "0.1928814125219268",
         "0.14841299063903715",
         "0.39043331389862296",
         "0.32402117144905057",
         "0.5",
         "0.5",
         "0.0",
         "1.0",
         "0.0",
         "0.0",
         "0.0",
         "0.0",
         "0.0",
         "0.0"
        ],
        [
         "2",
         "0.723404255319149",
         "0.39999999999999997",
         "0.3233306065175241",
         "0.34222181012199704",
         "0.5489659076565292",
         "0.4224412572930394",
         "0.5",
         "0.0",
         "0.0",
         "0.0",
         "1.0",
         "0.0",
         "0.0",
         "0.0",
         "0.0",
         "0.0"
        ],
        [
         "3",
         "0.10638297872340424",
         "0.8",
         "0.3883343408360388",
         "0.2572234448755293",
         "0.4180883528570262",
         "0.33984199859984826",
         "0.0",
         "0.5",
         "0.0",
         "1.0",
         "0.0",
         "0.0",
         "0.0",
         "0.0",
         "0.0",
         "0.0"
        ],
        [
         "4",
         "0.7446808510638298",
         "0.8666666666666667",
         "0.5597611164302896",
         "0.3575676375571625",
         "0.48032986914629533",
         "0.3850608619891976",
         "0.5",
         "0.5",
         "0.0",
         "0.0",
         "0.0",
         "1.0",
         "0.0",
         "0.0",
         "0.0",
         "0.0"
        ]
       ],
       "shape": {
        "columns": 16,
        "rows": 5
       }
      },
      "text/html": [
       "<div>\n",
       "<style scoped>\n",
       "    .dataframe tbody tr th:only-of-type {\n",
       "        vertical-align: middle;\n",
       "    }\n",
       "\n",
       "    .dataframe tbody tr th {\n",
       "        vertical-align: top;\n",
       "    }\n",
       "\n",
       "    .dataframe thead th {\n",
       "        text-align: right;\n",
       "    }\n",
       "</style>\n",
       "<table border=\"1\" class=\"dataframe\">\n",
       "  <thead>\n",
       "    <tr style=\"text-align: right;\">\n",
       "      <th></th>\n",
       "      <th>age</th>\n",
       "      <th>num_investments</th>\n",
       "      <th>total_invested</th>\n",
       "      <th>avg_investment</th>\n",
       "      <th>avg_return_percent</th>\n",
       "      <th>return_per_investment</th>\n",
       "      <th>income_level_encoded</th>\n",
       "      <th>investment_experience_encoded</th>\n",
       "      <th>category_Bond</th>\n",
       "      <th>category_Commodities</th>\n",
       "      <th>category_Crypto</th>\n",
       "      <th>category_ETF</th>\n",
       "      <th>category_Index Fund</th>\n",
       "      <th>category_None</th>\n",
       "      <th>category_Real Estate</th>\n",
       "      <th>category_Stock</th>\n",
       "    </tr>\n",
       "  </thead>\n",
       "  <tbody>\n",
       "    <tr>\n",
       "      <th>0</th>\n",
       "      <td>0.851064</td>\n",
       "      <td>0.066667</td>\n",
       "      <td>0.045167</td>\n",
       "      <td>0.086808</td>\n",
       "      <td>0.458367</td>\n",
       "      <td>0.334610</td>\n",
       "      <td>0.0</td>\n",
       "      <td>0.0</td>\n",
       "      <td>0.0</td>\n",
       "      <td>0.0</td>\n",
       "      <td>0.0</td>\n",
       "      <td>0.0</td>\n",
       "      <td>0.0</td>\n",
       "      <td>1.0</td>\n",
       "      <td>0.0</td>\n",
       "      <td>0.0</td>\n",
       "    </tr>\n",
       "    <tr>\n",
       "      <th>1</th>\n",
       "      <td>0.297872</td>\n",
       "      <td>0.600000</td>\n",
       "      <td>0.192881</td>\n",
       "      <td>0.148413</td>\n",
       "      <td>0.390433</td>\n",
       "      <td>0.324021</td>\n",
       "      <td>0.5</td>\n",
       "      <td>0.5</td>\n",
       "      <td>0.0</td>\n",
       "      <td>1.0</td>\n",
       "      <td>0.0</td>\n",
       "      <td>0.0</td>\n",
       "      <td>0.0</td>\n",
       "      <td>0.0</td>\n",
       "      <td>0.0</td>\n",
       "      <td>0.0</td>\n",
       "    </tr>\n",
       "    <tr>\n",
       "      <th>2</th>\n",
       "      <td>0.723404</td>\n",
       "      <td>0.400000</td>\n",
       "      <td>0.323331</td>\n",
       "      <td>0.342222</td>\n",
       "      <td>0.548966</td>\n",
       "      <td>0.422441</td>\n",
       "      <td>0.5</td>\n",
       "      <td>0.0</td>\n",
       "      <td>0.0</td>\n",
       "      <td>0.0</td>\n",
       "      <td>1.0</td>\n",
       "      <td>0.0</td>\n",
       "      <td>0.0</td>\n",
       "      <td>0.0</td>\n",
       "      <td>0.0</td>\n",
       "      <td>0.0</td>\n",
       "    </tr>\n",
       "    <tr>\n",
       "      <th>3</th>\n",
       "      <td>0.106383</td>\n",
       "      <td>0.800000</td>\n",
       "      <td>0.388334</td>\n",
       "      <td>0.257223</td>\n",
       "      <td>0.418088</td>\n",
       "      <td>0.339842</td>\n",
       "      <td>0.0</td>\n",
       "      <td>0.5</td>\n",
       "      <td>0.0</td>\n",
       "      <td>1.0</td>\n",
       "      <td>0.0</td>\n",
       "      <td>0.0</td>\n",
       "      <td>0.0</td>\n",
       "      <td>0.0</td>\n",
       "      <td>0.0</td>\n",
       "      <td>0.0</td>\n",
       "    </tr>\n",
       "    <tr>\n",
       "      <th>4</th>\n",
       "      <td>0.744681</td>\n",
       "      <td>0.866667</td>\n",
       "      <td>0.559761</td>\n",
       "      <td>0.357568</td>\n",
       "      <td>0.480330</td>\n",
       "      <td>0.385061</td>\n",
       "      <td>0.5</td>\n",
       "      <td>0.5</td>\n",
       "      <td>0.0</td>\n",
       "      <td>0.0</td>\n",
       "      <td>0.0</td>\n",
       "      <td>1.0</td>\n",
       "      <td>0.0</td>\n",
       "      <td>0.0</td>\n",
       "      <td>0.0</td>\n",
       "      <td>0.0</td>\n",
       "    </tr>\n",
       "  </tbody>\n",
       "</table>\n",
       "</div>"
      ],
      "text/plain": [
       "        age  num_investments  total_invested  avg_investment  \\\n",
       "0  0.851064         0.066667        0.045167        0.086808   \n",
       "1  0.297872         0.600000        0.192881        0.148413   \n",
       "2  0.723404         0.400000        0.323331        0.342222   \n",
       "3  0.106383         0.800000        0.388334        0.257223   \n",
       "4  0.744681         0.866667        0.559761        0.357568   \n",
       "\n",
       "   avg_return_percent  return_per_investment  income_level_encoded  \\\n",
       "0            0.458367               0.334610                   0.0   \n",
       "1            0.390433               0.324021                   0.5   \n",
       "2            0.548966               0.422441                   0.5   \n",
       "3            0.418088               0.339842                   0.0   \n",
       "4            0.480330               0.385061                   0.5   \n",
       "\n",
       "   investment_experience_encoded  category_Bond  category_Commodities  \\\n",
       "0                            0.0            0.0                   0.0   \n",
       "1                            0.5            0.0                   1.0   \n",
       "2                            0.0            0.0                   0.0   \n",
       "3                            0.5            0.0                   1.0   \n",
       "4                            0.5            0.0                   0.0   \n",
       "\n",
       "   category_Crypto  category_ETF  category_Index Fund  category_None  \\\n",
       "0              0.0           0.0                  0.0            1.0   \n",
       "1              0.0           0.0                  0.0            0.0   \n",
       "2              1.0           0.0                  0.0            0.0   \n",
       "3              0.0           0.0                  0.0            0.0   \n",
       "4              0.0           1.0                  0.0            0.0   \n",
       "\n",
       "   category_Real Estate  category_Stock  \n",
       "0                   0.0             0.0  \n",
       "1                   0.0             0.0  \n",
       "2                   0.0             0.0  \n",
       "3                   0.0             0.0  \n",
       "4                   0.0             0.0  "
      ]
     },
     "execution_count": 438,
     "metadata": {},
     "output_type": "execute_result"
    }
   ],
   "source": [
    "#Using the StandardScaler to scale the numerical columns to a range of 0-1 for better analysis and modelling.\n",
    "original_columns = us_df_encoded.columns\n",
    "\n",
    "#Creating a scaler object\n",
    "scaler = MinMaxScaler()\n",
    "\n",
    "#Fitting the scaler to the dataset since all the columns are numerical.\n",
    "us_df_scaled = scaler.fit_transform(us_df_encoded)\n",
    "\n",
    "#Converting the scaled data back to a DataFrame\n",
    "us_df_final = pd.DataFrame(us_df_scaled, columns=original_columns)\n",
    "\n",
    "us_df_final.head()"
   ]
  },
  {
   "cell_type": "markdown",
   "id": "df7d359a",
   "metadata": {},
   "source": [
    "4. MODEL BUILDING"
   ]
  },
  {
   "cell_type": "markdown",
   "id": "3226fbe1",
   "metadata": {},
   "source": [
    "Elbow Method"
   ]
  },
  {
   "cell_type": "code",
   "execution_count": 439,
   "id": "2cc91be3",
   "metadata": {},
   "outputs": [
    {
     "data": {
      "image/png": "[encoded data removed]",
      "text/plain": [
       "<Figure size 1000x600 with 1 Axes>"
      ]
     },
     "metadata": {},
     "output_type": "display_data"
    }
   ],
   "source": [
    "#Using the Elbow method to find the optimal number of clusters for KMeans clustering.\n",
    "#Trying with 10 values of k\n",
    "inertia = []\n",
    "k_values = list(range(2, 20))\n",
    "\n",
    "for k in k_values:\n",
    "    kmeans = KMeans(n_clusters=k, random_state=42, n_init=20)\n",
    "    kmeans.fit(us_df_final)\n",
    "    inertia.append(kmeans.inertia_)\n",
    "    \n",
    "#Plotting the Elbow method graph\n",
    "plt.figure(figsize=(10, 6))\n",
    "plt.plot(k_values, inertia, marker='o')\n",
    "plt.title('Elbow Method for Optimal k')\n",
    "plt.xlabel('Number of Clusters (k)')\n",
    "plt.ylabel('Inertia')\n",
    "plt.xticks(k_values)\n",
    "plt.grid()\n",
    "plt.show()"
   ]
  },
  {
   "cell_type": "code",
   "execution_count": 440,
   "id": "28665b74",
   "metadata": {},
   "outputs": [
    {
     "data": {
      "image/png": "[encoded data removed]",
      "text/plain": [
       "<Figure size 1000x600 with 1 Axes>"
      ]
     },
     "metadata": {},
     "output_type": "display_data"
    }
   ],
   "source": [
    "#Using the Silhouette method to find the optimal number of clusters for KMeans clustering just to confirm the results of the Elbow method.\n",
    "silhouette_scores = []\n",
    "k_values = list(range(2, 20))\n",
    "\n",
    "for k in k_values:\n",
    "    kmeans = KMeans(n_clusters=k, random_state=42, n_init=20)\n",
    "    labels = kmeans.fit(us_df_final).labels_\n",
    "    score = silhouette_scores.append(silhouette_score(us_df_final, kmeans.labels_))\n",
    "    \n",
    "#Plotting the Silhouette method graph\n",
    "plt.figure(figsize=(10, 6))\n",
    "plt.plot(k_values, silhouette_scores, marker='o')\n",
    "plt.title('Silhouette Method for Optimal k')\n",
    "plt.xlabel('Number of Clusters (k)')\n",
    "plt.ylabel('Silhouette Score')\n",
    "plt.xticks(k_values)\n",
    "plt.grid()\n",
    "plt.show()"
   ]
  },
  {
   "cell_type": "markdown",
   "id": "b3beeeca",
   "metadata": {},
   "source": [
    "5. MODEL EVALUATION"
   ]
  },
  {
   "cell_type": "code",
   "execution_count": 441,
   "id": "d795f94c",
   "metadata": {},
   "outputs": [],
   "source": [
    "# Apply K-Means clustering when k = 8\n",
    "k = 8\n",
    "kmeans = KMeans(n_clusters=k, random_state=42, n_init=20)\n",
    "cluster_labels = kmeans.fit_predict(us_df_final)\n",
    "\n",
    "# Add the cluster labels to your original dataset\n",
    "us_df_encoded['cluster'] = cluster_labels"
   ]
  },
  {
   "cell_type": "code",
   "execution_count": 442,
   "id": "984d69c5",
   "metadata": {},
   "outputs": [
    {
     "name": "stdout",
     "output_type": "stream",
     "text": [
      "Silhouette Score: 0.4437\n"
     ]
    }
   ],
   "source": [
    "#Getting the silhouette score for the clustering when k = 8\n",
    "sil_score = silhouette_score(us_df_final, cluster_labels)\n",
    "print(f\"Silhouette Score: {sil_score:.4f}\")"
   ]
  },
  {
   "cell_type": "code",
   "execution_count": 444,
   "id": "952529a8",
   "metadata": {},
   "outputs": [],
   "source": [
    "from sklearn.decomposition import PCA\n",
    "\n",
    "# Reduce to 3 components\n",
    "pca_3d = PCA(n_components=3)\n",
    "pca_3d_data = pca_3d.fit_transform(us_df_final)  # df_scaled = your scaled user feature DataFrame\n"
   ]
  },
  {
   "cell_type": "code",
   "execution_count": 445,
   "id": "eddb919c",
   "metadata": {},
   "outputs": [],
   "source": [
    "# Wrap cluster centers into a DataFrame to preserve column names\n",
    "centroids_df = pd.DataFrame(kmeans.cluster_centers_, columns=us_df_final.columns)\n",
    "centroids_3d = pca_3d.transform(centroids_df)"
   ]
  },
  {
   "cell_type": "code",
   "execution_count": 446,
   "id": "4af36d1c",
   "metadata": {},
   "outputs": [
    {
     "data": {
      "application/vnd.plotly.v1+json": {
       "config": {
        "plotlyServerURL": "https://plot.ly"
       },
       "data": [
        {
         "marker": {
          "color": {
           "bdata": "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",
           "dtype": "i4"
          },
          "colorscale": [
           [
            0,
            "#440154"
           ],
           [
            0.1111111111111111,
            "#482878"
           ],
           [
            0.2222222222222222,
            "#3e4989"
           ],
           [
            0.3333333333333333,
            "#31688e"
           ],
           [
            0.4444444444444444,
            "#26828e"
           ],
           [
            0.5555555555555556,
            "#1f9e89"
           ],
           [
            0.6666666666666666,
            "#35b779"
           ],
           [
            0.7777777777777778,
            "#6ece58"
           ],
           [
            0.8888888888888888,
            "#b5de2b"
           ],
           [
            1,
            "#fde725"
           ]
          ],
          "opacity": 0.6,
          "size": 3
         },
         "mode": "markers",
         "name": "Users",
         "type": "scatter3d",
         "x": {
          "bdata": "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",
          "dtype": "f8"
         },
         "y": {
          "bdata": "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",
          "dtype": "f8"
         },
         "z": {
          "bdata": "857mPS1l3L84Kfp5OK63P3jct0XAjKy/MB9XBQwm2b/0pqiqlve0P4Cr4cZLAqq/m3ptnwGp5D8Uh1dc2ePhv1sXo4gV2Na/hrbdEN/G3L8JHtmBxkPiv9x7rtYX0ti/hp8HMvpY17/gAQa9Zr2xP1mlcAnOPty/7O80L+FJsj8lWSk4osDav4BQC59M3aA/Fj1Tb64j3b+c0N00IFCzv5RekU/v0Nw/Mujzy/0q278I2Z5rlKmkPyhmEajoKr4/IPczyjWvrD95nMe8mDvhPxj0GTP/07s/WIKF8wbO4L84ha4U39qkP0Acbcmp8pM/jLcGCuIKwT8SL4BFfFzdv9C5aaNxYr8/o6NliPin2r+vRG9sB77gP8jf+iglga8/0MsjhyDSwT8wlQ4WvAmtP/pn7E5ghOM/1cB/zups3L9AbwCrZ1e8P9XEisgistm/sxm6m7/42b9AvOZlrz/jPwCJJx7Cd1I/tFapMVjluL8q2HWh+4HZvxxHBQrEb7s/fFw6SvI2xT948f0gYJDiPzxem2jWVbo/Q3SoOQmI4z84m84GKAqrP/P1msbZ/tW/wDD1clWgrr9TbWEfM0ThP4CLTGQdQGk/viAQPpyV2r9XHKA062rhv/qyJK9Zh+E/yISr3Cb/pj8sV7AjN+ThP7A0Vr1FrLU/xw3SoO30279PvFOggYjgP7BPW2RbR6I/iJ6pl4RJpj+KIDkaNjPjP+zPTmcFo7U/WMZk5lj0qT+Ptqi5wLHjP/hmEh2+3aI/1t8ssLA727/UIVpZvJbAP6Sjx0pyzbC/kCL54bkasT+f89Qx0evZvzGQ+W/FPuI/NANlUg46tj8MQew0opi7P7A2dwla2eI/TlC7t6/U4b9g+ZoZHgShP0cJ8AF1td6/2q4Nnxwl3b82g8uIFJDgPyjxBaUINdi/FMmsFLsOtz8ZYMSxkMfdvxhSKEfC2KM/oAI/Z6Xblb+gmEa8Sxq+Pz2XrVl8+9m/gH2ke8ssjb8y6chM2jDav5A6TSEJYeE/3SyifEzh2b/YU6p9+B3APwAdr1qFxHM/AHfBVxNd3b8QgZsVt33Yv5bGpMm4mts/mHv6tUE53b/gIC5eJb+gP26BnrCGgeK/K4jO/vot4z+kYcpmV4W0P0r4yFu6T92/OLWqmbqnrD/FpRh7Z33iP+CgXWBmcpE/sI1BSQSVvT9of8akGPu1P3zMVhIJUOG/cHnHILhFuj/wAI5MfErgP2BamzTDJJQ/yO7O/Kmrsj8AIX1E7HtUvzDQuf8SZa4/8L7n8bdtn79gK4DJ/AGgPyd7yM4Am9i/0E6T5//Lsj/YzjuXp+y8P5DZdFBsCOE/ENPgfPXt17+grpS3lp6CPyAtvRH5hqk/wjawbfHK27/slq2oPJ64P6xIZO+NO9y/uSCqpPng2L+JuGnHobriP5Jmr/Nibt+/oIiDw10Q2r/iuvrwHpbYv2jb45rR4LY/gbi6ixR/4j/A6YZ7bKHgP5P72SXYouQ/ZANe3/1Tuj/YTY4upay7P1FGMmvy0dm/W4+DHnkv2b98ytJw6WvZvyAlA2ls9a4/I6Yo50qG4j+egDp7owHev0RmnTDbP7Y/SDx2sGdsoj+gsTa7MwOqPyibcFPTpqQ/8NQY4RJ6sb/AKkYrYA7dv5iKThUPt6m/4NLzzXBFmT/N9oweRzvjP3D3M1CUzME/5TQm99Mp5D+xnCzMLM7gPzZRCkc/iuC/ZSU03u7U3b9410gLOEbgv2LsqBFUe9m/ZAaETUhqvD8oN1r/XJ6iP3QdYHGCPrA/c7syYMPv179IxUk+/QajP/PIvBdWidy/3tVPhuTD3b9YLnC72y/aP51njRfLstq/rX2WbZot4r9otWgyzZHFPwhNcQhMw6I/hCDhdu43sD+w0Y/l3DWRv1A+7y/9uKY/p9KonWBu4D+El+5+lrTiP+BXxVGjaao/35vjclTR5D9o1717AqDCP1R9cAudQeM/Wju1kWoy4r+M18fkWaCxv7CvVatjip8/SoNsRVi/4L9gDb3cRIygv4jz9jB+brE/iF56tGafsD90iZsvGpXav3C6/h3Hz6k/vFicVPbW4L+ZObhG40XgPzP6+304Q+M/4IMZ5VXFjT+WIk2yUt7Xv+nTY5FjmeE/XhBu9Egz4z84KBzmpny2P7/w5oKnsOQ/0E8EEIzKqD9Q4nO1uO/iv6U7WLphyeI/yEnDHirvq78sYVkI4Ha4P7Ae+cr4rLk/j5qFWtqE3b8PF8mzW8zdvyCneffJU6g/YJh1prFLsT/GqMjFQ+PZv8BHs8ME2rM/QI5Ev6YhkD+k7jcqKyW6Pzi6Txwlrdy/qIjhxv1WvT800YjfOVPXv5n6S42kb+A/1CRlWzhU4b9Qci8MJGerP01eurAE5eE/mzEfEzKw4j+oSfDdbyjdvyQJT57PHLQ/5kIDsiwz4z/41cniQA2uP0R5G7v0oNy/5Eme/I3LsL8w6aN9PgOmP/gL3Wk7VtW/OENjK2FTpD8gkPLa1quMP5CVR0cqeaO/0OukXRgnqD9mgxC0oJTiP0omk6gfqt6/TM4gJPl53L/Id+L3nGS5P6AFjWuEGeI/9dGILWQA5D/YV/hk13yxv8jHfhi11as/dF4rS1mxtT8wnS+fnRquP8BsxxhsRYQ/CGdxlZFd3b/T0X9b3zzjP9Dq4yfrq7I/6XOiQZTk4D+MN37oipGxPxw5DomNkb0/x0yrDDEH4z+0OneMQD+4P5DM8e14BJw/yC9tFYFgwD/QipAcFWunP1z6aqnzasA/cNR6KRiatj+As6exzJKWP/gR0A/016s/WMJtw/qSvj/O6b5yYLjaPwgr7oe0d7Q/cOWVUYuQ1b8o71MOiyO5P0CUomSw8bA/SENDOOKdpr9A3NMWjv+6P9A6Dv/HEZc/rK8VvUuuvD9H0GyplCLhPwg+YuwvaKk/jilTsMv52r/wGNaJsVOVPww/9xdzzrE/XPOxP9gbtj8SMcmMwPHgPxixGLSzDqy/92CJGMhX4D+wYUBoxnqeP1D+6Y3HnbU/sALHxXCdlD8C0cxRkuvav1gVk8e/ycA/Hllq28ZI3b+wDN2FQKOlP5DdPv7J4JQ/Y4+3K0vI4D9gyJLUgF3iP0yJFp0Xct+/gPcuoEBUkT9k65wg+R3evzVakk4eXdm/mu8Y9mHg3r8dWeg1ptjhvwsW7CnQauI/gAvE3Mp6lz+84rq9rc+3P2+PW9O0reM/FBBydpZT3r8sR0Pgw/mwP9OpF6fbAuE/qPM3ec+g3r9QFcsQZa2xP3x9RUu1u7s/zEUAUXyQ4j/Iu/Yhk0WzP1D5EqOsr7A/C+psi9iU4z/UR25iBZawv/hYUIsDqqw/pNOMjYK727+0y55aDbHXvxbdJEZfN9i/4cI5irS+4z9JoCfuyX/XvzrCHsVPRtu/oKkrx4PSvj+8a8FY+rKxP4BqyN7K4XO/yCseekxq3b9Ajpp3XPeGvyBo1ykC6Zo/RV/BKoVn4z94LJoGYKbevxXhB9uZ8uA/nGGzFLqj27+wk0eJKlCnP2NaQW/UYOK/QDT+CKbXrT9x2dEfyBfjP1hZnh3Ohq8/oOfYGZn9sD/wt4ELsJmbv/gFsrXn9qW/XKZJztZj178kj5j+c321P43A+5X2X+E/jKcnTjS8sz/pntRMdjTjP6QCDuDrGLM/Nys/g52L3L/r8uRR2pbjPyNQXUKSnte/dmrJ4cUZ4T9Qjd4RHFfcvyE5POX2V92/dBYKAP24uD+AzgN3eoO8P3Jrcj9J1uA/IFD8yeuEqD9MRvUE8AW7Py75iSLHj+G/sHoxPMaKrj8QkUxGs3bCPxJAFxa1Bd6/mEOgZE8Mtz9oZU0CXs61vxCZBw0Vlqo/RNUSJ1ZluT9PV/BiiK/Vv1y5qyGns7M/KDlev6OpqT/gI8hyKTG8PyR3vp6T5Lg/aDP1HOeSrD8ouENeOoCuP0uevxcy9uE/hGy6cMuY2T/lWKe7B8HkP8Cp4Qx5U6U/CC9OR0y9pj/E0FSKdBXAP1Qo72TgO+M/bAO7nJWzuj/r5pbJYq3gv9imAVev+7Q/PA0WrI3Vs79ApUJPK2GXP7Fu2f6NV+A/XnEMHTyQ3L94B8MgXditP7yicHKAGLg/F9B2eU9G2799JpSivjThP4DFsPUu6ay/EHI6Ue5XtD+z5+X9PZ3bvwNkQp5pluA/M0H3CGus4b8MePnKoES4P4S9646C97o/XGOFDwMTwj+YFl5Aqwi1P+bvLF7GvOC//KntVHuhuj8K5n7atfPcvyUhZ17eNuA/BABApBT8sD8MfDSL1oGyP7Z+LAglZeG//OCuLfYD2z+Q3MOgI6KhPw1GaL1eTuQ/I9PGIdJF3L965dtgn5bhP/yZ85WtZbI/MNOdkxdh4D82naJTU3DZvwi4Xq2ZGLQ/Gnr1vY8v3b/GkwaFUEPhP5CIY0dQ9JE/2NaQAdltoz8gAxoemWivP4AwdTeG26c/EBA6Gd5FtT+oU7kEIYGpP6hprnDNlMM/bWNeXbI34z9ojoJGQyKlvzCLDo2ClOA/yIh1w+ppor8ucC19K8PXv0dWrKHpM+M/sutTRV6s4j9AgR30/iyXPxgYDBq9zbI/cFMGnHclpD8oJR/GpFvbvyh52Ivf46o/MGWagKoouj9sqfAWeYXBP2SOGyvWat0/oA2F5/Rujr+QZ6VqiuGwPwgQORFljKM/lUYZrzCI4j8QE32olAu3v0DM8dwiobY/r1hIncKR4D/gWuJtUZ+2P0Czi14iWYi/QIgrSCwPoz/gZVB+DXrhPyPXI/NzI+E/ZSY9ZTpp27/+laXAicjdv+xmCL4ZYsI/eNlMMO1Prz+IPiXsx0DgvxD89yaiSLE/ZcVLMWOj4D+7DQPizxLhP0uUqE4UPeA/eNrdBa1fvz8Ty11rQWrav31mO0MGzdy/d6qjaclc3b/g/Y2aqY+AP3mQsqNn096/9C+BzznExD9MbvWe7we1PxwRxEmQH+I/fy3lMeUt2b/gGgllDlCQv6ygMUjPgdm/8BSI8PCgwD+sQaG9BgjCPyKc9hF5Pd0/aMS6FtZMqD/gB/DFF9ajP1+AE35tKtm/w78OMQJZ4r+0mrWz1XriP9C7nr2uMb0/cIrdhwV4vD9EwconKvXhP5QOk29NluE/Wrpe0SK+2b+QLu/ASYGYv4BzxU4kcmO/ICv5PGNPtj98gl6b5qPgPwCoLG5fxUQ/PZxfqzjQ4z/4wJF+7M2/P0D7LKwCaIY/SJD7TULcqz8/jiN8EAjcv83Jybp6YN2/UjKckdmH4T9o2puFsJLdvwRCfwzGvd2/BO0AYND/2L8UfYOsIQi0P7PTfp9gt+E/fOgr3V+Ysj+w6zhAMNq9P4+zxlmMPNy/Pm4d0vC54j8BFqHSYMHavxBakQDeVr8/3Gj1YGHBtL/oc5cSUgaxP6Dyv7B0G70/unVFL2Ya2b8z9tlTs9/Zv8vde9Q11OK/xJY1wnIusj/4t0XUENyvP0iblJ1y9Ks/yqmG3ipA4z8YeHTRzKCyP1DMiwIMr6Q/HBDWd1BJ2L9SCbCnrsPZvyi1WugCqae/YETdKrX4jb/MZjWNoG2yPxsB7xMTL+M/X13El0Lv2b9uzxNj/YXhP6KD1tQKbuG/XSraEwM72b/6YsfBIZDfP1gGUKJwUOI//JzG4/Yh4L83AqI86jTiv8QfqXDygrc/HU1bJsxm2L8YfO9IU4SkPziO3GY1WrE/ST/abLsC4T/Q5cStWq/av0QM3sUaC7E/TsZDaQa34T+Q8l7Inybav9IwGnrtT+G/UJOlwSXnnz+46H7xR0bdvzzP5tNBLME/kC3kQMISvz84noMfgPa7Pxh2+AqJzbY/PLu5ZMqu3L/cw/WCTSfev9pcU9CBUtu/UNU/VL+tsD8UxwfVgEbev/FaDU75c+A/13rPR+9p4z+4M/WLCAndv3RHp/VgRL0/r5/QPRma4j/IiVhejx+nP8ADFBtgt7A/gls5wjU93b8+ObouoircvxcwlCgbEOU/OB2TaUaQoj9lV0DIP/zXv5ANQbc7IKo/GLrrC+gu4j9SYzPBFH3iP/gdTy2rhbg/Vk6B9rAm4j9AyX/zURSwPzymHMRWKbY/wtmc7FNj4T+b6l+DWrDiv1Qa2zMDHLo/6Q+BJzkH378ofyjxRpS/P0AwwIByOJM//D1DtI+VvD87Unytxa/hP82Z6gB3ydq/kCesQBL4vj8I93tWY22/P1Hs3X0ukNm/oPxk21XQoj+A6FmXRROjP5RVsj3GTbM/w/5QRG6z178sISiaf8y0P1wYdUdHnrI/cP76YZUv17/gg9eUzzKjv13DrOKNA9y/aClRr7Bpvz/A+OBRrx69P8RMSWJ+8rQ/xJ/ulGtQ4j9IkBqhrXG+PwGUf2fl3uE/+J2OcXl44T9O6eDJUa/avzMJsvxvwuE/RlFBR2YT1r9AqxZUEn2jv7RHYs2Wp+E/+AedOipx3b+guF+EQrqzPyhLacx/87o/f9Hym8e02r+4xWbCdGCnv+RriGb5Vdw/OP0CVrAW4r8+Ub7323bfv8Dfm3WCjn4/dHFftgkT178Y1b3ClO25P5RiHlkcBLg/85UgLU4M3r8IIUNoL1W3P4Bk3HB7PoG/tKq4iK9ysr/0rKlr8Ya8PwD9L9LsVqA/wItFUdqzfj8UdN66RszhP0jc3mQjRrM/uIOVmr0i3L/iW6m4V/Pbv3eHfvtHJ+A/+cSDj6kP4D9J2uZ5okrbv91r+ATj6OE//PwadwaYtj8AztRwLymtP0yZ/D7CneE/DFXMTxS33r+sLfNBENTcP8UOy2GJbdm/yJUny4y5pT+IVbZsHha5P2gaDVS8R6M/5I/d5BZFvD878ObS3+rkP2gVVVQZpaQ/EmUIwHjl3L/plGT7snjhP9yMWQoAVNm/DX9UyKvJ4j/oqmS/Pyizv4ATJFIbeJs/cGKkmc58wD/cZq4iTG+wP4atjDJb+OE/GCqawqknvz8jBThnDhDkP8K7dkTf+t2/OC5IP0xHvD8UFi0SclSzP6B/3w4TiIw/IFHRoNPxoT+Q08ddsJSsP4xYVVSj3eA/0KUBY1LewD+YqppkUirBP6Cr6qJIl4k/UIlDq5p3pT+Y0bK3llqmP4A2ctCmYa4/RNqCe6IrvD/ERw4Csk6zPyU77WI0ZOE/sLjU6VZhoz97NAxr+c7gP25mzVw1Tdy/a6VmWunj4j9wg5/t7D6hP+hyLyjvstu/SsbStLXL3D/gcZHPXIyVP/CTdKJPN7U/X72tVm+h2L9gGU7YgWadP6hbr4EmerY/u7mKSDna4b+J+UocayPZvwA1LQFRsbg/eoazZDtG2L8MrLYV+aewP7jJ8Am1TrA/IFr4mbFWsz+zvnAZn/XZv3B5R9LV86Y/44/jlmye4b9wGo1ID/iwP9FcFbsn2ty/VA6F0U4xsD+GEIBLaCzcv9YzAeOZX9i/YGfGPILKsD+IMfzZJei1P5dNRnsLkuC/YCfxbXbF4j/oHiX+lFmkP2qLN2jc/eG/YDpQWJoBgz+wWxdvDIbcv7CeQwpfP7w/mCGsW28FtD9IkesPECCyP6DnTKs6iZa/WGnoZ7013r9YSUIFK3PaPwivA4F5+qY/ADJkWrH+rD+gCk5YMQ+TPzAquemYEJc/3P/rMMiquD+MrJvcSFrhP3OfBkcx3tq/iAlEbKsP379IPCxUI02nPwAqmeNiZrg/sFhW9sBvmT8AVHlTeEaqP6jBNi7q/aY/IG2P+qlHvD+EYrxdqW61P8clW6MVn+M/YGCmXAy/rz9YtSBXjuisP8DXwxpae4M/DMmtU6Uw2b94ldZQiOvgP/jC7MztrLS/KE8nKqyowD8gkG6u5wPev+zl5JJ3iNi/1GjpyCnzuz+aVS1AVz3ev3CBHXRzAt6/vOgeEgHrsj+aKhItV8jcP3D050v6P5g/ONT1zTORtj+LqwUCfcrgP2QBEJcLQLU/LLJmTV4U27+Us24LyjXdv8ALN+VIY7U/6FcWyVHmqz8Q2vEkAxrYv4ZxlyGksuE/3O8ZjjxHuT9AeO7GG/Sov7za5LUVCbm/AhT55fHy2b9zIj+VChzYvxReWMz8C7c/GNUxjEr2pD/A+q6bL3iHP5RTTX6sZ7k/nxiO5zMZ3L8IB9Eil9mzvxKff9ZDade/ocRxtxTZ5D/x5USKAeDgP7DEMNAmJKo/0psBCa7q1b/CVwhGjWDcv8j3ijTPX7A/tf7Dk4AQ2r9W7rBz8efbP+uGF8Th6eE/9w6vGFuP4j9v0j+42iDiPwhlZ7A2j6c/YM/ctZVIvD+2XLyvzAHbPxYl/e7wZt6/gAm3fUEY4T8gsc6iykusPyDCjJY+QoG/xPPyL1bqtj+OSLgIIH7bv2DA5r9LxrM/RBjpFoVNtz9QxIysspDav4YsFuatGNm/QKKPxIq7279IIaKMsF3iPwhX6f/Wv9o/zJrkbHGutj96mqgPH/7hv1AbU/T2trE/+KJo9sAsoj/+2nKrg4fZvwu365GKieK/6Hj3SGXYsz+sTmREX9HCP5iFNOnE3aM/uDbpnrXlvT8cjf3tRZ/iP9Sru3qcgd2/wJ4mgTrylz8cVKKqP6q0PzZi9qc8NeE/cKFrC2Eukr8gNlCG+XmcP19lHri/Atm/VC2rRSnC4r/2zM9CV9LhP5S5qHydWbQ/5FGwCM/btT8Qmgbrxo2yP1zvrDOU5t6/RpwCYlrW4j/Id28ky+mwP52nIfXT09y/zQNW04m127/OxfUeP33avzBtGQsFJ6w/kGxaRyFIkT84OsK28pmjv4z8DSqXi7k/3Mi0Itfttj9XQzSYo97jP2OdfPD/AOQ/07BPUaiR3b9sxJYPmDXdv6G1vPzt9tm/zMTf/z/ytz8Y15Ww+SyiPxdOWwgto+E/5WFiemOK4j9Qo3wExOqjv5zo9jeNWbc/AFkthxrcrD/WChZwssPbv+WlWwi3KNy/kNjTzt2p4j8AsJDpF1GZP0y+GnrhA94/ZBrOr2QL4r+I673pCuvcv+AmyU7kZZE/zTONuL044T/nHChYDu/hP6FgFbwWH9u/g0Z154YZ3L8SMvTbs0DivwBY05fWen8/IIyLPSyLqz9mELtOhWXZv6UD+peGGeI/HbzdeqUc4j+wFjwOw3i2P+u/Qd1quOA/jLsIonw03L/A1XJEip6TP0CUdCL/FYW/ANkUiQPEnT+Qe8MZi/uRvw7FHPLEIuI/0IJs6McO4z8gaojU73bfv/zuiTcp/bM/6IwGTewkqT+sIdTgrzOxP5BmA3ANS6A/BjJQuECs4z+sfMw9X4GxP6RFQD0AuNy/cEYmQqONnD+HxlLBcTbiP2DTYwSmob8/NBhF2EyXuT+mq1WL3ZjdvzFKbNvdxeC/ikQH/xkg4T9NQsItn0ziP3oidr6nqeE/pAM4CrWu4D9KvE9ZlNzXv7Anpfbt8MA/OMpDdNPTqj8SeUlC+9HhPwRQaOo2y+G/lMnubHH12r+GAOJq5P3Zvwbh3LIsoNu/cP7F7MgAlz8Y1Tuj5U22PxjIX3LRtrW/yNJvimDpqb+o5AyA0hPbv/8IQ5EzZuQ/6JV2WTzeo7/FkUL6HELYv+hgCwCQiqA/XuHMJ2Lf4j+br7bERgjiPxjuHqFGhL0/wfAqVaXV3b+iz+lJg0/evwB2eO9vM6g/ppYxyQaj178s1KSZyV3ev+q2AVxO3ta/1mJBh3K527/EAdDKMezXv5hNk/vAdqU//Zgmvdsl2L94vvbS/F21P7xuZ//c1LG/POcfVNlU4j90ec8Qo0qwv4wLi8VCxbE/uWmfYt6y1r8jmi9Ou8ngP4BFmJCq2dy/iO1byvBLpz84fYHm5WGsP52idvS0/ty/wM48I1Trqz8SbJy174nWv1gbW+sVh64/RJl9LSNT2b/bzKzeXfbhP5iiEKMdXa8/Fg0tk/kK4T/IwNOZtKXcvyzNSs8+D9q/iBZl1TmdoT/eHKX7I5Xcv1BjRSUihLE/h765CNKk378zu/e9p7XkP1i2+JkUutm/UDbWbj4olj+cEAY81evav9ikHgaOaaI/QLM8nCUmqT/ofxUaA52ovzKCbHrRQ9q/dGGrNCKIsD/QxzKQPj+qP7BMkYQdGZK/qv6RDCIU2L8lQ85ltYrav+ZBuRKyCd+/AHqa5IGWrD+A5tmmeUqcPwjeSKDb5bY/yKlaYEqr4D/Rw5r0Vyncv5A+NKZGAqU/EAHN2K+A4T/jsfGhy+DjP5oRKUS29ta/PH+j6YuduT8+DlfoexnhP5ZCLVkLft2/iMJnbcBZpL+Cnw81iuzYvwi5V3yPpaU/JDyQrhCAsD9gZQV58JqZv9zvFvkXEbE/wKvhfpoVq7+sugwoWezcv8iMjj87j6O/Fk6/CKy+4j94rzFC5DqkP9RpD3wRybU/j2Ze4a1r4D99rjgVdNrgP1B07d4MZKY/6Kv/Nco6oz+8DNHY0Arav4ChCjgRSWM/HL2sb9VUtz8AIByB3x5zv0OIaM4b8tu/pUytPl1O2r9I38zQvLC4P6DUhkOa95Y/ekn6cb2D27+KBPbvArXiP+CYN6hVBpI/5Fl1GgZS4T+uqKQKddzWv4dSHYp2aNi/9IEi7V2MsT/AG2bq8AmmPx2GxHLJ4+M/rOwwv9z34D8sJaL450nfv6rdYlG7Fdm/WAEfRuj04D9YB4mNTwKoP+Ak/hYOCac/E4ZOT1wV4b/QBCxyxrapPwXD56NRleE/0Jc1+sPlpj/17p0Mv7fhPyzpFaljeLw/CPnRw7Zgrj8QM/Ms4SKwP4o/vBuAvOE/uE0DQIeWsz9Qar+VuoOsv5Bcl0LFvrk/lJ07it4Euz8gl4mCi9OxP0ikXla4PaY//cpX8SGW5D9vBLJNrtTYv54dcGY9y9e/Rq1K+TuJ3r/YKHwM9YXgP5bMhAbS8tm/KGlKFtGftD/gHMn25jq4P0xTFP0qurk/R6K+55Mt27+gv26lQPSsP/SGreNCvsA/rMsq2cGjtD8Adt1K30WovzTWORTFnsE/wi7/bk8b3T9swmsO2HSwP2BXD/Yl6Ig/xKc374MftT8XxvlnxtLhPzCd5ZXxkK0/wLE9lbhqiD8tYZCspw3bv7tftp5SM9q/iJ4Lk61dvj/cq2WHDfDBP7FGsjFhquE/3RTT3rov3L+Ae9D7L2SHPzDJ9kygKaI/wFLQy3McnD+gNkyavzqiPzTs8issf7I/fDI+c0N627+QhaLYE5STv0xbtT+oE9q/zwbhpBRS2b+AOVQfHLyyP9g5guAAX8Q/DHaIPVW81784qhN6QW3hP+jNdeqLl60/ca2CmUKA4j/sa2aZqQzdv6XXaCbVb9q/HHB57I+HtT/GzujQt1HiP2x0zLq4GbQ/BeHu3JJH4D/sQHxaOdngv/a7/R/xyOI/QGAwNG4uqj8VB7v8cs3cv7CNddjeBKc/5Hljwoidsz/ZaLlp6k3cvxwBCqBC8Lo/bCLLQoTy2784m5WEfVq4P3Sg+W/kQLs/UDNBjgu+mD83gTht9Nrav1iWFBgTX6U/4GMKnGN74T8jZIjsyNDev+DXrnmTXqg/4JbPuEu9rD/wT60sYe7cv5hBtoS0pqM/oFLEq9yN4T8gVO8gnDGbP5ia3i4Mkd6/wLgYnztYoT/gguCRaliMPxAFDYJkKbU/NJM+90GZ4j8sonwohPKxPyCqxsb2GYE//BE6IT1nxD8gnPVRBNfgP8j2vVdl+q0/kEnK0SFowT8AnbCZZ3+ePyKZdZadK9y/6E6yboNK4T/oTMKXw26yP6SDKelE3bw/5M1MCi/BtL9A8ZlSo9Xcv1aZfcJXKuE/8kG3nLJK4T/YK0SR9uO1P+hqJ5JqFaI/QEma7wTJpD+th5GZk1nev2jnhfIcLLA/9LbBXvzMuj9YQ5jd3ky0P3nPWM6uQOI/kPplgRkKob/QG0Sx0QzevyifklrO7b0/AGEp1GpUjz9AQzJWSbbgP/Ejs6oFcuA/UFGAyweO2b92Cpi7HDnhv8CEItf9c5M/LyUPyLmI279AMq8735jBP6AjvJ4xooY/D8kfqv9e3b88zvKE1gy1P9DTiHnqaLg/sIrpevCUqj+t8/Zkx2LgP7GL7QxiZ9+/Ue54Wjkw27+AnSvvEK+SP/9z5S8xV96/cCEYaB3Lpz+PpZwOmXjhP4RLMFBYvdu/iuXrPw953L9Y9IhaqnyoP36JISbVYeI/YjZMIolc4T9I6RcncrShP9GbnKXpV9y/+DW+nxLKvj9D1QFeEPTbv4Q168sDYrM/oBhwlL3SoL9wAB1pYdeQPxyGstSLIbQ/PFK8KO9O4D9ZDmvD4GfkPxqcdcPCR9y/xbvTajS64T9A8o9Odt2oP1ClcePAwKQ/R52Tx4BC4z/g5qPSnbmrP/CAWnDWktm/aNmzvRq3o79MfnP2D46zPwDZa+VHIbY/FJljLSlE3b/eXys2/HDgv3TOaYBH+LM/2CHr/pLuwD+y7jRQP1Hcv9D2TNmDD8I/QH7lL37J4j+M/60cApi2P9g9nLH45bC/6GANVJPnqD848iUaLXqnP7ZLtwJ9p96/IPX9YGgngz9IiUSNqi66P2gRW81oarM/q5S2XOfk4L/pogZiF3Pcv6FD9sJkW9y/QFyntqTV27/dPYkyn7XdvxiwbBeVdao/pD4kt5843b9yaPm1cHrhP7hh6dzACeK/CLQiweWVuD8gOTYHEYmAP2iFx94qmL4/0LmjVWuF27+EouYdY3m7P3yil467QLA/SNSFoGrXuz/9adFxlNrav5K1s+7io9u/jJxUQzaD3L9XyhOj7a7Zv3xrAHxGGdq/YN+cHoBsoT+AgcZ40gOxPzTJrkfJ6bo/fK+LAw9Wuz9gQWiulQS9P6BtABFIN+G/1IhWsnNl2b+3yOtTcXrbv0NU/f29u+I/GVFsWNTF2r9e8eVfIIPav5gPlOR7/6s/Ha1UrczW4D8wJXSe7uazP/YBY/k+Jto/eMgWsDprpT8AF+IXnxpkP8Wxb+0Hhdu/UFk3650drb+Usc1Qh9SwvwsbZvWr0uM/9MH57heQtD901q40GU/bv9A3X5bemuG/LP5fecbdtj8oL9O5CibevzYRS+6z4du/HMIWdrMntT8Q/SDjIgvav+nWPlnSy+E/Ah1HYh5I37+wHkwEYp/cv8TYCicBhd8/fanW0Ke04j+MuT+pmPOwPzmDc9DTFt2/vNbUeJ1VsD/07IcTJSPbv2CLZoA+4a0/mM2pp899pT+82pxWgG60Pyivm5hZ0q0/zrLYGkx9379g/mUIlL+VPyBMmRbAPoS/ACRn0J86wD8LKK9PV4HgP8/gyk0m4Nm/0KkuZOA0pL9I0OtdB7DXv9iiU+/v3r0/igaL3fkN3b8wqUQAotbXv3aXcJgbWN+/aMlS0tBhtT8KAgu8mGXav3u1Q4aSf92/wtnTJ5la2z/AHyJzOtOjP7QN6aC0Nbw/FI1LdOf/3b8gHzmg90Sqv/kc66T5NeC/jaGz+rDh1L/q8cT1geHcv1BYDNfu/a+/3Kv6eDcvuz8E/umKpv3ZP0imTJ7nwqU/MKcioafVsT9crUDPqKGzPxH3ecSqMdq/nReWRW3t2b+4kUDZst+hP7IB+ouoHNm/o75sqY6q27+UNYZ7H7mzP2O4YQIbHOI/fCp43B6f27/ksnfl+luwv/CLZ2XlWts/KAyecLhYqT+AQ6lMJRi3P7iJe7505KM/cbOW356e3L/ImpaLjiC+PxL51pCV696/gGnWgsRUrb8+AnpbGi3Zv0g/YTHh8q0/4BJyA9mrvD8gDt1OIjfivxhK9hxrjr4/ziInIbdp2L/UH2MsdJe0P/Hj26USB+I/AAjj60hALr8C4A+KgobhP6HlrSz7TOA/KRc4fV3X2b/4ZORdtRemPyQAcCUZTLY/mGZaApMmtD9vqmn15ArdvyjCp7bUaq4/P2XlG4ni4L9gZ10kf7yxP0ceXnEnZt6/+Cgt2sCvoj9g1ruH4Vm0P6BWRSjEV7c/l//kdoIM279Amdik5g3ZvwNGCDmHL+K/HQ9AB/9d4j9S7YKoDLPfP/j7riGl17U/QHRrnIi7nD8AjCow5zKkP908Jfin+eE/3vR+zDuH3b8VT2JQlmLev/fugdF0suE/qKynqQN1qL98Kd8OfCfWvyQJJRJWkb0/4MO6aD0owD/TL5DSSgbcv1hnMYGTMa2/S1xoDP2r278TKWyV7iXhv0TtbODSz9q/3DXIzELBsT8vEMvWHePXv4jMS0jAv6g/AHrRYCNk3b89qqy60yjcvxlplFTCJ9y/J9A8HX7I278UdvM97Ra8P9x/yRc/TsA/F5avxCKa4L+AN4VBD0KMP2iZJHFNzrQ/Y1hUlqzq279QRC5ckGGZP1SV2+xGPLQ/+EljVqKVtT9MOyjnctGwP6ClfrvqRNu/rvB09Uvb4L/LG58USKDiP+j708N9irA/Nl3qB2Ll4L+4DXn3Rjilv8DqTXvZNXQ/MyuBsC5h4b/wHBj8m0+gP5qWDuwYmOK/qUfj+sFk3L/7wnDw/1vVv1BjJx0+upE/dPFMyiKRtT96SJfgGbfcv7DomEitrrg/dLAyFgA03L9AT8Mk+TmZP+TOLWEPNLI/iAYlOXouwT8gpz/OEN+/P3vKZ6rGseM/cvIwqUXF3b+Ieak2QkChP32cQ4dch+M/QKq2yYho278wxr1uaXO1P0zBOYJO0rc/f4ZwQxWZ3L8swMcuQViyP/DXnyJvQds/Gp47lbeb2L/Ix/Ne1X+qvygsL6LyJME/IBKo1bQ4mT9HMfauuUfbv0UHJf9uMeK/XPLJYdeGsz/vm8ERXSHhPz6D9m3vceI//LpAaCBEsz+Ag3L+ZdamP7R+6dcdhLc/WGT9xl9OsD+ZXBS7rU3gP4n8FhgrK9q/SFlBabYf3L/kImJ7jha4Pwy6+6hV98M/EBHUEFZZpj/Akprecg2iP0hN1I2C1Kc/HCezXMDGsj+Cv631EATgv8gEniP+fuI/KMIWNN3a4b/ASGtV9cm5PyxZvA6yfti/ptICCVaZ27/10CTC1hjgPxACbS8P46w/PRAJtcNL4D+oq42jz7HCP11VOCPi7uE/EJECfY4Q3L9gpZqSV9Lcv2SAndgWRrM/LKEElB+ptz9s1orHu2W7P9RjnPWo5OI/XI7WfOfSsj+UB5I8RXPhPyCGXw5T54E/+Ikp3x+zsT/AAuPkxaCPP5g2NRnllKk/s8Lf6Fds5D9AQShECNedP6wHWMw0grA/MCP2oo/fpz8AWPl9zVu8PwAcB+oSXLY/MNtJGHiy3b8I951bHCPevwDXHjHmydy/WIzcnCNCpz9gjW+/Q5vCP1JMCfiB8eA/xITAgmLttT+6jpfGl+Hdv1hjEyVr2+I/jFtTH1X/sT/Yv11UJzOgP5x/xV4fzrU/QNQbmxfksj+YA01sUfWtP/yL1YhcB7Q/HkVSvTFZ2L9E4nBx91/Xv+AeX/nHlZS/YCqA8Mr9uT9ghrkOjU+0Pw5Dt6m93d2/2KM4jqkj4r8QKl85s46UP1wgVdw+b8M/MLH2erfYoT+POh747W/jP08xOwU9dOG/ACPlsuOfsj9l7JWmzurdvy2p94GNReM/+Jk6ndFcpD90BEAfrKGxPwq60I6Tyt6/kLr7kDO8tj98G3KXSF3DP7geDghkv7M/3zBW9W581r8AbDbZf2yCP+DbsDol2KY/+1coIDzx4D9SwgH24PvZvzsmzRXq7OA/yTRaVyZ/3L/wTOItYavjP/i2YMOnI7I/igMkD9ZC27+4t4f3+SyhPyED2WsFW+M/ioCtcHLu4D+tF55k9zDev0i5RKkoMdu/tm7Tck+64D+QDASB1cSvPwBv3EtMyL8/2OQSCe8227802bXPRyrhvyBPraiS3IO/s/PkOaWt4T+YBbZRMAiyP1B1QxdaW7s/YFhFRCNTmr8gXlgZS/eQP6RJJoITRd+/RYnifAdH279Vjro8NgPevyPzWA5pNdm/GOFVVeRHo78wolfESSuyPx+NKI0s2OA/+XDerQYC2L9V6eQmVR/iP5h/4P2LD6U/FGp2F8C/tD/kL/ijQQa1P2fj3QFwluI/eKSvITFg4T9AomOO3yO2P73tkqSDydu/QJPdT+ANgb+I3GTUVe60P+jR7lckctm/0pECRvmD4z9IULmFHdi/P1A2CIlgC6Y/oElvdZZswD8sUiP7noizP2z2L6kY1+C/PhA2JVRL2z/AjLBhwR6uv5galXR1wag/wBLVsrFZtD8wBqhEw4K3vxiB+el9MK+/IB9K2d/4oz9kXgDuM9DhP0gqdJAWrbM/4Jm2QZ+GrT8QAVop3Svhvzi3lk5/5cE/691vG4Jy5D/QobRler69P7w9zOna3rE/wEpJGiEsjj/J2Ohbgx7Wv+Lul1qrENu/tHsXae16vD9eV1GfDJLXv25dKWOwA9u/UKXoG2aNkT8gptliWfWxPzW6PMiFPuC/lgp9CVgp279CGOckpVLZv/bwcH9Cnt+/EEawrn+wnz9Q7Se5VYqkP0gbvqbEQbI/QLh+xhligT+IcMPkkXGtPxQmZ3Kg7bg/iCfCfrCvpj/Q8VewBgemPwv4s7GA49W/QaZWxHoZ4T9VI58P50HZv547bD2fAt2/IDHSfjuHpb9gWdSsZa2qP0CLRkxE5rI/5wDFilZx4z/g5Ar4hJOxPxAAncTdLNu/6JCt0xzTrD/CwS2EllPevzCXbmEOtpw/iJNNAOqetz8kBnlcO/PgP7AyFSygLeM/PD/b4Pxmtj8IbudWsvfAP9J6ObPKA+G/aEX0oPL7rD/wXrgQWUmwP5VAVetM8da/pBc/MGL/sT+zXXWXd+zdv3SqZlmpR7U/1X6a5Thb4T+WLqnCtbzgP3gfdNqQs6I/VKQuUNQhtz8INkV7sKPev9Txr0IjlbM/oOjZpX5esT94HNxaOmLXv4DvOmAoA4k/oto245DA2r9QFxuFFr+4P2jRpzHRqr8/Vi4DfOyV3r/4J3pPF+C+P+2gtPqieNu/pJuCsdSG2L8PdEY1od3ev+itZ9659t8/gODlasJ6jr/AwenPrFWbPwPAlHZhktu/utZlFiRi3r8wLDLqsZGTP3iwP9iS9eI/r9vg4oYR3b9OvMtQwfzcPzkqHyWQdti/8VgAmEqk4D/IagDl+0e1P2hXY0HJh6M/O1crRfe54b8Qp93GbhWXP4jTXk7agtq/ynVBZgzI4L9sGSkeQmLgP9h7cE6qsrE/AGSpSFtiQT88Xj8ST6u2P7kTBHA4cOE/wMGb1TOLqT+wEJU+HkPbP25EbqmRlN6/UwVhYlU14z8CUUAjEEjZv6QtfwtAgrI/kNyh6HoQtD+nPKwIudPiP/3LCGAGu+E/GAPAubvl27/GHdXmq8nbvwmHvZww3+M/BIK040Fo4z/kbAP+qHjbvxAFAD9vJZw/4BdvnFPCsD+7iPAzL1LXv2AOjSc9cqc/kcrGVvC6278ooc7uUdSuPxdN1robc9q/kIgWiLW0tD9I33dDGXWlPyVcUKjHx+A/EMyzF/OHvT/ArNoL77uxP3G2Tiu6s+A/uKsOdtq7sz9kpq4PTla7P3DTiDghyZ4/aI1dFlkpuD9jFMXRtqHdv+I2DJnezdu/SAtRnvSAtr/tfw4I0Xzcv/ClJ2uBlqs/I5xl0Sc13L/A+2y3R555PwyQWyZbr7U/MLkeThunnD8H4uTue3jbv4B3gye6Ytu/wJG/87nJn7/ohgzK5Bq5PyzxP0cJ4ty/CGwYthtdvj9AHh4pIy/BP7BEp4n0w5o/YHEFdyLx4D94LXHLh5G2P8jaRAIDx7M/MJUUqY6ouz8IjFWVhaCsP7ureT9N1+A/qNRmVF8Tsj+wqdddxtWXP3B+mxRLpbS/6MEYiXQ44r90k2mR4J6zP9jwZCSOLt2/DBjg2Esusz8s8DCXMY/ivxg7WeQCHKU/vNh3RWrTuD8A1rEXici7P/joRf7hJKk/ow+ojDv527+k0TMVQkG7P4JMroFI6dm/0PV82XGNrD9T0vqonDHhP1T0SuVPX+C/cOparAy3sj/Ac2WQJ8S0P6n8MNMcu9i/0GXhbe8ipr/wVqsqZvbav/AtAKTQ3qe/op5y6eQI2r/YXp8MsI2oP3A409Fbod6/IBSCSTPB3L9otx6/yySvP4itqbYDQ78/OHiDdwGstj9Usk/8h+KzPzbErKcxZeC/gK7nL2rJZT/QJ8lVyv+rv6DSb6+JY+M/uyfhk7PY4T84owvDUuCoP36ZcGhDtdq/SGMqFAIXoT8gkkXlstyjP4ye2v52kLc/AIb/TPJip79elQFYYMjevxDIcVuioJA/3OV6yZye3b+AqfggJMR4PxBAMplT8KQ/gB2ZCMldlz/4Nt7VBCG3P3rf5+GEEd4/wJHkTaRarD9CxLnSeXrePxCRIQQW9Ko/fQvEwS1G5D8s7yqPuUC5P8gjJny2uqc/UCEbSCFGoj8s5sJtw2GyP4DaiF3lydq/BBoCZoIM27+8yDdEYVK2P/Z7McPPkte/MKmOEYxApz+3N0QhsdXdv1iUzoO8Lbs/+fi2b+Jn4T9JqbY8srvZv+BaLwCXdpQ/amF5OqfH3L9nH8xhsfHgP/R0oaBeFbs/e1hje5eD4z9c9auwixvhP6BBZ7HN77I/DMXedz5l2L/wptKqIkPiP2DLOkMeQuK/CIVrgjlcrz8o8M9b68mjPwNBY6CHydm/bHGxvKe83L/7FvCHySzcv8BJhIUTBZ0/qGFxbwu84T8sYRkFgW/bv+IEHeXMIN2/7F2zaCvWtT8CeDzU3dPYv9hk0pnM3qo/IK/8dRTUqT+W60qAO3LXvzYQhWzgetu/6MJLkEQEwD/giqFjOB/Yv7AaAzZXiJk/sK5liUGIrj/4aepgnp2+P3AlhtD9RsE/FDCyjnyfwj/+FYyohlPgP643RJ4889u/AD53jnGZtj+IDFLOa0jbv4CwK/7In6g/bGQ6P7+/27+ibwDX8gHbvwBQItUcsK8/9xxa4NJA4T+QhTltCQSvPxjbIbHPW6o/wM/5el1fqT98rzghAOjZv1DK61JKlJg/kCmf1+8foj/JVdFnixfiP2SVtZqLOsU/iBynjzmPwD9g9vQytzGqPxbwwnbgttq/30PUhSI54T8AHNKlay03v3YJ1YxAo+A/CR8ln3zq27/wXOphNTKYP5Adg7kQipw//EsqgHdisD8Mzpau3C7ZP96jxvPHA9a/ZUUM3kwd5D+wVQwpX5zbvw4CYzxAmtq/TMD3QMV9uz+gPQpsaBOwP4myFAcNxti/Z6iKei734j+g7n2qq4GVP6AmJ7lTuJM/OHoSW2eztz9gVpHmirCyP0gQoDptqqM/kJQ3QTacpj+AT45xd6icv3hIAJajz7Y/5UKptXCR4L8QcTR/zfTav/AsxRC2Ep2/ZlcqPfoD4b+w08KsvnG+P8wtO1+XMrO/U6NAs+uk3b+Yx5hB0USsP64RBPlfHOM/lEak5ZCHuD+gi+FeYlmPP9TRnqyJtcM/8Ev1xCRJvj8URPODPVy9PwSJHDmOdcE/6oAIcG8J3L+EUudw5UO5PxCzY10s+d2/QkTP5zlj4D+msvX+H6bYv0CkmZQsEKm/SvPc3ZAn4T8YnX9vBwysP5CJi4YbVrA/YHVwEM1uoj+A9xu1FLfcvyj9oPsP36q/QBym5mGOlT+Aqc47lvqfPxz70u05nbk/OA9DMLD3uT/9fskyBJXhP1RCXGygr7M/7rifYy0J178MoAVfgUmzP3BAxu1eL6U/jAAMqBLD4b+//goHRyHiPwSRsAqcFbE/6M5w7u04qD8UNEMIbr+5P7yXc9iy6bE/DtbkoB8Z3L+U6ft5PWi0P5QnHvI2BN6/EG8L5pnb4L9opUHM9GSyP5i1Hw9FJNw/sMDljdyfqD9ApTe8lJiYP6sTLLa349e/J2xSBOM54z8gVnnh9mWKP0AsOMJPNJQ/fKUfWQDQtz8AHMU1a++QvyCkfS7f+r0/O04jc9r74T/A1Al45wunP16Emw0BCuO/5E/aaN844T8HBK9iOH3av2wD5ijIA8I/NIV9D1p9vT/XDbJ/ugbbv0gXc3fu9du/4dX9upzo27+/ea7vsNXYv5q6TqJklty/DdEjGVjT4D+AvvAZKuptv3JzCSs3Ody/ILDGte96rT+EdDcnGvbav9KU6sB7auA/mYVZqT2S5D8iXDeYNyzev8bR4i+JfOI/RMgOMdaOsD9gKPtfMpi+P0DOVN/I+54/+5Yrg+6d2L9IXhR91VGoPyDIAXOpMJw/NMAOAC5LtD/82DkP2Gu2Pwg+AIPLiaY/CNCMnpaZrD8Aed+VFBufP8S6pig8+dy/oN0iyhnApj/7y1kbTmvkP1heeUtPhbw/2ONn2yd7tj9gYIOf8xipP2iKp7SCxae/5eEfX/3p278lMxdpGMfjP8LZR++YNeA/FKhuJGCnsz+AkRQTd2OuP8Aa8TpJQ7M/lFUz8C2127/ANphIrTeVP4Q3qdi8bd6/WHcXZwvqqj8QI23bS+6kP2iGVryHgds/AHEJZ86woz8cQYq2J/OwvwB+wfgFAHm/oPDDLz6TiT94qdXfoMKgP/A2WiQHs6Y/dO5jaefQ2b9I9ImfZ0quP9CgE0Em7p4/IJ6X/83snj+dQ+n2OkPcvwyr0cIPzME/bBNUzhja4T+YPWnh18W/P1joEl+BUa0/bwlGOecE2L+4xBMteyu2P41bla8foeM/AKRDuQzaa78zADDFsBTivyyNgwJ/1rI/+J15j2XB4j8fveIBdQLav2RC9+hc3rw/iHZwOC5jrr/It5tUkAyoPyab0fC9LuK/qgK16vth278Qv8CNpHGnP4AKwe/Kv4U/iAxdhNF5uD+gyf46aWHiv34OS7Iw/9+/rN6K6pZ8sj8Q5OLyTAedPzcZbjFrqty/wPt2wnUUtD9kOF5JVWLhP4BWvnInR6Y/lfVGMmLE2r+6Z2GHKh7av2u6znLVKuQ/DNhdN/OWtz82lOwIgk7av4DL38wJKrg/BIWdyvk1uD+4aDfmgIOwP4CE/bwgWIs/oKcYY2JYsD+gSq8i6tS/P0hP6NCo0OI/uOsw+rKbq79EZxOGstK0P5ivJD9y3LE/ulOkoxCk179Ih4VqUA+iv4hPNjjH2K2/EBY5mPaFlb++gmiHDDThPwBV8HNYTYc/wv+Q+hVC4j/02zMnnvG1P3mnT4ly8Ny/sEOJN0g8kD/iqgNTm7ThP9BY89ed3eE/tjxxcUN/2L97ZOosF6Lhv6h7v80b0K8/cO3r50S1pz+cg7yIbLu8P9510+n7GOI/wGI83Bw43b+gTy9eoibcv6AQ0VjiArS/8NfNd5GKlj/gtuoeuYSlP5ZMVtPZW9e/lu9mpTTp3b/WBdgUVE7gP3iki3gNvqQ/eqbEEm4i4z+k+4YNMZu0P/tgtN+P0tq/eJy9+unH4D8VwwRRBiDjP6B+ScKNfoU/36HYxgfz3b9o5+nbO2+0P7gAXM0Dl+I//d/nELVh3b+wTkavwO2vPzTPrpghiuC/nFM7Af2fwT/uaw7dZpnZvyApcg70FaU//qwKjY1N3b9AtRjW0SK6P/Az2WmYzK4/LvBytkTe1r/QscMN11G4P+Ap2N8Lr4w/GfvS3phh2r+I31ZuhtjiP2Dlc5QeXrS/dAyTilTl3L8EVRjl5me4P2jXia9YK6s/hKj7/25m4D9wibkf13ulv2sCkgKwCdq/mCB/zEd74j+oFAJV8MnhP+w8RaY3oeA/ALPUJAXAmj+oD10K80WzPyjtES+2AaQ/9Xod/aFu17/IE9vIIZusP8TFdiTBF7E/TPNcMID6tD+IupDzms7av20LDFUBM96/0jmSKhVm4T/eRirXpDPfv0xiRBzTGcU/UJ3Ja0Kssj9tqq8l+eHcv+hcQFnVgKw/fOVl2iontj8wBu2XnuGrPyhq6mnaX6M/9Er+F6oBwD9wcswqd9DhP/fA4VuLaeM/wLanSRBorL9QAR8EmPSeP6nw6XVzQ+M/smNY0jR04j+Q98Oa6AmjPwP1nLqjLNy/o4SqCioZ4j8At6l8rxK+P7QBHIienNu/DssqRPW23L/IKehhDje3P0Agz7bW0cM/6jVtEGhP2z9AHhlzISepP8xhtKMOprs/nLrVGPmP2r91Ux18J4niP7bZp1mi/eC/IGKaosT1qD9QQ9JgFx+eP/Cvn+gxcJ0/0Jv1p64Zsz+sn/EilcC3PyggWZLcC8E/QM42pxVCkj9QX2VSA/SiP1vZHCcrWtu/761X+iEw4T/anlBFK6rcvxD1jYAx+KE/aBVb8xhSvT/qOi+18JDgP/DPQD6dIbU/sCKu6TAL1788WJKEpevgP4ie+ZpFsb4/gEdfG08UqT+w0ZQcLNK9P0LK4tzSvde/EKW5hFEguj9GbYkkkzziPxSazWV4ZLU/klUr+I7O2L/P77gerAXgP+DpDINHxaY/aC9THbvpvz+YcLfp7CqhP5hdSi94P6M/FNrjfw31uD9KWpE9YhniP4h2fpUUta0/c+cynIeB2b8XAGcTgrjYv5sR592GLuA/wC/gNFeAhD+QCcWl+tCjPwAmI0LaHZY/bJapOC004b+8VY+Il7y3P5zeD7cRiLE/SUE+W2jQ4b9cqE6c4+3iP7hGvC1rceE/w3dsuzPw2b+Y3Yx12cbevzDJadJjV7w/GzAOmbYj4T9YwZfxVrSiPzgKOH4SwrK/jOBz4clfuj8gZ99sN1nBP0bFZW3YlOC/+M3J6my4qD9oppPee9KsPwBUAuU506Q/AUuxpx9j4z+1CWYCOv7iPyKLeGBoyNy/QB7W5NOCcL8U+Ob/R1iwP10ixZZelOE/xQ8aGlx/4j/JZInq1jDgP69ADeWi4uI/UFHmh662rz/IaxUd/W/bv7Q6sryADOC/IINwHX69ir/oA+Th9kOnv5gT0UR36qI/QFTiaIrB3z+MiG36nVC0P6C3aVMKba8/uOoADmTgsT9wNortIkilPwD7pASXX4q/cCs2y6uX3j/EaogaiELiv4AagdlSO64/Spyiq7ln4j8TDhAymjviPwNu6vTwStm/cEpXRAf4wT9UHYlNlybDPwBbmVyJHqO/+NM9HytMuD8486zTKw66v0ONM6x/5du/4GbgDMGvkT/B2jLOw7ncv0xMsiQpa+E/hCF20dMawD8PZxiQggHcv1DEzM/iC7Q/oKE+q83JjT8Vv7ouxIPbvxAF+Sn0tZw/K1uJdBo14D9w7aq7Wf2zP10wx9cw8OA/9GEjeWUZsT9ESk00rqLiP6A9CCiUEt2/dMm1zUWh178yTwnXtvHbv1x1/UmUlbM/YB6xtioB3b+oLQyaBCDcv8gdP09LncA/ZPOrSTtTsD/YaZRuRDSvPwCa0v5B1Kw/fF23HD1q4T/8V+uEGSm0P0DpzLOS6Zs/8CEKViUc3L/yW8sUUwHhv5DbhsSwXKE/pia8AXwB3b+KWB12pkDiv1hsrI5qib4/JOn7aEWL4z/gt39S4Gq+P3E04u8cCeA/OLXT1DtDsr888OWsi5HiPyNbBJKH99q/THZgR0bt4b8EkGsAGSncv7hi278YJqw/yPzTxSbvrD9jlSc+mCravxBZBB+Uzao/hnw0pb674T/kEn0oAEa7P0DmIucte5M/ZIsQZqlVwD+wnEXAlOLYv5TuJ0O/5rQ/2CxILLHnqT8kGn1DdQTAPxCgxWsqSeC/0O81wKqR2z+qR0JdWLnaP0UBaPWbCuQ/rCS5gvJ1vT+Jjher273Xv6DpTKBSM+A/u6uO0DuA4T+UXxjlI/izPzDOjGUWEq4/H+s2DFDZ4T9QYMcGwrirP8BmbbokMKU/RsBKXy+k3781js/dOYzYv17ki/ugnNw/0JJ2CH9Bpz9Qjkaa8RizPwBhL0xDXFQ/UO/jKySc3r941g8za9Sxv8jU/bgqW6c/uAGC+PuD3b/y8QlM127bv5IKvA7UFN0/YHQCbIXpir8b4+R/61zfv75rQf62/Nm/j6OpqRbL2r9gCCv05zzdvxU5T4d6UNy/QGyTAPFmkj/w1Ccr9tCkv4HfmBBux+E/kMwYZrdXtD8AoMer8GTgP70jjED7Vt2/BXkvq3Yb4T9oMKUTNy7hPwdsF8DMBN2/gL6IFkb7qj/jtRkGxq/bvxiCNc5yhKA/uKQ49wdS4z9LbAdMiuTgP/JSI5vXq9e/NGcuYnM1uD80SlMalLDYv+oNxmksDOG/t/CcX5BW4T9B/MIPCgncv6hXu5s4J70/VtMnu96C3b9kSwhMFwWwP8IcQFc8OOG/vPMVfdwdtT+c3+f3xnaxP5T76qiUprA/O7xNWo9R4T+gsUeswrayPzCrh+5UY6s/lmQlSJfM3b8YdDFLgfHavyDVA4BfSZK/2KuMzO5bpz9AiBo3of2iPxhsW0mGPqC/wLDcf28ssb/IW9jMV5isP2BB/q49Cr4/eG576rav4D8vD4BP2oTYvz4maYAab9y/IKeqC8603D9ISEWh3seqP4BLoql443E/uNR0oI5uvj/4H/PQhw2mPyi2+Gcdotm/5QvhO/4b3b/AhrZ7GAu+P3Ahp4OiGr8/GPFaa56a4T8P2M2VwPjZvzbwgtHMc9q/RWOlr1nA4T/ifg0+3x3Yvw1Mf6uDmuQ/E/Jr2rv+2r8MOvc/i3PiP+ca36AdIeE/tK+IC1/ktD+Vrm3RXi7cv3EFxcUZLuI/YLFe54hawT8gHx/WoUepP8Ew64eNDuI/Er7XHkPy2z/sGxO7Tfbcv0HUNuUG39m/8rEAnKGb3L/gTfh/7YmWPwAroi4DAYo/UOobFb/Mqj/oAU/nHSS2P4D/MGYhXrE/0AO1EdqFlT/Itbdqfr6gvwjOj1A6Qr0/rO5iLkDxuT+bme5D7Mbbv+Q7aJj3wLg/CJXET1tMqT/Oj4oFTHTcP+w/X8Xowta/YCUXRoQQjz/IE9eH5jSiP2oFlITzxdi/V3HqOfJy4L+IAY1AQk+kP+7Dw5wRot2/bCwOXxViwj/MeqtoFHy7P82WoEVOBuE/ECR7ovUwqj9ebJrHt63gP3Qm0I0UObQ/sGjLVs6zwD8wn3iIVZ/cP3mQNzVC5eE/Bt/yqR093r90GpQrF8yzv1yNmUUMieI/eOZX/1oQsj9AQFeSbluvv+h9Fv0iXeK/Dl5Hpcn32L8cU5oAtNy5P41IcwkK2OE/wWDBCVIT3L9gCIoAfuq1v9ZqMTwKS9m/SC+hX/Wx2L9uYq15/WDhv9ET4cVgydu/zAFK0nwXuT+EF36CPLuxP1WDGHoCf+M/aN0mqx7Etz9uDsIhbRfiP6C2LELoF6g/0XCufQmL2b9O+a08HGbav4oMpHaiVOI/OHo1K7T7rT9gigos5pq9P4CdtGKuaa4/LynqDUmX4z8onLFt1svgP9T4qPy9nuG/4A9zSac9qD9hikkSrwvgvwCnrwyfF+I/Sag3NCJp27+8Df+0tXq0P/93d4nq3+A/4PM/pZgNlz8MafzNYTCxPxAxssLpo6w/AP59pqW9nz+FxiP9q0LgP9Ooy3QS/9q/cPQvmf0rqT/wIPmgqbm2P2B7Ny+Wnbc/0x3rgXnb4D/+Vdcw8I/bv9Ciq4MnILQ/yAlr7ZGSuT97NWbCDLXgPwqI2lXR2dy/IIBOChY5gz+gEaTpReuZv4sAxHY1Z9y/AJErWhxFtT/AdHnBwQSiP27DPGtRjuG/zGWzFPu7tT8Ven4SemTavzRecX1ZBbk/p4Z+1eic2b8Dko2suOzZv42MR1llGdm/aPLKAC6F2b+423Mq3Zzdv9OQ6VfhyeM/eVLgZ7hp4T/VAoH2q33gP8WXrgtd6OM/sIKGKVdMrz9giXUDFim2v9zsu6+9bOA/HOGGRgMA3L+A4ggmRKm0P2hQ9tUJlas/wA1qFfmBfb8Q6G3O4Hejv1HKF0O4Adq/MDcGHHcqsT84tBoJsOCpPzsFWrgsw96/oBLSWRJYmL+ZgWr8i67Zv562NXN+I9y/HP0BCn9a4j+YPP+qRfrcP0iO9b2VabM/MQd88VjK4j/cE4hvHErav9hcYLKgV6y/fLP8rRvRsz+frWE9LVfav8CUtNeQx5o/3IEr62913b8gSeZNODGuP/A5KqY3k6+/rvGXPUCx4T9VffnZKqfjP7DYN9AMlKw/WEvZX3QZvT/8vTNRCrKzP0hOsWDg08A/DMQzV2lI3b8wyuJUCyuhP/TGf0p4+bg/kNCr7Ks62r/pjvGRrzvkP3DTHRfIcLk/MM+4zPf7uD+rVgUggofbv7QeLCsFitu/2AAoVwRvp7+crw39qavav46SAJO+w92/9Gs7jOMj3b9UXZVxd1OwP4GDwh28wuI/NrQYDLan3L8QTamYGNOcP3gP5cDSBcE/YqM1ZQfx3b/i+c/ggSrev1h/wV17lKQ/lPJHVyX6wj+A7b1jnM9rPwmKVi9scNq/mIVGwMGX3b+gi/gOVL+8PyhUhbGReqw/TDnqOONd4T8S99KCXKziPzMuicU0YNm/R7j9phtO2r8kZsYef0m5P/Ra8IwcDNu/6CUfq5+Vpj9o805if929P5SkoMGMpNe/RJUEu/OrsT8xA1JyLwjiP9BTwUjNEKQ/qGcNHLF+rj/AaCC7a8uSP3C2WK3hBbo/uNBT/SDowT9EPEGk5MqwP4x/uxLdvbw/gFizUFjunz8QzWgpXRbBP3CJm1DZ+a8/8LyNSQJcqL8/cKUrNJrgP9JLw1NLN9u/ELnVBe7xvT9+lyYNIDPfv9fmbQlM0+E/GhxCxgXh4T9UQW6Rfi+7P9lOaN/ANuQ/h91B+M+R4z8QfjcDwmigv2Dqhf+dsL0/LJ5YzLxi278c22kFOaXfvxjyq0x0aqQ//C15fHUcuT8wX9lvLAaYP9il8ve7wbU/UIqyUnxu3L8Eld0Rk2a5P1DNkhwOlbk/qG2gZGelor9GDPKgWL7cv3z4s4Fe2Ls//HfRgf2rsD+kTbKCBMLZv47o35q7puM/ZDZErRQkwz8oubrEsomnPxCDkaMCjKA/sEEyo/C127/ofTSmWj+svzKtYoYkqN0/6pU8S2nK4j88ElEUKD/gvxjkSQYtnbM/5FdJPoPD3L/sqv4EMZK9P1RZINTkj7c/YhDI5S293r8sKHH7xoOwv/jnC7Txvqc/rleBLDBt4z/gjuQptDOCPyy7wlGWkeE/oIc5j5x9hT/Qs8YNokORPzDkZymZZOI/1PdFc+c+3L8o73xHS17dv/TlRyUznrc/UrECacWH278Q2nLDjAybPyDqyDBvWqU/awweWqQI2782Bow8xSnev7hP4Fv4ROG/8FbKN33+sj+olthLMamsP+BB7npweKw/fE+WTWoksD+ooujTu32tPxYH2aAK8OE/Frkyrh0p4j+4/i0p9l+1P3ygQHFEpLs/nL72gJl4sr+AVSqWc0jiP+b5mlQFztq/UKFris9S2r+0JHDnCoHav08sd0O5EuQ/vnwR03Zm37/v9vccVsnavwsZIk1Ui9u/kMbOQed3rT/gYSi2wduxP/Muyt3kjuI/Leex7qsq3r/MJRzm5ba6P9Dh8qS0Kb8/pNh1I7OD27/Y19h2CVapP+PxzoxrROM/ONwWML/csT+Qj4neP1W1v6gw7hlkQaE//LLeip+B4z+XhV2ojZDcvzG5Jay0UOC/Woz0ZEQw2r/QKcudcCimP0/E33cd39q/c+ZRPA2Z4z+AwiO6X6qfP4+v7mscz+I/CBomXAO4vj95WK7bAcPXv5z8JWIVmbw/DmyIVpWS4D8Y8bp1lQG3P9Caopod+Zo/M8nVxd26278TWkYavubgP6j0jNpInb0/KJq+D87IpD/Y79hobAK/P+Nyx8O5OOA/qDxVDh16sj84TpS1f5+xv+eF7SxQVtq/xMqFsC2wwz+EXTrLti3hPxDEDGKM3qO/7H3YXylsvD8wK0O9S6a8P8s577i9E+M/cBx+LtfomD/gfayyieWXP4gcUmNNHbc/G9IfreDK4j/ARb/v3Nbhv+N4jUWWeeE/4IEAGzFtuz+/N8SRWzTgPzyQmJUw/de/5NQOq1FwsD+Uva2hsdzbP5VNhfaNWuE/cC+WkbjvqD8AapUH0EKlPyg+9gBA9+I/hBVS893E1r+AXbGq6wyWv/ZIKj2KM9a/zPbnaGwuwT+c3AQaHDfhP9VtmjxvkuI/Kk6OPFVO3r/1xr+J20ziPwPNgJR4Eti/aPBygFkiuT8FOYApYiPgPxQ3sIx1Dbw/k4QTPVZc4r/gg8kfAHW2P2Q0Q1pcx9u/pncfxVdm2r+mbq9aPXHcv/Djl46qS64/0JN21FTsqz8TV2qylmfYv2CNtvK3s6Q/4OruvHw1oD8ckh6h4+m0P4AkZEP+k40/QNpxmEsvmj9QRxLiOdPZv3q03y3kM9a/RNeb+/7JxD/S5R/LjKnav9QYB+fewbU/KEd4B4KNuz9ABDvtkQjjv6ic6Q5vCde/sMNlBhn24L8g3hI1X2yoPyAblZCayKg/CKO2KvX0sz+EAFLef3e6P0CX6lRxDJA/Zxtgi8hN2b9Ylj7wvn7cv4jm3+obWa4/TD504RE+2794H96ScB7iP6iMpBZddai/xdt/9wkq2L+AcjCNFN+fP6jLnsLdVOA/bp+zmw/V4T8Y7easQYbgP5A0VtGe6Z+/CBDowDHh17/gdbh3GiiIP6Wo2aRfF+A/qF9urWBXtj/I9j244LOnP3g0xsw1h8A/VONHOKTetD/7k4Jp90Tfv/93yL7duuC/fCgZkvllsj/OPs8iF1ngPw8xGjfLieE/PmOQnzLl4L9Al6+i0eyBPwZ++lC9MeE/ZL88PZDp3L8tGmUAq4rhP3xNPuBOAsA/purdzF3A2L8EDC4sPIG3P2zv8NN43cE/mWVr4PB34T9bScZ9vjrhP8j7LZc7R6g/JDK7B7t4sj8e4D4a5h/avziQ0JnhyLc/4JRX84/+kj8oXmfNaH3av4hU4QmyDqa/bQ9MIpcX2L+NK5MnNZHdv3Qq9wM5dN8/UznCttFX278GPf1KX/Ddv33GKKUM2OE/uH0TpK4r1r/QOjHNZpGlv9D3u3mtgKk/NO9BAWxCwT88Uoy/a9vCPxmoK8OD6OQ/MJGHZ6cQpz/V4OeJX2HiPysr7Idy2Ny/6JdLa4+8qT/HX+SUe8bZv9yZvEyBq8E/M9UngNRX4z/EapfXfmPgv8Y2eH90NNm/TD6yvX8Jtj8wBFDNLP/cvy1rWjQxmuA/bO+O+D4v2b9MskXUnFC9P3CgXO9ky58/GAvdeNL94b9eD+dRf7zev3AqUI7XZLA/AH723XdMcD+Qi0yeAdq5P1CLMpOM0Zg/gA39w2xNjD9Pjdlx3izbv7juZOaO/rU/O6Xv6ONY2r8o5PrUjYDbv5nKaJrJs9i/AKPDvm/OrD+OCFGfj+/dv40Gdtp5T92/IHJ746vopD8uQujMVAXcv3SZa+AaT7c/JIjRB9Z/2L8G2xfmjMrav5DSf9Rrj7g/IG2X4vYDoD9IXmniKFK6P77tK+IBqN6/csunq/mI4L+EfaFrGH7ivxzN6E3YsrQ/ODhIIyujtT8n9evAshnkP7+sRQCOEeG/4Gobh0EP17/jpq4soXXgP1iLIxd8h7E/TLdZzijE2b+WKBGklEHhv7hrMsZ+Q6i/qEh6z9cx2L/ZtHm2Oc/dv66+TsldDti/8RCsQh/g1r9oPR2LVMDeP1jQMzNrk9m/kG694/3N1r/4JwMbo6i9P0iPbF7vNbQ/VrWXlBQw478Icvndldy6P5ef2UnVh+A/cNgWiyUnqj9dHlMKdMLVv73SQuVbp9u/v4KA6m0q4j/8hoD/EJKyv1hpq5a1dqU/d9EgbpE64j+Cj/loCrfhv3C3yW3XKKw/+jU0xfy+2r/BDZV+RuHjP9p85XsuA9i/fI9QNgIu4b/2Nchabjrev+IdNb6Wht8/SP3mneeq3z91/WL+IT3ev5SF7s5KxN8/UOqeLA0WrD9641uxlwjbv0PLYozPWOI/pcQEBZQN5D+ULoLZQwriP3SGmY8CL7s/6FIHGIfxsT84znMGS2y5P/CPow3omd6/wMfMAZoMrT+ISxiL0SWgvxSMfEbJfsA/ELNAK/0+oD8O/8gxDjPbvyx289uVd7e/SL/K9bBcoz+Oe/oRWO3gP+ZpkHoWONq/ANXL+p7t2b9gEx1ZHNKTP9B0E79V4a2/p2pLaZX44T+gDOLWMLbcv3DTKNIOwqE/YOw5YZtLtz+hrgL5/wfevzxWUVlQ6Ni/YOL5dZFijT8MU/r92K/ZPwWpiapYDOI/8DaBiqOtoD/orpb10ILfvxDqFTzLGeA/Igw3sa+d3r+QpbbRcdejP8gPS+fnuty/0F411dP1qj/4rqGUEqWwP7j+1APr0Ks/mMiPIGfUrz9S9Oob8J7hP4AAYwFZF74/mBxOtW+Rsz/wn6w8K0efP6Jv5cojGOA/MjS0GhNP4j8gBaR1P5iJP3RZ1m6tpba/QHbuwS/Vvj/DVmO/uZvXv1hUxideHKG/KNLCfbXBsj8+nf4hijPiP7oRgWYnbtm/b2FfVlCF3L9Rso9nZLXgP7TVUXYtF+K/fGchJszR2b9W7LETG+bgP0CsWq1tsLa/sKgVvMNUrz+4/TnBHpCoP4jc8809fN+/NKHzhz7Yuz9bo5aK3Wrcv6HyltXWGNu/qGCnjGNKuj+IzGKhS4zjP2BoIK4pE74/nnoB6Ms237/guJHaoiWzPwCVjZvqdqU/8Mu4fz8ttD892xKJ5orjP47YHVdVW9u/RDWYNOJIuz+/YtX8sMDcv1kZPW/H5dy/+hkEvOUo3L8WSNldylDbvwD2Ywzff7M/GDfcYzrkpz/Qfn3yTlrhPxTny3VMOsM/5A4GrtfI4T9wKHQ4CcW5P+6oGNfHh9q/UGqowEy2mj8vb+0VHp/iP4iwjmAwhbo/hNp+MnS44D8qzssDRcLhPx4LTnd/D92/WGPrdNz4tz+vZ6pU41Phv/jUCnFq7eA/cT7+trRV2L9gDy/cJ/KLP9gRzLK/bNy/FF5BHQHWtT9BRtqa0gviP86pfuJKteA/mFZca7WMrT9ooPO6mMCoP+gjnqdAyL4/+uJL+quG3L/4AjiskHGhPy04oQiWA9i/2LhEDXhUoD/wq74qhGOeP8Qqv1iX/9e/tXyhqrQw4j+wGvN9uFG0P/RaC9GRtNi/Na8wdAqn4T/CnfZXIufZv9Qs5GAX1rA/DOAZC2kK4j+LpEiBcovav9vVIZDj9+Q/9BXRe7j72r/Qpx14J+KuP5HX/avfnd2/dTAmZg6M17+Cp6BnWpvfP3BtZG9HAao/E8bzVCdZ17+DwDP8xs3iP+eQva59adm/PE+f+D8D4T8ewG+lj1TfvxXzz793i9m/CK9+5k+GqL+kEgcWgie4P6d9sma4gty/oJ7TZM9itj9QRgxchP+kv3AZaCh39ZA/5KbLpcsbwj/kxRsh6MCwP2cHkvplD+M/jqpKdEvD4T/0vavASXPVv4h6R/2ZDuI/OS6j0cIy27/2xQrRM27iP1g/dudyaKY/gZLGuyqr4T9Q+di9LwnhP0y94kic6bQ/hB8Jd9Vo3L+ab0ybXv/dv4EpG3Kzytm/MdBaum2L4b+4/ChbLEysPxSx4ZLef7U/xMxXY/MpsD8QPa5zgC6jP7roB43o1Nw/MrzrPJSf3L9s22Tu4jyxvzgL2X+UduC/sqYM/wFU4T8krnsW5WuxPxRZmaZ9jbM/qAZWgFqhrD9iUQO433jbv2Ld1k5K9Nm/uvHw5s5D3r+Yb90Jp1ukPzw3THn/Bd6/+H4HiJqVqj9ksntjjrixP6erl7T4eOQ/8NRP0ppXvj8a3YGi4zniP4bQZrBA6dq/n7gjLd9C3L+CGFbZ+EbYv5wNe7Gd37I/FJULl1Jktz93xjVGyg/jP0gjSBihHrI/RvXikftL27847+129O7ev6XxDCD8NOQ/hDnjCU42tD+iR4Ar4G3Zvyp+czvo1Nu/uIHcq0BKqj/MdxigJ8Tav/hHOIuHJbo/BOm30yXh27/Mbtbsi/LgPyjXgNRPNeA/pxTX18Rs5D/Av1kT/zajP1DIuGSnGrI/YHkwOtvf3b+c9ZFlCp3dvxAxA8ufc8A/0pca7AH64T9pF0+fDxLjP+M75MhsV+M/h3QM+5D52L/UoLb4O9SyP7DmaAbg5qc/oL/K+qN+pj+WuYwvgTfdP1SUeHx3P7U/oJFCNDVTtT9IxhasiiiuP3jBDX6ACaU/OMUe+b24tT+jK4XwZJbdv4XMYJJrqOE/4Cy7gHfttT/HrcOc2DTcv+jlbHitCqY/jWG7oh6y278EaffCfQKwP5gUhcYXyaO/USJe4zqO27/9Kf38s3vhP/0WJ8RdGeM/TNlCMKeK4T/aZVjHpOfhP+Bt3+5V9a8/aH1I+M+otr/SQqOor0XdvxSsOGNy48A/IHENE2yBnL+sj2E9Qhncv7KjPYrL89a/caHy2EmE4j8CeKUX+P/av6QiBowuDti/UE2MuMsvnr92B8ngZozbv6kkiZc3Ody/pPS2DcqVuD94JHLJ++fCP8iAE2PaScE/1LXnL7p2vT+weZDshVy5PxT6eU5Yrbo/8PLlXV6Upz9AfSYh0N7avzGB7g5ReOM/wNLrpyfdvD9wXIhFNqikP9HtTmlVzNi/wOuFpIl1sD9gzCSGKtOIPwLXf26q9OA/CHE1o3mQpj9gw/A8Hf6HPzKRpTC6p92/AFABu9bTVz9k5I586abbv55/0McQjNu/aPIa6S3uoj/KW3x1iZ/cv3D7vtVQEOM/w5ZSKNgL4b+4ePFlEX6wP+C4Iu4kgbE/Mr8LIFZo4L80rZT4zm+8P0CesLKMVJ2/zlPC/JWA2b9gmxEMVG+uP9qOhBYkNd+/MNtMMtiSvT8beJN7UJ3gv9RpQiSjI7w/O05qjl/f4j96LaPfaRriP7jPYygU0rc/MoP/SoOo2r+ksBIHMxThv2i3vLJTDac/0oJelO0c2L+FjtAG+tDgP4Bg70B5pa4/AHSs7B0gfj9JwTSBd3niP4iLgxsjntq/UOY1hBbntj+MdUvBoQ6zP5lIwneGIN6/4JXPQ1a8jz9eA2aFEobiP5x0WrMLubo/mxGiL2qc4j8WZezbKkzav4Ar6c33Wrg/M76Jxr5V4j+onHa1LqKwPwHEIQ5Fjd6/wKE0Pb36oD9Yp4BzDPyuP17mvhZbkOM/HH+az4xpwD9QcTderXaev1gs/wwzN98/blH/yo+E4j+vlP5y0CPhP0krf760JNq/DHEhqwNeuT/w2kzyAUvBP1CjlET8x9e/APwND0fQkD+oSfKI9BPcv/A3cLX5n6M/g8NVFOty4z/8c+WAseDZv78Z/rJMmOI/TSM5qGyI4z8Q50I80AGRP1AFDc7yE74/sNrSFzlynb/Af9Xdcifev1g1t9Wl7Lg/nut0hWk93L8eMj49zWLhP+BfbCDWZeC/f2hSs9e9178w3+P/OwamP+g49aDFmOE/qEKONftQsz+MoYAksqW7P1g+Z9mUaqo/rL3lf46+1b9RMswcWgXcv+Sf12seFrC/ZhculBpA3L9g/+6VruPhv7OOjXIq4ty/VHONE9lbsL/w+AVph+ScP/D1N54GRqI/8DKHsBIOvT90jQBsGW68P18eI6nn0+E/NLAbP3LDsT8Q/FLHglzhPwTZ4EhUnNy/AU86qIdq5D+evSCPblrdv6XjFgwBite/qzTSi1TH4D8IV6tB8vK1P4GTRuiEKeE/4NIhbRBjmD/1yRnWaGbdvz/WF4zMWty/NSaNAMOZ4z+dO5nb8FHgP3xzhXBlRbA/fIMMosWquz8nMuL6r//av04KQsDEMOE/e6y5HHK44T/gxbEFGOGVPxy41drQGeM/yLZoKh0RpT/r9RJVLaPgP8vT0y/Z2+A/cLSwfB6trz83OGo9U33hvzDCcgTlorQ/oXhLBOVk4D+AGsmEKmi9P7DgO2LIUNa/h2kJo+Vc2r+oJBAoa9Ogv6iLXQ8vE6c/Vxu0nbOa2b9wrnIU6vGqP3ANnBPKuqK/EEkD7FVT4j8Ep1xH+7Tev5kde1R+P9y/DBt9Q9bl4T+7eUFesyTav2q0isaWteE/R77OaW084T+oAfurkeW3P15YU9PdIeM/kD5eI4YWkT/kzwzGXJrCP/ROOeKQorC//A3nrhwQsz+cqSEsZqW3v4YYMAQzAd6/dEuJqyqisz/CXe1i3NLXv/ZDrxVOSti/UNz2vX1Xuj9BG1puigbhPyj8KyVZorA/2FJvhszc3D/wYLLRYNafP1qceYUCidy/WRobpVJR2r/3kfWLUIjkP4whEDqhrdm/JnKgq9bT2L8QOOCXKxvdv3ySlioQYLE/9BVPMU1I4z/AkLqQTTKzP1DPRxtjAqE/KZUT9urp4T+wVdmR/3Ldv+hak4cVSqM/aLiF+2/0rD+471uPuJamv7CgERpcuJ4/iM6x62rHpD/yv69sCyDhP3nTrQGEzeM/Vc7VBz4L4z9oNYDCmV+nPyHnhEauvtq/AGMyqrNt3L8Aq+b4Z5eZv8D/H9LjR6w/iH5W2szKvj8l6o5MZLrfvwj3D1R4eKY/4KjBugLqsT9OjdB7hfLcv/hkLu5GL60/lLd4wwulsD+4wQ61sF63PxF3eG6Rx9u/+QO72fey4j9AY6GjoQejP4s2zph4c+E/WKOanzri2b+1JjagJiThP8QEcyG7xsQ/WNISLQLFoj+f8N7yFqPhP2ihC/Niyri/MKblc9pdvj9IThCUXIjcv1DuLcGxLZs/0h72ur5L2b9up6BYYJ/gP4B11fPsvn0/P6EXHWw34b9D7TKCJzfiPzjw4Kvng8I/dAsfFTvm4D+fVektSefiP0AlgJKnP6i/Pt4veRQv2b/MXIlHoGvcv8ASvw5I7Xw/t+ByF+3N4L8E4vH5QjKxv8tQXgrs9OM/7DSiTvdwsj8QxyHzgcycv5yJgOrZUrk/TybMvI2g3L9oIRXuNyinP4WoWrRWQeQ/zZ2qspR14D+epz2TkiTZv6gz15XkOaU/CEhb2jg3q7+ky0vwoMq4P+Cqidh/C4E/GEkr/XCSvj/seiwjTtvdv9DkbfEkr6I/fUaAFCX/3r8QTnMmZ8OpP4BA0XZdzKc/egLJ7kXn4b+wWUydGtycP1jyCVZ2Zrk//GzAbL+P3z940wp7zVSvP6R9p7Jnrda/7Oe2xPBn3L/bUCSF2IbjP/D6lQTOXKU/ICd5YXLSkj+sCCxUpC+zvziFys2seqk/biRcS/oK3r8crcQ0Zw3gP6iXEtH8T8A/iSItl2Mt4T9YQ6jjvlS8P7TIvI1lprI/ANgWmYZdlL9waK6iarGyv0COAKs4i4i/GFAb+WV9pj8QAyzbglrbP8zqLBEIwrU/kHXgY+lcqj8QqkCF8xeoP/TOuOnjx9u/kEL5ojR+sD9cj4SChT+7P3vfA3y1z+E/9UVRyeV84j+rZagtGzfZv3q43Bx4Yt6/8oblAA4/2b/bnvRDNsrkPyjPXA7oy7M/yDfVT+LupL+gfyjyQCOmP82MqffUr9e/zNF8375F4T8r1Nkb7pTgP3yocAJGuLQ/4FR37Z7gpj9AJyPbbAS4P57+Aox5cOK//ORTwOYyvT+oSRzlwii0PwC8b97hl4m/wGX0Iw5zrT8A5Y2sP6e3P6S9udkcV+E/0mmLqdp827/ISX/3cvu/P0AFMlFkt4k/RChOs5YytD9kSTA5A2W6P3iBn7PrOKU/DD1BpyIOtT/gDzhuElG+PzCwpslWFJ8/pMkQ8LdStT9ens+UtzXgP3g++M56ZsA/IHrU0udjpj/6FgmikOvev+ApJAC26ao/58ds5UFQ4b8GSL0Cv3jav8+RdEM9k9m/MPjamE+Klj94CWl2j2nev2plKiVwBde/YMyhu0D0lT/osj86JUi6P4C+NcJ3UHa/vCgykXEfsz/oYp1nkeC+P3RfzVH5McM/AHUNds2F4j8IjgugB1yqP9ydYyLHo7s/pLgvNTohsT9a8qfHQkzhP4BB3V47F6s/xEl0X00psb/AfTk2FNCWP7x9NmOs3rw//d/6KAMV3r+iiVx9FNThP6Bhw++oY6c/8AEvBskRqz+03L37C7CyP5D7/c3ghbc/rDa41PMF2b8Aojr5T5exP3zJI9/ah7G/YM3M5Xjhjj8QxghzHJ+lvyiZXE0m96y/fl6LuMO02z9AwUNLYoCbv8zH9nmZfrI/dkkgoNNS4j/iiicJkNjaP3TBo0tfMbI/eLxLSaoOsz+gttLcKNukv+qcZWECSd2/4E7o89Ev3b8QmoDB+c+gP6Dur/ToOac/aQQCQegK27/8+EzcN9jbvzCESH0hT8A/l7oE5WoC3L+w073snBWeP+RdeQ2opeE/0N38OsbMsD8Po6TiEJ/bvzDExbsw/70/mJooqJL2uD80zZREUF7XvzzdX4HkwbU/IvjeT1F22780NpdMIB24Pxy/yDCDBt2/2AQppf+R37+odfVNFey7P7G41beD4uA/RHX5cZKVwD/s/GIl2lDBP1sgjNB0Q+G/mi/Yvj9q3b8o24fLbTChPzjkqdilRaI/EOLIE1HUl786WyqdRA7dvxgIhD7wKd6/xfKdZVF04D9ebdg1WH7fvz3BddaD+dy/aLZz3k8zrD+6VXjCAJrVv7jY9p8HIKw/ADzNdMkO27+MECGwKvq0P45t3Um9rdy/wosWPSWX4T+o5erJ4sq0PwDNrGel/LE/0Dz11xJ5vT9fGSKj8k7jP1bPdQiZtt2/zAdyQZxIuj8gphzi7SqMv6A58D2Qkdw/WUjit+vy2r9Uf04q57jbPxQkmcWwLbg/QAv7SUFdlz9wZ0V+JW+uP0FKd3i7Rtq/oLltQvbRoT+YiaYqJvK6P8gjNLJUady/kmplXTKl4r8AzIzjbQVqP0ha2sbCH7Q/p6JTvfaJ3L8gq3ktY6ekv4KkXas13Nm/JP41OeI33b9gFFi2KLqNP0KHOEa40t6/MU04ZaF02b8CtxMO7v3dv4gvRayVi70/cdJRUyLW4z84d7x7OK+kP4gsRnFYuuE/HLEsPPD627/NNOnEGWvhP4ipGNQCMa8//3ki41AD4z8GIx+1mMfavyBtnSODmIU/1SpmCE6W4b+hujGtGnXiP8oh5S/AyNa/+MIZ/Xtmtz+8derRPFa3P4CXeJnRsNu/uHr77i5msD9ggufmtJ21P3g3VRc+ZrI/4K+X07JMgL+MMG8CTH/AP1inQuOV6ae/cLUNuPFToT807THpnIniP0ocaSZY8Nq/MOaCGvmFoL81iN2xAsLhP1D1ZcFKyas/rJBeQBDv4T8nuSaY663hPxjjSmA516U/oM1kpJEbsz9QboTULLKwP8gqN8SMX+I/l3wzn82i4j9Pp3AOejrhP9D4zw9I4qg/hJ5LXyDusz+87A/N4xDev3l2iPUYpdu/uOp59PuB4j/xuJZKYeTYv1Gm/qV4ruQ/+uzpshzx2r9IePFFMaCyP/C/SuKH9bY/JCNlecRc3L+g+rU8k8fBPwgn0y1FQqU/YH+m9ubVgj9upZvXUF3ev1A0epnYa6w/cHl1RKU3oT/QiMTrr66kv7DL/tKwZZs/joHQBL3k3L/c6wFii+y0P5ZssI3PLdu/Gxox/sDB4z+5rzQQxKLZvyiDMBK80rI/9lheWal027+4/D5DPq3ZP0AuUTHuJa0/CDjwyyMKsD9SBwstAo7bv4v7oTtxCuA/cFmjJtankr94vuf5O+WvPz7sWFvzrtm/Avr5qOUV37+y4lCujAPev4D1LaFxWJS/fFO7UYhksT+o9kImzGCkP9B6Ri/zx6U/cDUOLx1U27+WrnXx6CfevyCaG5ErCpI/aH+3en3X4T/V7NgSUw/hP7zxvbFZmNm/VIEFocDusz+0eURGPx/dv0itXR+nabE/IO82CiJzkj/cuP92NHHiP7SpgpuqULA/kEi6HpYtvT8orOedLCSmP+Cveh6jl6S/eJBoN5losz8ln914EEvev+Ry+xHZOrG/9HDwcsWHuT9ILxWzgpO+PyAxvY2nxoM/mhTkOMkE3b/bKdLHWPzav6imR+ElEKM/rAW9hNiFwD9Ru9MEtOHhPyyk7hgUTbA/s9+8N02M4r9YL0lviSK5P/BPnnswuKc/wMlmkFhuqT+fWFBJ3jLav2DKpDIISLK/MLfh0pz4uj/KR6LhGjDfvwop89mB39y/iFFumF9kpb9soO2R3660P40Ppz83leM/EraIbnY82L/Jue/UGXvgv0hOceSf5rI/CCKzkpwF2b9kHPyODrDBP9ABoXWaZbw/DdL5GRD52L/AAfIOFGixv1amSQbV69u/Fu4n3C9m2b90BrG9V0m3PyxCkOmYieI/DBRnJ0pssD/4+54Im0amP5BwtR8x7K8/AEVDOYIrVb8Bo8zSd1jcvwF7tCnOhuE/kLpSIaYd2b+4lVm3TeuoP7AAxn0KBKI/APc7gQODcT8YU7RNMArgP9A4QzZbCLM/V9ac5G22279B9uz0xPnhP/gCkXhdEac/PdCmoyEb4j/Ll2+IzSvav+ZkE/Iyqti/k1u34br62b/JNypBKcXhPzJymXOe7uG/R1we2dni4T9ukDOVEjXiv2Wa+tdweuE/YJZKSGZOpz8AqKZeQ3yuP6C43H8aH5o/UI2wTepywj/8fMyRw+TZvyDDuApXfos/IOJaWkW/3r9sH4TafFawPz2NrN8e8N+/80Fi2eB42L+kTcROo4ncv8QWkIFO1t+/XHnbgEg72T/YpqCP1AW/Pz4vVERcg+I/gLzDx/1jwT+RM6YamyndvwDcUGrbYrQ/+mI/TxeQ4D/okDKkPLbhPyj1FurKVa4/LBdKllFysz9BC2DDpfDiPzCip7qnPbI/8EqhwW2flj+wh72lQsqlP+XSXIDnGNm/9kAQ1/kc3b/0+Ujvnw+3P1WG2RHCGN2/zICJFf6csL/Qz8OJ6rWfP4CKPwPoMJQ/TN5/X0Px4T8wyd8sR6zdv4WycW0yTNq/veAo6O7q4T/YJNEATE3XvzT8VITLt+A/iJhgHvIMsj/M4qMh0I3BP7xfsCT/e9s/j9IL2N1Y2b/y+lK8VGvavyh6tL9herE/sWhMLGS54T+YVA91+E+oP4ily+wZrb0/wMRaX39dpz/tHJaAzpLev+AW/UdhuZU/AOvNsS/kUb+8iQ4GM+2zP2qEo6jGDd6//BMm8FguvT9Q1fVRlgKrPwJQNh+SouM/1uYxptfv4b8kO2Coboy2P3SCIwl7at6/iDOQ43x44j8RGZYrTujjP1vuTuR1dt2/MOykWD1xqz/gjgh7Z2SKPyVKU+sIodu/sB9rM78ppz8QKgGgL/67P7AncgFPPd6//spk+q9437/WMfgUNZvcv7YtmvKNQOM/4ASzIBnnpD9p+qKxXOjYv9OOi+kljOM/hLfej58qsL+mNvJPzXjev3CYTibDC6I/GIR3Opgkoj9Dj15wIQ7Zv7A7v7Rnwpm/jAFhh4eP4j+IPMxGR1ymP0zPnHbKvrI/qGSLnx7P4j9oPENfsFWzP17+oNl8H+E/oHki4Dlj4z8gKEODjJmBv/iwo4uDIaw/aPdB+r5Lwj9dN3QdUtvavyjGhS+f8LM/spoO5X973b9gfZ8H/wOUvzipM/oSKrY/ONZx8eAbsj8Qdik8h2OmP2g1ekk+kqa/ZkJ/PDvo3z+MN8nNDFK3PzZUO5jp2eE/DFO4juVY4T9+LwPieF/jP8BdkAHM/rU/R7Px4nRy4T+0Efmncg7dPwwE/psxL8I/y3u/lx7Y4z9ArKCZe/qnP8C79NZuvZ4/kEd+/G1bsz+oZg+On2e7P1+JxbhdDOM/ABGXEvYBpD9z/uaXnPrbv4wQECov7LI/iHEcOkyZtD8IyHs7FkHavxgbvKO+2qq/cX+60yNC3b9/+yYrROvav39bG66N3uE/kA7T8GEspz8h06jY41nhP2DGPjOwy7I/Y/3jLzlB5D/HbDn4n2nhP9ieGhd3TqY/qD3KXdCxwT/4gX2uwIXZv36fox+ZaeM/aB/6RkRF3L9wYFA5PZqSP6LgUSUHiOG/WZNmJaXr4T9MB/rscM+xP1B2hlyfCqM/eIvbyS7vtr9w6TUSqEzjPy/uTLGAxdm/SLOhKB+HwT+USo9lj7ngPypblD6Zr92/kKCCsJcTmD/oR5KTjWywP0DKMnK7D52/MM/0AMzGoz9WC609Q97ZvwDrc+meEbI/vyPCqNfk2b8QVIzh5iOqPz4eABzpGt8/EJoO7GxRvz851OSIOezZv9hniU1YB7C/BZgzdPiS278p9tWhuT/av1wbO8ppF9u/nfIoM97+27+Q/VrLGhulP7gPcquK/b0/Fk/2tz9f278O2Ae0DszgP7CMioVzyL4/yQpedXNf3r+7UO9na2ncv2Bh7RCSi9u/PfpS8/wI5D/kA1NJQcq3Pwh6XBx02qY/QEoWKD4jrD+gvnbfwNTgP9i/cEJ9h6w/gnQnRWU/4T/ZyJ+jBETiPyNiYJby9OE/8GKOFGqC3D8EsUjXxZ+xPwCQ/s3B37E/maTOYJ064D8w32779sK+P8DmgyIrOI6/CE0UHE2N3b8I4Wz/j+e1PzX7RIP8AuE/3Dh1CyNW4j+RHwVEAabgP0jaX717YK4/7ZLRxSyE3r9T8mRLhtLjP2gGXroaS92/vFdDenMDwD/udXMnzqniPyXoYr40ZNq/aHqB8DEzvj+43s7jo1XZvw7ojJePLuG/5BaVkn/9vD8AznJtXd1mv8DDqADFV74/sAK2FleuqD+YWGqMbC6xP5Tw7ubp57I/dk7ETt252L9Qa3ZxfnLhP+C4lPJpFeI/8EvX3HIwrz/QRKapnS2mP8DWArnm64A/ZsDUPdXN3r/g7bNkzou2P+LcyHG3F9+/fF9W/gXluj9EQS2BwiSxPxfcSfUOL96/m/Um2Kyd4j/4UHKINTqoP+C3FHeyrKI/Rl9Q1gu23L+cDdpd2/+5P4QbGSsnfcM/EOqVVAFc4j8/ZXPPzmfXv1BwQROdqp0/MIwYE54sqj9Q2p0JZza2P8dJGAkAPeI/fNZmeREG2b8BGVs4DH7iP0CwR5huzJc/sGFJYyuzqr/gBgl4QTDdv8SHfc2/NLE/TZwkLXka4T9jU31JhPnbv7BZ/xbTC9u/QKBCHwoT379cdMvRHMK4P+tvAvdH+9a/EeAex8j24j9Fiw29v4vYv0Q5vb83UNu/KPP0npTqqj8InDopmT2gPxBaSEX+8KM/iK/leqExrz8t8bXznrHiP4BSDoAw1qY/V7NmtMq04z/G1FCGQvHiPwB/NyJwPrI/Dv63m/Mu179wXDrmKbeav2DYLNRs8KQ/UIQS5ZUDoD/Y6MowgLDZv15dhB6oRdi/TC46XA8wtj+gYaMuQjSrPwerjT+Jsty/kPT+Rhf6rj/34R810o3Zv3BKRLUusKo/Y6mxxdTU4j9oU3V1j9rCP3B1DYn0eJw/RFgXAqDZsT/8G4/WNYeyP/+EKGktqeI/4CMEFSZfiT9Y5sqg5GuyP0JeYKQiruI/NFQkhzex4j855wQsZqTgP8geVyhJNrY/uD01YIzqvT+/Pcnc5UvhPyDSvYloj6S/IjFXErlH27+RJvriKd/gP+CrkKBXqaQ/YLLjFAFOrz9ImuEkbOWtPzyLwvwHNLk/YFaIwWDIp78zO4vMevvjP4Q6p/+14eI/aHHJMQ8pvD/3yABXmgLkPzPUSdk9WuM/gU64DbG/4j/Qtx0FkdaaPxgX2kTmqOM/GPnk1B5Npj/4wFSPcfq2P0z4zYfDB7g/zqa++LMu2b84ffKQb82vv23LgOXpquE/oH0VW+0VuD+oevJeb1ytP3g4cIStGLK/nyXL4A1j4T9BBZHvfm3dv6Isg9YJxNq/KKQhnlqT4j+cCpHGFf7hP6rKKrdfaNa/q+6An3+a17/AnHHQcjfZv3yrfrndqbM/eGnGrNQe4T9ibZzoUG/fP8jXW52+NaA/uGxy/z1/3r9W+LztbgLgv4C607kfnak/lN7iuphauj9ajp1D7K7iv8Dw/u4lW6I/YCW6CI/EpT9g3fbSM+PbvwuyLPnYc9q/KM/yEqMsoj8BmTf23FvXv4CN58s5JZo/EBBY8tpTqj9lFv90abrgv7kp/H8inti/0OeOdLmi3r+ABvArU5K+P3z2tY6a9rU/+NSgo7Nr4j9E384Uuircv/ieGJjjp6c/0uM2dOcd4b+IkEWKaP6sP+RpdoIt/bw/tL5XDDGJ3b/A47BZ/RiQvx+uqgXXD+E/jvTZMTv52z/MIQRjH4vDP6ScMPesU+C/7Mb3TrvfuT8vy/ne2Nrev84XkxproNi/Lg1CzUli1r8PNFTI9RjjPyY0B+2AtNu/ADR+rJYbUr8R45Sqojzev3Duaukb9r8/6Etu+99AvD8QeGsCWYKaP1jMRpv3Z6o/yLVL+88Eoj+QLCGRaZCcP22MYuU3z9u/6hjunGiu3b+yh4cydSHhP7raRsFx4eE/fF46q/cXvD/w1arTZSzhP1+sLkuTLuA/UHeQZ6mb3L+oxOa+8Ku4P6C2FK9RMK0/OEsH3SIIpz+PGgoa7CHdv0Bpdc8yhbo/AAbIqniZpj+QDVFXwGbav/hwADFbO68/LQIKKuSs4j9tWk45rKTiP1WimRv+Wd+/ABgC/OzBdr8wtE9+V9yhP4wOsEkxRdu/OPwKWSOsvj8oiNcJwuWtP0BhG5WScaU/4H+uLYmnoz/LPVQeha7bv5sQTGNZGdm/X2WYHtmx2b84mfCTX6rbv2ecsfXRIeG/2EfbwzHW27+cZIhFEdjXvy1AyAVkUOM/CD1+GkCp3b+860e0Uz7bvyDb1Rxyr92/W3H/SsxY2L8o/spmuVfBP/hQUQ+UC7o/VirJLsYV3r/oyAoEzQStP3dgCSn5Xtu/mHOE6pRhrD/SRNyVH9Lcv3C+DsjmLti/YPvSeOF4pT/dBdkZoRrevwA/5JpCPGc/82p+W99d2L/MFZIeHGW7Pxo9abIYv+E/UFPnxKdKqD9SfKS5aZXiv8k7pE0I+du/sIkBw/hikj81Qvk2b2Pbv0S8ACgC3rM/gL5rb2PVqz+FrNXv65XkPwj/Muo82Lw/VEUQYbNfsD+oQInLHTaqP9KQeqdyVOC/UEbb+A+pqj+LMhHAvczgv0gwPFIdl7c/xNN1WI7DtD94pW9Oi/K8P8aePUm6+OA/PvBoVdTo4j+EfixMDcLhPxRf6o6msrw/NUJCgJJA4L9pWKJql1PjP5FzbKzyStm/sHA/OYeJ279axXGuBQXhP4hCNziXa9u/HrM/291/17/RKPyNDDrjPwr4df6lyNq/HN0t624zuz9wFNXpOpC/P4njy/np6eM/XZP5tG9p4T/KGdVQTajav1juMIal2qY/NBTZS6/xtj9fB62FChngPyry4PGOmuE/tiiIu9F33T8YV8kmeuSxP6a092Rm/ty/LHoCOojItj/gmwPHSeugPyx3pGumF8A/XtnvQe+h4z9QLfbwe6eZP0j8GBAJrKA/UOt9bodxsj9IHfgPydayP38FEKcgC+E/9NDzWvKAsD8s3cyltn7hP7iRaMiS37Q/r67w6TlJ4T8EvLx/CkW2PyctpkIPA+E/CCq7LKPysj97l4k2gQLkPyhIsrhTosA/MFlkZREDmz9Ylbeg4Rq3P2Y1OBnMfN2/cBGF2Mu73b+N7XZYk0TkP/ffvV9OYOI/JZFFKFiM1794UyEyxqfev5rr6ZpvD+K/3+iGP8nb4z9g8NsG/UqGv4BFOVsSvp4/WPivZ9i5tz/oi7Vn6musv/iG7ax7Tb4/Wj0QwgNV3b8VMrYY2sfgP4+T4MFfg9u/FoCHa7Zz1b+cZvCxT7ngP1B+3QeLM7Y/9vh8YTWL3L+ADKKo0AisPxDP+58Efqs/DEJTsaMA3r+UXgDLeY7bv9n715JbpeA/Ca0kYQsq3b/Viir3x6ndv0wom8pqHty/ZAWoyLik279Eab+Vc6CzP2D/syv5TrA/yEUjNoQ+sD/I4lEWvVHbPwDwbLjVwFY/dgsXL9PL2L/J5wnUeHvYv6SGRqkS2t2/9DdLRphzvT80v62FWwHev+vWlaLO99u/AI9ZWMQmYb/gBbypMxLbv6jh599pWrU/VJUhajAOuT/4nLXzp32kP7iStC54ENu/4IZWFkeBnj9li8vwWqPYv+hMIwn4WcA/Vawfggi94D/gkKTTg6XCP5YxmpsZI9u/yIRh0xGf4D+mdGFl+R7hP9DcfhM3LK4/hvL7H45S279Ps03aunDgP8DrQbax8KU/4Mv91Icnsz/QDqQfT6+YP95eCLeJPeM/MHbrGVaXsz9Qjjg7xdq9P3DVEN/T670/eGMJIR/Joj8MxkK9DZa9P34x+Jh8Yd8/8HzQqUllqD8DBRVq043hP6yrK5uIj+A/ZvfT+WyW4D/gPLEhSSOIP8CPsKlJw8E/6OLKBxA/rL+62g9QnNHhPxX5L9YRzOM/LhszRW7c3L+AwaYdaMelvwi60Srhx68/MJT3bvr+uD9wH1nRQ47fv7jnZl7dU6E/sM/8YkNqtz/A2q53TLqaP8D0wqE0Ko4/pwoMg7Z63L8wdFKTDI2pPxxS/+YmtNq/yEQAhGuwuj9+oFGYgrfiP8cNrXdy6+I/ON/XEaZZwj88jHMoaOu3PwAGH1MQe8A/hslf9Eon27/lRDoNzZTjP94Udu9ludu/AIzi1jMptL9K9LrC5Qbdv0vLqbAzctq/IL1ab59uoj+QaFfjPHesPzAryRnCQ7U/K2QPhf6D4z+yBCFldyHYv4BqBneORm+/cso9gvSb4r9wd/y2WOGxP0ll20UYrdq/AIbu6dU0fT9rjt6qAEHbv4zds/0QSsM/SvlKiD7t3j/AR/Ctl+x2v6i7WWZYU7E/Mrku1fN82b+EdRukmJ+4P0e/c7KLCNq/WFgYFp7Y3r+I/u6yeUXCP8/i6QRYNeM/aBkom4qqpj9QYrLD3nHiv9iATyKVGLg/3MDt0Oqztz9IgR4jAgy2P+oOUm+LIeE/atBt9FtB2b8QCof5z8qnPzRr4rReFLw/TDxr33xf3j/A43Drnwbfv8vEUA4GRda/NatJAFIK5D9+0m1isTLdvw84Ow2b5Ni/JWLumw0/278SVtZxUGfZv4zl/GzaQLQ/6YdVVmiK4z/c2zUAjX7CP+39OMl4NOO/Mugz2ZKx4b9HxXp1LtfjP2RygCb6sNu/sRYGg3Xu2b8gTuVSUAe9P8jU3+qz16Y/WDK8GTvbuz+VJKeKBIfZvwj785M9aLM/t1y8Ky9P4D9YVZbeAYq1v0DK72Tz7aw/IcCGAiwB4L9rovr045DXv0J4dYEMfNy/iORHvZbWoD89qRsFbenavyi2BIF706s/YM3cNqyLqj9iJI2i+uLav3qpwEfI5NW/QCMJdMdCfT8nzvbfk4ziP+Gj//86huM/gMN6Sf0IlL/I027hEoS5P1iWMPZenrc/0EBC9Em/qj/MO8jQM+jYvwzY0sevMLY/MLOxdTCPwD8AHe5bzqCmPzBHGxogRLI/LkcvOa7R3b9IdutSYB+mPzxN/3awwLU/yPAuw8CRsj+cbSNPzsa4P78V21V1ueE/2IKFjMLnwD994cWhHNHhP0DA9fHsHZI/4BoUDh1Jrj+ZXMly82riPyjtFTk4c7U/X/SAK6mq4z8+r5Far3Hiv8gNPaYJO6Q/6Cuhn+ktoj88Lm1Pj3K2P0BlJuOiw6k/ljHX881M3b+fnALZKe/jP5ECWVzlKuI/8f8Rc1fM3b81zfmHYJXiP7TwxBbeKcI/RF8uxgGutT/AomChzv1+P+G1ITWKt9a/IEUD+S12jj+8pRcHqeuwP0MpYFPV2OE/yHf2eOvIpT+46zX53cisP56OPLzrv+G/ADiOuXaMrj/+ptRPl5LWv0R9H8eK5Lc/W0j8kRsG4z9giRnWCGqMvyD8fWtSeq4/oC5C1AzKgj+gZiAznVC0P4fc5TI30+A/2inwwvfe4L+7cZA2y0XZvyoRWr4B3ds/tO5iBclzuD/825OzNgG8P4i7W3ei4bo/xqk/i6Sy1r8h9P7MlqvgP1zmu/9/++A/nVcVdZIN4j/DZAB49e7av06LOt3i0Ny/HpJ8jsjV27/gWLJ3Ae/gvyyjGDNOlbS/MGGVHwd/2L/IcN3OeLC3P1G9vo5KSuA/MBYe80Fdrj/C652NmrncP6q1U7h29eE/MPOc9uBSsT/Qu5HgICm6P4AUmHWhrGY/cNw+G0C2kj+YMSrfsNfBPyxX/6WqT9u/wIelsn8Juj87yJipIyvYv1SGTdwS3rY/sBXRsTaklj/3ukeHchTZv/wG8FxaZLO/1zuOoii+4j/iWFCHwCfiv6okCLfNbOC/z34Nf/H32b+hsH7KVHXhvxmugURcDuM/toeUG8QV4T8M04fdJC7iP71HZu+u1OI/uLpklBmE4z8AVrvONTmtP5AKOT/5Y6w/EdAwtiIv4z9UjoYqyNfdv/BEwMNjYp0/p/lfcf3i27+QwtUn/6mxP7ofp0Jl79u/QFfC84M7kT/Ee519pSG0P/9A3+2jVuA/oMZArieXkr92vVo4TP7av4hHi+dDtKw/jUpk+/F74T/Ylyjow8Xev/j6MWQH8ds/YKR6Gcuinr9eUd5IxF3cv2Byq8CiRb4/fr+AimR03L9whgToaPvbvxAHa4sDC7g/CJq3eHkD2b9nc2TVYqfbv6h9hA8RTr8//NOlkDRN4L/1Il05yzLiP6Xn2hn0UNy/AMQwdsKGiz9PT489sSHhP3jaGwQpTr4/1Mx9W2DQ3r8PYShu8QfcvyRsUbA+P7o/HsYMj/x44j9cMxj88lu7P5xSqKKXrrI/+Altar5Iqj8HjzcLhYHkP35Ebke8D+I/cheioPsL4j8QL9BGzYzav8Cldn8Q4ag/cH1hP6VfsD9wu4napEqiP/RglfNYzdy/QOL5Nr2Nqr9Q8JSCY+bbv1/SVC7JCuQ/P0NFeXxI4j9WN4ik13vhP8GBH5BG0N6/GLheIYyvuD9hIKZ8l7/av9yBCIAK0+I/K8qSR19Z278TKdigDzLjP6L/WDx759u/PBOCNuCQ2b/OOV+p/ufdv7ohYO3VAOI/r7D+FnyD4T8278c591bcvwA728kib92/0Mxwb3DU4j/+jxBjA2PiP9h9vkENIas/6HtEAk+u4T8m6W0QahXeP9zcsXpG596/2KiHVifFqD8vlxgoSjnhPzeit6WPiNq/OJu8I/OWwT9FuLzO6VzbvxOQcUiZ4Ny/L9fTi9yJ4T/YSa5FMpTYv4SgMofK28E/fNwOc/mFvT8upWSzNNvcv4CedgD0NLM/LBu2eVl52b88uPoAApC0P7jYyp8EMKY/atZqXct227+wGMtia0+XP6AIX/JpXaM/Rk40bnyV2b/o157eNYHZv+DWeMPhpqs/wJz1Y3L2gz+QjmkzW92nP7w0V3yG4t2/m8f1JBag2r+wxF7W7J2RP7gGdhR3OrM/wzHyZ4m9278YeTd5U7+9P2oaghv5auI/KyJV3zw64j8At0QKn3NRvzi/skDyiMA/vN7Y9tjisj9oXaSqP7Gtv6nB54VjUdq/kFPIGM/kmj+Qv2Te2Q22P1AhqYvE6qc/2CQ4QspL17/AjVVGkmq4Pyh1GFY+c64/eLCY+uy6qz+wIFEkNzbBP0gU/bVfubs/gETsrmYK4j8O4xSpxVbdv6GoJPSdWdi/T3WgVsRn2r+qKvHRzV3hP47XRm4AqNy/mI0jMBYGt79c7ckYfgO9Pwjwee5zRb4/w7vZX8oN4j8IYc9zkEvcv1SdKhLw8Ny/MIU2Zl98vz9Tgp7EDlTcv2mu91VvRde/XA0WwjZtsT/p1e/B6rXgv/CIL1cQpqw/4n/PXudi2L/wCEkLUQ+nP0Acq52lvrw/06HDvHfR4j+kTzIJLbqzP1jZG15jUOA/IVO4+F0y2r9I1AIjNiytP6AHkrB2ppi/ZgyH5q6i4j+V7unvD0bdv/gbXnKKULS/SJaIVNEypz8uqr8UCYPWv6Dbhw/1650/0LxneLtzsL8Uf8Vab0KyPzg6AEWdz9a/qAHGenZZtj+Q8YRK2hO8P1BdkhU5gqg/nFpVFvE04j9mzRM6wwXcPyhdD8Z5vLA/ZL1KKLZ/uT/g0X+P5fGoP1lqkXj2P+M/+LrJsjIHuj94rSMw3DCzP7CIC8YZ1aI/yAQDaKlqwD95PQYr2mXcv6tDbOJkf+I/XGOn5DJUuT8capZ88ATev1DKNl4r/7I/KDpfpVxSrD9wgkyNW16yP9SIOnyREbc/dCBEqZId2b+gMDnBaAq2P6iQ1EA2ebQ//fzXiA4N3L9o+XPT9526P4rIBDk2Y9m/JKIxLCzfsD8QaFQV5DWrP0CSNKt6tJa/BNfB6ULMtT/oiY6wElGzP4Dic+dMTak/WLSjihKEtz8o74XCPvfbv5+T0QULkNy/sGEdSCI+pz/AAXdzhE2fv0w1quPLn9y/45lF4OC94j+v/ua+J3vgP6yzzfHBReC/jJ6rl5WEsz/QZZOUSfTXv7i6niXF+6g/lFKi2jY9sz/Ih1m5/nOmP1Q9jT7YXbK/IElRtgPC4L9Ew8xZvsOwP1SawFMzpbs/JXsIFqf74L8AuSFJtKujPyo9auEZO+C/21ovy1B12L8cvqh1jKawP+DITO7AP6W/NWhI6w1y4z8g8D5Y4OCJv51atAqyUty/p4DwjHsk4z8NYOzKXfDgv3C3siArG6Y/wH7EGXdcsz+YCI0k7QSyv5qjzdVWHdm/IrxjkXD6278J7rp5WvPjPyA9HQHupN2/NBHVCL2H4L8IieJjqSWkPwoGnvwI0Nu/dz30tlMs3L+M0Iwjvbfcv46P0Zc8IOI/Ms98Hr7O3z9wT7qs28qXPwwY+EDxDd+/0Hrbn8nxoT8blLY2ZOziPxr0lUQOWtu/bCspXL3Etj/ir/ctNMDXv1BO2cWstK8/pRMgjfol4j9myekhZxLeP8AQPJZrnHU/wObOyZr34j/0y1/iHB/aP/goTmEdYKY/0zhbnNEa2r9rGMR28ergv4gtvZK7KNy/uAfmqxGRtD8dmu4ZRPfVv35SBCDz8de/8J1JCqa/sj/4UeLJM4vgP1i4Wct3vuG/swb8/n8/4j/My5ugsBaxPwArJdWbiHc/HYeEdFbU4j/ESoC/YZO8P9m7eQzO4uQ/AM+6L9o0tj+1cFOO/Y/fv5T/1JSxpN0/UATcPR0/rj/UjucnkhG3P3xbyRDu9eA/tVXBdIUR27+0c5Xu5Q3hv2g0SNeHC7Y/M19gbsdL3L9w6b1xlweYP/AFPLZWdt6/kIwd4QOZ3L+Q/8nLH1mxP3wqI+dQf7M/n1/ZkpAn4j+QPIsTLHS2Pxv9sHAYQ+I/YIVbCBhNkz9gSCUwjNCcP4Ys5vvEfOA/gPL47wrhdD/e62gBiIPjP4SOTBsmQ70/AArUPNAu3b/4dUfEL0CnPxA4Z4JwV6k/C5iY+cIp3L/QlxwYuNKsP+C1gJvA16s/wLwFazy7k7/oPJ1JH8XbvwBkETuMqGc/XPpIt1JX3b9RCNLKM1Liv4CJxM0BirG/If7Lxu3U4D88F0Q6femxP4iQsY29f9u/LnFjsrZD178Yz6m5zo2iP4AyHtWJAuM/OOI+p5zirj/RLKrLkWzav1wN1xOGM7Y/Pz0cW4y91r8QbcjvhaGoP2Fh6bqTHN2/mMi4PAPJ3z8evpLW+Yjav8TNxqBjBt+/gGyfu0xbqr/oz2X8eVPdv4RhXH4c+9u/AOtaeqQ/kz/yiuv3uRXhP7PqSkrjfNm/gNF+0Z4YjT8raqIc++niP1T3tqFpzbg/e5a4jJx2378MZP6MZDe3Py5Je3HMO9y/sLjm38HxrT9DmT5vgJfYvxiPAVLdZLQ/QMH9uVPw4b9gDbht15qbP5CGFvaTaKE/3epoBIwd4L9Es6QCPJ3eP6RWuG8NcrA/HPXs/rgmwj9gadTAshWdP133+bTE6Ne/EN6377Ekq7+NZDoHuavkP8lm9aP8aOE/4X/zZtJz4j/EypM4cxfdv0arvdSn/9y/oH790zJMqr/spI67BEDhPzCNPFgL65A/rJ6uLuzWsT/J3aSFhLTgP6DDxSh4c8E/gC9W0+/g3b+CMboPKCHWv/hme5FV4b0/AGhcVmysvj/3dQwphJPiP3r/zFnMA9y/YtM98d9L4T9wVJQgl0CoP9gGw4nhhrE/QEfqRxo1iT9wcHY4HMG8PxjRpj7kUuE/JG7+Lrc3tD9/cDcVyMrbv/g++oDeD7U/kL5sr/Rxqj/oDjkDWCGqPyt9VuTE5eA/gJs+VD/tkb/0W5ACrTbFP8SrTEDZb9q/roopFCDb3L84YHqxro7YvygZFq2X9Ko/5CgvlRUD3b/q2O2Pb9fdP9FexzT6weA/GF8XLZIkoL8ohXOAoDG1P4AOpjEQbMI/8pUeYDKL3T8Yvj/zmmXdv5DOQ4+AYLa/ICQ04YHxoD+LnUHnXHrev9yLvYGVYbY/MF4vQ/iDkj9MLMHLPmW1P4g0TkB+PLc/N7nSRlkH5D8veh97o0/Zv990eygpeN2/UENg0AgdvT9gvSBgHLehPwi2tlBOiaq/2DdGAUBKrj+wbM8zuq27P7jNO09wSrQ/gGYK7taeYT+g7PAsFqjZv7grUR15b7E/MS9P3vpM4T84Fj50KTrjP2hyqs07q6E//KaCCX2n2b9Y2YX/iFa/P1G7thcLW9q/QCNIbp7qmz/6fkbIbQHiPyhRibJpRbM/yDWWXcL6oD+0y5qk95faPwg9BnVVeOA/0KGlgD34lL+Y11Oe9y/hP0cJGFYB6uM/Cs2RW8m72r/GtsML1gXZv1gYPcC13Kc/7tAfUODI4D9ooBfic5q3P3y57jJhiLY/+NXjLWKWrz84obVQ1ca8P9ZJyR8Mlda/Bmz82wgJ3z9oeEJDM8fbP6iErvA7SL8/cIcuWXSdoz9EsvNejf3cv4il/tOKQMM/qPIfQMdYrj8Q7qTNGl+VvyAvkFbIM6E/zuUy8kaT2r/Y2j75Ij/cvxweFRYbn+I/SDa2qK1xsj+oZ8+bjqK+P5wSx2BqzrY/sHQWDhZxkb9g5zcdXjbev5BizKvveqU/IWvO8dPr4j9X04Qo4BHhP2F0l+RYpeE/wDn3oeUMhz+4uUHyTEzbv0hl7/t5mKc/W+4Fr+Y2279cLtrK5GO4P+A9fOqLm64/DvZeqqh33L8a570LnVjiP9saNeu3Jt2/DBrprWS82b8gxoVFq3qBP9JQgnuoPt2/nJXIb61usT+I3D0MWfu+P/DL4k5vj6s/DH0cjJvjtz/wlFDerkqeP9D7rDZppqs/zshVqYwl3T/IZsIBlZS9P/5cS4YwQeA/u4otT3092L+MJyCcpLu0v9+xRMI9W+Q/qwdIUzUQ4T9OywLVnfrbv3BzgK1ZVZ0/APnELH0hlj/gGsyemfi1P8BY/e0ZMpQ/SKZ7oijKvz8gPajq9E2pP8Br1Ciod6A/uMfdBeIQsz8YwfgCo3ezv6LW4T6trdi/XEqn1S2m2b9AEXGrfhyTvxgJxfZUUqk/Lp6KoXdP3L94evt09UPBPzWBL74S1N2/DsPq9gvU2T+H5ckdSxzjP5AHtx3YmL4/eEoNO5b+sD80CR6zVZDBP0CO8wEqc6k/CvudQxbR17/wi3OxVi+7P0Z0R40lFeE/HnQGU4xF3L8Q3X9n46WUP07pdHqOjeG/RD4Lugcxsj9Ggca2r87hP3DKT9oFWJM/ag4pnKqH4D+P+oWh4MbZv2uVTNYHsNu/8BD7KtzsqD8AQD+pVb/av2ixcgNQeK0/6vzX51tF2b8J8LfjHXfgPyhDjcGz77Q/du37TyKx27/8MzmWpCPFP7CyE08No5U/CLxPCWCpqj9Y7GcwPFqiP/NcLYw0KN2/yETqdY5mtj/OhLFT7PjcvzgANmRyeqU/qbfH3mBm2r8pDG9wohDiP7Bii8gZHbE/yGdkDatr4z84Dumu0WCgP4rYHga8/tm/R4MZ2GRg3r/c0dHwFKGxPwh+mD8T+LM/3KBR37O/sT+CBb4Hzi/dvw3fCGTAK+M/HvfWYZ+y37/0Lm4pbmHbv08JRvebVNm/uKcRtZXQvj+I8pRRZE6sP0LcubEcz9y/iGFIf4HO3b8YVRbxLSuvv8CeA/eBkoI/ZLbX0ao5wj8mhviRJtPcv4BRCfeZspw/ZGFrxYMF2L/YWBfKT4e2P1UCdlwx6+M/4Nb1NKJ9oz9kpmiVi42xP/QQqHwp0Lg/FJkVWKJWvD9GH7NUG1Hbv5X+x9mvaNq/jAyk5JhPwT8HQWtvUXDkP1C2kqOnYtw/xvUO93/u2b9ZM9Qin8zbv6ho4xF1KKo/OLqjq6T8qj+ISNV+NF2mPw0kZG8dtdm/aPUkw/Z7vD/Ogz4ctbLev2DG9GReBJ8/jWKR0ox4279ASR7K9rWsPwDqv4Ki97E/1KzWPd9iuD9AFeNRZAOfPwfeCaIE79y/yCv72fe1sz+g/QdstR2yP1jaOOVgALI/fEiL8goB3r/AFubgzjCgPzCHTNpfT9q/jGvsK33btj86GBqYztjbv+rqzzQ+ndy/nLTPqwgv3z/UJou3Lfvbv734B1E4PNy/2VpvP9Cd2r8SyR0+iGPgP9KVI/UVM9m/9XZIWtrN2b+YbvhYLhq0P5CRvSm+YJo/EPLfE+lBvT8gs8hiPQeDv5jM9Aa9nqU/77L2/xfN4D+1zFq8af7bv5vee1mmXuC/kAZo32D927+kMaq2/iSxP4CYsue9yqu/yKDlf4wBrT/Q/yIeeR/cP5w1fhIw1tq/EiKrVuoO4j+A072Auadvv1AfEODtvrE/cA/Zp0LysD/wVRCXCF2xPwAGDlDk238/mD+sERnAqD8MUV70XgHev/haZ43l1bo/pCX8UXSgsL+4+QjWMxnhPxD8wCdSdZ0/ADBpkIBLuz9stSUqixW0P90H93ocbOE/QPKJCMk8rT9yyXMB1f7gP+DV2S8nB+E/1NErNRDW3L9I3rn6CPPgP3Lg//15xtq/5Ov9Q2L0tT9GOvE5+Zbav/jYrzavceG/GNauD/bVqj9gfMS3vJK2v5ezvfbym+A/aPWhZIsPtT+keVXeNA2yv1/Jgg6Q5OE/ScQP+sbX2b8ggf+AmJW4P+dmzSPwOOE/G3ZvBtdo4D9PZ7QhAzjZv4iHsRwXY6Y/ahOXb0kO2L8wh4cbARegP+fpCuFnbeA/7fniCKWm4D9QE5zRssquPxAL776WcaE/9FlQL20d4T+0KvsKhyriv/9/tS4XFdi/SCOH3qfPvT9kfR242Ou1P3injSh2hKE/VJ+vNKz+sT+XwUeVZGndv+1s2U9s1+A/zCxihYBX2b84SP2A0DKpP+Co4eRs+aM/1MdpoKJVsz90XS1KQCfcvyDM0z/nqbU/WAkRR7lBtj+nyI00Hd7dv9zWK91ipNw/cJyQ93VGsD8AbHNaSKJbv6iUzFCQ+LY/iJlyoge2qD+9eBZkxozkPxPaA2TDqeQ/0JCnXOYzkz/7bIzlt0bgP4AfdHH+MKg/vGFhOd4UsD/FR8SOwYDavy1QoYXKXt6/o3H5PIcY4D+YbtzpUPKiv4dzsa99NNq/7XP/XuD+178UItYSN6i3P6xIUp6sorY/uEp6GgfdtT/o3DDc6hW6P8AeXmOyp34/DE/YcVBB2z+YRWQh9xXcvyxfykh1OLg/eAsNKNGquT8gAvBsK3fAPzAcUvsXdJY/ld+aFaT94T+wBYiFHTaSP9D/b0TjXZw/tP2G0pgqtT/4N64UxuK5P4BOxzYeMp4/jO0Fe2Ystz/QL7OdF/2kPzhMUHvBiaA/OFSNhP1Ttj+AlKcbeC+dP1iVBWdnj64/sKUzkJMa4L/gzq0RpJ+kP4YPLCUULd2/gJuWrHFodz+2t7cGj//bv8jAok9Br7c/0NfLj2nuoT+m3WUxzBHev7SRAXiLS+G//BxFoD0iuz8YMWgJnnutP0wj5yJJAOE/ULMYIcoqpT81cs+QC1nhv0TJDHnyvLs/zDzCbGPUsD+rkcV8FcPcvwAgIWt3bqc/OPYH8E5eqD+c2uLhFk3Wv/JfHv+2oOI/TDyEJhIvsD9wInru6AqzP08wY06HTeG/H0QTIJNu3786rRIZ2RXjPxDu59siK6k/QtT7FZYg379Iz2t548yiP6ftvp9lf+M/AHyMnWZRZj/+ef9kfo3XvxTYpfQ2VLM/UPAzgE3+kj+WToZ1Oavav7wLfr91DbM/AD/DHQ5qwT+IZMGNFFSkPxwWi1IJ3eA/lCW5zsfS3D90fwpBwOOyP3z8W5rwSrw/GQc2aA4w3r9cX/MXhtSzP8gSm5Y6X7W/yQlrphp+4L9piOOvNIjav+zKI8smY+A/GDbHfwA34T88tQ155FO1P6Dde4cdWpQ/8Oumov/K2L/wysW5mkumP9w9+vtx+rU/ZsGgfHxT4T+gSFp6xvXhPzXR3LgWvN6/CBy+MjZ6pr9wGJCD8si1P4qbmEawtty/EL2rBnyqpj+Dird5ldnhP5jAhBh7V6k/cEDdyvON4j97vuug+97iP4MMSZvJwOM/ICk/9hKFnj+IG3X8Y0OhP+yDf2U+GbM/ZDPERS3AtT8w47pW2bO4PxaduJPPw9y/6MUkJQvatD8gR3aGb12qP1Zy2tn7EN+/RJohYbabsT/KZlC8jejZv8g/mlLDOr4/UEt8+sHQqT8wOnlXSUuhP/vP5CVR2uE/Mx7Wol2U4b8u4fu2Rnjev1C0BA60d5Y/tRhfJxyo1b8AQOQ1HRh1P6w1qnoSTda/ZqlJ/M534L9Icft0m5rav1Qu8U6PKrU/V5C0r/pG5D8gh/6FvHWTP4Ap50cyf64/GJQNZ+atwz8pVYVd0hjbv96sZV2nwuG/gKbUWJ8gsD9Q5d2bKlTAP6zW731PM9q/+PFwDem/4T+XGhB/zyHiv42GkkgxtOA/APky2dnf2L8k/RrCEczgPxEhqoe9htu/QJq5mrOfej+QDZlQdiumP2yFJn10K8M/ohiKJl7U3b+IBtgzbKTgvyBn+QL266c/ADqThN5Dpz+EwMB1lobdv/CnOZCiZpa/mMJRyFHnoD/IQejK2V6tv00mHQev/du/8Kg/f+eVmD9AS7PrI2OXP1AfQpWQDJU/KCVw8AIRqD+Ec20QpkqzPydhv5wfB92/B6wLKQ7G5D+coSk7QZHiP4DHp9hGK5A/ANsSaAFe3L/ftjkRiffdv3N7HDG7ROA/4NElZkuTrz9EA4aVd5K9Pyjo7dWPCLc/IJn32NoW4b+Q/1nnANqfP2r/OV+xWdu/lMisbD4ZuT8svoTxjOjdPzCiD6H4YKk//FJr3sT1uz+4IBHRIqjiP2BzUjEm6rY/2ETBFqnvoL9dN4KkyJ7ev5IQuVP/hdy/aKxibswg2b/k5igk1Fq4v3pjsVAOd+G/ANbtV7mwYr90UIOm0lPhP9UP1J+Ie9y/BKfsIw5Usj+wadUYCkiyP5C/ZY0QKrU/JGBfaZRVsT+wb+GmDdKVPy9swyFc1Na/YjVvus5X1b/o1jCUcPK1P0CE+OZForA//Ql+9/Pe4D84kC2S2XzhP2ilFZcMJ7s/ECGGuwHjpD8cNVNpP0TfP3LLC/yQ0+E/mL/Nuvqpqj+oZUgwtHq6P3jb5w+oXqU/BvZlB01i4j+KbA8KYsPev/yjhSbDTuM/nDhOl4sPtj8b56Yr3aPgP/SUwOwiLeE/XlBRW2mc1r/QbiR4VfWpP6/6eRh719q/PNhgGwMJ4z9AFYHlpXxyvw0TgJyOAOI/MCgrYfgAlD9KIKU5gZHXvySu5u5xNrI/Y6iLjFe+4T+LyASDX4LjP+2dNhWy0OM/4Hyooo6Z3r/4EfXnL9epP/B5CcZofq8/yFqWF5HrtD+5741BcZvZv0y7ZegNndu/JaHAnzbj278Q/pj1iKfev0SOKWD1a9q/SLToPZQTvz+6MR5nKK7jP3GLAGlIqtu/+8bFmpBy379ZU4xP0azcv0ASmhCku4M/i4pjF55A4z9wf1y1Gka4PyBWkjsv0Lw/bTehH0mc1796wl0cPPLYv3gV/NJO37M/MNraRddVoT9Y7us5yja2P4WUMLy3xNu/+DS3dlBgpT9QQspqF9O2P1D4YvHw0qg/XLKZy4xK2j+qYrMSZeLZv86wdn54Bt2/7sXuS73m3L9FHk8vZ6nZv/Cl7hIzUrQ/d1RDUZmW2r/M7JMhqzOyPwi/alsm86W/kBlmbButpr+ElYLMike0P+ihcMOvqbE/1DOHOpyJtD9Yy9qSv4KnP7h61LqGF96/HgqfmNIy3b+sBeEWwEi8P0Fnvf1fJOQ/ckpehkFH4j9e39RTgXHbP6gjpfhjAb4/ePY9kc6vtj/cbs/zWF/bP+y1YiCUB8M/66FxUxwa2b/o3wkqImqgPzDpVmFKpKE/4L/klj1HwT+4iajKUSKrP6fDWMgmQ+I/cPNWuy2gkj8g2mIJr7GqPygsvrJe79u/gLGTqium3L8YMhBd+i2jPwDVdqkarVA/LYSsw9qQ4j8QGuRhHjbcvywnA7R0CLS/AXDlSkVe3b98CIx6OufhP18GzgXyONm/dom47c+t17/oKfrPSKGpv76JgEhIwtm/cB4UOg7Qpr/gShhwp32QP6ABlXGszqY/RNiLwJKotT8oAMUV9oG8P5glAwYKHcE/3YmBTUoU2r+ogLsDBIy2P7IyHnvqv+I/uYrpN0Kf4D8ARl4sDZJov4jtFObXebE/+By4g8E/qj8gaxJgMdrbvy36VjD8N+E/Ke/QN4ws4T9bRc6+l/fjP/gfPsxGP9q/9IDJJv80tD+Ai4e79zCiv/Ch9DJqE5U/uMGdfEIDqj9roOtSDs/cv7D4Lq8jQtu/EIFTz9ZKsj/MAod9dAe0P2gaCHtPc7S/yOv+1QRs379K2y0SsF/jPxaMzEHUI9q/aykXoGPu4z94qS6M7h6wP7FCB6LMpta/EHw1365q4L8ALydImSrev7KQHuBedeA/LN1CuAd5sj9McG4eq8Pfv0DvK0nKrJa/QGy8toLetz/0rc8WsjWyv8GHBN94ZuI/HnQyZY97379YTV5Ybnfbvx3es+hMj9q/b/+CaTVR2L80sPPb6jS9P4i8joEM7rA/0vq/Ybb44D+AR9iLHN3UvxDTBlzCYaq/JGprg+Cu4b/YJlkquPSyP9eOVomKZOE/TOq2/8OI2r8cqyzzG37ev9D8J8HoTKe/vCbSZ+y44b+adiPeQUTYv3igvDe/dKw/ON/YL7pm4T9gT+ogNQOzP0Dc+neAh3c/sLO8dypzvD/4vTRBT9GwP9Bp/VLWQJc/AJTAwFqiVD/6wT8jxbXavzhIMM3uC6U/Y6zwc00O4T+pNXAJXjHav/UQ2JRNeNe/TEJA9RxTwT/YHTvfR822v6rROoyJBt6/kNgEWTrY3D/obZk+kjOkP5A7f5N+4KA/RuHy7hV34D88lmJOveDiP1SJUTZoCcM/sPIi20JyoT9gSqzzJSnjP3C0KbDOAda/PKYSm/W/27/gtJCbkxC7P0iYZVorzrE/bEMU2HtAtD+A7xvmiQG/P/ItajDuONy/00rlTDcZ4j/MNYn6QRHAPy3DZ6VSC9i/C0n+vJZb4D9AY/7bW2u7P0h2VkKzMeI/aFeNeA4L279ABk6pfJmMP0YvnzW349+/KKg3pC1lqT+6Mue+QsvgPws+odSra+I/6IwXuj8Ioj+g+BeItWKtvwgjEkrOo7K/ML8xYhkqtz/1eBSmbhzhP2footkTe9y/IMU9T7ZDgD8ofRKNDaumP/S3u/wc/90/PERGqH4Auz/NUxGwuGHbv7gcklTXA7E/4Nq3FlzVkj+X0bPs7vDfv1R64dogELM/+PKuPYRi17+sIcChDrexP1jrV6s47qY/IC/CSipBuT/I9t8Hz/inP+gdpKH7uLQ/BDAIL8bGsD9AjvndtPjXv6BW8AHNsay/YpOxZZ6/4j+ANBT3xcqEP78VwH2v9Ne/aJGTXRmZoD/4YaDwEdbcvwhuKuGkl7A/sIqjDcPumT9sMvRT0aGzP7hORCnpubk/HOxQzlGFsz+n54t/AcbdvywlrDkw3LA/qd9+BFzz2b/A9onewhy1P3BJGrAe8d2/BxaYntT62b9B9uq34KfZv0iuJz2U3No/lFfluBDT4D8AfH/G4xuiP2o/56KdAd2/zAhu1Qst4b+o8mzi613avwI4gOKeZOI/oDJ9oN94vj8SBvWwYH3Yv4avPNtPEuI/YDJKYw9Jjz8APqYLn8euP/40m58SpNm/BLdc26ZEsD/xu3gpwWfgP9CRvQytz+E/mEl43ZAttz+8CRhk+RuyP7An8rQ38r0/AHIVqN1Ksr+sAKbdAqbdv4Dgd19ywcE/lMGzjJ2LwD/D/O9XgDLjPx7gvXz6sty/2Mo0Ie1uvj8UFm00PF7av3JP2+tLZdu/gXLqlThV2b8I5jNH/KeyP1Y1UtLnRuK/0FNi69XJpT/sNhv47KzgPz5tVjzVbta/hMsuBDXWuz/c1eDmOe/dv8C5gz4S5rc/yEnUqsZlrL+ATzV3G0lxv9D2E/f7aN+/Pscg40xL2L/Yk5FTjljZv0CqhinAt7Q/m4y6vJx74T94LNc6YAyhP7odZ+s0G96/IHpdi1lynz/AYoDR8US7P1wdg8l0xMM/2NSJYZkN3T+w8P8H0tumP8tIoWGV9Ny/Oj/0+WZW3b8CeXkdoKvjP9gmiP17puE/KpBL43/Q2b94GPsxeBa+P5BEQ6nIy6Q/oNOjY9AZkL8DXdnh48TkP3zw5OE7CsI/aOq0f+YW2785tR1JACjYv7AV7IZ7+Jg/bwJ1OcoG2L9NA+H/BTviPxBPagApKqY/kdEA2DWl2b/oCy2oPjXhvyA+Ila3e7Q/SCdrhuLsoD9o3NcbyoivP77DM8bh89k/uN51s9H0sr84HIfEFq6pv65Xg1mHz96/p2645K4p2r/Xpo9QKf7jP+Q0JRkIoOI/xMi1S5gs4D/cX+Io1WLCP+60W6Y2GOE//NtC6wQesr+zRLegI5nev6BVvTS6Xpw/jHev1UyQ4D9wxsmbkZK1vzsZbB+hqeA/16tCt2h52r8inViXWBffvwiXUgUpScQ/gk964T8K3D9oR8JKlPW4PzTgqthzarU/lPJmkOd52r9IEC/6KXC7P8ijLhAi874/OskOlOSx27+Ks3wsah3bv4BvP9+5vnY/GFW1YIe3oj9kOdp35/e1P9ALf9xTz74/uGm0aJgPtj/AyHDElRayP1BhPxCv2MI/Zp00f+nF2L9wLsY0JGHcP1/bI7E7q+E/7m6fHnfw4r+AA5SR31WzPwim2L9GlbA/gPi8x8Arqr/8qYxAT/e0v7FbBKmd5OA/iE4RGt5Boj+wMGdOdECQP/bkIKoCTd2/rslsSSdd4j9sWor7P6biP8wrVm0kbcI/HUoIq8nH1780AR50FYK5PzpndwyHxNq/jBxGmFX0uD8AIuq+bLObP9ilUHVMl9i/kD3nl1BYqz+4FgsPaZqyP1bk+yi3heC/73tCNgQH4L+wi8n/v6OWP9i7ReR0N6I/mZZmwhKs4j8YXpWMTV2xP9WlS0hhIuI/SIm/rAiapz84s1rYZfSnv1iu7+A5frQ/EKvgftA7pz+53oUtjo3bv9hEWlRZZb4/AEHgIsYXvj9w/A+lWVy/P8hQxYFACaE/4JKaKeuR37/UI9DMLD6wP6BQailT+6m/WwFnKrZZ278a2qjY+Pncv6gN1iBTqro/eHxVJdyKpD+o7DzUsrqpP4S4Kmzi4sI/kIzCjq9vkD9gZ6tO/VyHv2fZEggdKd2/vm9trhqb2L8OFMCDsoDbv/u+UUaPV+C/w/Uvdx4T3r/Q4Z1iyF+UvyB3hTuikqU/09BzIB6Z4T/AtGA5fNS0P27lntEsQdy/ez4xOntM2r84ev0mVLOrPwMp4Kv7jNW/QBmJyLABnD+akzHg/Dzcv3Ciy4Qhctu/9F9IhMZhsz/QomcjFI6WP7zh7Af8Bbk/2durzUeO4T8+jn5rIBfbv5CJ9+L7gqQ/wlixUEPg4L9VBFGPQi/jPyBsOgEaJK8/6Nb7yaW22z/wvhYAAKiUPygwuzB//68/iCKLnAlPwT+YTccmjMyoPxDFRjyFz9i/LOEsF7pl3L8Ab3wwKJrBPySXaT/bG96/dJVc4Amz278/s8oWZvXgP4Z5Mny5kt6/ABEH5sAzmj+OolrNYUjbvzDpO6mST6i/cBmvCiimur88mzriT3i3P/CMXv2Ni64/fPjuQTJZ2L+YgldP4RepP+lU+8fWgdy/hN9rnz914T8NL50GOuTcv507v10lNNu/d59J/udJ4T+15UlDTeHbv5hjAiT9QbA/4EW94DiShr/4xe4KrUayP+gV8Tb/FrY/RWnx1EKG2r/zhGDP1m7hP7T1lY2HFbI/MNp3dfTOnT+xQVPYMw/cvzB/GtD4ObA/eohNEsYm4b+oTrQY+7iuP8hl45wBcti/QCylMIx0vj+IXAUgABWsP2gmCuRH07Y/9ferLEbL4j9Hnfyavr3hPxCXsrqBf6E/wOfEMSravz+8BNj43mnAP4w1zOHcn9u/E1++dvuu3L8e9QNQ90PWv1ariPI0gNy/A/vYEHhQ3L/6sVitz+Pev9bNkpFzY9s/CXhM3Lo93r8CI7M/wFDePyD9UNt2wZw/K/Ok+i+D2r/VyAHWCSzbvwjxTXKsiuE/7N6HRrDN4T8AdQhB6d97P0jGS1/yRqc/cJtztdRxtD+fRjMFHw7iP5Chj+ySdKQ/ICw+M2RGlz/rouilsjXav1ZcCXfB3uI/oJPFv4pztT+gULBHgJykPySrC92N57G/oCsZBQuNoz8AFgz4smOIv1t/3rWaodi/gH7WImRAdL9Fobk29NHjPzAPWepYVZC/bQAuaefH2r94+qJl7xauv/srIYMzxeE/e5a/uQ+A2b+YRD1YeSytP+fI7CxCtOE/CMc1hfRlsb9Is1Qj5cqpv+ZmgaDALN0/yEWNEbRHuD+QAIpov6imP0Agciw7DZw/pW3DfGAr2r8oZgAbNbazv/BC0M1LJ68/jGABxh/TtT8ecuJ3jmnbv9hzMtvhyLo/wCwAfgUZrD/QODDbLVCpPybaQ/fQ0d8/4BLT1yubpT+ZYPHDjL3hP3B7fOHyUZ4/ujdZbc613L/rC+ZKKDPXv/BvPvIe1KI/0Lwc86mZuD+cfbhd5lDAP/A+0NImjq4/QgWBzjze4j8la2S2nRjfv4DaxmFDsKw/hUTWhc+Q4D9IZcM1GQGjP6i4ROEzLaE/58QN/hxJ4j8AlX9yuW96vz9SC4XATOQ/PN6igtlo2L/wODOuvzGYPwztoJVQ17Y/BJx/b2mysL/93UpXe5LavwTpwYpTDuI/4Zw+AQw74z9k0C95CzLdv4AVhBlAlLe/gpSQCIWp4D/45/KL/Ye3P+zEC2jXL9u/FcDLUrHZ4T/if/vzzDziP8TglXEhV8E/95kvNlaN4z9udAdd5j7Zv+5DkIVLV90/3O6X5Q7LvD9OYwYTSgTfv6httNGTqME/xNtgXOlBsz9IKIhouFC2P/RF7QVpabs/mDa58T9iqj/Mk9kQBNHav9g5aU4zM9i/3hfeah5s27+pSu/885Dhv8rG5o7ybty/Nh60vXza2b/UbxxiQj7CP7BXv59HOKU/ZGFJE25zvT8qt62pJtndv+AaaBslj7o/AHCQugCglb8ADk3PkVJSv3AiKg+X9aU/wJ/h3ZWHwD/EDr5nnna4P5ACUNH2d5c/DE93bSOFsz/cRXhvGHi0PyAm5166BsI/AKabx7ntRT+4CsuNlMnAP5Uf4fvjUdy/WDJWrIPG179tNJvNjYzcv/AlMvPGF54/evVKGdJo4b8OKQnkbDnjPwjrDRlfWsI/JUxhrtII5D8wMwBDPB+gvzjvUPSBb6s/wOQKtt3jhj+IFs7f7jKmP+DORpQso5e/kF+7A9TI3L9A/KB2YTWtP5G//oNaJOM/KHSrm2pGtj+i2vRlJZPcPy2ZXNE0udu/TJnvz9jawT+4mPzEX3O3Pxj6qo4Vaqm/H0EptZJ41b+wZUpHADGkP17Q/rPK0uI/cCaznTxroj/Yklo+sh20P0cNz0PRh9e/dZ9s4WOn4T8sj+XPA/G4PwA1g/XePlK/oJzgiJ51mz8gb1UXtU6QP0yf/p1iB+E/8l3QPGl73r/wQKGBTLWrPwSlqVed3dk/4Kr+TzYetT9QtUakYJ6oPywLjjnVQbY/svmLHbvZ3D+glSYJ9p2eP912M8ypaeE/r7LAvSJ73L8AXXISX2ysPwC/fjs56HE/obF//5Jz4D/txHCyV37dvyjEgntHzaA/APuWtJQRiD9gGRjrU1rBP6gniqmPYrI/jw80lrig37+UzL6Rjmq2P2BNvubda4o/G7x+jX9S4D8oxb2UEELiv4wz/ffMlrY/kA6ZnlYbvD8Jj/jEmnDgP1QQUYjhabM/3L8bmEX1wD8QhU7Qtzq5P9DyUxEw76w/t49GZnGp2r9AIIP94m26P0yXmvZ+n7k/qNY8DgR/sz+qgFiL5Ebdvyx7JljYbLK/oFXG6Gcbrz9YhAA/e2XEP2jvVrDKq6A/uztJKZ3W2b/IMtlQPJy8PxBrVXVLB6Q/LMElBpyWuz9bcLui1uXevwgmyFVqhqs/dC3XuAK92r8YpDTC4GqiP2+86J65NNy/EOd99Ler279f2KofwWDhv65ebVr4CuE/EK79ykzrqj8Gk15eTfXhPxF4O8L4odm/65q/tXNO3L9C4FtzAMnWvziDBRQBIuE/eASwdSgLvD/AAIfZyR6mP9QkyWsBKrc/sN30mRIGtD8suczWk87cv0BScNtYZok/uyDAxyUM3L+8IjrpXnO9P4Ax9BZrMOI/fHIRpi8g3z9FC9ZzaGvjP0ArRnx/Vpg/nayT4jv14T+4VFKOk3+wv7jKJJ9RibE/RlqWpyXK4T+Mof6vN8i3P9CtycAdxas/oOO0aGRjkT+4psjYpy6lP5CxjB7Rwtq/Yj7JUjDe4T9oEFF5DhOsP3aWxcSoMdi/R3+oSGO12b8Pk8AGWtTZv0CX97pA3K4/sPuc+syWwT+SJKMkZKTZv7D3DktczbI/Dd1UClLK2b/EThFSeBjAP9ST+N8TebC/ibJl34Tv3r90YV0PAnezPwCPZoLHhFY/C2tMGF5X2b8LMbVyWB/iPzeNuwrYSdy/MJglnnWhtD+MIRNxAxW6P/Dlmu7txLQ/LOcwIgkotz8orpI64yPCPwc+AdLpA92/YAfnTCJMoL/TgVhKCA7iPwyoRUefY70/cWZkVE0X2r9gf7Gb4z2sP4lBI6IQeNm/5mntYYxm3r/e4YIfFhrevzDPfbtWC8I/HOJz5NXHvD9QISUA/w6nP8C5oHJ/1oc/Ctsau9nr4T9V9owmmlXdvxR5tDFCa+C/5RUGdK6W4j8IQxuMIY6nP2//qGQimtq/8JmpMIfHtT9zsV2njffcv7DriSckAJI/wBFWajCAfr/zy069ALvjP5R4+RJhArc/AK22Q79RZL8pxpZTr/XXv5jOs1rx9Kk/2KSKjCV7oj8jUYqFxBLdv/xUeKdsCbY/hyjGCRYz3b9Yt9+5gOSpP7MFXYPxx9y/03ZptKXm4T/3F1A+rxfhP8TNVtb+vbc/oPAG0yk3nz81C7wKvXLgP/TE+Uhs87w/ACHNwcyuqT8CrShDpCzbv1ufSQoDZeQ/QjjCHWef178w+BaKdL+Qv0BkULWAbKM/nQnZRt1b4L/oFSh8yg+sP+R7nNhxRuM/Gq3nLus83L8ekT+b+0Pbv0CqvL51Rdu/4JP5T1k0tj9xCnm/agbhP+TdjInMneE/iieRWWiq2L8EL+6p6zu2P+ix2owMWdm/kCtKnrPUqz+ccMueXr7dv9Sm/1ftNLk/gIrkBR/VwT+AWvGD5b7cv8hy/yrNJ6m/gPApbrn2qT+Mp96uAA/bv0C4zXVx+HU/rm2dmscM4j/YzcwOnCCrP8G6xzlJk+M/oAwVE6cqrD+MNbsfQGy0P99bm9h+QeA/7ufKYa394L+4Jdk7JR+nPyjliVTuUas/oithhlgm2L8cDSxdfIPYv9i0ywmZmbo/CCjk0yGA4T9QA6EG6RCvPygtyggzKqs/XJOc3S97tz/6DSETpz/ZvwwElMKIlrM/6r9+pXCf4L/0U/cDczfev/jA6lslcL4/aIvrvEzq2b8n+1fWDhvav0D53bFRRYk/g36RE6DX4z/gnpRNM+fgv0i9HqBqZbc/qOaIQ5QxpT+YaWQrbkimP8KLbOMLNd2/ZXCKETHJ4T8qCC44Ic/av8boprdYUdu/UDNbS4zm2r9kxuKr17fgPwArKAtm8rU/CPpM8ZBB3r8rP2ia/qjiP6oyEB7Z0t+/OB7fxWJ/oD9KI5+Q1qbdv9T4sq68pLA/xUW+EHDm4D95s4Ay+R/iP7i8oGd9TqY/HP/5wDoYuD9Y9n7WRaSpP9SgnZZ0Xrk/Xl6cNapT4z9Uqj1ydOnAP7CoqpDMnqs/I6NpXvBV4D8Eo2+eMabgP2BAXJLDCqQ/x8rX0pfI4z8nRe/FzVDiPyAdMRgPmLQ/eEOL6Ibssz+wxgVgVRGbP/uZPrNPsdm/JM6xiXv/wj/Q/fBg8W3hP6yK2I8WfNu/MLfIzIYOpL9KVvx3+p7bv5jDgUzhpMQ/9GHMyNLJsz8QLq5WKJOkP4Cx8Oro8q8/ziRFP5Ym2b9EmnzKAmK4P1Yk0aziZdy//8T+RHIF4T8s5+PuQK20P0HVCwMJf+E/LIdxUPGd3L/Q4NGM9tOtvzVjrImpwuG/sgtZ1VL/2r+cg8bRhpjZv9Ak8lzHueG/8HkO/Opyrj/4I1ZUWKK+PwW9STv4QuE/eAW9sor9278odxGjaeOoP0TRDQyBa+G/sKQCSz/ZpT9AYy6zIESmP3piGzA5seE//dxaAX6H278BhhRR3MXavzAT2JulcpA/5Ie7DxAUsj8wQXCP4f+vP8mhmiGrfOQ/14+M4f8J4T/h0cnpcIHevyuqUVoljOE/MJfBf/1d4D+TjtKf7VfcvxBoKrjSRLA/2CJOAQShtD8rR+PfiHnhPxANi1N6LpY/U3F3oKfj2b/Fk86lCfzZv4TWZX5yReK/mdW834Ud5D9O3LALqmfgP5XNszNjsN2/tWMyIAL72L8083ae2xniP8CSiQVXkMA/ePA2+uIToz8XNPL/XY3iP0i8F5xY9b0/OMt54bQksj/WTqmBeDDfvxLVuvCwYd+/cKM47xs8oT+QsoB9Gpm2P5B/KMj1cJc/POlDFfD6wz+TCFa9SnXhPxFJbWqKzOE/D+2FwQoi2r/KTI2S3LnhP+eGlNXpneI/UkI8PkjR4T+gE+4ChiCRv5NNxz2j7eM/6CR7DHCbqD9qP+yGqTDevzF1zs1cktm/lI5tLu6etj+45KZACfzbv9Ttmg7DXd2/MDCMbDdUuT/rfQlwVJ/hP0h4ff84WqS/oEjKv8WsvD+b+vPMAD3av3bHVS6madq/dcXijU1E4T8gLDEqkRCwPzXXFKgJftm/Qas/KGiw4D+d+nMhj5rcv6FmWJu4iuI/MIaEqXcBtD/AJC1cYieMv8BiC31pInC/vLwpp56u279UwVxIT+G1P8orQnLHVOA/EAIt1I2RrT8g9+OvINmwPzMDlYkeSOI/FUQHrkw14z+zNGYVBhzgPxxwoIzET7Q/iKDMSZCYrr8SxADDV6LVv8Csv4guGr4/WJMLv6yspT+19AhGQ+rZvwDMuB0nnVW/AL51bRIfcT/wiRZ7ffi+P7zt3EK7Bbc/BLnQYZKcuz/t5KbfxB3jP1BapjSET50//g3I5fbs2b+oXuqGEA/AP4szfVqmYeI/utkqZbxa3D+AeXGV7nquPzB1m6esvK4/8PCfDwUWqj+4ocm9tRCsPyDotQYcx5e/kAOOYplW4T/C5cs86QnbvygbgPxJ1rY/TG3j0qDNsj80U+kohsG6P4ztkdGcxty/x4R556pf4j9KwUaAxbLYv4bno+pC6eE/vMr0O2NP2r+4G8KZwEi3P4huDpJu/68/mGH+31akrD+tEN8ABMDcv0C2hN9xseE/W1RkqYPY4z9Mlf6/nw/av/CSyZTCl6G/C7fOf/BF4T9QaUijxBajP/hOioobGac/SL+Npyu+pz+sxY9dgD69P+T39qRxh7c/+FtWiEfj4T834bna3HLhP9vbZKj+Ltm/CJaFDJR32r/9vRoL1kjcv9Zl4VYMzNk/gADlbs87tT+98WRUaYvhP5RLcnCv9Ni/GljnGkJ72L8Ul3VKJ4KxP6S98JRz/rw/R/tJ90Ef37/Aq+U77Py9P5+gJRFhMOE/ZKUQmKwq3L/3UwPO0d/cv6gfC4X/u68/VOYXc33D4T/v6kMozIPhPwBiy1Nw0Ko/+KIlJwTKqD90Yco6PCW8P6rmB0tdw+E/FnmYNlgx1b9Ax0lwuGGCPxifR6IxaNi/wFkv0l3opr9rQ8MwksDav/BTIevv0pM/5XGvyaWu4z/DDpCepenjPyt1ef0RbeC/YHaL2lL1ir/QYWkXrNq+P7Q049/AQLc/3NPxWuMu4z/AmAHxTdGfP/tV5fSJS9u/C0zFXL1017+Mosp6jAuzP9AgzqKuC7Y/kcicWjmc17+K2/5Tn8/Yv7C88WupmqM/kG2H4SOtsT/AMj7NKcfav6Dc3mlOXuI/mAOYhkvrvz/+hCOisUzbv+hub1IBErY/wr5kPr+r1b/a2w8u5Xnev1beusO9gdu/ODl17IgM3r+1oCYPIeDhP4WdunDiB+Q/gE4HiEPMhj8AVOTMYKLYv+GbpBDuwuM/xI7XvJSXtT80XmTaoJ25P2SKv/2Qpdm/u8jcL6Dj2r8F0XvL5qvXvzgWZeA4mME/2KWDyrBN4z9qfTwsVKPiP7DaYXoKF64/eLyUPBv9oD9EUVbkSo/BP2hDQFRaYqo/Df+8194O2r/wyJttCjnFP6xEhBcGLbg/CSGFGoM04D/cJAUXaFm4P0BhCOtXUpo/cNs+XNKbpz+0PVTiT/bgP2j3qiF8R6Q/tPuxHI5hsT/Ic1KsP7zav4haRbEHf6M/26MtCt5w3L/4UOOkhazAP0QUITi5YbY/nHgV0uewsT/Tk4/Xr3Hav5i3ECdzTa4/NEeMasTjsD/kYqJ+Xp/av+AyvUzJ3Nq/a1836Ez117/ZwgRygSjlP/3RptVCbuI/S3S3mEvu178I7otTDC2vP8AllmV947M/M3skxt1427/fbiiRgtfiP9rb7uL/K9u/r3U9Cjhk3L/uCw+QNxzev1HJrjrGUNu/lrtQ6OOV17+a+Jenp9bdv3FyRN87hd2/0cCnpw8n2b+E7FVufb24P3QS/3l+xbI/fJPV2/yY4j/Az8x5QUW8P3iPsI1ma7I/1PHiwMyx2793k2dvWaXbvzkn7YlAZ+E/9x3F95Wp3b/ylE5OpsHYv1liWk87E+G/WKhnBeFnqz86Q+OtW+PhP7A+9rHzBbC/DPYpZfRdtD/3PjiHhOLjP//084YCr9u/gtnNRlsc2r8wZa72aFqvP+BQ1r2qEbS/MGHQxcStqT/Ym9f0PaTcvzUTGQxBiNy/bOGPo83Ywj8UXO9x2BWxPyiMjsnXweA/pOvUfJQ6vD/WA3EEUFvhv7BZbN6tFJI/ANXozs+3pb8wW3FAWTTdv3w1Ii1Zst6/eH5A+bSCqj+9C1D9RATiP72YuVGldeG/FGEZ/vQJuD/wfn8HaqKRvygpseORFrE/eI/UVUkHpz9BIaKDMVzZv7u2yG9xydu/DHVCdfyxuD+ABfflJwZrP97sgmh94eA/zW/k+loS4j9Y99ErXPXgPzTLJ2ZuSrY/uOX8AKWDvz+QNJgjGhTevxuTgaDq+eM/fIJjtKojsT/oVyXbTJ2+P0OeNtjDWOK/DLoU61xLwT/m0KCZ45rbv5iM+eojXKs/lM4BVdZEtz9TBqWIq4HhPxGmz/Fc7eM/cCRaURt6vT9aOtUDS+rcvxi2SkH/C6Y/wMWHDhirpT+AXUqZ7CC7P5gc/iZYWaY/SGo3u013sj+0RTXI3eSyP1eYkl3lwdu/g1py5E1A4D/wIUvz2zKjP0wYtOmiqrY/QDiBs8Kjnj843iNKnBKiP7zfGU0nTrM/vjbN8o794L+32XWBxIzjP/irOJU4b8I/dBEB8GFQsj+gErym0OmmP3LFs1XLE9u/Fnmki1V64z9w0f18ynXgP0YJQW6EWeM/kF0NzYsMwj8wS2Z9Oie7P4AMEiFMIOI/dDQWWSoQtT/UGwsq6n3Yvy7hgRTyauI/l4uWxQij4b9beUj8kzfZv1vSL5+4CuC/tguvhCYN3T+ge968MU+uvzBRc8qSv6w/EFLWeXPnkz/EjVsWh5SxP1h8JdYImqw/rI1FYNxJsb8A0DM/FLk0P8zqS14LKLo/sAtmArAQqD/m2H6xLYbev/SJEx+nS92/TH35IrmRuT+ktrs5Icbcv9xCNUI30rE/CS4q072l17+e6+plXODhP/gH67O2C6c/7Ecz00/tsz+05722qlbav1HaFWMMSOE/eJ1qgbwjsr9qBcYTcDPdv4AKN0oFpmw/Cl4IkYOO4b+YGBhZydLXv4rzobtQ5Ns/CJLLSTDy2r8SbBTjx7bhv6XcH+PpV9y/xLvpzGWZuD/TMhBEw4TjP+QN66nC5Ne/3qpXV33O2D9EwjEYs83Zv9AYjJBfRqI/BB93uxcewz/rSukK0JTiP+YJmGLFQOE/cGe2w83+pr9OI/LSOunhP9KyiFDml9e/74MObzfJ3L8AAy1P9wJ5v3Qa9s+Q78E/r0b3fPKH4j+o5QdVr/2uPyhCzJappNi/APSBQSsGpj/1h2Eu1Wndv/wArA991+A/eh/q6pfX279sIfA4bym1v3iASBlMea0/yEjT2K1Apj9tBHz5MRPdvwSr4et3TsI/CBmHLZBhrT8USecGv5uzv4C3p9eGEaE/8CwFjBeXqz8bsBg19eTgP8CA1kznB48/cF2CliEYrz/Rpg5npvHgPzDp/1otO5M/EJ7rrMDMmz8Q96RmrzqoP6MxMiqaS+Q/mKY/P6z0wT+gPD3LKv3cvxqFkj9lFNu/wEsf7w8huz8cGp5nftnYv8xP4PoNPuM/u5uAJ8W23L+30Yo14+njP9IYmuiJg9u/EJQ2dehBtb/dt8pzowzdv8CbNzEX5ac/TvzlaD4y2L++PHKVI+jYvxBSwvqHcqk/KJj2qdwYoL/VsOvII07hP8TZWL4bf90/fLHLode84r94XaysTEzev6SD2Y8a7rk/QKtT9T/lvj+AiRx+bIq4PxiD+/lJKba/+GTOigIbrD+KT7g2MV/gv/TqMSQ1+7o/lLo4dNWtuj87HS1CBuvcv4Q2UuQyjbA/iLcD7obLtj+Q4GFJPBniP0Pl68C2Vdu/KmAD8evx4D8cy4arCbW3P7iFVPkDvty/rTzSqK/y27+0HwFlJgfbvzLzlSDy1eE/AIFAHeqrkT/AQjjY/4OzP8o9isJ4vN2/ueXEWqr55D8QWSk8TD2/P4AH1FYOW9q/GFF/vMdYsz87ut5rYvzcv6R4KI7xJ7Q/Yw+2WHb04T/EPwT6vXKzP4DrzTpjhbg/+wwTgypk3b/iqvLBAlXfvxjW95MT+qg/hNUR3N54278XuPECE/nZvwYCjZfb8+A/9ue1LpkR278ZmBSumKnbv8+xyxByjdq/IISaRqZlsb/9llzLGSzbvxZ5Uh7yKdu/4D/NJezqmT9gBzMora6wPx4IrjepZOG/+H35BSVktT8A8AYeGUKtPwlwGWGSF9m/pXG5C/M44r+UVomspizePw6NZM7UCOE/FunGYbe53L+Qz+e5n8m1PxuiyWBc6d2/EEW5FpJUwj+YpCBd4xmkP+So1GBd5Ni/NGDT17ok4D+ZagVZBunZv5CnWmIPtZg/LduQlmwg179gHqOZQ0SzP9Rtb1XJL7k/kF5YBsUhpL/hH6NQNRHav0xN2H8SE70/bDzEWYol4D8mGfiFfy/gP590/WWrRN6/uNd5xcRfpj84Z5d2Me2iP7BphergQcA/FZMTkK/n4j8g2cSfyXGyP63h5x1Xd9u/XiDGH0d03r9oJvM1W5a4PwgpAaccgtm/YPi3x+F5gT/zW4TYA6Hbv2xvAvKnRdu/7qlyk2rx4D+rGYH1ILfhv5jONRcqIdq/8GQSaVE2qz9wk8BMzgSiv3iD09QT/eC/2LmuZ8xIqD/sAZO0maC7P0i1qwYbidm/gWVWf5BQ3b/4TCsP3LO2P9FXKYfxwuE/ZEHChiYBwD/QLv1rzBaxPyiGIODvOaI/TtWTsrxD27/waKK/5PfXv6R9tskmP7w/wEru+STJpL9oz9oEXyCjP8Gv8GUi7Ny/8nuQt0tt2r+8vmaNH7i1P5ABbEPN0pc/jEX3kHBHwT8obVvu95XAPxdX3sEcFuG/fKmTRx9svT9w5bfbfvOiP7hfp1HHWau/4Qh8rm8a4T8YFDrD7xCqP3sNo7oR1Ny/kIRyer3zwj/1dWorbwLevzAi0x6pObs/EGdnt7dwpz87xLTKDFPdv9T4774lgeE/uLMk+7f/tL+6o093IvjhPyRcWK0hk9u/aPcaE//b278A4DIG2K0rvwAr7icrR2C/aGEFhCs0pz9IPfO+AF2sv+B5wcnMWYY/rFScHto4tD+QNh8HJsezP+pfhmlzqNy/4JDE5ETljD82JQKkTuzav1MW0RPLHNq/5FpBNtyjtT8kBjSJbDfhP/hoEfFx5rI/OHpTG8z/uj+PaRQUQK3bv9yTGKcI4dy/njpSlt7p3r+JnpQjlIvfv3DuJWrLurc/xmiJRJJe1r+IEVtlAJexPzQfhXmsOLQ/aIe2hvU33b/j6b3svNzavwBTeKDCmK+/+/TRc1Tz3L8JYOuAc0XavyYEr+ymmdm/KDwBG8qjrz+oddshSPjBP4Br+mtU4KE/82dNQwlE4D8Q9qrcB2ixv1g7dfcfANy/4Awsbtc9tD+YPOL5kUCsPzttpAyPz+C/UMxI29nXnr8+FtUFE53dv+B+u84MlIi/oHpH1Oww4b8o0VWVZsXCP8LPvSCyht+/eAVU8QmVuD+QO11BpCWgP0RxKFFdztu/zIvgiSETxD9ILuUUc5WqPxFSEIlt8uA/JJ4Io4PBsD+QRg8ZWDXbv+yNelaiUMA/6MRmmaVQpT94m50C3kuhP6Uyg0zxAOI/FBY7bSG/4T9ARtOw97K7P7BZoY8Ghti/+DcyNqvhrz9ErvVAdVWzvyhsSTD7NcI/+x+ZSxQg2b/gG7ZZMwW/Pwr1ulKJLuK/QHyTFAHPkj89qnAhrI3av4BsjkSqS7Y/yLMRTKWAsT8YdCAzxSmiP1BdBZak+qo/xvCY4XW1378QizGWWw6yP5TWNy+OteI/hFHRD5ucsT9Ah3oKY1eqv5L64yWjQOM/jLolB/3As78AsIb/ibCcP0DM18Aazqk/05Jye1Nj4z9j0uSXQyndvyv8YcB6tuM/YeCURVCw27/Oc0FMb6LcP7zoOeiOsrY//fFWwK7u4j9wkogGY/Khv80/iG5FQNy/mA/Zl52zor9QlXvFxNqTv5g354EFMKw/2NF4TsQDpT9I+QJGzteoP7CK+IKdML8/QCd474/dgr+VrTgKOQLiPyB/pNtqO7Y/6LMK4tJUsD9otii3x1i6P+7YhpNCXOC/IFQ3uM164z+IyDrDUkPcP59mYtds5ty/5qKjyy4y3L9L6TUhOAffvw/ERGqwVde/AHTJXBOuqD/gwTIAYZCyP0Dx9k40Qty/O5B6RPoC2r+5VNrgU23Zv9zKOHwXxrI/WHX4rWeIrj+Y4hdA9jCvvwxd8n6EyLY/o2jzGEmQ4T/cZqXeB0+wP5AQZ6uoRa4/wuV5EE8r4D8grTrbzrK5P6SOKmZtOsI/U8JFjeCO2b+E/gC2f2fYv4DQBIF9a2W/8JCDEWEFmD/IrjwiMNKjP96+z/B1fNq/LI5DwYQn2r9QAPE1jCOvP1iu3NXNc7M/6gJa6iQG4D8EH7qcF3HZv9i/Q4AoWuI/AM1WAPXuab+YnUYuEh20vzBU8mPAVJ0/CKwLC42V4T+0Mv1e9SC7P8AGg5j2y7A/QFanDC5BtT+EF8MOQ22zPxYB8b5f3Nu/EEDKips1pz8ADIHL9YyfP4c9jmcn0+I/WlYwTPzW3L9QnPmKCbaqP8XqgAoh2uQ/qKlkF3AapD86zHuEj8rgPxiV6wrujLM/QUO/VWoU2r98SLnK58e3P3xKtMwC9rE/cBsk45E6wT/g6Eqx7+KZP3cAahlH69y/vA1B/ZEp4b9wybAdzpy3PyAqGucHZ7g/wJej484Imz+g48j7jwqmP45/XynLWuC/7vjZRln4279t170b20rhv8BcmZq4Pok/SCevZLEl3b+ECv3Jbw7bv6D9Nf8zBqg/SP5vlud4oz8565JC6BbkP+RrOHzu4LQ/9tZZFANC4z+EadaiggDivyK+kp4KIdm/oBKcqxBC2b+AIGYS4OGzP1l0nLMpm9u/qEguorexsL/8A1TCjVG4P5jVJX2D7qs/dPhyfLdosD/6JySKtKXdv/QO7vWBt8I/36C+Ie185D+45lhLP2ytP4AhAcjWZYw/oFHzc0Eaij8bTxcEuXDXvxwR031Pc9q/kASfqyohpj91wbuqIIXhP4/mIvb6DOM/CNNfyMEusT945vnQUcqsP6Su9tsGgd2/PrKkF6Mb4T/5FyiuZY/Zv8rL5DU1Xds/5GyDOPXUtL/ST1oAff7gP97tnueCHNs/nYeJigUF4z+IOrv/xu6mv1CDhMg4eJ4/EEiB52o03r+AQediRnViP5Q75FWs1eI/sEAkXTJF3r/gkr9UhL2xPyDGXbmwmeI/LC63W6n9uj9XBhZOH9zgv5HPoy4gvdu/QPGCocRVsj8AlTjzswjhPyBmbp2bRrM/wP+1yEAFmz8sPefrFOCxP2Et2WBGv9u/Gq+KfOVd4j/Yi3QX47PWv12egVObu+M/EC2Tw4ybmD/fWysW7DnhP5RZ62Vp97U/cP4z1p9WrT+Y/1g1F5K8P7gcAOkO7ag/uJ/8CtMc4z9mtiaOGM3cv5k2hDCgq+E/Saq0QYPy3L+gOlUz8XvaP2yYGm1ZdbM/pCEYPko/tj/QWTwUE02fP6A5Jx14tKQ/ml4oAktk4j+aISCV7jncv9AVVElCUq4/iPpgkFuBrj/0QeT9f1O5P+CXw/XDCcI/+HtXAMGkrT/YEiu/6hq/P5Dp8qXx89q/ljduaTxe3b8XyOk9nmjhvzgVAWJ0I7I/eUnefpn74z9HdDaCp7bYv8D0r7LQL7I/+Il3ctX3vz8gY8VClnGPP/jBDxMkXqg/IPhFkDVXnr8a3g0qVXDhv83CdltzyeE/Exjgc2Fn2b/A0kamjUrev06K7zfsf9s/rcrA3Zq12796ol4iZ/Dev9dYfPO4lNi/hxTnQV+s3L8wByaGKym9P/DkK1t27ay/sMXBZRw5tD9wZ4ljBniQPzwlZrtv7OI/kCWrP2Oimr9syA8+J6LYvwD9axWPSnC/gDXFOvqiwD/+h9mUnVXav+hEqj8Ll9u/nJzQ/OFp4L/gwPQFmn+pP/p5uQhjMuE/cBwbBXZ/oD+Q1Y2ceLuZP6NxWkci/dy/sMh23pmEnb/EfKOROAPiP6q5ukPC4uK/JPMziuZa3j+flK95wCDbv9y+NCU9kdq/yM58bMFPuz9KLCBlED7dv7vRdv09Odq/mUbqqlPg1r8CkD04ebrdv4w6L2xj57E/zLfNHyS4wD8gapoh5VutP5AP/5TCFdq/t60+FgCi4j9IScYrDWTav5XKbu1FTdy/+B7iXbhVoT88zq0dCaTavyCsccBUusA/kOsMWGOjlT+p6jeH2lnavwABd7Xmzn2/PIVAO5gBuD8Afv1aOuukPxAKY5oCaLs/4OWjosfApj+b4mhsW0LcvyLznwPyKOK/+HFnFJu7t79A+hXWDsKvP+eNmN30kd6/2Of4QE/+sD9FSVpzgtrgv3TK393IA+M/uFPCLCV1wD/Y26PjQjWnP5Q60wza8bM/NJv8FDD+27/vpcrx4Nvcv3yZa7Zk9d6/WKmaybMVtj8wm8s/nt+fPyAIOjMvF5A/4Cjbo3zlgT8zhYuBvz3av3ArViC56+A/cGlPTvjH2b8w6+V+R/ivPzhcWMgRWt8/IF449UM5pz8wH807SyqRP1RcuN3eieK/sA4POtAz2b9sBPdIgObBP2Cc2KKTe7k/WKdnHpnVpj+eelOajIXdv8SQyw7nNLI/kITI9G6YpD/oyuAG43i6P3ACNsfW69q/aFWL/5p84L/yzkvORtfgP6RGEyx4oro/6PDeUxP72z9I3TvVVpPev5PUKppRJ96/cPzvNGrDoD8eaRPeVVbiP+FS3MErzOE/7PHthw213b8gGIlb3ZHbPyhDAi1eWqs/pPAszM874T+QyvEZI1uzP1ws9cCaPrY/1mTDnr463r9yaTJzC2Xcv+QPoQIZxte/3MDpuRL1sD8IXuIYF1m3PzBeTSnud5A/J3gYo+vi17/AhoRCDE2tPxhh9zagrN8/KH2H8yFhob9ANdBP9IysvxD4P2UID+A/VbJBaBzX3b80n+hLloXcv/CjVUghK64/4O+hswIZjj8JDTd4t2bkP1j/yPk4kK4/EO7/VtjiuD+4CsDycXuoPwqSSzQX4d6/AAn3gNLRvD/AN6fIdjpyP5txTL4Rq9u/eBDiJU3wvT/Yfv+hEDqmP9Rz4EJmINq//CSe3icotj+kmrSLbsi7P/QAcTAVxsE/4rGp5jc74T847HpZ2sSyP4B6nBVuquA/2E+lPUF92r+gh22SoTiAv8AaQJ3X1Kg/Km+hr+2i4T+Z4WKMPALjP2CjTLHzhJw/AAAq+PJvwj/tnDDFss7jP7FLwdwxZ92/TbQotmut27/Oktl+xM/bv8Dyu1t41qA/CEaCfu+mtj9w6csd5BbCP+iWCBRQDrA/OsErZcgi3L/A++k6T9GzP6ALXxrjX4w/wNJy0ONNsD9oVggyvSSovzKgNMT5X96/WCFXolR6rT/AKMZFjQqlPyvWSurNFd2/zgBY3idZ4D8Ieqf7yDqtPwQQOro8mbA/4KbH180ToT+80Tl98v3avxzGU+jUfNs//B9lFdyt3b9Isak0LyiuPy8HVKVSrNm/xOrcFNLe4D8aQA1mOBjfP2oltx7PDNy/KN66v1Ns4L8AcQVMkd7Zv/yiArauULo/njGC2JsX278g28WMTOuyP0jsV4nmYKc/UFAbNdr3oD8ambo52/fhv1yIywoKwcA/DpMrOXQ13r9hGbxHzCTav/hRhi+XQt4/QCbMLKrDqT9rz7nhFIzYv+V6NEKgIeI/wneK5fUl27/S9BuRh7rhPzxBTZoB9bs/Xg7Vx1LE4T+7tGvgSSjkP1w/Wz/BBcI/9Ku69gECsb9EJKYLr52yP46hT4vb7tm/eIojML6hpz+gVWG9fUqoP5CSzOtTSJI/uPEOE+NbwD8AsZtbswKdP1ANLjwSiLY/CLmmj/Is3L8Qf4Nq0ZGVP2ke8miLNeI/gBNSigjbkT8YSktCKjLcP1C0lkTAlZo/7x4dBzsK3b/zRi5WFWjhP0CwyBhGYZQ/2BuX9PSetj9MXEPQPUu5PzRqunk8cLY/FQd+8O1/4b/gbCc3NWyMv0BS67OOzeE/A5GM5uyG3L/wGRV9OXK/PzLZMu4J8Ny/E43PYdq23b+wlHLxr8fbv2RFLpmaKeM/SNOqZDUO27/HQdFfB+jgP44ivOj4Tty/wLghjhCNj79QiNGXZXylPxIMjcqeXN6/1/tPaTel3L99sLO5nwPgv1YkIdTHZ92/jqtOPrqs4b/YA6hHSk3Zv2StnPMJON2/1jWhb11y278slptN6lq1Py9AE9gheNe/oPUeuLF3tD/w5PlZkKaoPxglCFSZYOE/BOvJrTnxtT+oF/Oko+izPwCmkPUR6Ks/hhLs2RLw2r8KZoUVmzLYv0v2SHMAe9y/Jt/YCpju2z94RDHuSi7Wv0JMQQx12OG/4CWWLLAdvj9KilgUwajevxrpIol9l9a/0GA7RqSwpD/gGQb3Vdy+P7iCls6Q+6Q/ADWs1cTfe7+8nWSR7WuxP9RgUkp7qdm/i5P0g50o5D8OWW146zPiv9w7d68X6bk/9I50ZFq4xD8uTelECu3hP8BqEGIKt3g/qIigYGBfrL+gY0TJ/3KeP6Qdbt38rbc/KI6YzoBCqT9KL51OH8Pcv7/7wzF76tq/bFdEysoAsD988/0OUMOxPzZl4vj59te/MKhAj8Q5mj88iyqBpv+4PwiEIV1osaI/4CbJCLSxrT9jQdWXvmLev0DTT7FJWnQ/W4mXU64Y4b9sfu27PkziP/zYZLYhc9y/V8z1nyB84j/YcdnOoianvxQJ9fzhBto/GZrdpHLW278QbBptMi+TPyCT5RbNHuK/5itJTN553r8cf39XqmDjPzg6LhO74dq/IdfRztx02r8K5IX/ZmfjP6Q7J1PAE7A/gML91/cHpr9p2kuqcvXjPxo0DXdMBtq/DLwR/9cS4T8wUlFV7ESaP/DMNYOYuK4/1Ot9eorJuD9kxsseqqncvxgcLfU3gbI/KEWb7wjyoz826UvmtgHYv9yJbsy6+LA/FqxZz7OF3j9ibaecHXPbv7B1pIUSgqU/UAJdudtLqT8QxI3/C/KiPzTx9OMnEeG/ZEYbnPzBsD9ELRZkB33Xv4jsaONnY7E/8Ons62WSlD9f7d0nmxnkP1CT+VRblqY/cygZgn3x4D+wjvgudjGhP/yi6i9DubI/aJf+xXEAtL91zMnuyMPgvyj+kszpuao/ZoQSQ8MM378w0SoGZqqXPymMU35YZNq/qdn1CrZt4D92f/S2kxHcv4EQmxmsZeM/iLv2snZyrT8AetQsvSqqPxAqjrkH2dy/PBF0IEAusj8gBa7whVaxPxxMfrERgLA/fn9cEkpT2r+k2MM+ZF20Pwmt5Em3T+A/TlGSxvzY3r9M9eBcKTexP+LS1I/A79m/rN4iTLC+4D+7kZK9zN3Xv7mpkTuTd9m/hPqHZWw2uT/Y4K+cbFWhP65us+1xuuI/jKdxqheiuj+2R28NySviv5pWAiEMANq/GJq9CK2YrD+4fDYB4TOhPzTewVqHvLM/2BsDhEXp3b9I1vUPKeOhvz/C6K992Ny/2DGm3n2mqD/GjL2zoRvhP4xir7IdaOM/YFt6BQfSo7/sdkUX/aC6P+hHKRyPm6M/KOzGsgPoqT9c4JVdp2uwPzD4Pq72fKs/MHuKP+HWqb/8HXAuhpO9P9UzH4HUOuI/aRymW84g4j9FgkpcCGbcv3js91F07LU/LMlQP3g+uj8Y4X8yN72uP1JGgfBCsdy/bm7nPP+x2r/IOD9heLaxP6D34vuU5KM/2EDe6JNQpj/qxm1KobHgP5AZfRYNB5G/cJYduRIyqj/ATxwKTrCjP9iAqWGxPa4/ZuYkZ3Iz37+0OpaIf1PjPxRx0sG5T+I/jGlHYJg/tz/pcMlEdqfgP+zeuL4LNLI/MIpSRGfU2L9YBC8kXnmiP1jUijY0it0/IXy+BdgQ2L+z+cWjDBDiPzJQUBDXZ9y/KLG+vA8I2r8N5CamAjTZvz0qnD2YyuE/0HdrdIWFvD/AZxyIERmQP8YfqEDmfN8/QKbqV8utpD/AiB7zHoKEP/Sziw5f8rw/kMSiBvef3L9ghzSq2CWrP8CfVx1T58A/nGgh3eW4sT85ZDUvkOzhP/N1hDl73Nq/aqKB+waS3L9gzffwEt+lP6DLrXXji9y/sBQazUEzpj9OSNhc44Dbv5GfqeQ1F+C/ANvfgyT0pD+QGWnrYcKiP4fC+Wxlldu/iARCLWFjqz909DmwYgjfPyLQHVqFGuA/mNu6SHNYwT8wizaAjCamP6C/NzeNDNu/gOR5/zVc4b84DOKaP/OrP+6ufqFZ/uI/4bhloOUS2r8wX2TpcNimv0BzL0rdnLg/kBabruhVwT8cdYPGIQjjP4wFP6Rn/d2/wKAAsapsoD+k/hhNQZO1P3zzhbyFkbM/FiPEIBHQ4L94OOn0+d7iP6FSTOS/oeQ/KDzOag3xtj8TSlyd+XLhP4ANF8H4Er8/zDSo/xvN178vDvl1WJHZv9PsUgg+W9u/UH3j1Yz7lj9Se7nzpQPhPzCu94pbdpI/maS8Jcvz4z+wEQeh5BuiPwDxKWO4TrY/vUTk/lq13L+HCW8rXP/Wv+UDN2vCpOE/6GKDvp504z9kWszfUEbdv0wvg48f7re/cGMcatuWm79icsCdRc7Zv8zjxcM5KeI/cN3WhpNutT/0KI5fF3O8P5hq2V3LJLQ/kADROJNPxD+o8MgzKZ+2P7Q99Mo5KsA/TGNPgz/4tz+whlRprHeYPwBS0ygrZmS/wLFtgy21mz95LBQ5B0HiP9hJjNfBkaE/QAairgiqdb8IVGEE8RemP9dicr/T/di/v00+Ig474T+AX5d+Zdu2P4W2Cg7mF+I/fmNJyyIR4r9gIzA+OibbP4RDZmMoFLM/GEjfsv1Prj+cSL6Z1D20PygFLVOO5LO/wJ8u3lv12L+A+DUzbqGjvxyJN5L7Zte/O69K8z432b9Qml6P2fWSP489vCngwuM/YIKpAzWupT9AZGVY/U6jPygTmnvko6c/uBD5mTFkrr9Hz+UzMY7av5A6Bbhwzb0/4DCGyN/jmT8ABs8CBud1vzb8feB3K9q/fGfes6zZwj8+KmpFFULhP/QN7ye+Crg/aD9q0PlLsT/0j7VtCffWvzonS1zQyuI/mr0WiWYL2L+a4ghWw4TZv/AwuE4aNNy/N/M4m5Xg378gikNApPSqPygahL8Qxt6/8RznbYWz4T82KjKKdN7cv0DbbxD+1ZM/9TA3bp3+2b+cRRkcX87cvw4DSUW//tq/gG4A2ea4vz+oa5sClSOsP4Bumhr6XHa/8CcNPbb8oj+82aLs0fniPxDlqdbn/ZY/CO8Lyikmqj8Yg84pMySyP0hqI84F3aI/h8bvk5OZ4T/suHalf5zYv1MnGeU9VOE/cPQVkdJZsr9RsVOuMYfhP2CTyiz1s4Q/0IDQLxxeoL/gQnMmql2oP3h9WZFqJd+/UTzg4NPH1L/EpG+/ye/hvzmcix/yZNi/QyF7WnAk5D+BDLoRAIPhPwDL7zb0jty/1EWome+m3L/kQI6pRoC0P4DoIu5ax6Q/wJGkD357oz879ufPbW/Wv7wIWLlUGeM/wP/ssl4Qgj+ITc1jZB2mP8KQ7u4WDN6/bzw8I6Ek278Vb9ccTg3cv2HlIwMAU92/4Paomp+nlD9XiY++auPhP4zyDz6NELE/gGx/X4y0kD+IT3l/CbiwP7jXlZtdEbM/n3z0UKcd4T+UiE+1R7Tav0THEFAMH+I/wK1N1qWOkz+weOjF+i+WPzhHPRq+Rrc/XonEjgqQ4b/8PUoeYAOxPyDkr6THTLM/+BSFVJNQrD/wWQ8okfegP5Cxf0e7LKA/IPGkR/bh3r9ERO6KBDy4P9TqM2L4bt2/EC+SHWRsuT9rCHtgboviP4y+jS9QPcE/4CXgook53L9gGgWf3/uNP032sxWQ2uG/AOWjgEZtqj/EpuyLrn21P8+lO9ehquA/BUkL/B1+278hFA24oybdv0SaKTCc+bk/RcA0Xk+J278A6hmGEDirP3AREJwO2K8/Y6OiIgnc3r+4eQh9XbXcv8zfT/XL/rK/Vry6zvMp4j/UiKvJrZ2wP8AZu3iuTn4/sBWX65Lkpz+emIJz9I/cv4NzRO9n+Nq/xR4g69hj3L9M9YGRIj3YvxSLSOcku9y/b4a2/DYD2b9gxfCp8OnCPxD6pfBtV6o/YCGFEKLjtz8pVBnLURvWv8ljrKjw2eG/qOlwMufsqj9gws4VqPWgP+DODGowZbQ/wafuIDwi179gI6XZw3KVPxxYvzNHDNy/MBsxY5y9pz9cURrsDmO8P/UDX9iA9d2/6LfeMb37oD8ortiH1EukP8xO15uatt6/jeuhrW/d2b8tp+Xf5+jbvzQw2DrberM/KrSD6Xwg27/evf0C0VzWv+iUhQnD9rw/aBgRLwynpz/Jgci0gzTbv0y+gWm+hdi/8KxJIzq8rD99RPh+9Q7gv+Spe+uxh8A/GG+AgFvT4T/w5v3Xab+8PwB/cMEdkVQ/sBpDGgMHrz8px3Sim2rZv6DgUNxEeoY/ZzY7rOrP1L+gYacXkmrhPyD4T8Pf1IA/g6eD1b4O2r/U9UVGKzuxP2VqlE0eS9y/oNwuczjGjz/AUr/5PzmlP+AyM9dLOrA/oEbif5mgpj98KOs5fgSwP9BUTfRLfJ4/1DmmK5ErsD//Eg0YHL7Yvzjg/FjtcKc//KXVTDWmxD/Y2ShCH0q1P3QSrcQ5X+K/nvrTzdH72r+I3Jy2sObiP+k/kI73huC/+D0rhSgjpL/o9Toia0zbv0jEP5S9Rb4/KJB61gLY37/KkxTMylvYv5k7J+Bl3eA/nLRSUtT+1b+wKWLu6qusP7BoZC8GP5Y/UK9zc9jnsj8MouGmRnndv+AkG4jNRI8/YPSeErAD2r+r+H8A2c/jPyEikJHDgOE/2DSZRnOQoz/YtICG8ivAPwFnjBYCzeQ/ZSXhNfAl3b8Y3Fn7oo3dv4LIXD2QFNu/rlfeOGKU178ooAGpG7TYv8i0ZbJTIK0/2Og8LsCtpz+Q8BYM+XuuPwCtegl9NI0/7EGxETWKtj+YignjXGurP7DbWu6wSb4/PHrD4rmut7+kwrKxKKTZv1Oujyx5ueE/d1z/ZxvB3r9iOYlfbIbbv4hbm99g2Lo/kDtcZ4hosD84PPpRECm9P4hPqunw/uG/aA2zwJmp4T/nSHTeuuPiP/Ak18Bhg6s/r6w1+m1t5D8wv/vjHK+lP04FtGaZ8Ny/QKokC/bqij9YN+clKNOoPzC3rC+Qjac/HGDqNNRJuj/olMmfEtGvP9BbHYh6QpU/kGIOnDzAqj9AXU3j3CytP4jnSIDkEMQ/vNQJhujqsT+nOOFlfAvhP8NCHSxV9tq/blGIoexj37/s0vl4ZTa9P9yQ29/lWrQ/Kv4cx3un4D+QFG7BXXikPwBoCLf4wUI/nlH8evpA3r9wmq9nZ1miP8hH6idw36g/gLeaSiEQ278o8e1x+UKyPxbJ5+wZ6OE/gP6G8WKRpD/gmo7TU3ywP5AOxgzlqpk/N3/6yQIc2r8QpD05ld6uPxQJy3IOVeA/LebQ+rU83L8SYPUzFwLbv9CQLz/mLLI/YJANRHgZkD/gFZvsmESyP7h274TCIKM/2MwmpsSHtT+8KwuzaBbhP5obmp919ty/WxN72x4V4j80AktDPFu2P9M0SjGwxuG/2BTcpU7vqj/U6OL8rKbXv+DkoU+wmrA/cJDlWGlvsr9I+WBCBQrDP5xfYCFWbLc/UHx0SDzxr78BhwVstujcv3QgmAmx5+A/BNl/C6IO4j80qATUFxq8PxxFrsskStm/TAEy9Yabsz+4mfw6cO2kPyjGEnLJSKc/MAGPQl2u3j/s62BZjpS0P+xaC3xk9Na/1Q9dmLvk2b/a9VSyMl/cv4CbRan/XmM/cH7PJ3uYsD8bZwbQkwTavwGCVQeLztu/MFrMeVQBqz8ZwHRJzMzhP6RietH7uty/AJMATLGKpj+of7zcKjqvP/g+phsNONy/LpeaNIfW3L9oN7uF+aTgvyy+bUCN88E/4EBpDGXKpT+g6QVKtWSPP6Ky87e40uE/gBzM3wuEj79oWrepvo+rP0ZCWuoL0eE/GE5DDHJNq7+Ss1Yw7CDeP5hXnpNydKa/XM0noMmy3r8aBCWZAb3dv66+Z/5y3eA/AG8xzXSanT8vyPjzlQPhP4DTKe/wNKy/TAESWb5QsD+qY/bAe03ZP3vT2/bLvd2/xjCp2X+K4D8QH1dlg7ShP1GFh/t//dy/UP4UCQfOuz9pXKVZGYnavwgkDNnSbKs/m9gTRRuo3L+6XQBXFALevwTOm2SF8OA/bOLqKvnjtr+Q+gxE3LnCPwiv+slN96Y/OWiaQpJW4z8aVO3bFYrZv+g8bpDNWMI/ILJhuEPTsb+8G8gAsWqwP4X5Ai2u8de/3OfnVE5Q3b8Eoozhv323P0OtP15BauI/3BCJ4Gcgsj/74HpyN1fcv03AWKCrmeE/3mca+Db32r/I4csSZECtPxy4XKZIALE/MB8jDC+flz+8Og5PdGXdv0bOCydmM+E/8Iquxj3EnD+E6mAi3KrgP9xDFOdC3da/fNUaDYu33L88G4XLdAPCP6A2dNsfMKE/aL1+q4deuD82b53m7DzavxgpbJi6n7K/4aWhKNoP4T/H1kq930PZv1kfLxPmq92/A+Olg5O+1b+EuCb0fjqwP6x3oBLKwLM/oqaEvl8E4z/gwORrv42WvwzRDChairC/oM8UD6YxqD8IKS/eziK2P4Qb/ClO3LQ/rq7PgdWK2b+Aycl/aaavPxBOOWnVd5c/oItrhWqcqj+9zOFc8Cfiv3GNYNj5t9q/0dLV/uLI3b9ME6wEluO0PxhDDySAhLo/MJh4MZOzoz+AVyNPlz2kP/bkaEt03No/iMI8omn0tD/ky3gaSAq6v1isVhD3u6E/X2dzknBI3L+s+SQUI5y9P7u5B/UrIOM/6KGwyf2ktL+gIoIETR2OPwAbDZOIyMI/u+xjp6Ne3b8oXxpBbUK0P3gjUC7yRbw/uFpM6vlrvz/KQpd11XLZv6B3HQlGsJc/mBhf2SJd4j+wMZxJHunCP1qnh3JileM/YH9CS9n8kb/oqdPR0xOuP7Gq5EMhQNq/rriosOu+4D/A1Url/HviPyhrqXdlW7c/GW/NDbJ94L+kkkE3JOCwPzDoIl1vyJM/RDv2yY6s4D+kTCzsmUizP3NVp5r1feA/HCsNP+1jwD/VDYXIt9HjPxMbOn6yKuA/8O1h8Xsnnj9meyzt4TPiP6j1Dh1kbKI/+JHupAyDwD8Ndte3K0jbv5Sz/r1EMsM/yGOne+9Zpb8w8wL7QDzbvyDAIHfForw/FFBV+UwKtD8gBIr1HQziP3SWnaogTLa/+vkULGkY4j/gnYtnQGOqP4D6h/1F+qM/LNIEBd+lvT+SC37ByvTav0A8QsPEQq0/P1lUxR7H2r/wJxyp3ijiP1CFFwTUI9u/sjem/Xxp4j9gm9dvu5m0v0zadrh/U+I/4qIupXu93L+FhGlmaPXjP5Tbayp+FLU/FCgKEmKtsD+wS5mCrtzfP48cglOIctu/rSVp06vc17/AqOokBredPwhT1RClR60/KBrKrd8Fuz8B+wl63ZfiPyDRhOW0MKQ/AHnHkDcDoT+AvP4x9mirP2ABrUjBN+M/8J6mcCHwuj83dJiVs1bhP/AGhPAmXas/mOmMSib+vD+w5IWqrG+zP4YyDxMsqtu/BBjKi2Vc2r8MZTWlWFSxP8Vo1fdyreA/YEiNp2HRnz8e2pB+V/zWv2CKich01bM/g/rhWpYv2r9YJKXaLEe4P8ByeqUVgpc/AGLldTJofz9qNlYeFa3Zv07Qnw+aUeI/LLNN7W2/wD9wmg/DuX6Xv1ap6kh6Ndm/v9A7GtRI3r8w9fNyETemPwrhxELiiOI/9pIDFff42b+hYxPUHVHbv4JWyO98sd6/dqNXnxPs4T9QcZHwGsS9P1DjSQPkmJu/gCaTM6wvYD9u+eqviM3avwpk6o8yDOM/UEgsIM06lr+An20SZZRqv6CzHVi3BLI/QRzKwzUG4T+8Z5v2zdXhP3fC2SQ7PeI/qHv/YfIboD9cP5zl0hDcvzBoEXs1FKU/cEJu1x5Tsj984NY+UtHdv6fBERULed2/V6VNHKMu4T9AdT3J25/ZvxyyVYqCqdm/rO3d4Yn5wD+FSXXRDIPZv9x+1f/PNLS/wB9ihpc9gb+QXqCbkfObPwCuv/0YOWI/ENWO2QA1uD/wRCa1NEu5PzAE0a41n6g/4DkuMRa4qT/KK029QgnevwBQ8YWARzG/9h+6zkmT4L+YGoxbKt+uP+ys3LBqYrs/9SK5KwFI4D+UEifQ6iy3P/Se0qg7Urc/ahRU3BBF27/Am9pgD1+nP7TUCRBx5dy/GFZBY3hIuj/E5aICJ5vfv2dWtkvv9N2/Rkfz6X5z4z82SLtNtQ3hPxjqBhDQILA/u8Ocw4MM3L/FXIZY/YXcv0BMHYZimaQ/uGcV+JydsT+0/JT/fla7P+jonmlRcuE/7Hc53g6r4j9YpVf+RObdvxjShRU4PN2/kAES0qswtj884VLFSKHhP3ikMx0ywqI/SO4I7D3Lor/gmjgDelGYP+AjBMHzXIc/fHG8y1jG3z9VX0hYYpXYvwBQhxKjj6w/kErCLkHD3b+K8ymogaDhP2/xfLsxMN2/jCYKmPA9sz9onFEDrWfXv8BjeqAOpLU/IgXzga2d4j/j6EZBbGLbv3CmGAY0rbc/0BKr6JaisT+oFEpJuoqmP9AJYb1NiJo/uv1et2Y34T8TQXtkidzhP2ho17eDZ6E/vM/S5D7FtD8QuwWMqTKxPxt4/DDWzty/VCzE+laLvT8QV431g9acPySE1sVsELE/QPolJoKgqj+siLpu7uK7P2CiSGtU2r4/nMWB7OdJvD9koR8yPCuyPwQvWVxbzLg/vB6gsQUs2r/Ax0eGclSsP7mSUtakRN+/mMwGW9RhpD/gt+AR+4W9P5Bm+3vXm5A/cOrJ85x+qj/oErJkhai0P2Q11Wz1MbA/OLtbVv0vrT+0vbIp4vbcv/wAXvtiNuI/DOk8cykI2r9oc31EoSOgv2WmH6Cnd9m/1aqQMNQY27/JJT72cKzav9Zo72I5yty/7EYE158CwD+w/mQmRp6RPw6BI4xQiN2/yGgvgbM6vD9A2wV1hk6aPyC5KiwBvq4/82Hor1Jz2r8gTB84BAKiPxi61T1k36c/GEP9n1DbrT8sxiWUYIvhP6Vy5mLpy9y/LcPVNnrW4D8wEA7PdsDbv0iGSejtjbw/YF9w6BP6oz94oSBR80Xav2i4vveNBbY/bGwsNCApsL9lOn7UCBLhP+gfbehUNrk/bIOacuLptz8Enf3XfxbAP8KgLHa7rNy/7nASslUs2r99xOmwifHZvzBw1uJmiqo/GPDU03PvtT/AfOTOPtCdv7jHAT13wbA/XpiydapI2L+LYMX5lCzkP0zjW33G87E/4KQwaLY4uD+gNdW6zritv5x7FFJ6Yr0/SvY/uWj63b+8UdnHQO61P8SX3uBcyNW/K1//Afc817/IXWGFhbTWv1ye9fTT1cE/EILOd2Ickj+4MUyYpgW9PwCN1icAoKw/CG/AZkAq4b/QdEkdpa2mP0QAeMp2Y7a/RF7CiRxd3b9sgvHiRqrfPwh9SFk/dt0/Ujk5h+x84j9Md4mIci+3P0AaxITWwqk/iM2U8Wccrj9zf/uu1yXcv2Cj9/y3/7M/YHd9/ztwqD9I7mnX5WGoP1DqSG5tzrE/9NhJog/cuT+4zgedA4HiP9juNQbk+Ki/GxSYxhtL27/OJSTyf9Hav6Cm3VTtWYA/aB/Sjpsorz9QMMbkaKiwPwDWfBKOs6e/N1sjIs6l4T/ci4dH92WwPwCNtfIG7Gu/MvndEd6s4D/QPbaerOaQv7rS+RPqKta/YLub+43lkD/aeOKmxMbbv7hW6ecpWtq/uNweYqI3tj+gAfh4XCa6P7iQpMDii6W/OEt8uxwsrD9E39zgPHSyv9TM+XvRkr0/hjiG8n2N4j/QPGwHe5awP9Pa7sQXid2/g4fWxFKT4D/UjVBbLL7CP1TxvCH8ErE/WDIedPl+sj889zrkGa+4Pyozz30Xx9+/GGYoBcb14j/QydfBV2fiP9K+9+JKYuG/uNPCuf8HsD9wv/cjwTCRP6B9Sx8aS+I/cBdMX+9isT/QHLThshmlP80v04VDsde/PJXOrQ+0tT+b1NxcpGjfv8iu0G98hcE/aOSup3iCtz9w9fQMkqLDP0ZB/YPbh9m/kpaoCs9f4L+gKYHBpfKPP/5R9b2Iq+E/4GWNZ4A4vz+jMUxhqN/av6DRPcPAgao/j3xuSA7Z27+AvUXz99lpP/f+Svl6QOQ/MG58oRz1vz+wx0gBONqcP1i1lIOkaL0/M6+1g5VH3L9YxX+4XQa3P1A109xz6K4/4ETKXqL0kr/mJz1wm0/ev5CmXQcbarE/gPpCqzCYkD+wzEwF5Y+0P/DSidtFh66/sLUr/xCemT9StypY9qLZv/B7Ybvvfas/RPgOOnIJsz/L3HZUDlPdv2BmzU0Og9i/OJM5XMhDsD8goztX8vmVP0T0t8PkoOE/8PWXRFHPwD8wCe1vrj63P9ocQHZ35eA/Bs7O6ElY2z//xkxV2XndvxiKFNjDXKg/yBGcw4c+oT+wj0yhuZ3iP2e97H/VYuQ/5i91H+O74T9AlCWxmMaIP7ipb6slbsE/aGhvkB47vj+ZlVEHf9PbvwD0B3SfBNq/ktrTl3Ce4z9Q9s3pqp2SPwz4QFsbBrC/a0qcLSwD4z97SJK5nPDgP3Aca6l8yJg/WIUG57KZoz/Mp0n1qg21P5whS2rlNcA/JMThyvF/4j9IX9kJDTqrP8b1KzmIktu/gOG1RAhYwT/u+L2lB7Tav0RIw/gYiNi/P6/2G1wE5D8kKvma5bO2P8BVGlbETp4/UrRT1gkD4D9A+C7NxgPhP+ibH45ijeM/G1OkGh4I27949Z7PwpymP8BHNggC6ti/vLxbnOG44T9FQriS0PvjPxtGxqIIeNm/CtYy503u4b/Yqj9Sw6quP/5zBGuiJuC/+EVkvR0jsj/YYq+ImjWkP6BFJQYhUbQ/5LOWd9l24T8yW8xdgCbiP+hkX1od3ta/Dk0rHgRV3r84kEkehH7dv42kY0Nf2eE/FRQGoP5r4D+UosAQJGSwv8A9GLTWeYO/mJL7pSto3b9keoJFSh/cP+hp9tStJLo/lZxy5nA04z82ylOYIhPdv7ixgGBUhNu/sRuM0Zhq2b9/qgsPVZvav4g0vs/yHN2/eAxCR+Gy3L/IDgEGJezAPwDvKfW4VOE/iHuH/rK8sT9eB5FSdcDbv7gJygdL09u/Aa8qlcRY27843y+aCp3AP0nKrDa/nti/PhPKCeIV3r9A85zg1ZiyP72yhiZqfN6/vEksd/tl4b/cVo5nG76wv/LiGj852dm/+MjkV6skrT+ApHtT2tShv5Qf/EXwv7W/oBUW8rkuwD+4KM//46yqP+APPdTe8eE/0o9VCQTh3L+hXytEPXTZvwRR+NcOCrE/9PZnWH+U1r/Y9ISMfnPgP+2V/QdR3eE/QJ5umkP1sb8QsIvjubOrP2E1S3a4r+E/9NRB//hetD9Fc4W8BhXcvy2swNBWweE/uTG3yd1T4r/q5KoedM7cv6gC4baNE8E/6crfI4Ec3b8Fvyq8zkDav0yJXeab8uA/L9L07lYM4z8McLedxAHiv3hbPRmL4MA/gHnJCO34eD/uS0ul8dfdvzSrJhUhTcE/QABq0rIMrj/Qa3R26AWXP32OlSykSOI/RjcWG/W24j9S/+r6f/nhv0ArhTOolLo/UublA9J+2r+AcVF8rlmnPyk1PQhpdeE/r5FxrFkp4D+JVVyTXIXVv3ghL8dBAKo/cJ4v4CLtqD9gcYoc7+u7P0BBTTxKxZi/M2ZcW9Gd1r9IbFQ+y6q9PyCvvhB2b5c/nE5o6WXJtD9YMBW6VwKvP2iAlFQUlam/rJ2iKE5XvD9ToQbaLHrbvwCP8BhcrZc/SN5qdO1yrj9JyjjYTvfav8ByIi8EHps/QCWtwd1jdr/6zACJDl/av4RdKkwV5sE/Aaiel6Ak27/mAjiXyI/dvwfheEPP3tu/WNTBoEO/sz+g26B+8LHhP0RrGyf0L7M/YIYJSayzhD+ovzWKwPCuP+glxltS6eA/tQ+W5cEJ2b/UOXhyPe2xP66PfVQ6iN2/CpFqcHP53r/YMT1H1XapPzzvhD+blbM/624vjIbW4D+D00/ckDXav+sCcE4fPeC/0W9lIBkh2b/kKLnkDOO5P2DuecBeoI0/IR0PS9dh3b8eMd3c897iP//szsF7ruE/pEqlKqATuT+ogfQZpXCnvyDOfCEzVbE/0TmuC3PM2b8FkLmXiKrevzJzR+1A2t2/EPASg4+qsD/Y27PFB66jP8QT3kj43bs/RUdCTQ9Q4T9Iuwmc0VOwv0DBCaTR6bM/7D01O7ckuD+wifR85xWqP2AdsK1GWOI/gLDfHQfssD8gcsYsPrObP9Qg/B6GWdy/vB1Xk8wntj/ITl+h47yyP/A1MNAyXr8/kI4PUif6vT/o40yvaD7av8huYl3jrKC/4Px3TYvvqT/wDbJPLESXP/bM5bM6m9q/SDYOtS4UwD8/UI39XLXjP85o5ITY2du/oGkAiRBi3r+YLWfn9sejP5tst8lZ/9q/JUFYIG3c3b/aNFoz7o3cv8BMw0ru5qo/uEXDddurpz/+xb4yJ6ThP4B3pl+i0Ya/gMBwh6Npqj+VJf22hbnYv/i6ArgZC68/E2n/oLQj4z+LENhDtAnbvxrbG2zTWNa/FAXlHxpfsz/gXydQxY7fv9T4mUN+FsA/yPPCEmbWsb+zObv3NVTavyABA9ucV7M/+BL3MUVutz8YgtXey1ahv8g4usQZZLE/RKMtBL5AsD+oITLmqySgP+CTPDK1Gq8/7HIkTmIR3b/lRRinu+fhP1Iqk/Bfi+M/6AyWIR5upz/YTkxKD6O0P9TNZNwWmsA/SHq7p261vT8ghaKmorqeP7DGyLPDnbQ/oHqhNwiNmj/hrfqSTX/bv8Ismy7/xNa/nX/1kz6N4j8zkENwp23kPxD5swe1KZ4/p4FLpWWF4z8Yi9dx1GasPwTtJAtY+dq/bOYKT6Elsz/IGW2ai9+3Pw/QOzh5U9e/mDIZB7I4rD+wQqLOoLe9P/rO/G+RMOM/HHmK9W7Ktj8ktS9lzZ65P+FGDkHPy9e/fexOuxtq27+wQb2+sCmxP4ZoYGCpkuC/aLHfYIjwvz99eRpJh5PiP73Z0azNW9e/9Cyev5Zx4b/IDur+xdqzP/C4FxjVNLc/MApeXR+PtT9orTODEQS9P0CnIYYQS66/MMtReFZ3tD9tLySR8OHWv9BGIRVv6JE/uOdqWn0eqD/dSZ058SzkPxBVLqUOAK8/PfgCA2qP2b+gZWlQKGjav5fb7BgSgOE/TEuGMcTAuD+wvYmtQsSwPwFnDT+wG9m/kKdslOIopz94FAh9tCSyP+h1VMYw+7U/tYcFSDyZ3L803T9sTm22vzAFt2o3oqQ/HBINRx82tD8A7UIeh+favx8xg2aUcNm/M1L+SiNa3L8tEyX3XN3Yv0gfztbBgbI/pGPhP2ir3L+wtjWeSDujP2j0Df0q26Q/6QDwLhWk4b/nXWhHN4bYv1jwsjgq56y/GUlQsIfS2L9wt7bxOm2hP+hSLTfpZ8A/EAHzKBG6pj9whL78vn3cvxwjFV7jKd2/AIv2TvV+Vr+Q0CuFUFqfPzfIK8zuO+E/Ex7iKLdv4j+GhWsnibDavxwEqVlhcbM/GeWQeZlo4T/Aml+h0zKLP6g7wl6eTt2/zUliqxIU4j82lJtrRoLfvyB0aREnndq/9wDEHTuH3L+IoPGM1EC+P2C0e+QOYYk/tAbDAhxH3L8SRoZXwg/dv79Qe3y/w92/mMkqFDqLpz91XIdUfi/gP0B6oOajxKs/bHJ+7Ckf278cW83u5k2xP7MSF8RMSNa/qqIQ4YMm4b+AaIHqfMLhvyS6vcMzkty/Sh7YbhJJ3T8P+y4mbaHZvwD7qUV2YnU/QKuJ8X8Zjz84KHzDZlGiP5ATT2zwTtq/eGDAIQJx4L8sQ8RGrDfdv/j1i32Y2LQ/iGwztKisoj8Ct819PUfhP6BOPH7H+62/6OKaCyEfor/QP7Ea59CZP3wOIe9Zkbs/i6MzX34v4D939+Lc+RvhP0Hsq4v1Od+/uBsmvaBKpb8M8xlKRuSzv6geRwgL6qM/q4qrS2uq4D+GXSLLLA7fvweQU9rrbdW/IJ7DAyixsz/LVfeDT4PbvzR7SGKoI7E/pa6gCoc117/kmP0rLlu7P1horgmK4rI/MAFswT/umT8UX0919+raP/B9oCjzKOI/K+AsUcHp4j8QyMFbO2u4P6cinBXVVeC/5ALcVdocwD/kvKmtmAfYvyIuZ8loetm/ENG5cZNYoj+zF2txB+7jP6jZldiJ97M/qLEwAtNZpD+s5yXihwPiP+CfRt9Y4as/QElhL/MVgD/8zLeyN7a1P/AYCd8f85+/15FNRsPp4T80OPtwpEC0P3Cfb3a8iro/fz7uP6IM5D/vvaCgJQbcvxD30o7tw6o/BnHigTpH17+QijdhwHq3P7r9WYE+w9y/LpVibSap27+AcErJ+sKmPyDndceRwqQ/GkTJWbI03r9gVMgZXG6vP8DlrFulh4K/yO59mKuupz/QaoSrUAyVPygrdW+08LI/jC4t0CnA27/9xL2Px0fhP0bbf55vvdy/8FTWHxOerD/QGIm4E4ThPyhS4ktxt7S/qKm3OTXsvj+YFEwstQi0P76PGmPjoNy/UwMBIKfP4z8UfeL55Aa0P+jDaR653a8/SBnIoUFkvT8uBJPL/uPhv32fLW0wbNy/D3CuMJfx4T9/FujPXzfZvxCERpUmf7A/8BAVO818ob9EklrzuSK4PwBRVipN55o/OCNpCtYVqj/I1zEhIGWoPxiIXN2Sw7C/k2BPnp6A4z9MIqVikFzBPzB+Puhtca8/RvnfBQgI2b+dlBiMqLzjP3OJjE40NeI/dmn375+t4T+hcvD8rp/WvyBtJXbbQpg/mUJVVAFg4T+QTqJ6ZweaP1B0E8jkypk/DOu7ANJB3L/wrA4gCTG0P+Cc+xulxLk/qatuod+D4T+Gg0uso6fgv0g8utJ3Cq8/KHbYigmPo7+YF2h4UdC2P8CVrccNoZE/6Fs2pCVMqT/Al0k7cbuzP4AghAjCPJW/84Wr7SdJ279gJihMnZ+yP0QXgwknAsE//gfXq2Yn37/xOjHEmrbbv1hd3UjVE7Q/kHzI2wj2lT/mEol7juDcv/KFdIuGQtq/iIZh71cU4T/kmqQmp+/gP8C/+7BieY0/2DbxY+/Zpj8MtxoQSv+xv1idvSqv460/hK8PhjRqsT9A6PMOd77AP1FXcuObTN2/Jw91d8IP4r/A62SskpS2P+g2NMhUG6+/GN7Wh1fY4b/q0AL6BlnjP9Bur1vt3pc/eCLbWDdwtD++jjY2YTbdvyz0ofHjd9q/zZloPPHv4T8NGQV9qtbiP+zAEBUVYbs/1EslOFjuuz9IxfhaGGqiP+1g2OH6/+E/mIEmA8VlpD8PJXEb+vLavwBDhZmFuao/aJ4WeKccqT/BzI9oTnbfvxhrWhtZdKY/bm64pCO+3j/4LARilnKiPzIjrFqOX9+/ttdVrllP4z+owJfyxUauPyDXWvIT3qc/WKuBCnhrqj9opXf6x1elPzzqTOCFGbU/Y8EZ8rqH4j8gqvi2GXaOP0hJJzuCSNy/OCkXUficwT/4ELWSxUWsP3B5gBmyvuC/ILqLbp2Gkj/gReTk+q/BP42KKP9rl+K/pPqv0pXEwT+IXcocPA7ev4Aaa2Z0O7k/8Ankacwtvj94I+V+YNG7P2TcxjYVveK/sDPi8uHmkD8QcsCNCE6mPxAKcmV5krg/6ChoXpI9sT+4gWWug0yzP4CG0JenIZw/GPYjXnBqwT9YMc1AI1Suv4BA+jwphGs/YHFUPvOrvD9vTHgTF6nhP2xl+/FrbLM/4O2QWa9hrz/opdacZBffP7CJro/dhK0/vA1Btrvuwj+wl9juj6Wov+gN+jN6jrM/GHysMFgYuj8Qgk95KBW4P9I2lXBQj9u/6I+Hg8oyrz+4LWEZBiDhP+h21daRxbA/MYWYlbI74j+gisn9AuuHPwC2Qy0s/WK/uLCxSrtBtz/A3V+VT1axP1DF+nCZoLM/xI7HLGw/2b8kwnl7VxvfP5+ZI1UyhNu/khi17Y/E27/kVUuwTD/Zv6jqGKCx16G/wL0wIPosob/75tiomuXiP2AWFSkLdJM/tEG9VmEIuz/wxSSmMFCXP+yYOHX2ObM/kC0jqP3TsT8HArTRF/ndv2DTjdHGNLQ/vhFBiWIS179kjffIPNC7P0lfETAU1tm/QJFUxNZfdj+RbDK4e6HXv2ekhLua5de/qeNMDEmq4D+w1+o4TqGeP1HN7Cxm4te/MFl0MyOfqT/sIUn7kQexP1hOFzSsCbc/gEiB94nS3b9ckjBmu4ywP9wyrQv9D7C/hDLn6XUcvD8QvkxnU12yP7iailgLCbI/QNsZvifttT8Y6SRIJ0GhP5579Z94eeA/8JhENiE7kT8goEavd13BP1zI+Z7gqLA/EEU24yumn78Qx8vdATSRP9azr+bS+dw/quvuviq62r9L4fujBEnhPyDhJTpisrQ/nX3SG7jD4z/+LIqTl3rgPyP92q6rSdm/yCt1wq+ctD8gPAHUkFyfP+nFHPsXvNu/gLR1D+TseL8gla02gJepP9g0PdHXTLM/+P90EUdzuT8cQO31ZrC4P8YwKFZ9k9u/TFUoQnKY2b/cihESp5K9PzC/luo7v7Q/mFxwIFCHoT/AePNuPbCZP4ikcq7fqb4/ALM1/KTEkT8Y7axFwuTYP5zvfmUtVeE/sM+vu4/Yob9gdovNOLuTP2BvyiuBZow/fFZq3FNLwD/Pd9bpNe3jP22GTG0gnd2/cAeF0LQzsj9gbADiSoO0P4f4fUOBGty//M45Xi08sr8Mlc3Eo2+1v6rwx7jn2Ny/YOxw+1NRmD+gR4Ysozbav3jtqYkVEas/YFOUth+Xqj/p/L34bULhv9mlzR5vzOE/4B8xlVK/3b/Qap4upoahP+DveyYh3Y8/YPJyn+Berj/UibLA39uyP3DG0yUtfJg/SAjgTMNkrD+wRts5cDGSP1TkFq1oqd6/mEZrVltBwz8s89pL7GCyP2SYnKB4B9u/0Mvk/Ud8mD9or2WZPPC4v6rJEtXFNuG/3t4EJ6lo4z+Gk5n+fCDXv+BXdLf2mKc/SKKl0BFxpz9o1w6Plrrav6qEYcqz+Na/CNxuayomxT+QwiXhPnu1Px8Lmo7oS9+/iVbEuYzd2L/tR7s4VgXiPwXaMCQr9ty/4LUkYj4Ygj9YpKNRgs6mP1hgAFODyK4/u9FOsJGC2L9VHPSzPC/gP0MtsuBOPt6/0HXdsHq6qT9AR/Bjyix6PzqXrBAeSNi/VMzOHQRMxD8qKEf2RvDgP0XHv68jdeI/wlUPgil14z80ZG6sgTa9P5DomeOtObg/IDFT/ZJMpz/QBvNABrOkP7DaLJ8hv68/KE7wfTo5vD9WSJuReIfZv05nI/fnoOG/IDMxk9SfqD/suBrgcI2wP2Cwex727Iq/2O9uBd+Krj8oqWfqBozbv5UX24r22dq/bGHNlr4L27+y9tm679LhPx9yOd8nYdy/8HZx0PImqj8GavYNZnLjP5KLLHkbzdq/gJSDD0gF278ovwGj6WasP/LhZ4UVety/DB4tZlux2z+0Blmr70DEP/h7oM/IAqo/5fEdTNGN3r+1RycStVbhP1pAVEHHpNs/M/LcyDd0279gxHTfrMW9P1B4MwgBx5o/sLW369Mwnj96SC7H0lPfPyjdYZ/H/aM/21V9GiOh4z8wgIUuYY+tPyBYwQ7L4ts/5BrJxjKh4j/fuwZV2ODgP0BITEQwub4/wKL3+0Z1vz+c/Ya/oRjBP/IKv9tjw9u//EBx3GpK4b9vvzuRXZHiP/lFc/7C/+I/dT3d/F1m4j8gwVKdP7+HP0DlfWJbKd2/wFtGFGcVtD8D9WjIGAXkP6j7LYI8GKM/yCpWW2t9pT+Qw61tNzmwPwqOzzSwwtu/OLX6KJrWvD/4y1EghODavyfRjx1S/dy/gMPnYhxeoz9HC/YhuQrav3FpbURw8uA/8N8KMHz53z9UK2vM+kmwP+dnws4mVuI/PcuATCG35D+wn2m6lCK3P/BOku0wxd+/GPRPSKxXqT8gBC9wSD6FP+y8y6x5uuE/GriEVzKb3b8B3le4HQrev4AwczQcepq/cBMoZNSgrD8U9OJd4kqyP1Qcqw7+gdq/RLj6ZzmOuL9gpJRXHf2oPx0zrWJ0tOA/096fe5xM5D/NMo8Jm6zavy65tA75YuA/AE+HeIiErr/ASVvaCIebP1SdQlwVHcM/LywLJrUQ17+Y2TajaJmhP5T1AWv2TbU/ADFttXvSpz9H8qePi3PVv9BUDx9hg54/QwMTVGJ04z/AHwDGl7SfP9Sc+42QuLs/wPCbsupzjD/wtJG/w3zavziWy2a38q+/UBDF2zseuD8sZTgXwIGwPzBCk7Cs2ac/6ez+sF6n37/YCsUlqE2ovwDycoJMLrQ/jP8lnzzltj8cgFIs03GyP3TaiIFONrU/eH14uwQ94b872ndRU2/jP3Spt38BnMA/Zfo4QKFI4T/yKrfzEsThP3gzcfdEnqI/KA9bwI/jpD8w5T+uK2KUP7CRCn4TIqi/bdTiGeqy4L8A9FLxlDRbPyrWEquB9Nu/MOGmHdXurz9iARfZrirjP7DfatKf27M/DNwUCVp3uD/9y5mhoYThvwT21AdM3OI/IPm0cpkarj+02i72hILbv+sUUIfbH9y/j8OTE0TS279ZoZbjbI7iP4RNjR5FTds/gA7POCNOuj/IG4ciWLa0P7BXlNEHCqU/I5YN3CnG4D94yocnTd2qP5lxes3xVuE/b0fbYVDt4T+Y+ElMR+elP0hEjqOlNL4/0IhZJ2Spmj+c2u6A2yCyv8fJHcyHy9e/REsM9OBGwj9ojrNuiVi3P9c3e9OupOE/AAUY4IP9pD+4OSpmmTSqv2mKo48ED92//joIYRyt2L9+7AIZE+/Wv3mzRtVJfOE/QHH2q9tedj/Afr4fja6xPwi0Ddp6cbA/tB9ihk7u4T/w9QuWiti/P4sAdi5BguE/eJHqXjuTor8gisZ8BxLDP6F+HwSjata/vYh1rPIG4T8fAh4a1RzjP7S9ou/5RrK/ttndjXoe47/4e16c0D7ev85zhKV8GOI//tmpMUl927+WHtp21cvav+8JT4E25eE/0JWZFIi/rj+g1FRnpwCovwJA1jNFLuM/y8rihZRu2L9gx7c8iG+Rv28ZluZRDti/btYMwEiq2L/QWh7B2sO9PzCCf2y6d7Y/dIBycc20sj94dGH/kmHDPwbVUuYHEN2/gOJ6ZFt0wD/ETbY7piPYv/1sTchIy+M/Fmq7Ykq03L90+qrcM0S6P9+4xaFP+tm/1ennJPjH4T+xbdPx/r3iP5AW/r7zpty/AFTrHgLZvz9tmw9MlZbjP8xH1d2VBbS/zSyIvpJD5D+FzPy8MiLhv4hU1y82HaC/mCQypAunwD8An2doV6BSPyE5AF+Zgdu/875XoRd53b9A/H4Q5YOxPwD3JcrCduC/yGc4Mo5x4D9ID2zgsy2jP2Tuw6C677U/mOFnfDtHoj/w/a2PtDC8P0B/c5EnBNq/cPaqCimPrD+5zvJ0bBrhP3fVH4uD9ty/gDoBrOvXZD8Ybiyhe6CgP358BVDjn9a/0io00G3P3L+MJzWY8KOyP3DPkvhIyrQ/OAPPYlrcqz/CP2Q6yLjdv+wDq0lsS92/8MgxZA8upj/c3aXf7FS6P5jiqIQ1+aw/ZGns31tTtT9w7oQcKTiqP4QnhfLitNw/6DHeUEUEuD+I9uMY0+esP/hbmDRhb6Y/LqHXNDy14L+SjzMPwG7Wv4j/Ks5MsKs/sCIuhnx9mj+8mMWoMcuzPwSra0eS6ta/UJ79j9USrj/487O1jci4PwSWLoeOo7k/OBO0jlt8tj+IApq31PCkP1BWIOcB+Jk/AIjlUwzLlL/Qi1dbGxHEP0giktbNFN2/lCZ3lxRmsz9oUrMPBoepPwXchXTEsuE/HbDdqXnR4j8j7Ji2HQLiPzTqnT+zM7c/6hMIKfOc4L988n3YMEq7PwCBwtrImKA//lzNpXqp3b+Y39/8PnC4P4wIouvGY7M/JB6TMjeOuD9aBHg2agPhv8BkG77jhpq/6Cw2GzoHtT94P+9sLiOvP3EUzrHQE+I/6KZI87ABrz+gnMavw3CjP3T5FqhE1Lg/gH2PFX/Xrj9CIhcMCLHavxKCnpUB6ty/oKqwZju9nz+hx2r11SfgPwhWi1kTQKS/BEGPNkvHsT9U5AfZc2Xhv1hUbGkdn6w/GHZjI/uFrz8ij19mANbfP7Qnh4VypLo/THc4GcfKsT8aIxCwSM7ev2wj7wrKVLg/OMINOSlOuT84qgk0zJuqPzDnHy29UqI/Ygey7Yyg4z/zbbWx5/XZv4uOEBavrtm/Qco6/OD72r/gaTAYVYGlP4Dx34tR5qs/XOKsh1ep4D8ABx/6pDirPwh1YJmOA7Y/UGw+HDWlvz+gr9YS7qysPwFaWMiKwOE/ANa9xnOBTD8ADa/2Nqbdv7BEWBtLTL8/J/NeOJMs4r9meAQI5A7dv2h3hBUxc6s/MNWhMJIhsb8x/2+qEL/bv0wHQNfd97A/MjicS35D378AJivHjqe5PzGsAPSBfOI/CJj/1T02pz8IOGfp2YCjPyv5Y8SFwOE/fPbeW/QQtz9CKSF5PMbev1KlpFib1eI/yIN0hDwfsj8AVZ8Gj/3iPxYvSFA0f92/kJTnJRS0sj+5isKAuU/ev7iS6i6Kb6w/uEOyGro5tz/GXnVa6FTbvyr3dKY3Kt2/omdLRaD84j/cOwfjE+SxP9E0mnp3O+I/mfw0Ax6Z1r/8+DDaDxzev7yMhzONZeE/kGqHQEkXsz+om3fh96OlPwiP8q3JCLW/sv7Wigql3r/AtNp0ceF8PzdIOSXoN9m/sIZhPpaLrT9A1lvIFuR4P8BO64i1SaI/kkuePwo/2b+srsihOhO5P7h0/67QYsA/2Ljb4hmp4b/wTzw8FVCeP+k/ei8ol+I/cEDwohnDqj+E6bkYS8G1P94JoVQwkty/4JrcdbPNgT8oes/EaxjdP+UiqIPY4dq/IrsVaWIQ3b9c7IIvPqi7P09sC3fJBt2/WtBcUilh4L9AuSw2X1ivPxZRslGd792/tjYTxTqV4j/Q0v6yaTjhP4DGSBRU7n8/XBb6PyWuvD9E9++znszcvz6+EtQwzN6/AIvduiBKhr+gmCZwC2azP4aaMqVquOG/7NXVtR6utj/cDahLNcriP5DzLmd31pk/JUGRZwR+3L9o9lDob+jcv/c18cNnR9e/QKT0pjRenj9K6Vt5GSHbPziDfbaQvuA/lOcinIKXuD9LRHmS+8HgP+5wcHlBcOI/oKRMXSrmqz9sOabLajOwP0CRGsey9YC/bNySpiuW2L/EHs/HD12yv0gEKdiF6KE/YaaRZAKh3L8TCgACxZriP/j7qJ0QRLY/T+8lQqK34T+welBuuhigP7Aes033374/gMXpkP2kfD+Qser+hQHdv8+svlXbZNm/YOoLEwNNlD/pu7EnQ5zcv+CQC6SKh7E/2LQ7qClmuT/MBrYDXnLZv0xTmFb0XbQ/oOJXsESDmD909fmjdSDavwKU99IJkdm/BCTUnM4ksz/I7vOITK/dv8Qd+btFQbs/Li4JscRr2b+cDN3FV7G4P1KfWcaH7Ny/aArd8aZgpD8gWEC+/d6uv0dwOZhg1ty/YpoB3sBC179YdTRvGdSkPzjW9IeVM7w/nmjiBLQU4T+weoVP3umlP1lPkDymfuC/43z4U9d34T/Q+UNR2uyrv/QNOoIERtu/aG/nEmFfrj/AtQrg4hF9P6hmrmrLE68/AH1IwKKvrz8QPCPMW8arP8KVf2uFcdm/IN5yiwbagz8E8zWswl7dP5lr6Mg14dq/GseBIJ/y278QjbMW59SQP1jpc2cCzd2//SJxlrdx4b9LLFWz7ZTgPwLjio3MGdu/OHjMgpHpvD+AzdCr1m2uP2qWGLQ1Ld+/6P8BkGQXwz98vn5DpSHbvwAMG60hMLI/yPYrtHwDrD9qwJbLzkjdvyA924efud0/JJZqdZGxvD8ecLKUyHnav9idSG2UabG/x0phfEs43L9wiG6ox6Pev3RLGuaXs9a/0vwiLbLq3D/A6PR/lim3P7h/LjpomLI/mOZkJq24378HkK8dghPavzTkx7EO0Nw/WMiAuSKIvT84bO00397fv8Ciwy/vFtq/rbls96dM4z8o6KALvo6hP7RcFEQhwbU/rrQo5UFb3L9Cw5xopTnevyinbDO5RL4/ugM3lJtK4b84q//4eMKzv1CzAP3m/64/UMPoqzFQwj9kg4230ja1P9Ldyb8hYdm/GC0IM5Akuz+cAK/Eemq2P+jbf9bsiNy/WIf2wkOSvz/AU6Hs0PWwP2KPgt9Ugdu/UIu4fbTGuL84QbOxzxCnP5BQSVEJjLA/m78Y/PlE2b+A+E4rkeXcPy0owb3VfuA/aOwc7s8Goz84ffB3qC2vP7BfnhZTu92/JNeMSh47sz8oSqZjIzCjP2iDY7K1EbM/CSG2cCof4j9IGJ7TQx6kP2iLdcKaaa4/bAzmYPZ1uD9QHhypBqjBPwB6aK1hI4Q/sxlxRvbY4j9weN00sO6bv5hYLzSaqtq/qDGfRy+Wsz83lYOBglXavzVD3FujjN2/f2iKPv8k2r/SrAqQtFrgP6hFSSNmiak/TDlYUOlQ4b8Uma5slMO3P+RrA3IRc7c/+zTH9THg4L+XhULO/dfcv2bRh6YJ2ds/FCxzDvhs27/CJYxyxrzav8AkrRa7/6q/MtwwdtlS4z+QtJuQu+mUPyjSEC3R/rI/Tc+p/Gn33b9ICTgrSATYv2mTDhkqSt6/7PozEQwwwz9Z73vqCLHgP/TlL1FTuN0/9MBxAj5ttj9Qk/N1WZazv5CrqwEgpKM/OX7jHRmP4j9YThDeV+a9P4CFlYy48Hi/Ow5OpPZP4z9wUIHDIoixPwCUe0EKCKU/4KlyKcGCjz/C9w/99d/hP3Ba1dmdK5Q/UM1XdNTosL8ioLzxogfhP/o6YD5EZN2/tEOuf6dp2b9ALht6fMnDP+CF1BFJzte/IPV/zwZH4z8y/ftEmyTfP/RzDdj/qbG/aGxE2eOMoj9GEegOWJniP8u8S8hnheI/00r5tKHk3L/EhJTr4kzav6nkj1M2Xdy/8hGfWfly3b/QDwaESRyXP6TqeAViW+I/2zrENNWQ4j+QKy7a1MmgP07lDvqZX9q/1Oq/yNU8sT8wn+3P7nWcP50pEFw2Qt6/uNBfmx5Hpb86Rg1PX9fXvwCo8hRiNuA/9F5p4GXQ3L8IsJVWugyzPzuPJ9ob/uM/KiQnFdFs3r+tsZoEs7ThP8gMYZllHrU/KLHwzUTkuz/bGQt1H/XkP2CjXMZKOLk/6P/heN2WrT+YpOSy6rHfP7AUbRy2e9y/msz5DBgl4D8uEgoy8yTgPyQQUtsaa7E/pkVOLa5x4z/AWyUjS3bbvxYwOrF6kOM/1Ph8p7QU3j/YaklY7lOyP+iAlBR+cq8/fi6DYUpR4j92nqS4DHDav0jCHhujMqw/zPDPImVT4L/s5QBW9zHjPzjZyBKkEb8/eEp3xA4q2L/gRBnIw9anP3zTVgVi0+G/kAghlhMRxT/f9giVfMrhP1TtD77uL7o/EJAxCYCVrT9gXHHPNbaqP0TxGbsjQeI/mf3f5tHI3L+MldaeGJDAPzecaJFT09u/VV+eWqZQ4D8FDy4GivTZv1x01mzrcrA/mEhhl7r63L9Kvd4pBGThP10hMjX2TNi/SpET6Ouh3L/IBdt+bY/avyjW0WhwibE/iLwu/DxZpj+A51rx9OGYP/BNLaJGyJE/ePIbGPDOsr8IZu0jUMejvxtNyN8pnde/mTrgGUN13L8qU5ntcnnev2Hy2vEvb9y/lFKcAU153r92H3k9Cpvbv6D2fwqCwr4/aIiZd/TxpD9c13Dx2sKyP/BVPoib0r8/lM14wA9B4z8HNZd4zbPZv5dQaLqyr+M/ncPo+9UA3L9gSpEW0hChP1zNDKjlr+E/cnjf663H4T8ASULTx+6HPyx9xGQIHtu/HXWAuhQ03L/QV0M8LZStP1xIbylvltq/MEjN0WNjrj9AlL8p00eqP4XnIRywAdm/gIxmL4Vntj+8vD2W/DDevzTf7PtXv+E/EIa/tLwb4b+KpZRS5NbcP9g02i4z5ay/wPa018HGgL+Y5OGDoGGxP0gR7s1BgN2//AKJ74zAsT/wX4KYT7m0P/S9gixfU9e/eC2SZybq3b9lEVuoioniP1WSjjGXa9m/4A/sEuzeqL9QfPilD8WhP49TDibwqeQ/D6hjFoXN4D+YLeU+/vSiP2B36zoUtrM/aDDOyY1Ltj9wHvqOHXOevxhMx7t16Kw/6UDMBzss27/ohtWLKu+wP7DVz7O739i/oGiMzuQqrD8J4V6pDlHhP7HAcW7wK+Q/lQSW6m0U4T/YLN0llGamPwzZOr+Q7rC/dScL9Dc74T8AzX9T7QteP+hBjrnRcrU/I4wP1t+w279w7jLqzMPAP1kQprz24tu/SJZycdHEuz8oN4v0mCajP9A2R/nO4Nw/DHU/DaAjtT9/xyHMLSjjPyB6maZ2Hqw/1clWuVlJ1r+MJ0BiZ67bv3Opq1++3t6/2nOTT9xC4j/wkA76Ppq2P3Dxh7aySrE/QJiuNpKLrr8QvZmNq2arvwC+86fBPoM/nEYIADwq3z/gqnR0Pnu0P8E9dyObXti/5LKLi1jJ4j8QEK6YmSC6P5w+9B3rN7I/QBXhGx+ShD8Ozc87YdTdv3BupCl30KK/GhHgoyMl2b8MbrIU7hm0P6BVAJCajNq/CO9/0oDMoj/4YnyLlhWqP5DiokXyjKI/MDObuOkysz8Qji5bj6+mP8cWt9wxauM/SGEbPi4K2b/gtAASCg6+P4Pf4Atr092/jHcASSYExD9XirBALGDfv6Sw2BNC6NW/cHqMm204vT+g6WU9xVPdvzQfHyMkida/AGwnfbmrW78QKtsJCgqaP0VQbWA6ROI/auvm2Oxh4L9I88YJc9a3P4K4bqoZMuI/inaf3ZB14D9wxI4VsuPev/6ViDCcbuI/j8pRKG294z9oDEJjPOKiPwi52wg7qbs/LDYurIOw2r/YiBBQPCyhPwyt54h8q9e/WkAsyIiT1r8oqyIDtAHjP7hCkDUq9aQ/DkkN6lPn4D+QueeAhVKuP57aWmwKMeG/iWKyc0DW4D+IOBG91qyvP6g1YgFK6OI/GAiaMTIbtz9bJ4LJOxvhPwH3Errrn+G/0KJVQz0smT/ETsyzfFHcv2jM5OC+374/eHhf30uHpz8MwhEYxbS7P5BfVEosKKM/xd09e2lj4D+AFUacL52PPyRP2WXWIbK/6Ph0xrC1sj/jwV94TVzavxBN7AhlHt2/W5hNVCPT2b8IE707DIq/PyCFW22RO5w/vjqvlrx94j+ASFeKXp2DP4tO83H8cuE/8G0mZrnxkD9n2gQeIU/iPyDWJSs0v5o/mCs3fss74r93fRjuKhzXvw9+I3PqXNi/YNfGgobjmj8AslKXYZfDPwIXiGY2Vt8/4M1H7DO8oz/Ly/oN5QnjP6g6vuqbGa4/fZNCSKNM4z9sLT5Y0qWyPxroan/XHeE/SBPw0p+gqD8/PYw0V+zZv2bzVUNsU+K/mItz/QJf1r9BB1J0u8jiP8LdgTuxSOM/wYOCQZ+H4j8Jfw2PggzZv1h+K8n9XOA/dKKBO/pqtz90PXlInYm4PwD1npHlvr8/Mmc28frl3b+4NZchLO28P3a3y76ZMt0/PXlpbmTj4D9PdMNuQM7fvzhTZfhiFLs/yDwKOJ+i3b/A9t2i6uSyPxC/U3VYdbM/nCWbMTz63L8AiNX1Uu15P3WWZWY7S+A/IN3zYpbUpj8g0A6+q5jjP80sXje9mdi/CP3Blp/vpj8A2EF2CbylP1rGH0jOO+C/Rx1JnkfD4z/w39i+oDGdPy9ejpdksOE/1gE87c2a2r852l1APxPYv2jF0CZ/krK/TFJ9TjxX4D8c5fKfLRLcv7wWnEPCBNy/y6/bG2ra17/gzDX71u+jPwW+3IOe69m/iBApYTA+qD9kyw4tOg6yPxsE5IwX4+E/DaJ7+liW3L+zYcJTYfPgPxQ+gYS68LE/IOIgtrE+ib9ge1+077q6P5iqVFYhi6c/5yuPVRBR17+s8KEDtgXhP0hM5kxYf8A/s81rPltq4T8YBR+wRYyhP/4JqZTsNeG/p1q0OUsu4j8KldRlpdraPyBPX08fQ+M/EIsgPYgDpz/WBeAcaenhP78a4LOeVN2/IPFmjRNaiD91bPi/UlPevyf0DSl5w96/tqEEE1Zo3T9QgXIDTx6lP8ibR6gvK7I/BLDabrbIuD9XbwG/t+zhP5CrIqQtkps/CL4s6BM2pj8e64JLQSTav8CzBgsYda+/X11WTRqL2L9Ta3H09UnYv7RXkhayiME/xCXR/CNEwD9FJxkEFLbhP0DYRhpAOMA/kVNTrCGW5D8rFNcy1pTav68vhFdoMdi/qMve3uAuqD/i1mUcqJ7hP1D3bIqDl9m/nevf+3xk3b/gR7JHMF+jPwyStlLthdi/fKcnfJW7sz/Q5agbGTu5P4Aw05ie+a6/qdXclyed2792uNafAlLjPxjbLQ9aGN6/v8ONBIe/3r+OMdOdwC/iP2zSrqVMUrU/S8Hox/+f4z84WssA3Kfev9hDmiLueqG/9PYyjAF8vT9YMZSvPYS1P3QgIqbPqrQ/PLlu3N1ftD+AvHkzQfrAP8APle9gPoM/E2uh3WIY278jhve6A0ziP5RVH94ULrY/3anIkpvC4D+A/RdxTze1P1kIOgWzsOI/QAySN6CxvT8st2QQYEm1P9zg6+nB4+E/kJ/D0eCvmj+a9k1NtgbcP3cjnDw1Od6//mI6Y8TI4T+Ak3WtB3iqP9HnAOclQNm/3BPEPDBy4z+kTkkS5J63P6nTm0YW3dm/d5YyUzWk4L+IuhhgR7C/P6PpDfqjztu/kF1qiCclvD+bgqHrAi3kP0TgebrdCuE/NVdTe7vB3r/1Y0ZhO9zcvzKKtsYer+A/QGR+EJcuiz/Ue5WXuzewP+D0O6R6baI/NtC42cSO2b9j4NtN4TvYvyT9chdUFOA/osG4Vhb427/QolH5TwmoPyvDa8mVgeM/oLV0A1LVnz9yXSBw4ITVv8DAqaS59oa/HBbKDJuGsz9wJ5mppbOpPyAydlwtmok/eIQVTW4c2r+4lhWvv8+yPywOshUhyrI/o9k2cKAd4j8nb+bt36fdv01BjLsQk9i/qEwXWqDZ3L9wJ4XncKCqP0dKh1MuA9i/OBf2hyJ2oT8oV1QcAcO0P/CwznyyOq0/zTFfW7lu3L+u37lHz0Tcv6ox9cjL8d6/43FtuhcV4D9wbE6j9z/AP2xjIA5E3rE/2cI469U02L+h7JFDtS/jP+hKPKsLTr8/bIGPkpm73b+ctvD7Ta2xPyx1u2pzy7A/RDFg70tm4z8002pNy0HDP8DbRVECCcE/eDQ+zH+5qD8g0wRdLfGVP2DXwsc7WLS/wx1n4YPl2b+4MkDS+v2yP0Dx+xENx6k/hpNkqiuw3L+m8I1dRjDiv+u6b6c9/NW/rN1kXebEsb/1vtaJFsThPxa24HrjmNu/qPLazsPFwD9d+RrNqI3fv6EYwEer5eE/QyBNZ+nj4z8cqoiAgfSyP9Cwq8h8rt8/eAQzSWZioz9z4EKto2bjP3q8Afyyidu/KsWo4uVy2r/t2uPK/8/ev05qERvdBN+/MJINE2Jmk78U1kaKbj24P8xECOBP7du/hhT98dC72r9IP1pHVQquP2qceBywX96/mMjMSwiYuj+gsG61zISmP8AyX7UgrJG/s4yDPeXM2L8UtJw+A6m5P3I4OZ2ioOI/gF2K13qtrT/wHjpRONqVPwqu1z3Dftq/+EfifD4zoD+0yiXurY20Pzy2UJP7sNu/IbPtjXv/4D/+pK7zEVjcv0Br6Okk4Ko/2INW3vjwrD8fx+kpo7Tdv0DnNdJOZqc/8B4RlocirD/AFbMXnQyfv/sS4oFkPeK/NGcEV1Mxsz/A1kih4bfiP6h8ZeFgGqo/QHKwA6ZIeD/uiROCmNzeP1jFwk7iAa8/HDHjtqiItj/Qdd4SDqqRP4LJAnk2+9y/4BpROE4q3b813OduuF7cv1BPeKpXWrI/IDqrJcgDlz/sE0LEstfcvyAYMd7u57g/2CtSRwicqj+A7UqJ4ZuBv/TBtTIUYbM/oAhQWyh5oD/AhdRNTXDAP7ncHETWNdy/QCp9gjf9vT8YFNB13Z+nPxJnV6h9aeI/WIv2qzSz2L8QaAn+bhPcv+mceHbv49y/RLxh+C2Hs7/J/VnjNhPcv1irWqb5MbA/kHTF+5Pwrz9IgDdGOHjAP2DOBibKOtu/uRsn6m6D379E2QfkPWnav6TSib6EJ8M/UNBf3l20oT/aF/JjGyLav/BLqGEBM+E/KvB/HTJH3r/QbAbP5lmwv8CUEg3M75Q/QLVsvY9UtT9IDKONFuutv/F14CqVD92/t3N7nukw5D+gsgK7i8XZv5CQmZM+5bY/BMN3mZxMtD94P/zVuY7hP/5diBwKTNu/X71OK4L64D8QHBq9RrazP8AkGUFfuuE/Rjpdz/gR4z9dlEOgqYHZv8gfj+nSE7Q/OPMMQV9NqD8vtQHsf2ziP3TRrn9kQNq/YLqCpPICkL8oxsuYiRTgv54QyUn5Ht2/oFrq2VLPlT+D3DzQgFTevzSfTWQpTeM/mbzd3ErJ3L9rmFYSBc7gP1lFxqjcwti/Nuk+YQF52r+h7L2J1AnkP3Y/iZkd8de/WqzM463G2r9PBdlaQaDbvyCL0j/1K7M/wMA0/RFtuj9cxATtVrXbP/C2IZMilqc/5D1DSV8usT+fAChvlKLgP+BT0no/HKo/KBCADE473L+AlJsu6uKwP/ZspPxAHdy/cKucwkUl3r/cWzfnyl+2P0Bj/QdFvqw/+JYXRPHW3b8oXBqwvw61P+DYDURCcpc/Q5cay1k84z/dj78wMPLXv2wIYNpxLbY/BGSipnFQ1r9gNZlsCiiEPzDG7mHtp68/YCYE/1i5oz9IN8vNr93Yv+tm+pwwV9e/wLMVxn/ykz8Tz14nF7DYv4SCeIldS7Q/dCeymvFL279AfUb9ZCG3P2YkHITxeuM/oGutLjyekL9wEStzNGOpP8en+8Kk1Nu/tl5s0acL4T802rT9OA+9P1QntCU5RNs/eNYcJXBeoj/YKm4/tte3P/8hP6Roety/EBD7L2nCvT/od4iRLTisP7gyYGql2tm/WKjpBYXVuD9aNf81qjTdv/Bi/TM47aI/ywVEFuu127+JWkA5M2viP/sWcEMz7Ne/DHgcNZTZtz++1NE1GaPdv8r8c1Qlj+M/nG5+1bBjsT+gEUSPQTKKP7VviLQC5uA/odLnSGVr4T9QGDcI5oWpP+o72E4bW92/hmzyuDYz4z8IMfUrKKm7P3nvoVdJxeE/hILr+2j8tz+PWu0THpbbv8Rvea6PH7Q/OFJKCBwNpD8ImsqVUY6iPyarH8Nqcty/yGVs+jFp3r/wXtiDIZicP+B+niArOrU/0ESN57nuoT94/o9LhbamPy1ePEvbjeK/00N8z14Z4j/oXKXtVkPev6L7ctqV8dm/YAnq0rqYjT+0h9B0moG7P3yRQbyzpLo/mJ/fsdicwT98Vp3muCC5P4hxtZeZ8as/1ZZ/1X+P17/ygVm6jRXiP+jq9FnlPbA/GD11j65bpr+QischOxW/Pxhnlij47bU/KO5ChI5Vvz/QtyHHbR2sP7vwMcGhVuM/cLAw6bxzxD8Q/2C9AASjv5siF+/1mtu/CA6RbxoJtT9s4JXUJJmyP8h5GAJQAKE/iDsf0bdT2z9RwBhFUGDZv3QZKfqvi9i/SJrGcJET2j9YXnCxILHhP/RCV7Uz9Ng/qK56xOwGpz8NBPep7Qjav9DUFi0/YqE/MX6AYxlo5D/82AMXxPW1P/Xyvc0Gz92/mLrpl4qrqD9LJ9YLwDzhP6YYxG+COeG/KFBSW2c04z9oVr58A7K4P4mqft5gsOE/DrV5Tjg34T8DfqvAkindv0jSUcvReK0/MC1hdIBm378ASGS+lwlLP1B5c2uh1MI/eC/3xdjH3r+MKN16qHKxPyTlUa9nm8A/iEXoFyfhoz+AIkahEgmdv1AGTtjXdrc/QMBORVmomj/oeDlgxBq0P2Il1Uk019u/xAwTAH2P3b9EVumjlLDZv4dT8oNxnte/EBDPY2A3kT/sZmTFNoC4v5NatVN+zNy/OKLG6VhkpD/Y/Jg4DKqsv4g41M1U76o/AIrtQxpQnj8Qx8lT60ujP8IAhou+oNq/r093xaKC2r/6BVqZiYvcv5igKTmVvME/DEoe6RCQ2L+sD8CNQpLCP9QzWjd+ELI/cEY8u7oY4T8Q0n/Ee/+sP2kYzQ8+GuM/qBMeeytnpz+SGHXj7OXdv+vQGxDLp+E/tG2VEHb7sj9HXpCnFzXhP6CnjKTZFLI/AF6EoVyO2z/AErH1LK3Yv5vrt8+B3t+/jBtSdsBQsz9ecdo1XgXcv6/cfHBSENy/mAQRh5SPrz8wKSfizoOcP8ClgkRzW36/VKZqBmT54j8CyqRXRibhPxC+pss6OqY/tLb5H1hrsj+gb0CQgdiJvyT6mgoOaeG/sOeAVo+ipD9rt0D6VSHgP0CIEXakJpU/yMffS6ST4L/0WVlp4nGyPzqoUVK1898/W+j1FgxY4z8tD5snZSnhvwzXKdtXwt0/0U41G+rs4j8=",
          "dtype": "f8"
         }
        },
        {
         "marker": {
          "color": "black",
          "line": {
           "color": "white",
           "width": 2
          },
          "size": 10,
          "symbol": "x"
         },
         "mode": "markers",
         "name": "Centroids",
         "type": "scatter3d",
         "x": {
          "bdata": "gaETsuJV2b8WJ5Qn6RzmP+BHs55B/Ni/eDrOKjDn178mHbCtiK3Xv3L3jV1dcde/a/QpRmmK179Qrl907YTYvw==",
          "dtype": "f8"
         },
         "y": {
          "bdata": "wIODF/8xir+AT1+xjXV1P+BXaWihgYM/iDVSHbxLr78AAz5e/oeXP0AHAeqTfY+/qDaDBM0MrT9Ql3WC5ZGRvw==",
          "dtype": "f8"
         },
         "z": {
          "bdata": "aAatfHUpwb8AFJoZg9RWvxCWKQUDdaA/8EsizjAwtj+IYndHahynP+BbRfusbqa/xDQ/UAw5sT84LS3LVnuhvw==",
          "dtype": "f8"
         }
        }
       ],
       "layout": {
        "legend": {
         "x": 0.85,
         "y": 0.9
        },
        "margin": {
         "b": 0,
         "l": 0,
         "r": 0,
         "t": 30
        },
        "scene": {
         "xaxis": {
          "title": {
           "text": "PCA 1"
          }
         },
         "yaxis": {
          "title": {
           "text": "PCA 2"
          }
         },
         "zaxis": {
          "title": {
           "text": "PCA 3"
          }
         }
        },
        "template": {
         "data": {
          "bar": [
           {
            "error_x": {
             "color": "#2a3f5f"
            },
            "error_y": {
             "color": "#2a3f5f"
            },
            "marker": {
             "line": {
              "color": "#E5ECF6",
              "width": 0.5
             },
             "pattern": {
              "fillmode": "overlay",
              "size": 10,
              "solidity": 0.2
             }
            },
            "type": "bar"
           }
          ],
          "barpolar": [
           {
            "marker": {
             "line": {
              "color": "#E5ECF6",
              "width": 0.5
             },
             "pattern": {
              "fillmode": "overlay",
              "size": 10,
              "solidity": 0.2
             }
            },
            "type": "barpolar"
           }
          ],
          "carpet": [
           {
            "aaxis": {
             "endlinecolor": "#2a3f5f",
             "gridcolor": "white",
             "linecolor": "white",
             "minorgridcolor": "white",
             "startlinecolor": "#2a3f5f"
            },
            "baxis": {
             "endlinecolor": "#2a3f5f",
             "gridcolor": "white",
             "linecolor": "white",
             "minorgridcolor": "white",
             "startlinecolor": "#2a3f5f"
            },
            "type": "carpet"
           }
          ],
          "choropleth": [
           {
            "colorbar": {
             "outlinewidth": 0,
             "ticks": ""
            },
            "type": "choropleth"
           }
          ],
          "contour": [
           {
            "colorbar": {
             "outlinewidth": 0,
             "ticks": ""
            },
            "colorscale": [
             [
              0,
              "#0d0887"
             ],
             [
              0.1111111111111111,
              "#46039f"
             ],
             [
              0.2222222222222222,
              "#7201a8"
             ],
             [
              0.3333333333333333,
              "#9c179e"
             ],
             [
              0.4444444444444444,
              "#bd3786"
             ],
             [
              0.5555555555555556,
              "#d8576b"
             ],
             [
              0.6666666666666666,
              "#ed7953"
             ],
             [
              0.7777777777777778,
              "#fb9f3a"
             ],
             [
              0.8888888888888888,
              "#fdca26"
             ],
             [
              1,
              "#f0f921"
             ]
            ],
            "type": "contour"
           }
          ],
          "contourcarpet": [
           {
            "colorbar": {
             "outlinewidth": 0,
             "ticks": ""
            },
            "type": "contourcarpet"
           }
          ],
          "heatmap": [
           {
            "colorbar": {
             "outlinewidth": 0,
             "ticks": ""
            },
            "colorscale": [
             [
              0,
              "#0d0887"
             ],
             [
              0.1111111111111111,
              "#46039f"
             ],
             [
              0.2222222222222222,
              "#7201a8"
             ],
             [
              0.3333333333333333,
              "#9c179e"
             ],
             [
              0.4444444444444444,
              "#bd3786"
             ],
             [
              0.5555555555555556,
              "#d8576b"
             ],
             [
              0.6666666666666666,
              "#ed7953"
             ],
             [
              0.7777777777777778,
              "#fb9f3a"
             ],
             [
              0.8888888888888888,
              "#fdca26"
             ],
             [
              1,
              "#f0f921"
             ]
            ],
            "type": "heatmap"
           }
          ],
          "histogram": [
           {
            "marker": {
             "pattern": {
              "fillmode": "overlay",
              "size": 10,
              "solidity": 0.2
             }
            },
            "type": "histogram"
           }
          ],
          "histogram2d": [
           {
            "colorbar": {
             "outlinewidth": 0,
             "ticks": ""
            },
            "colorscale": [
             [
              0,
              "#0d0887"
             ],
             [
              0.1111111111111111,
              "#46039f"
             ],
             [
              0.2222222222222222,
              "#7201a8"
             ],
             [
              0.3333333333333333,
              "#9c179e"
             ],
             [
              0.4444444444444444,
              "#bd3786"
             ],
             [
              0.5555555555555556,
              "#d8576b"
             ],
             [
              0.6666666666666666,
              "#ed7953"
             ],
             [
              0.7777777777777778,
              "#fb9f3a"
             ],
             [
              0.8888888888888888,
              "#fdca26"
             ],
             [
              1,
              "#f0f921"
             ]
            ],
            "type": "histogram2d"
           }
          ],
          "histogram2dcontour": [
           {
            "colorbar": {
             "outlinewidth": 0,
             "ticks": ""
            },
            "colorscale": [
             [
              0,
              "#0d0887"
             ],
             [
              0.1111111111111111,
              "#46039f"
             ],
             [
              0.2222222222222222,
              "#7201a8"
             ],
             [
              0.3333333333333333,
              "#9c179e"
             ],
             [
              0.4444444444444444,
              "#bd3786"
             ],
             [
              0.5555555555555556,
              "#d8576b"
             ],
             [
              0.6666666666666666,
              "#ed7953"
             ],
             [
              0.7777777777777778,
              "#fb9f3a"
             ],
             [
              0.8888888888888888,
              "#fdca26"
             ],
             [
              1,
              "#f0f921"
             ]
            ],
            "type": "histogram2dcontour"
           }
          ],
          "mesh3d": [
           {
            "colorbar": {
             "outlinewidth": 0,
             "ticks": ""
            },
            "type": "mesh3d"
           }
          ],
          "parcoords": [
           {
            "line": {
             "colorbar": {
              "outlinewidth": 0,
              "ticks": ""
             }
            },
            "type": "parcoords"
           }
          ],
          "pie": [
           {
            "automargin": true,
            "type": "pie"
           }
          ],
          "scatter": [
           {
            "fillpattern": {
             "fillmode": "overlay",
             "size": 10,
             "solidity": 0.2
            },
            "type": "scatter"
           }
          ],
          "scatter3d": [
           {
            "line": {
             "colorbar": {
              "outlinewidth": 0,
              "ticks": ""
             }
            },
            "marker": {
             "colorbar": {
              "outlinewidth": 0,
              "ticks": ""
             }
            },
            "type": "scatter3d"
           }
          ],
          "scattercarpet": [
           {
            "marker": {
             "colorbar": {
              "outlinewidth": 0,
              "ticks": ""
             }
            },
            "type": "scattercarpet"
           }
          ],
          "scattergeo": [
           {
            "marker": {
             "colorbar": {
              "outlinewidth": 0,
              "ticks": ""
             }
            },
            "type": "scattergeo"
           }
          ],
          "scattergl": [
           {
            "marker": {
             "colorbar": {
              "outlinewidth": 0,
              "ticks": ""
             }
            },
            "type": "scattergl"
           }
          ],
          "scattermap": [
           {
            "marker": {
             "colorbar": {
              "outlinewidth": 0,
              "ticks": ""
             }
            },
            "type": "scattermap"
           }
          ],
          "scattermapbox": [
           {
            "marker": {
             "colorbar": {
              "outlinewidth": 0,
              "ticks": ""
             }
            },
            "type": "scattermapbox"
           }
          ],
          "scatterpolar": [
           {
            "marker": {
             "colorbar": {
              "outlinewidth": 0,
              "ticks": ""
             }
            },
            "type": "scatterpolar"
           }
          ],
          "scatterpolargl": [
           {
            "marker": {
             "colorbar": {
              "outlinewidth": 0,
              "ticks": ""
             }
            },
            "type": "scatterpolargl"
           }
          ],
          "scatterternary": [
           {
            "marker": {
             "colorbar": {
              "outlinewidth": 0,
              "ticks": ""
             }
            },
            "type": "scatterternary"
           }
          ],
          "surface": [
           {
            "colorbar": {
             "outlinewidth": 0,
             "ticks": ""
            },
            "colorscale": [
             [
              0,
              "#0d0887"
             ],
             [
              0.1111111111111111,
              "#46039f"
             ],
             [
              0.2222222222222222,
              "#7201a8"
             ],
             [
              0.3333333333333333,
              "#9c179e"
             ],
             [
              0.4444444444444444,
              "#bd3786"
             ],
             [
              0.5555555555555556,
              "#d8576b"
             ],
             [
              0.6666666666666666,
              "#ed7953"
             ],
             [
              0.7777777777777778,
              "#fb9f3a"
             ],
             [
              0.8888888888888888,
              "#fdca26"
             ],
             [
              1,
              "#f0f921"
             ]
            ],
            "type": "surface"
           }
          ],
          "table": [
           {
            "cells": {
             "fill": {
              "color": "#EBF0F8"
             },
             "line": {
              "color": "white"
             }
            },
            "header": {
             "fill": {
              "color": "#C8D4E3"
             },
             "line": {
              "color": "white"
             }
            },
            "type": "table"
           }
          ]
         },
         "layout": {
          "annotationdefaults": {
           "arrowcolor": "#2a3f5f",
           "arrowhead": 0,
           "arrowwidth": 1
          },
          "autotypenumbers": "strict",
          "coloraxis": {
           "colorbar": {
            "outlinewidth": 0,
            "ticks": ""
           }
          },
          "colorscale": {
           "diverging": [
            [
             0,
             "#8e0152"
            ],
            [
             0.1,
             "#c51b7d"
            ],
            [
             0.2,
             "#de77ae"
            ],
            [
             0.3,
             "#f1b6da"
            ],
            [
             0.4,
             "#fde0ef"
            ],
            [
             0.5,
             "#f7f7f7"
            ],
            [
             0.6,
             "#e6f5d0"
            ],
            [
             0.7,
             "#b8e186"
            ],
            [
             0.8,
             "#7fbc41"
            ],
            [
             0.9,
             "#4d9221"
            ],
            [
             1,
             "#276419"
            ]
           ],
           "sequential": [
            [
             0,
             "#0d0887"
            ],
            [
             0.1111111111111111,
             "#46039f"
            ],
            [
             0.2222222222222222,
             "#7201a8"
            ],
            [
             0.3333333333333333,
             "#9c179e"
            ],
            [
             0.4444444444444444,
             "#bd3786"
            ],
            [
             0.5555555555555556,
             "#d8576b"
            ],
            [
             0.6666666666666666,
             "#ed7953"
            ],
            [
             0.7777777777777778,
             "#fb9f3a"
            ],
            [
             0.8888888888888888,
             "#fdca26"
            ],
            [
             1,
             "#f0f921"
            ]
           ],
           "sequentialminus": [
            [
             0,
             "#0d0887"
            ],
            [
             0.1111111111111111,
             "#46039f"
            ],
            [
             0.2222222222222222,
             "#7201a8"
            ],
            [
             0.3333333333333333,
             "#9c179e"
            ],
            [
             0.4444444444444444,
             "#bd3786"
            ],
            [
             0.5555555555555556,
             "#d8576b"
            ],
            [
             0.6666666666666666,
             "#ed7953"
            ],
            [
             0.7777777777777778,
             "#fb9f3a"
            ],
            [
             0.8888888888888888,
             "#fdca26"
            ],
            [
             1,
             "#f0f921"
            ]
           ]
          },
          "colorway": [
           "#636efa",
           "#EF553B",
           "#00cc96",
           "#ab63fa",
           "#FFA15A",
           "#19d3f3",
           "#FF6692",
           "#B6E880",
           "#FF97FF",
           "#FECB52"
          ],
          "font": {
           "color": "#2a3f5f"
          },
          "geo": {
           "bgcolor": "white",
           "lakecolor": "white",
           "landcolor": "#E5ECF6",
           "showlakes": true,
           "showland": true,
           "subunitcolor": "white"
          },
          "hoverlabel": {
           "align": "left"
          },
          "hovermode": "closest",
          "mapbox": {
           "style": "light"
          },
          "paper_bgcolor": "white",
          "plot_bgcolor": "#E5ECF6",
          "polar": {
           "angularaxis": {
            "gridcolor": "white",
            "linecolor": "white",
            "ticks": ""
           },
           "bgcolor": "#E5ECF6",
           "radialaxis": {
            "gridcolor": "white",
            "linecolor": "white",
            "ticks": ""
           }
          },
          "scene": {
           "xaxis": {
            "backgroundcolor": "#E5ECF6",
            "gridcolor": "white",
            "gridwidth": 2,
            "linecolor": "white",
            "showbackground": true,
            "ticks": "",
            "zerolinecolor": "white"
           },
           "yaxis": {
            "backgroundcolor": "#E5ECF6",
            "gridcolor": "white",
            "gridwidth": 2,
            "linecolor": "white",
            "showbackground": true,
            "ticks": "",
            "zerolinecolor": "white"
           },
           "zaxis": {
            "backgroundcolor": "#E5ECF6",
            "gridcolor": "white",
            "gridwidth": 2,
            "linecolor": "white",
            "showbackground": true,
            "ticks": "",
            "zerolinecolor": "white"
           }
          },
          "shapedefaults": {
           "line": {
            "color": "#2a3f5f"
           }
          },
          "ternary": {
           "aaxis": {
            "gridcolor": "white",
            "linecolor": "white",
            "ticks": ""
           },
           "baxis": {
            "gridcolor": "white",
            "linecolor": "white",
            "ticks": ""
           },
           "bgcolor": "#E5ECF6",
           "caxis": {
            "gridcolor": "white",
            "linecolor": "white",
            "ticks": ""
           }
          },
          "title": {
           "x": 0.05
          },
          "xaxis": {
           "automargin": true,
           "gridcolor": "white",
           "linecolor": "white",
           "ticks": "",
           "title": {
            "standoff": 15
           },
           "zerolinecolor": "white",
           "zerolinewidth": 2
          },
          "yaxis": {
           "automargin": true,
           "gridcolor": "white",
           "linecolor": "white",
           "ticks": "",
           "title": {
            "standoff": 15
           },
           "zerolinecolor": "white",
           "zerolinewidth": 2
          }
         }
        },
        "title": {
         "text": "3D PCA Cluster Visualization with Centroids"
        }
       }
      }
     },
     "metadata": {},
     "output_type": "display_data"
    }
   ],
   "source": [
    "import plotly.graph_objs as go\n",
    "\n",
    "# Create a 3D scatter plot for users\n",
    "fig = go.Figure()\n",
    "\n",
    "fig.add_trace(go.Scatter3d(\n",
    "    x=pca_3d_data[:, 0],\n",
    "    y=pca_3d_data[:, 1],\n",
    "    z=pca_3d_data[:, 2],\n",
    "    mode='markers',\n",
    "    marker=dict(\n",
    "        size=3,\n",
    "        color=cluster_labels,  # output from KMeans\n",
    "        colorscale='Viridis',\n",
    "        opacity=0.6\n",
    "    ),\n",
    "    name='Users'\n",
    "))\n",
    "\n",
    "# Add centroids\n",
    "fig.add_trace(go.Scatter3d(\n",
    "    x=centroids_3d[:, 0],\n",
    "    y=centroids_3d[:, 1],\n",
    "    z=centroids_3d[:, 2],\n",
    "    mode='markers',\n",
    "    marker=dict(\n",
    "        size=10,\n",
    "        color='black',\n",
    "        symbol='x',\n",
    "        line=dict(width=2, color='white')\n",
    "    ),\n",
    "    name='Centroids'\n",
    "))\n",
    "\n",
    "# Layout\n",
    "fig.update_layout(\n",
    "    title='3D PCA Cluster Visualization with Centroids',\n",
    "    scene=dict(\n",
    "        xaxis_title='PCA 1',\n",
    "        yaxis_title='PCA 2',\n",
    "        zaxis_title='PCA 3'\n",
    "    ),\n",
    "    legend=dict(x=0.85, y=0.9),\n",
    "    margin=dict(l=0, r=0, b=0, t=30)\n",
    ")\n",
    "\n",
    "fig.show()\n"
   ]
  }
 ],
 "metadata": {
  "kernelspec": {
   "display_name": "Python 3",
   "language": "python",
   "name": "python3"
  },
  "language_info": {
   "codemirror_mode": {
    "name": "ipython",
    "version": 3
   },
   "file_extension": ".py",
   "mimetype": "text/x-python",
   "name": "python",
   "nbconvert_exporter": "python",
   "pygments_lexer": "ipython3",
   "version": "3.9.6"
  }
 },
 "nbformat": 4,
 "nbformat_minor": 5
}
