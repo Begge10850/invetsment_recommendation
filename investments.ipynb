{
 "cells": [
  {
   "cell_type": "code",
   "execution_count": 30,
   "id": "4598131a",
   "metadata": {},
   "outputs": [],
   "source": [
    "import pandas as pd\n",
    "import numpy as np"
   ]
  },
  {
   "cell_type": "code",
   "execution_count": null,
   "id": "f58fffb7",
   "metadata": {},
   "outputs": [
    {
     "data": {
      "application/vnd.microsoft.datawrangler.viewer.v0+json": {
       "columns": [
        {
         "name": "index",
         "rawType": "int64",
         "type": "integer"
        },
        {
         "name": "user_id",
         "rawType": "int64",
         "type": "integer"
        },
        {
         "name": "age",
         "rawType": "int64",
         "type": "integer"
        },
        {
         "name": "country",
         "rawType": "object",
         "type": "string"
        },
        {
         "name": "income_level",
         "rawType": "object",
         "type": "string"
        },
        {
         "name": "investment_experience",
         "rawType": "object",
         "type": "string"
        },
        {
         "name": "num_investments",
         "rawType": "int64",
         "type": "integer"
        },
        {
         "name": "total_invested",
         "rawType": "float64",
         "type": "float"
        }
       ],
       "conversionMethod": "pd.DataFrame",
       "ref": "94951c00-e91a-40ba-8626-16f30776e48d",
       "rows": [
        [
         "0",
         "1",
         "58",
         "Germany",
         "Low",
         "Novice",
         "6",
         "4306.73"
        ],
        [
         "1",
         "2",
         "32",
         "France",
         "Medium",
         "Intermediate",
         "14",
         "15305.28"
        ],
        [
         "2",
         "3",
         "52",
         "Germany",
         "Medium",
         "Novice",
         "11",
         "25018.27"
        ],
        [
         "3",
         "4",
         "23",
         "France",
         "Low",
         "Intermediate",
         "17",
         "29858.32"
        ],
        [
         "4",
         "5",
         "53",
         "France",
         "Medium",
         "Intermediate",
         "18",
         "42622.42"
        ],
        [
         "5",
         "6",
         "44",
         "France",
         "Medium",
         "Novice",
         "20",
         "21335.7"
        ],
        [
         "6",
         "7",
         "18",
         "Austria",
         "High",
         "Intermediate",
         "9",
         "9144.2"
        ],
        [
         "7",
         "8",
         "39",
         "Netherlands",
         "Low",
         "Expert",
         "9",
         "14463.26"
        ],
        [
         "8",
         "9",
         "39",
         "Germany",
         "Low",
         "Novice",
         "9",
         "29528.7"
        ],
        [
         "9",
         "10",
         "40",
         "Spain",
         "Low",
         "Novice",
         "11",
         "21780.09"
        ],
        [
         "10",
         "11",
         "47",
         "Spain",
         "Low",
         "Expert",
         "13",
         "16588.7"
        ],
        [
         "11",
         "12",
         "23",
         "Spain",
         "Low",
         "Intermediate",
         "11",
         "13929.58"
        ],
        [
         "12",
         "13",
         "41",
         "Spain",
         "Low",
         "Novice",
         "17",
         "39020.74"
        ],
        [
         "13",
         "14",
         "60",
         "France",
         "Medium",
         "Expert",
         "5",
         "19241.08"
        ],
        [
         "14",
         "15",
         "32",
         "Austria",
         "Low",
         "Novice",
         "12",
         "30646.33"
        ],
        [
         "15",
         "16",
         "58",
         "Austria",
         "Medium",
         "Novice",
         "12",
         "30347.28"
        ],
        [
         "16",
         "17",
         "31",
         "Sweden",
         "Low",
         "Expert",
         "15",
         "34331.84"
        ],
        [
         "17",
         "18",
         "59",
         "Germany",
         "Medium",
         "Novice",
         "19",
         "62734.7"
        ],
        [
         "18",
         "19",
         "64",
         "France",
         "Low",
         "Novice",
         "9",
         "13143.75"
        ],
        [
         "19",
         "20",
         "58",
         "Sweden",
         "Medium",
         "Intermediate",
         "8",
         "18029.84"
        ],
        [
         "20",
         "21",
         "21",
         "France",
         "High",
         "Expert",
         "12",
         "12298.63"
        ],
        [
         "21",
         "22",
         "43",
         "Netherlands",
         "Low",
         "Expert",
         "7",
         "14360.64"
        ],
        [
         "22",
         "23",
         "54",
         "Sweden",
         "Medium",
         "Intermediate",
         "5",
         "8727.34"
        ],
        [
         "23",
         "24",
         "43",
         "Sweden",
         "Medium",
         "Novice",
         "10",
         "11672.06"
        ],
        [
         "24",
         "25",
         "33",
         "Sweden",
         "Medium",
         "Novice",
         "9",
         "16877.61"
        ],
        [
         "25",
         "26",
         "55",
         "Italy",
         "High",
         "Novice",
         "14",
         "26964.08"
        ],
        [
         "26",
         "27",
         "32",
         "France",
         "Medium",
         "Novice",
         "19",
         "28392.65"
        ],
        [
         "27",
         "28",
         "21",
         "Austria",
         "Low",
         "Intermediate",
         "14",
         "20939.74"
        ],
        [
         "28",
         "29",
         "61",
         "Italy",
         "Medium",
         "Novice",
         "9",
         "14878.89"
        ],
        [
         "29",
         "30",
         "56",
         "Italy",
         "Medium",
         "Expert",
         "8",
         "14497.77"
        ],
        [
         "30",
         "31",
         "18",
         "Sweden",
         "Medium",
         "Intermediate",
         "11",
         "26713.77"
        ],
        [
         "31",
         "32",
         "52",
         "Austria",
         "Low",
         "Intermediate",
         "16",
         "19992.66"
        ],
        [
         "32",
         "33",
         "25",
         "Netherlands",
         "Medium",
         "Novice",
         "13",
         "25063.7"
        ],
        [
         "33",
         "34",
         "64",
         "Sweden",
         "Low",
         "Intermediate",
         "8",
         "16278.52"
        ],
        [
         "34",
         "35",
         "29",
         "Spain",
         "High",
         "Expert",
         "12",
         "12370.36"
        ],
        [
         "35",
         "36",
         "37",
         "Austria",
         "Medium",
         "Intermediate",
         "7",
         "8035.93"
        ],
        [
         "36",
         "37",
         "27",
         "Netherlands",
         "Medium",
         "Intermediate",
         "10",
         "21873.42"
        ],
        [
         "37",
         "38",
         "51",
         "Germany",
         "Medium",
         "Novice",
         "6",
         "8811.95"
        ],
        [
         "38",
         "39",
         "25",
         "Netherlands",
         "High",
         "Expert",
         "20",
         "59156.26"
        ],
        [
         "39",
         "40",
         "37",
         "France",
         "Low",
         "Expert",
         "5",
         "8375.06"
        ],
        [
         "40",
         "41",
         "23",
         "Germany",
         "Medium",
         "Expert",
         "10",
         "35113.27"
        ],
        [
         "41",
         "42",
         "52",
         "Austria",
         "Low",
         "Intermediate",
         "9",
         "11776.14"
        ],
        [
         "42",
         "43",
         "53",
         "France",
         "Low",
         "Expert",
         "15",
         "31366.57"
        ],
        [
         "43",
         "44",
         "45",
         "France",
         "High",
         "Intermediate",
         "18",
         "44914.97"
        ],
        [
         "44",
         "45",
         "62",
         "France",
         "Medium",
         "Novice",
         "20",
         "60160.38"
        ],
        [
         "45",
         "46",
         "60",
         "Sweden",
         "Medium",
         "Expert",
         "16",
         "25069.97"
        ],
        [
         "46",
         "47",
         "46",
         "Germany",
         "Low",
         "Novice",
         "5",
         "5550.1"
        ],
        [
         "47",
         "48",
         "19",
         "Spain",
         "Medium",
         "Intermediate",
         "13",
         "22664.21"
        ],
        [
         "48",
         "49",
         "18",
         "Germany",
         "Medium",
         "Novice",
         "10",
         "17168.16"
        ],
        [
         "49",
         "50",
         "22",
         "Germany",
         "High",
         "Novice",
         "14",
         "34451.31"
        ]
       ],
       "shape": {
        "columns": 7,
        "rows": 10000
       }
      },
      "text/html": [
       "<div>\n",
       "<style scoped>\n",
       "    .dataframe tbody tr th:only-of-type {\n",
       "        vertical-align: middle;\n",
       "    }\n",
       "\n",
       "    .dataframe tbody tr th {\n",
       "        vertical-align: top;\n",
       "    }\n",
       "\n",
       "    .dataframe thead th {\n",
       "        text-align: right;\n",
       "    }\n",
       "</style>\n",
       "<table border=\"1\" class=\"dataframe\">\n",
       "  <thead>\n",
       "    <tr style=\"text-align: right;\">\n",
       "      <th></th>\n",
       "      <th>user_id</th>\n",
       "      <th>age</th>\n",
       "      <th>country</th>\n",
       "      <th>income_level</th>\n",
       "      <th>investment_experience</th>\n",
       "      <th>num_investments</th>\n",
       "      <th>total_invested</th>\n",
       "    </tr>\n",
       "  </thead>\n",
       "  <tbody>\n",
       "    <tr>\n",
       "      <th>0</th>\n",
       "      <td>1</td>\n",
       "      <td>58</td>\n",
       "      <td>Germany</td>\n",
       "      <td>Low</td>\n",
       "      <td>Novice</td>\n",
       "      <td>6</td>\n",
       "      <td>4306.73</td>\n",
       "    </tr>\n",
       "    <tr>\n",
       "      <th>1</th>\n",
       "      <td>2</td>\n",
       "      <td>32</td>\n",
       "      <td>France</td>\n",
       "      <td>Medium</td>\n",
       "      <td>Intermediate</td>\n",
       "      <td>14</td>\n",
       "      <td>15305.28</td>\n",
       "    </tr>\n",
       "    <tr>\n",
       "      <th>2</th>\n",
       "      <td>3</td>\n",
       "      <td>52</td>\n",
       "      <td>Germany</td>\n",
       "      <td>Medium</td>\n",
       "      <td>Novice</td>\n",
       "      <td>11</td>\n",
       "      <td>25018.27</td>\n",
       "    </tr>\n",
       "    <tr>\n",
       "      <th>3</th>\n",
       "      <td>4</td>\n",
       "      <td>23</td>\n",
       "      <td>France</td>\n",
       "      <td>Low</td>\n",
       "      <td>Intermediate</td>\n",
       "      <td>17</td>\n",
       "      <td>29858.32</td>\n",
       "    </tr>\n",
       "    <tr>\n",
       "      <th>4</th>\n",
       "      <td>5</td>\n",
       "      <td>53</td>\n",
       "      <td>France</td>\n",
       "      <td>Medium</td>\n",
       "      <td>Intermediate</td>\n",
       "      <td>18</td>\n",
       "      <td>42622.42</td>\n",
       "    </tr>\n",
       "    <tr>\n",
       "      <th>...</th>\n",
       "      <td>...</td>\n",
       "      <td>...</td>\n",
       "      <td>...</td>\n",
       "      <td>...</td>\n",
       "      <td>...</td>\n",
       "      <td>...</td>\n",
       "      <td>...</td>\n",
       "    </tr>\n",
       "    <tr>\n",
       "      <th>9995</th>\n",
       "      <td>9996</td>\n",
       "      <td>62</td>\n",
       "      <td>Germany</td>\n",
       "      <td>High</td>\n",
       "      <td>Novice</td>\n",
       "      <td>20</td>\n",
       "      <td>54535.88</td>\n",
       "    </tr>\n",
       "    <tr>\n",
       "      <th>9996</th>\n",
       "      <td>9997</td>\n",
       "      <td>19</td>\n",
       "      <td>Sweden</td>\n",
       "      <td>High</td>\n",
       "      <td>Intermediate</td>\n",
       "      <td>10</td>\n",
       "      <td>8895.99</td>\n",
       "    </tr>\n",
       "    <tr>\n",
       "      <th>9997</th>\n",
       "      <td>9998</td>\n",
       "      <td>44</td>\n",
       "      <td>Italy</td>\n",
       "      <td>Low</td>\n",
       "      <td>Novice</td>\n",
       "      <td>7</td>\n",
       "      <td>29307.56</td>\n",
       "    </tr>\n",
       "    <tr>\n",
       "      <th>9998</th>\n",
       "      <td>9999</td>\n",
       "      <td>35</td>\n",
       "      <td>France</td>\n",
       "      <td>High</td>\n",
       "      <td>Novice</td>\n",
       "      <td>7</td>\n",
       "      <td>10187.85</td>\n",
       "    </tr>\n",
       "    <tr>\n",
       "      <th>9999</th>\n",
       "      <td>10000</td>\n",
       "      <td>36</td>\n",
       "      <td>Netherlands</td>\n",
       "      <td>High</td>\n",
       "      <td>Expert</td>\n",
       "      <td>10</td>\n",
       "      <td>14425.07</td>\n",
       "    </tr>\n",
       "  </tbody>\n",
       "</table>\n",
       "<p>10000 rows × 7 columns</p>\n",
       "</div>"
      ],
      "text/plain": [
       "      user_id  age      country income_level investment_experience  \\\n",
       "0           1   58      Germany          Low                Novice   \n",
       "1           2   32       France       Medium          Intermediate   \n",
       "2           3   52      Germany       Medium                Novice   \n",
       "3           4   23       France          Low          Intermediate   \n",
       "4           5   53       France       Medium          Intermediate   \n",
       "...       ...  ...          ...          ...                   ...   \n",
       "9995     9996   62      Germany         High                Novice   \n",
       "9996     9997   19       Sweden         High          Intermediate   \n",
       "9997     9998   44        Italy          Low                Novice   \n",
       "9998     9999   35       France         High                Novice   \n",
       "9999    10000   36  Netherlands         High                Expert   \n",
       "\n",
       "      num_investments  total_invested  \n",
       "0                   6         4306.73  \n",
       "1                  14        15305.28  \n",
       "2                  11        25018.27  \n",
       "3                  17        29858.32  \n",
       "4                  18        42622.42  \n",
       "...               ...             ...  \n",
       "9995               20        54535.88  \n",
       "9996               10         8895.99  \n",
       "9997                7        29307.56  \n",
       "9998                7        10187.85  \n",
       "9999               10        14425.07  \n",
       "\n",
       "[10000 rows x 7 columns]"
      ]
     },
     "execution_count": 31,
     "metadata": {},
     "output_type": "execute_result"
    }
   ],
   "source": [
    "#Loadng the users dataset\n",
    "\n",
    "us_df = pd.read_csv(r\"/Users/treva.ogwang/Desktop/Codes/investment/users.csv\")\n",
    "us_df"
   ]
  },
  {
   "cell_type": "code",
   "execution_count": 32,
   "id": "16fff066",
   "metadata": {},
   "outputs": [
    {
     "data": {
      "application/vnd.microsoft.datawrangler.viewer.v0+json": {
       "columns": [
        {
         "name": "index",
         "rawType": "int64",
         "type": "integer"
        },
        {
         "name": "investment_id",
         "rawType": "int64",
         "type": "integer"
        },
        {
         "name": "user_id",
         "rawType": "int64",
         "type": "integer"
        },
        {
         "name": "investment_name",
         "rawType": "object",
         "type": "string"
        },
        {
         "name": "category",
         "rawType": "object",
         "type": "string"
        },
        {
         "name": "risk_level",
         "rawType": "object",
         "type": "string"
        },
        {
         "name": "amount_invested",
         "rawType": "float64",
         "type": "float"
        },
        {
         "name": "return_percent",
         "rawType": "float64",
         "type": "float"
        }
       ],
       "conversionMethod": "pd.DataFrame",
       "ref": "2cd78f2f-95ee-46e5-b37a-b18d9552b6ee",
       "rows": [
        [
         "0",
         "1",
         "1",
         "Crude Oil",
         "Commodities",
         "Medium",
         "938.54",
         "-11.68"
        ],
        [
         "1",
         "2",
         "1",
         "Municipal Bond B",
         "Bond",
         "Low",
         "339.19",
         "9.78"
        ],
        [
         "2",
         "3",
         "1",
         "S&P 500 Index Fund",
         "Index Fund",
         "High",
         "119.68",
         "9.19"
        ],
        [
         "3",
         "4",
         "1",
         "Simon Property Group",
         "Real Estate",
         "Medium",
         "2462.5",
         "20.16"
        ],
        [
         "4",
         "5",
         "1",
         "BMW",
         "Stock",
         "Low",
         "41.6",
         "-3.71"
        ],
        [
         "5",
         "6",
         "1",
         "Solana",
         "Crypto",
         "Medium",
         "405.22",
         "-2.88"
        ],
        [
         "6",
         "7",
         "2",
         "Crude Oil",
         "Commodities",
         "Low",
         "725.51",
         "-34.19"
        ],
        [
         "7",
         "8",
         "2",
         "S&P 500 Index Fund",
         "Index Fund",
         "Medium",
         "688.45",
         "19.26"
        ],
        [
         "8",
         "9",
         "2",
         "SPDR S&P 500",
         "ETF",
         "High",
         "1892.74",
         "-1.42"
        ],
        [
         "9",
         "10",
         "2",
         "Natural Gas",
         "Commodities",
         "Medium",
         "912.55",
         "-6.14"
        ],
        [
         "10",
         "11",
         "2",
         "Simon Property Group",
         "Real Estate",
         "Medium",
         "1217.87",
         "-4.44"
        ],
        [
         "11",
         "12",
         "2",
         "Polkadot",
         "Crypto",
         "High",
         "1444.06",
         "13.97"
        ],
        [
         "12",
         "13",
         "2",
         "Gold",
         "Commodities",
         "Medium",
         "1795.01",
         "6.83"
        ],
        [
         "13",
         "14",
         "2",
         "Gold",
         "Commodities",
         "Low",
         "373.92",
         "-2.73"
        ],
        [
         "14",
         "15",
         "2",
         "iShares Core DAX",
         "ETF",
         "High",
         "134.53",
         "-4.0"
        ],
        [
         "15",
         "16",
         "2",
         "NASDAQ Composite Fund",
         "Index Fund",
         "Medium",
         "205.55",
         "19.21"
        ],
        [
         "16",
         "17",
         "2",
         "Realty Income Corp",
         "Real Estate",
         "Low",
         "2305.5",
         "-10.32"
        ],
        [
         "17",
         "18",
         "2",
         "FTSE 100 Tracker",
         "Index Fund",
         "Low",
         "1367.09",
         "2.57"
        ],
        [
         "18",
         "19",
         "2",
         "Google",
         "Stock",
         "High",
         "69.99",
         "1.56"
        ],
        [
         "19",
         "20",
         "2",
         "Apple",
         "Stock",
         "High",
         "2172.51",
         "10.84"
        ],
        [
         "20",
         "21",
         "3",
         "Apple",
         "Stock",
         "Medium",
         "747.09",
         "46.67"
        ],
        [
         "21",
         "22",
         "3",
         "DAX Index Fund",
         "Index Fund",
         "Low",
         "408.78",
         "22.9"
        ],
        [
         "22",
         "23",
         "3",
         "iShares MSCI",
         "ETF",
         "High",
         "6985.61",
         "8.28"
        ],
        [
         "23",
         "24",
         "3",
         "Litecoin",
         "Crypto",
         "Medium",
         "5098.87",
         "18.23"
        ],
        [
         "24",
         "25",
         "3",
         "Bitcoin",
         "Crypto",
         "Medium",
         "185.31",
         "-10.14"
        ],
        [
         "25",
         "26",
         "3",
         "Amazon",
         "Stock",
         "Medium",
         "633.12",
         "-18.75"
        ],
        [
         "26",
         "27",
         "3",
         "REIT Global",
         "Real Estate",
         "High",
         "3529.12",
         "-15.2"
        ],
        [
         "27",
         "28",
         "3",
         "US Treasury 10Y",
         "Bond",
         "Low",
         "1564.81",
         "-8.21"
        ],
        [
         "28",
         "29",
         "3",
         "Ethereum",
         "Crypto",
         "High",
         "303.8",
         "13.73"
        ],
        [
         "29",
         "30",
         "3",
         "Corporate Bond A",
         "Bond",
         "Low",
         "2611.33",
         "18.32"
        ],
        [
         "30",
         "31",
         "3",
         "FTSE 100 Tracker",
         "Index Fund",
         "Medium",
         "2950.43",
         "1.89"
        ],
        [
         "31",
         "32",
         "4",
         "NASDAQ Composite Fund",
         "Index Fund",
         "Low",
         "246.3",
         "-4.35"
        ],
        [
         "32",
         "33",
         "4",
         "DAX Index Fund",
         "Index Fund",
         "Low",
         "3977.06",
         "-17.62"
        ],
        [
         "33",
         "34",
         "4",
         "SPDR S&P 500",
         "ETF",
         "Low",
         "131.34",
         "21.49"
        ],
        [
         "34",
         "35",
         "4",
         "Silver",
         "Commodities",
         "Low",
         "744.98",
         "22.7"
        ],
        [
         "35",
         "36",
         "4",
         "Meta",
         "Stock",
         "Low",
         "2029.78",
         "-8.47"
        ],
        [
         "36",
         "37",
         "4",
         "Gold",
         "Commodities",
         "Low",
         "4364.5",
         "-10.57"
        ],
        [
         "37",
         "38",
         "4",
         "S&P 500 Index Fund",
         "Index Fund",
         "Medium",
         "2498.25",
         "3.86"
        ],
        [
         "38",
         "39",
         "4",
         "Microsoft",
         "Stock",
         "Low",
         "2860.79",
         "27.43"
        ],
        [
         "39",
         "40",
         "4",
         "BMW",
         "Stock",
         "Medium",
         "1361.63",
         "10.07"
        ],
        [
         "40",
         "41",
         "4",
         "Copper",
         "Commodities",
         "Low",
         "1479.36",
         "-0.98"
        ],
        [
         "41",
         "42",
         "4",
         "S&P 500 Index Fund",
         "Index Fund",
         "Medium",
         "228.33",
         "4.09"
        ],
        [
         "42",
         "43",
         "4",
         "Vanguard Total",
         "ETF",
         "Low",
         "63.87",
         "-16.28"
        ],
        [
         "43",
         "44",
         "4",
         "Crude Oil",
         "Commodities",
         "Low",
         "1420.87",
         "20.64"
        ],
        [
         "44",
         "45",
         "4",
         "Natural Gas",
         "Commodities",
         "Medium",
         "4762.53",
         "-3.02"
        ],
        [
         "45",
         "46",
         "4",
         "German Bund 5Y",
         "Bond",
         "Medium",
         "2817.5",
         "-17.43"
        ],
        [
         "46",
         "47",
         "4",
         "Ripple",
         "Crypto",
         "Low",
         "519.61",
         "1.82"
        ],
        [
         "47",
         "48",
         "4",
         "Litecoin",
         "Crypto",
         "Low",
         "351.62",
         "-1.4"
        ],
        [
         "48",
         "49",
         "5",
         "Apple",
         "Stock",
         "High",
         "5309.9",
         "12.52"
        ],
        [
         "49",
         "50",
         "5",
         "Meta",
         "Stock",
         "Medium",
         "4103.04",
         "22.37"
        ]
       ],
       "shape": {
        "columns": 7,
        "rows": 125022
       }
      },
      "text/html": [
       "<div>\n",
       "<style scoped>\n",
       "    .dataframe tbody tr th:only-of-type {\n",
       "        vertical-align: middle;\n",
       "    }\n",
       "\n",
       "    .dataframe tbody tr th {\n",
       "        vertical-align: top;\n",
       "    }\n",
       "\n",
       "    .dataframe thead th {\n",
       "        text-align: right;\n",
       "    }\n",
       "</style>\n",
       "<table border=\"1\" class=\"dataframe\">\n",
       "  <thead>\n",
       "    <tr style=\"text-align: right;\">\n",
       "      <th></th>\n",
       "      <th>investment_id</th>\n",
       "      <th>user_id</th>\n",
       "      <th>investment_name</th>\n",
       "      <th>category</th>\n",
       "      <th>risk_level</th>\n",
       "      <th>amount_invested</th>\n",
       "      <th>return_percent</th>\n",
       "    </tr>\n",
       "  </thead>\n",
       "  <tbody>\n",
       "    <tr>\n",
       "      <th>0</th>\n",
       "      <td>1</td>\n",
       "      <td>1</td>\n",
       "      <td>Crude Oil</td>\n",
       "      <td>Commodities</td>\n",
       "      <td>Medium</td>\n",
       "      <td>938.54</td>\n",
       "      <td>-11.68</td>\n",
       "    </tr>\n",
       "    <tr>\n",
       "      <th>1</th>\n",
       "      <td>2</td>\n",
       "      <td>1</td>\n",
       "      <td>Municipal Bond B</td>\n",
       "      <td>Bond</td>\n",
       "      <td>Low</td>\n",
       "      <td>339.19</td>\n",
       "      <td>9.78</td>\n",
       "    </tr>\n",
       "    <tr>\n",
       "      <th>2</th>\n",
       "      <td>3</td>\n",
       "      <td>1</td>\n",
       "      <td>S&amp;P 500 Index Fund</td>\n",
       "      <td>Index Fund</td>\n",
       "      <td>High</td>\n",
       "      <td>119.68</td>\n",
       "      <td>9.19</td>\n",
       "    </tr>\n",
       "    <tr>\n",
       "      <th>3</th>\n",
       "      <td>4</td>\n",
       "      <td>1</td>\n",
       "      <td>Simon Property Group</td>\n",
       "      <td>Real Estate</td>\n",
       "      <td>Medium</td>\n",
       "      <td>2462.50</td>\n",
       "      <td>20.16</td>\n",
       "    </tr>\n",
       "    <tr>\n",
       "      <th>4</th>\n",
       "      <td>5</td>\n",
       "      <td>1</td>\n",
       "      <td>BMW</td>\n",
       "      <td>Stock</td>\n",
       "      <td>Low</td>\n",
       "      <td>41.60</td>\n",
       "      <td>-3.71</td>\n",
       "    </tr>\n",
       "    <tr>\n",
       "      <th>...</th>\n",
       "      <td>...</td>\n",
       "      <td>...</td>\n",
       "      <td>...</td>\n",
       "      <td>...</td>\n",
       "      <td>...</td>\n",
       "      <td>...</td>\n",
       "      <td>...</td>\n",
       "    </tr>\n",
       "    <tr>\n",
       "      <th>125017</th>\n",
       "      <td>125018</td>\n",
       "      <td>10000</td>\n",
       "      <td>Lyxor MSCI World</td>\n",
       "      <td>ETF</td>\n",
       "      <td>Medium</td>\n",
       "      <td>369.95</td>\n",
       "      <td>14.10</td>\n",
       "    </tr>\n",
       "    <tr>\n",
       "      <th>125018</th>\n",
       "      <td>125019</td>\n",
       "      <td>10000</td>\n",
       "      <td>Simon Property Group</td>\n",
       "      <td>Real Estate</td>\n",
       "      <td>High</td>\n",
       "      <td>2701.29</td>\n",
       "      <td>-5.55</td>\n",
       "    </tr>\n",
       "    <tr>\n",
       "      <th>125019</th>\n",
       "      <td>125020</td>\n",
       "      <td>10000</td>\n",
       "      <td>Litecoin</td>\n",
       "      <td>Crypto</td>\n",
       "      <td>Low</td>\n",
       "      <td>2448.56</td>\n",
       "      <td>-0.44</td>\n",
       "    </tr>\n",
       "    <tr>\n",
       "      <th>125020</th>\n",
       "      <td>125021</td>\n",
       "      <td>10000</td>\n",
       "      <td>Lyxor MSCI World</td>\n",
       "      <td>ETF</td>\n",
       "      <td>High</td>\n",
       "      <td>255.41</td>\n",
       "      <td>26.44</td>\n",
       "    </tr>\n",
       "    <tr>\n",
       "      <th>125021</th>\n",
       "      <td>125022</td>\n",
       "      <td>10000</td>\n",
       "      <td>Crude Oil</td>\n",
       "      <td>Commodities</td>\n",
       "      <td>Medium</td>\n",
       "      <td>1590.00</td>\n",
       "      <td>-11.08</td>\n",
       "    </tr>\n",
       "  </tbody>\n",
       "</table>\n",
       "<p>125022 rows × 7 columns</p>\n",
       "</div>"
      ],
      "text/plain": [
       "        investment_id  user_id       investment_name     category risk_level  \\\n",
       "0                   1        1             Crude Oil  Commodities     Medium   \n",
       "1                   2        1      Municipal Bond B         Bond        Low   \n",
       "2                   3        1    S&P 500 Index Fund   Index Fund       High   \n",
       "3                   4        1  Simon Property Group  Real Estate     Medium   \n",
       "4                   5        1                   BMW        Stock        Low   \n",
       "...               ...      ...                   ...          ...        ...   \n",
       "125017         125018    10000      Lyxor MSCI World          ETF     Medium   \n",
       "125018         125019    10000  Simon Property Group  Real Estate       High   \n",
       "125019         125020    10000              Litecoin       Crypto        Low   \n",
       "125020         125021    10000      Lyxor MSCI World          ETF       High   \n",
       "125021         125022    10000             Crude Oil  Commodities     Medium   \n",
       "\n",
       "        amount_invested  return_percent  \n",
       "0                938.54          -11.68  \n",
       "1                339.19            9.78  \n",
       "2                119.68            9.19  \n",
       "3               2462.50           20.16  \n",
       "4                 41.60           -3.71  \n",
       "...                 ...             ...  \n",
       "125017           369.95           14.10  \n",
       "125018          2701.29           -5.55  \n",
       "125019          2448.56           -0.44  \n",
       "125020           255.41           26.44  \n",
       "125021          1590.00          -11.08  \n",
       "\n",
       "[125022 rows x 7 columns]"
      ]
     },
     "execution_count": 32,
     "metadata": {},
     "output_type": "execute_result"
    }
   ],
   "source": [
    "inv_df = pd.read_csv(r\"/Users/treva.ogwang/Desktop/Codes/investment/investments.csv\")\n",
    "inv_df"
   ]
  },
  {
   "cell_type": "markdown",
   "id": "484b8470",
   "metadata": {},
   "source": [
    "EXPLORATORY DATA ANALYSIS"
   ]
  },
  {
   "cell_type": "code",
   "execution_count": 41,
   "id": "e46ca221",
   "metadata": {},
   "outputs": [
    {
     "name": "stdout",
     "output_type": "stream",
     "text": [
      "<class 'pandas.core.frame.DataFrame'>\n",
      "RangeIndex: 10000 entries, 0 to 9999\n",
      "Data columns (total 7 columns):\n",
      " #   Column                 Non-Null Count  Dtype  \n",
      "---  ------                 --------------  -----  \n",
      " 0   user_id                10000 non-null  int64  \n",
      " 1   age                    10000 non-null  int64  \n",
      " 2   country                10000 non-null  object \n",
      " 3   income_level           10000 non-null  object \n",
      " 4   investment_experience  10000 non-null  object \n",
      " 5   num_investments        10000 non-null  int64  \n",
      " 6   total_invested         10000 non-null  float64\n",
      "dtypes: float64(1), int64(3), object(3)\n",
      "memory usage: 547.0+ KB\n"
     ]
    }
   ],
   "source": [
    "us_df.info()"
   ]
  },
  {
   "cell_type": "code",
   "execution_count": 42,
   "id": "f5dce394",
   "metadata": {},
   "outputs": [
    {
     "data": {
      "application/vnd.microsoft.datawrangler.viewer.v0+json": {
       "columns": [
        {
         "name": "index",
         "rawType": "object",
         "type": "string"
        },
        {
         "name": "user_id",
         "rawType": "float64",
         "type": "float"
        },
        {
         "name": "age",
         "rawType": "float64",
         "type": "float"
        },
        {
         "name": "num_investments",
         "rawType": "float64",
         "type": "float"
        },
        {
         "name": "total_invested",
         "rawType": "float64",
         "type": "float"
        }
       ],
       "conversionMethod": "pd.DataFrame",
       "ref": "c8aee55b-40b3-4fab-afea-936fea724e44",
       "rows": [
        [
         "count",
         "10000.0",
         "10000.0",
         "10000.0",
         "10000.0"
        ],
        [
         "mean",
         "5000.5",
         "41.6176",
         "12.5022",
         "25022.772738"
        ],
        [
         "std",
         "2886.8956799071675",
         "13.876463017015045",
         "4.5779352233393285",
         "11643.631352570843"
        ],
        [
         "min",
         "1.0",
         "18.0",
         "5.0",
         "943.71"
        ],
        [
         "25%",
         "2500.75",
         "30.0",
         "8.0",
         "15890.064999999999"
        ],
        [
         "50%",
         "5000.5",
         "42.0",
         "13.0",
         "24011.995"
        ],
        [
         "75%",
         "7500.25",
         "54.0",
         "16.0",
         "32897.399999999994"
        ],
        [
         "max",
         "10000.0",
         "65.0",
         "20.0",
         "75401.74"
        ]
       ],
       "shape": {
        "columns": 4,
        "rows": 8
       }
      },
      "text/html": [
       "<div>\n",
       "<style scoped>\n",
       "    .dataframe tbody tr th:only-of-type {\n",
       "        vertical-align: middle;\n",
       "    }\n",
       "\n",
       "    .dataframe tbody tr th {\n",
       "        vertical-align: top;\n",
       "    }\n",
       "\n",
       "    .dataframe thead th {\n",
       "        text-align: right;\n",
       "    }\n",
       "</style>\n",
       "<table border=\"1\" class=\"dataframe\">\n",
       "  <thead>\n",
       "    <tr style=\"text-align: right;\">\n",
       "      <th></th>\n",
       "      <th>user_id</th>\n",
       "      <th>age</th>\n",
       "      <th>num_investments</th>\n",
       "      <th>total_invested</th>\n",
       "    </tr>\n",
       "  </thead>\n",
       "  <tbody>\n",
       "    <tr>\n",
       "      <th>count</th>\n",
       "      <td>10000.00000</td>\n",
       "      <td>10000.000000</td>\n",
       "      <td>10000.000000</td>\n",
       "      <td>10000.000000</td>\n",
       "    </tr>\n",
       "    <tr>\n",
       "      <th>mean</th>\n",
       "      <td>5000.50000</td>\n",
       "      <td>41.617600</td>\n",
       "      <td>12.502200</td>\n",
       "      <td>25022.772738</td>\n",
       "    </tr>\n",
       "    <tr>\n",
       "      <th>std</th>\n",
       "      <td>2886.89568</td>\n",
       "      <td>13.876463</td>\n",
       "      <td>4.577935</td>\n",
       "      <td>11643.631353</td>\n",
       "    </tr>\n",
       "    <tr>\n",
       "      <th>min</th>\n",
       "      <td>1.00000</td>\n",
       "      <td>18.000000</td>\n",
       "      <td>5.000000</td>\n",
       "      <td>943.710000</td>\n",
       "    </tr>\n",
       "    <tr>\n",
       "      <th>25%</th>\n",
       "      <td>2500.75000</td>\n",
       "      <td>30.000000</td>\n",
       "      <td>8.000000</td>\n",
       "      <td>15890.065000</td>\n",
       "    </tr>\n",
       "    <tr>\n",
       "      <th>50%</th>\n",
       "      <td>5000.50000</td>\n",
       "      <td>42.000000</td>\n",
       "      <td>13.000000</td>\n",
       "      <td>24011.995000</td>\n",
       "    </tr>\n",
       "    <tr>\n",
       "      <th>75%</th>\n",
       "      <td>7500.25000</td>\n",
       "      <td>54.000000</td>\n",
       "      <td>16.000000</td>\n",
       "      <td>32897.400000</td>\n",
       "    </tr>\n",
       "    <tr>\n",
       "      <th>max</th>\n",
       "      <td>10000.00000</td>\n",
       "      <td>65.000000</td>\n",
       "      <td>20.000000</td>\n",
       "      <td>75401.740000</td>\n",
       "    </tr>\n",
       "  </tbody>\n",
       "</table>\n",
       "</div>"
      ],
      "text/plain": [
       "           user_id           age  num_investments  total_invested\n",
       "count  10000.00000  10000.000000     10000.000000    10000.000000\n",
       "mean    5000.50000     41.617600        12.502200    25022.772738\n",
       "std     2886.89568     13.876463         4.577935    11643.631353\n",
       "min        1.00000     18.000000         5.000000      943.710000\n",
       "25%     2500.75000     30.000000         8.000000    15890.065000\n",
       "50%     5000.50000     42.000000        13.000000    24011.995000\n",
       "75%     7500.25000     54.000000        16.000000    32897.400000\n",
       "max    10000.00000     65.000000        20.000000    75401.740000"
      ]
     },
     "execution_count": 42,
     "metadata": {},
     "output_type": "execute_result"
    }
   ],
   "source": [
    "us_df.describe()"
   ]
  },
  {
   "cell_type": "code",
   "execution_count": 43,
   "id": "58185826",
   "metadata": {},
   "outputs": [
    {
     "name": "stdout",
     "output_type": "stream",
     "text": [
      "<class 'pandas.core.frame.DataFrame'>\n",
      "RangeIndex: 125022 entries, 0 to 125021\n",
      "Data columns (total 7 columns):\n",
      " #   Column           Non-Null Count   Dtype  \n",
      "---  ------           --------------   -----  \n",
      " 0   investment_id    125022 non-null  int64  \n",
      " 1   user_id          125022 non-null  int64  \n",
      " 2   investment_name  125022 non-null  object \n",
      " 3   category         125022 non-null  object \n",
      " 4   risk_level       125022 non-null  object \n",
      " 5   amount_invested  125022 non-null  float64\n",
      " 6   return_percent   125022 non-null  float64\n",
      "dtypes: float64(2), int64(2), object(3)\n",
      "memory usage: 6.7+ MB\n"
     ]
    }
   ],
   "source": [
    "inv_df.info()"
   ]
  },
  {
   "cell_type": "code",
   "execution_count": 44,
   "id": "68cf919e",
   "metadata": {},
   "outputs": [
    {
     "data": {
      "application/vnd.microsoft.datawrangler.viewer.v0+json": {
       "columns": [
        {
         "name": "index",
         "rawType": "object",
         "type": "string"
        },
        {
         "name": "investment_id",
         "rawType": "float64",
         "type": "float"
        },
        {
         "name": "user_id",
         "rawType": "float64",
         "type": "float"
        },
        {
         "name": "amount_invested",
         "rawType": "float64",
         "type": "float"
        },
        {
         "name": "return_percent",
         "rawType": "float64",
         "type": "float"
        }
       ],
       "conversionMethod": "pd.DataFrame",
       "ref": "cf9bcfb1-be60-4a0e-8aab-d97682df0af5",
       "rows": [
        [
         "count",
         "125022.0",
         "125022.0",
         "125022.0",
         "125022.0"
        ],
        [
         "mean",
         "62511.5",
         "4977.6887107869015",
         "2001.46956039737",
         "5.0177266401113405"
        ],
        [
         "std",
         "36090.88701459137",
         "2887.0149363813766",
         "2002.8228437967898",
         "14.972570795228204"
        ],
        [
         "min",
         "1.0",
         "1.0",
         "0.01",
         "-62.09"
        ],
        [
         "25%",
         "31256.25",
         "2473.0",
         "574.2625",
         "-5.07"
        ],
        [
         "50%",
         "62511.5",
         "4977.0",
         "1390.32",
         "5.03"
        ],
        [
         "75%",
         "93766.75",
         "7461.0",
         "2767.3675",
         "15.07"
        ],
        [
         "max",
         "125022.0",
         "10000.0",
         "21567.03",
         "75.42"
        ]
       ],
       "shape": {
        "columns": 4,
        "rows": 8
       }
      },
      "text/html": [
       "<div>\n",
       "<style scoped>\n",
       "    .dataframe tbody tr th:only-of-type {\n",
       "        vertical-align: middle;\n",
       "    }\n",
       "\n",
       "    .dataframe tbody tr th {\n",
       "        vertical-align: top;\n",
       "    }\n",
       "\n",
       "    .dataframe thead th {\n",
       "        text-align: right;\n",
       "    }\n",
       "</style>\n",
       "<table border=\"1\" class=\"dataframe\">\n",
       "  <thead>\n",
       "    <tr style=\"text-align: right;\">\n",
       "      <th></th>\n",
       "      <th>investment_id</th>\n",
       "      <th>user_id</th>\n",
       "      <th>amount_invested</th>\n",
       "      <th>return_percent</th>\n",
       "    </tr>\n",
       "  </thead>\n",
       "  <tbody>\n",
       "    <tr>\n",
       "      <th>count</th>\n",
       "      <td>125022.000000</td>\n",
       "      <td>125022.000000</td>\n",
       "      <td>125022.000000</td>\n",
       "      <td>125022.000000</td>\n",
       "    </tr>\n",
       "    <tr>\n",
       "      <th>mean</th>\n",
       "      <td>62511.500000</td>\n",
       "      <td>4977.688711</td>\n",
       "      <td>2001.469560</td>\n",
       "      <td>5.017727</td>\n",
       "    </tr>\n",
       "    <tr>\n",
       "      <th>std</th>\n",
       "      <td>36090.887015</td>\n",
       "      <td>2887.014936</td>\n",
       "      <td>2002.822844</td>\n",
       "      <td>14.972571</td>\n",
       "    </tr>\n",
       "    <tr>\n",
       "      <th>min</th>\n",
       "      <td>1.000000</td>\n",
       "      <td>1.000000</td>\n",
       "      <td>0.010000</td>\n",
       "      <td>-62.090000</td>\n",
       "    </tr>\n",
       "    <tr>\n",
       "      <th>25%</th>\n",
       "      <td>31256.250000</td>\n",
       "      <td>2473.000000</td>\n",
       "      <td>574.262500</td>\n",
       "      <td>-5.070000</td>\n",
       "    </tr>\n",
       "    <tr>\n",
       "      <th>50%</th>\n",
       "      <td>62511.500000</td>\n",
       "      <td>4977.000000</td>\n",
       "      <td>1390.320000</td>\n",
       "      <td>5.030000</td>\n",
       "    </tr>\n",
       "    <tr>\n",
       "      <th>75%</th>\n",
       "      <td>93766.750000</td>\n",
       "      <td>7461.000000</td>\n",
       "      <td>2767.367500</td>\n",
       "      <td>15.070000</td>\n",
       "    </tr>\n",
       "    <tr>\n",
       "      <th>max</th>\n",
       "      <td>125022.000000</td>\n",
       "      <td>10000.000000</td>\n",
       "      <td>21567.030000</td>\n",
       "      <td>75.420000</td>\n",
       "    </tr>\n",
       "  </tbody>\n",
       "</table>\n",
       "</div>"
      ],
      "text/plain": [
       "       investment_id        user_id  amount_invested  return_percent\n",
       "count  125022.000000  125022.000000    125022.000000   125022.000000\n",
       "mean    62511.500000    4977.688711      2001.469560        5.017727\n",
       "std     36090.887015    2887.014936      2002.822844       14.972571\n",
       "min         1.000000       1.000000         0.010000      -62.090000\n",
       "25%     31256.250000    2473.000000       574.262500       -5.070000\n",
       "50%     62511.500000    4977.000000      1390.320000        5.030000\n",
       "75%     93766.750000    7461.000000      2767.367500       15.070000\n",
       "max    125022.000000   10000.000000     21567.030000       75.420000"
      ]
     },
     "execution_count": 44,
     "metadata": {},
     "output_type": "execute_result"
    }
   ],
   "source": [
    "inv_df.describe()"
   ]
  },
  {
   "cell_type": "code",
   "execution_count": null,
   "id": "db75ed61",
   "metadata": {},
   "outputs": [
    {
     "name": "stdout",
     "output_type": "stream",
     "text": [
      "All user_ids in the investments dataset are valid.\n"
     ]
    }
   ],
   "source": [
    "#Checking if all user_ids are valid.\n",
    "\n",
    "invalid_users = us_df[~us_df['user_id'].isin(inv_df['user_id'])]\n",
    "if invalid_users.empty:\n",
    "    print(\"All user_ids in the investments dataset are valid.\")\n",
    "else:\n",
    "    print(\"Invalid user_ids found in the investments dataset:\")\n",
    "    print(invalid_users)"
   ]
  },
  {
   "cell_type": "code",
   "execution_count": null,
   "id": "2847cc68",
   "metadata": {},
   "outputs": [
    {
     "data": {
      "text/plain": [
       "user_id                  0\n",
       "age                      0\n",
       "country                  0\n",
       "income_level             0\n",
       "investment_experience    0\n",
       "num_investments          0\n",
       "total_invested           0\n",
       "dtype: int64"
      ]
     },
     "execution_count": 46,
     "metadata": {},
     "output_type": "execute_result"
    }
   ],
   "source": [
    "#Checking for missing values in the users dataset\n",
    "\n",
    "us_df.isnull().sum()"
   ]
  },
  {
   "cell_type": "code",
   "execution_count": null,
   "id": "42c5c1f7",
   "metadata": {},
   "outputs": [
    {
     "data": {
      "text/plain": [
       "investment_id      0\n",
       "user_id            0\n",
       "investment_name    0\n",
       "category           0\n",
       "risk_level         0\n",
       "amount_invested    0\n",
       "return_percent     0\n",
       "dtype: int64"
      ]
     },
     "execution_count": 47,
     "metadata": {},
     "output_type": "execute_result"
    }
   ],
   "source": [
    "#Checking for missing values in the investments dataset\n",
    "\n",
    "inv_df.isnull().sum()"
   ]
  },
  {
   "cell_type": "code",
   "execution_count": null,
   "id": "bbb18fca",
   "metadata": {},
   "outputs": [
    {
     "name": "stdout",
     "output_type": "stream",
     "text": [
      "No duplicates found in the users dataset.\n",
      "No duplicates found in the investments dataset.\n"
     ]
    }
   ],
   "source": [
    "#Checking for duplicates in the users dataset\n",
    "\n",
    "us_duplicates = us_df[us_df.duplicated()]\n",
    "if us_duplicates.empty:\n",
    "    print(\"No duplicates found in the users dataset.\")\n",
    "else:\n",
    "    print(\"Duplicates found in the users dataset:\")\n",
    "    print(us_duplicates)\n",
    "#Checking for duplicates in the investments dataset\n",
    "inv_duplicates = inv_df[inv_df.duplicated()]\n",
    "if inv_duplicates.empty:\n",
    "    print(\"No duplicates found in the investments dataset.\")\n",
    "else:\n",
    "    print(\"Duplicates found in the investments dataset:\")\n",
    "    print(inv_duplicates)"
   ]
  },
  {
   "cell_type": "code",
   "execution_count": null,
   "id": "72a2abf9",
   "metadata": {},
   "outputs": [
    {
     "data": {
      "text/plain": [
       "category\n",
       "Crypto         18171\n",
       "Commodities    17994\n",
       "Index Fund     17839\n",
       "ETF            17785\n",
       "Bond           17767\n",
       "Real Estate    17767\n",
       "Stock          17699\n",
       "Name: count, dtype: int64"
      ]
     },
     "execution_count": 50,
     "metadata": {},
     "output_type": "execute_result"
    }
   ],
   "source": [
    "#Checking the different categories of investments\n",
    "\n",
    "inv_df['category'].value_counts()"
   ]
  },
  {
   "cell_type": "markdown",
   "id": "c60ff6d7",
   "metadata": {},
   "source": [
    "FEATURE ENGINEERING\n",
    "\n",
    "I will now create new features from the inv_df and add them later in the us_df "
   ]
  },
  {
   "cell_type": "code",
   "execution_count": null,
   "id": "50f4745e",
   "metadata": {},
   "outputs": [
    {
     "data": {
      "text/plain": [
       "user_id\n",
       "1     717.788333\n",
       "2    1093.234286\n",
       "3    2274.388182\n",
       "4    1756.371765\n",
       "5    2367.912222\n",
       "Name: amount_invested, dtype: float64"
      ]
     },
     "execution_count": 54,
     "metadata": {},
     "output_type": "execute_result"
    }
   ],
   "source": [
    "#Getting the avg_investment per user - this will help us know how much each user invests on average. A highere avg_investment means that the user is more likely to invest more money and thus is a better candidate for the investment program.\n",
    "\n",
    "avg_investment = inv_df.groupby('user_id')['amount_invested'].mean()\n",
    "avg_investment.head()"
   ]
  },
  {
   "cell_type": "code",
   "execution_count": null,
   "id": "6a22c1d9",
   "metadata": {},
   "outputs": [
    {
     "data": {
      "text/plain": [
       "user_id\n",
       "1    3.476667\n",
       "2    0.785714\n",
       "3    7.065455\n",
       "4    1.881176\n",
       "5    4.346667\n",
       "Name: return_percent, dtype: float64"
      ]
     },
     "execution_count": 55,
     "metadata": {},
     "output_type": "execute_result"
    }
   ],
   "source": [
    "#Getting the avg_return_percent per user - this will help us know how much each user earns on average. A higher return percent indicates a better investment thus translatind to the company earning more.\n",
    "\n",
    "avg_return_percent = inv_df.groupby('user_id')['return_percent'].mean()\n",
    "avg_return_percent.head()"
   ]
  },
  {
   "cell_type": "code",
   "execution_count": 58,
   "id": "b823ea03",
   "metadata": {},
   "outputs": [
    {
     "data": {
      "text/plain": [
       "user_id\n",
       "1           None\n",
       "2    Commodities\n",
       "3         Crypto\n",
       "4    Commodities\n",
       "5            ETF\n",
       "Name: dominant_category, dtype: object"
      ]
     },
     "execution_count": 58,
     "metadata": {},
     "output_type": "execute_result"
    }
   ],
   "source": [
    "#Getting the dominant category of investmeent per user - this will help us know which category of investment each user favours. A user who invests in a particular category is more likely to invest in that category again.\n",
    "#Creating a function to get the dominant category using the mode and if there is none, I will assign None to the user.\n",
    "\n",
    "def mode_cat(series):\n",
    "    mode_vals = series.mode()\n",
    "    return mode_vals[0] if len(mode_vals) == 1 else 'None'\n",
    "\n",
    "#Using the function to get the dominant category of investment per user\n",
    "dominant_cateogory = inv_df.groupby('user_id')['category'].agg(mode_cat).rename('dominant_category')\n",
    "dominant_cateogory.head()"
   ]
  },
  {
   "cell_type": "code",
   "execution_count": 65,
   "id": "43bb0a5c",
   "metadata": {},
   "outputs": [
    {
     "data": {
      "text/plain": [
       "user_id\n",
       "1    Medium\n",
       "2      None\n",
       "3    Medium\n",
       "4       Low\n",
       "5    Medium\n",
       "Name: dominant_risk, dtype: object"
      ]
     },
     "execution_count": 65,
     "metadata": {},
     "output_type": "execute_result"
    }
   ],
   "source": [
    "#Getting the dominant risk level of investment per user - this will help us know which risk level of investment each user favours. A user who invests in a particular risk level is more likely to invest in that risk level again.\n",
    "#Using the same function mod_cat to get the dominant risk level of investment per user\n",
    "\n",
    "dominant_risk_level = inv_df.groupby('user_id')['risk_level'].agg(mode_cat).rename('dominant_risk')\n",
    "dominant_risk_level.head()"
   ]
  },
  {
   "cell_type": "code",
   "execution_count": 66,
   "id": "60f00774",
   "metadata": {},
   "outputs": [
    {
     "data": {
      "application/vnd.microsoft.datawrangler.viewer.v0+json": {
       "columns": [
        {
         "name": "index",
         "rawType": "int64",
         "type": "integer"
        },
        {
         "name": "user_id",
         "rawType": "int64",
         "type": "integer"
        },
        {
         "name": "age",
         "rawType": "int64",
         "type": "integer"
        },
        {
         "name": "country",
         "rawType": "object",
         "type": "string"
        },
        {
         "name": "income_level",
         "rawType": "object",
         "type": "string"
        },
        {
         "name": "investment_experience",
         "rawType": "object",
         "type": "string"
        },
        {
         "name": "num_investments",
         "rawType": "int64",
         "type": "integer"
        },
        {
         "name": "total_invested",
         "rawType": "float64",
         "type": "float"
        },
        {
         "name": "amount_invested",
         "rawType": "float64",
         "type": "float"
        },
        {
         "name": "return_percent",
         "rawType": "float64",
         "type": "float"
        },
        {
         "name": "dominant_category",
         "rawType": "object",
         "type": "string"
        },
        {
         "name": "dominant_risk",
         "rawType": "object",
         "type": "string"
        }
       ],
       "conversionMethod": "pd.DataFrame",
       "ref": "65f0fb5e-2d9a-4f57-9036-feb652154030",
       "rows": [
        [
         "0",
         "1",
         "58",
         "Germany",
         "Low",
         "Novice",
         "6",
         "4306.73",
         "717.7883333333333",
         "3.4766666666666666",
         "None",
         "Medium"
        ],
        [
         "1",
         "2",
         "32",
         "France",
         "Medium",
         "Intermediate",
         "14",
         "15305.28",
         "1093.2342857142858",
         "0.7857142857142859",
         "Commodities",
         "None"
        ],
        [
         "2",
         "3",
         "52",
         "Germany",
         "Medium",
         "Novice",
         "11",
         "25018.27",
         "2274.3881818181817",
         "7.065454545454545",
         "Crypto",
         "Medium"
        ],
        [
         "3",
         "4",
         "23",
         "France",
         "Low",
         "Intermediate",
         "17",
         "29858.32",
         "1756.3717647058822",
         "1.881176470588235",
         "Commodities",
         "Low"
        ],
        [
         "4",
         "5",
         "53",
         "France",
         "Medium",
         "Intermediate",
         "18",
         "42622.42",
         "2367.912222222222",
         "4.346666666666667",
         "ETF",
         "Medium"
        ]
       ],
       "shape": {
        "columns": 11,
        "rows": 5
       }
      },
      "text/html": [
       "<div>\n",
       "<style scoped>\n",
       "    .dataframe tbody tr th:only-of-type {\n",
       "        vertical-align: middle;\n",
       "    }\n",
       "\n",
       "    .dataframe tbody tr th {\n",
       "        vertical-align: top;\n",
       "    }\n",
       "\n",
       "    .dataframe thead th {\n",
       "        text-align: right;\n",
       "    }\n",
       "</style>\n",
       "<table border=\"1\" class=\"dataframe\">\n",
       "  <thead>\n",
       "    <tr style=\"text-align: right;\">\n",
       "      <th></th>\n",
       "      <th>user_id</th>\n",
       "      <th>age</th>\n",
       "      <th>country</th>\n",
       "      <th>income_level</th>\n",
       "      <th>investment_experience</th>\n",
       "      <th>num_investments</th>\n",
       "      <th>total_invested</th>\n",
       "      <th>amount_invested</th>\n",
       "      <th>return_percent</th>\n",
       "      <th>dominant_category</th>\n",
       "      <th>dominant_risk</th>\n",
       "    </tr>\n",
       "  </thead>\n",
       "  <tbody>\n",
       "    <tr>\n",
       "      <th>0</th>\n",
       "      <td>1</td>\n",
       "      <td>58</td>\n",
       "      <td>Germany</td>\n",
       "      <td>Low</td>\n",
       "      <td>Novice</td>\n",
       "      <td>6</td>\n",
       "      <td>4306.73</td>\n",
       "      <td>717.788333</td>\n",
       "      <td>3.476667</td>\n",
       "      <td>None</td>\n",
       "      <td>Medium</td>\n",
       "    </tr>\n",
       "    <tr>\n",
       "      <th>1</th>\n",
       "      <td>2</td>\n",
       "      <td>32</td>\n",
       "      <td>France</td>\n",
       "      <td>Medium</td>\n",
       "      <td>Intermediate</td>\n",
       "      <td>14</td>\n",
       "      <td>15305.28</td>\n",
       "      <td>1093.234286</td>\n",
       "      <td>0.785714</td>\n",
       "      <td>Commodities</td>\n",
       "      <td>None</td>\n",
       "    </tr>\n",
       "    <tr>\n",
       "      <th>2</th>\n",
       "      <td>3</td>\n",
       "      <td>52</td>\n",
       "      <td>Germany</td>\n",
       "      <td>Medium</td>\n",
       "      <td>Novice</td>\n",
       "      <td>11</td>\n",
       "      <td>25018.27</td>\n",
       "      <td>2274.388182</td>\n",
       "      <td>7.065455</td>\n",
       "      <td>Crypto</td>\n",
       "      <td>Medium</td>\n",
       "    </tr>\n",
       "    <tr>\n",
       "      <th>3</th>\n",
       "      <td>4</td>\n",
       "      <td>23</td>\n",
       "      <td>France</td>\n",
       "      <td>Low</td>\n",
       "      <td>Intermediate</td>\n",
       "      <td>17</td>\n",
       "      <td>29858.32</td>\n",
       "      <td>1756.371765</td>\n",
       "      <td>1.881176</td>\n",
       "      <td>Commodities</td>\n",
       "      <td>Low</td>\n",
       "    </tr>\n",
       "    <tr>\n",
       "      <th>4</th>\n",
       "      <td>5</td>\n",
       "      <td>53</td>\n",
       "      <td>France</td>\n",
       "      <td>Medium</td>\n",
       "      <td>Intermediate</td>\n",
       "      <td>18</td>\n",
       "      <td>42622.42</td>\n",
       "      <td>2367.912222</td>\n",
       "      <td>4.346667</td>\n",
       "      <td>ETF</td>\n",
       "      <td>Medium</td>\n",
       "    </tr>\n",
       "  </tbody>\n",
       "</table>\n",
       "</div>"
      ],
      "text/plain": [
       "   user_id  age  country income_level investment_experience  num_investments  \\\n",
       "0        1   58  Germany          Low                Novice                6   \n",
       "1        2   32   France       Medium          Intermediate               14   \n",
       "2        3   52  Germany       Medium                Novice               11   \n",
       "3        4   23   France          Low          Intermediate               17   \n",
       "4        5   53   France       Medium          Intermediate               18   \n",
       "\n",
       "   total_invested  amount_invested  return_percent dominant_category  \\\n",
       "0         4306.73       717.788333        3.476667              None   \n",
       "1        15305.28      1093.234286        0.785714       Commodities   \n",
       "2        25018.27      2274.388182        7.065455            Crypto   \n",
       "3        29858.32      1756.371765        1.881176       Commodities   \n",
       "4        42622.42      2367.912222        4.346667               ETF   \n",
       "\n",
       "  dominant_risk  \n",
       "0        Medium  \n",
       "1          None  \n",
       "2        Medium  \n",
       "3           Low  \n",
       "4        Medium  "
      ]
     },
     "execution_count": 66,
     "metadata": {},
     "output_type": "execute_result"
    }
   ],
   "source": [
    "#Merging the new created features with the users dataset to get a complete dataset of the users and their investment behaviour.\n",
    "inv_features = pd.concat([avg_investment, avg_return_percent, dominant_cateogory, dominant_risk_level], axis=1)\n",
    "us_df_modified = us_df.merge(inv_features, on='user_id', how='left')\n",
    "us_df.head()\n"
   ]
  },
  {
   "cell_type": "code",
   "execution_count": 67,
   "id": "15fba165",
   "metadata": {},
   "outputs": [
    {
     "name": "stdout",
     "output_type": "stream",
     "text": [
      "New dataset saved to users_investments.csv\n"
     ]
    }
   ],
   "source": [
    "#Saving the new dataset to a csv file\n",
    "us_df_modified.to_csv(r\"/Users/treva.ogwang/Desktop/Codes/investment/users_investments.csv\", index=False)\n",
    "print(\"New dataset saved to users_investments.csv\")"
   ]
  }
 ],
 "metadata": {
  "kernelspec": {
   "display_name": "Python 3",
   "language": "python",
   "name": "python3"
  },
  "language_info": {
   "codemirror_mode": {
    "name": "ipython",
    "version": 3
   },
   "file_extension": ".py",
   "mimetype": "text/x-python",
   "name": "python",
   "nbconvert_exporter": "python",
   "pygments_lexer": "ipython3",
   "version": "3.9.6"
  }
 },
 "nbformat": 4,
 "nbformat_minor": 5
}
